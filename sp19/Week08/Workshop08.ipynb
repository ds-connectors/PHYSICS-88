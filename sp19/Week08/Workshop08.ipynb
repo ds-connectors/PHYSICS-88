{
 "cells": [
  {
   "cell_type": "markdown",
   "metadata": {},
   "source": [
    "# Workshop 8: Monte Carlo techniques\n",
    "\n",
    "**Submit this notebook to bCourses to receive a grade for this Workshop.**\n",
    "\n",
    "Please complete workshop activities in code cells in this iPython notebook. The activities titled **Practice** are purely for you to explore Python. Some of them may have some code written, and you should try to modify it in different ways to understand how it works. Although no particular output is expected at submission time, it is _highly_ recommended that you read and work through the practice activities before or alongside the exercises. However, the activities titled **Exercise** have specific tasks and specific outputs expected. Include comments in your code when necessary. Enter your name in the cell at the top of the notebook. The workshop should be submitted on bCourses under the Assignments tab."
   ]
  },
  {
   "cell_type": "code",
   "execution_count": null,
   "metadata": {},
   "outputs": [],
   "source": [
    "# standard preamble\n",
    "import numpy as np\n",
    "import scipy as sp      \n",
    "from scipy import stats\n",
    "import matplotlib.pyplot as plt\n",
    "%matplotlib inline"
   ]
  },
  {
   "cell_type": "markdown",
   "metadata": {},
   "source": [
    "So far, you have seen the following functions for drawing random numbers from various distributions:\n",
    "\n",
    "    np.random.rand()\n",
    "    np.random.randint()\n",
    "    np.random.uniform()\n",
    "    np.random.standard_normal()\n",
    "    np.random.exponential()\n",
    "    np.random.binomial()\n",
    "    np.random.poisson()\n",
    "    \n",
    "In this workshop, we will explore\n",
    "\n",
    "1. What happens inside a pseudo-random number generator using a simple example\n",
    "1. How to begin sampling probability distributions for which a function may not already exist"
   ]
  },
  {
   "cell_type": "markdown",
   "metadata": {},
   "source": [
    "## Aside: the `global` keyword"
   ]
  },
  {
   "cell_type": "code",
   "execution_count": null,
   "metadata": {},
   "outputs": [],
   "source": [
    "# Three slightly different functions to illustrate the 'global' keyword in Python\n",
    "\n",
    "def func_1():\n",
    "    return N\n",
    "\n",
    "def func_2():\n",
    "    N = N * 2\n",
    "    return N\n",
    "\n",
    "def func_3():\n",
    "    global N\n",
    "    N = N * 2\n",
    "    return N"
   ]
  },
  {
   "cell_type": "code",
   "execution_count": null,
   "metadata": {},
   "outputs": [],
   "source": [
    "N = 10\n",
    "print(\"Output of func_1: \" + str(func_1()))\n",
    "print(\"Output of func_2: \" + str(func_2()))\n",
    "print(\"Output of func_3: \" + str(func_3()))\n",
    "\n",
    "print(\"Final value of the global value of N: \" + str(N))"
   ]
  },
  {
   "cell_type": "markdown",
   "metadata": {
    "collapsed": true
   },
   "source": [
    "## Linear Congruent Generator\n",
    "\n",
    "It is instructive at this point how a random number generator may be constructed. We discussed Linear Congruent Generator in lecture. Here is a simple piece of code implementing such a generator:"
   ]
  },
  {
   "cell_type": "code",
   "execution_count": null,
   "metadata": {},
   "outputs": [],
   "source": [
    "# Seed for pseudo-random number generator (PRNG)\n",
    "\n",
    "myRandomSeed = 123\n",
    "\n",
    "# PRNG function\n",
    "def myRandom(a = 65539, b = 0, c = int(2**31-1) ):\n",
    "    global myRandomSeed\n",
    "    \n",
    "    x = (a * myRandomSeed + b) % c\n",
    "    \n",
    "    # Change the seed. What happens when x returns to some previous value?\n",
    "    myRandomSeed = x\n",
    "    \n",
    "    return x"
   ]
  },
  {
   "cell_type": "markdown",
   "metadata": {},
   "source": [
    "You can use it in two steps:\n",
    "1. Set a seed `myRandomSeed`. For example: `myRandomSeed = 1000`.\n",
    "\n",
    "1. Call `myRandom()`: either with default parameters, or by setting parameters `a`, `b`, and `c` explicitly."
   ]
  },
  {
   "cell_type": "markdown",
   "metadata": {},
   "source": [
    "## Practice 1\n",
    "\n",
    "1. Using the default parameters, print out 10 random numbers.\n",
    "1. Experiment with some different values for the parameters. For example, try changing the relative sizes of `a`, `b`, and `c`. Try changing `myRandomSeed` (you do not need to modify its value in the cell above, just modify it down here before you call `myRandom()`).\n",
    "1. The \"period\" is the number of distinct numbers that appear before any of them repeats. Does the period depend on the choice of `myRandomSeed`?"
   ]
  },
  {
   "cell_type": "code",
   "execution_count": null,
   "metadata": {},
   "outputs": [],
   "source": [
    "# Code for Practice 1"
   ]
  },
  {
   "cell_type": "markdown",
   "metadata": {},
   "source": [
    "As you can see from the example above, the choice of parameters affects how quickly the pattern of pseudo-random numbers repeats. The parameters also determine how *random* the sequence appears to be\n",
    "\n",
    "## Exercise 1\n",
    "\n",
    "Analyze how random the sequence is:\n",
    "1. Write a piece of code to determine the period of a random number sequence. You code should abort if the sequence is too long and return a lower limit on the period.\n",
    "1. Test your code with `myRandom()` and two sets of parameters above: the default and `a=5, b=3, c=8`\n",
    "1. Test your code with `numpy.random.randint()`"
   ]
  },
  {
   "cell_type": "code",
   "execution_count": null,
   "metadata": {},
   "outputs": [],
   "source": [
    "# Code for Exercise 1"
   ]
  },
  {
   "cell_type": "markdown",
   "metadata": {},
   "source": [
    "## Exercise 2: Generating an arbitrary distribution\n",
    "\n",
    "A problem that is frequently encountered is one of sampling one distribution but only having direct access to sampling another distribution (often the uniform distribution). As an example, we will try out one way to draw numbers from a Gaussian distribution starting with numbers drawn only from a uniform distribution. As it turns out, there are multiple ways of doing this. This particular method is known as the \"Box-Muller transform\".\n",
    "\n",
    "1. Starting from a uniform random number distribution (`numpy.random.rand()`), generate 10,000 Gaussian-distributed random numbers using inverse transform method:\n",
    "    1. Generate a pair of uniform-distributed numbers $u_1\\in[0..1]$ and $u_2\\in[0..1]$\n",
    "    1. Compute $z_1=\\sin(2\\pi u_1)\\sqrt{-2\\ln u_2}$ and $z_2=\\cos(2\\pi u_1)\\sqrt{-2\\ln u_2}$\n",
    "1. Make histograms of $z_1$ and $z_2$.\n",
    "1. Make a scatter plot of $z_2$ vs $z_1$. \n",
    "1. Do the results follow your expectations? "
   ]
  },
  {
   "cell_type": "code",
   "execution_count": null,
   "metadata": {},
   "outputs": [],
   "source": [
    "# Code for Exercise 2"
   ]
  },
  {
   "cell_type": "markdown",
   "metadata": {},
   "source": [
    "## Exercise 3: Integration by accept-reject Monte Carlo method\n",
    "\n",
    "The \"accept-reject\" method is another way of simulating drawing from one probability distribution starting from sampling a uniform distribution. Here we explore this technique for finding the area under curves using random numbers. Although in this exercise we will only use it to estimate the value of $\\pi$, you can use it for more sophisticated problems.\n",
    "\n",
    "Before we start coding, let us just look at a quarter circle inscribed inside a square of dimensions 1 by 1.\n",
    "\n",
    "<img src=\"quarter_circle.png\">\n",
    "\n",
    "If we were to throw a dart randomly, with uniform probability, into the square, what is the probability it would land in the shaded region under the curve? It should be the ratio of the shaded area to the area of the entire square.\n",
    "\n",
    "$$P(\\text{dart under curve}) = \\frac{A_\\text{curve}}{A_\\text{square}}$$\n",
    "$$A_\\text{curve} = \\frac{1}{4}\\pi \\times 1^2$$\n",
    "$$A_\\text{square} = 1 \\times 1$$\n",
    "$$P(\\text{dart under curve}) = \\frac{\\pi}{4}$$\n",
    "\n",
    "We also know that if we were to throw a very large number of darts, the fraction of them that land in the shaded region would approach the value of $P(\\text{dart under curve})$ found above. Therefore, if we can simulate throwing these darts and checking whether they landed inside the shaded region or outside the shaded region, we can estimate the area of the shaded region. In this case, the area of the shaded region is proportional to $\\pi$, so we can then use that area to estimate $\\pi$.\n",
    "\n",
    "This technique of randomly generating points and checking whether they are under the curve or above the curve is referred to as $\\textit{Monte Carlo integration}$.\n",
    "Compute the value of $\\pi$ using Monte Carlo method. \n",
    "\n",
    "1. Implement the Monte Carlo accept-reject method for computing $\\pi$\n",
    "1. For a given number of events $N$ you use in the calculation, compute\n",
    "    1. The estimate of $\\pi$\n",
    "    1. The estimated precision of the value $\\pi$\n",
    "1. Plot the difference between estimated and true value of $\\pi$ as a function of the number of events $N$ and compare that difference to the uncertainty you estimated"
   ]
  },
  {
   "cell_type": "code",
   "execution_count": null,
   "metadata": {},
   "outputs": [],
   "source": [
    "# Code for Exercise 3"
   ]
  }
 ],
 "metadata": {
  "kernelspec": {
   "display_name": "Python 3",
   "language": "python",
   "name": "python3"
  },
  "language_info": {
   "codemirror_mode": {
    "name": "ipython",
    "version": 3
   },
   "file_extension": ".py",
   "mimetype": "text/x-python",
   "name": "python",
   "nbconvert_exporter": "python",
   "pygments_lexer": "ipython3",
   "version": "3.6.5"
  }
 },
 "nbformat": 4,
 "nbformat_minor": 1
}
