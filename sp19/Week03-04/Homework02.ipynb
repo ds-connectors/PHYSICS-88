{
 "cells": [
  {
   "cell_type": "markdown",
   "metadata": {
    "deletable": true,
    "editable": true
   },
   "source": [
    "# Homework 2: Control Structures"
   ]
  },
  {
   "cell_type": "markdown",
   "metadata": {},
   "source": [
    "Your name here.  \n",
    "Your Woskshop section here."
   ]
  },
  {
   "cell_type": "markdown",
   "metadata": {
    "deletable": true,
    "editable": true
   },
   "source": [
    "** Submit this notebook to bCourses to receive credit for this assignment. **\n",
    "\n",
    "Please complete this homework assignment in code cells in the iPython notebook. Include comments in your code when necessary. Enter your name in the cell at the top of the notebook, and rename the notebook [email_name]_HW02.ipynb, where [email_name] is the part of your UCB email address that precedes \"@berkeley.edu\" "
   ]
  },
  {
   "cell_type": "markdown",
   "metadata": {
    "deletable": true,
    "editable": true
   },
   "source": [
    "## Problem 1: Binomial Coefficients\n",
    "\n",
    "[Adapted from Newman, Exercise 2.11] The binomial coefficient $n \\choose k$ is an integer equal to\n",
    "\n",
    "$$ {n \\choose k} = \\frac{n!}{k!(n-k)!} = \\frac{n \\times (n-1) \\times (n-2) \\times \\cdots \\times (n-k + 1)}{1 \\times 2 \\times \\cdots \\times k} $$\n",
    "\n",
    "when $k \\geq 1$, or ${n \\choose 0} = 1$ when $k=0$. (The special case $k=0$ can be included in the general definition by using the conventional definition $0! \\equiv 1$.)\n",
    "\n",
    "1. Write a function `factorial(n)` that takes an integer $n$ and returns $n!$ as an integer. It should yield $1$ when $n=0$. You may assume that the argument will also be an integer greater than or equal to 0.\n",
    "\n",
    "1. Using the form of the binomial coefficient given above, write a function `binomial(n,k)` that calculates the binomial coefficient for given $n$ and $k$. Make sure your function returns the answer in the form of an integer (not a float) and gives the correct value of 1 for the case where $k=0$. (Hint: Use your `factorial` function from Part 1.)\n",
    "\n",
    "1. Using your `binomial` function, write a function `pascals_triangle(N)` to print out the first $N$ lines of \"Pascal's triangle\" (starting with the $0$th line). The $n$th line of Pascal's triangle contains $n+1$ numbers, which are the coefficients $n \\choose 0$, $n \\choose 1$, and so on up to $n \\choose n$. Thus the first few lines are\n",
    "        1\n",
    "        1 1\n",
    "        1 2 1\n",
    "        1 3 3 1\n",
    "        1 4 6 4 1     \n",
    "This would be the result of `pascals_triangle(5)`. Print the first 15 rows of Pascal's triangle.\n",
    "        \n",
    "1. The probability that an ubiased coin, tossed $n$ times, will come up heads $k$ times is ${n \\choose k} / 2^n$. (Or instead of coins, perhaps you'd prefer to think of spins measured in a [Stern-Gerlach experiment](https://en.wikipedia.org/wiki/Stern%E2%80%93Gerlach_experiment).)\n",
    "    - Write a function `heads_exactly(n,k)` to calculate the probability that a coin tossed $n$ times comes up heads exactly $k$ times.\n",
    "    - Write a function `heads_atleast(n,k)` to calculate the probability that a coin tossed $n$ times comes up heads $k$ or more times.\n",
    "    - Print the probabilities (to three decimal places) that a coin tossed 100 times comes up heads exactly 60 times, and at least 60 times. You should print corresponding statements with the numbers so it is clear what they each mean.\n",
    "\n",
    "1. Along with the printed statements from Part 4, have your code generate and display two labelled plots for `heads_exactly(n,k)` and `heads_atleast(n,k)` with $n=100$. You should have values of $k$ on the $x$-axis, and probabilities on the $y$-axis. (Note that $k$ only takes integer values from 0 to $n$, inclusive. Your plots can be connected curves or have discrete markers for each point; either is fine.)\n",
    "\n",
    "#### Output\n",
    "\n",
    "To summarize, your program should output the following things:\n",
    "\n",
    "1. The first 15 rows of Pascal's triangle\n",
    "1. The probabilities (to three decimal places) that a coin tossed 100 times comes up heads exactly 60 times, and at least 60 times, with corresponding statements so it is clear what each number signifies.\n",
    "1. Two labeled plots for `heads_exactly(n,k)` and `heads_atleast(n,k)` with $n=100$, representing probability distributions for 100 coin flips.\n",
    "\n",
    "#### Reminder\n",
    "\n",
    "Remember to write informative doc strings, comment your code, and use descriptive function and variable names so others (and future you) can understand what you're doing!\n"
   ]
  },
  {
   "cell_type": "code",
   "execution_count": null,
   "metadata": {
    "collapsed": true
   },
   "outputs": [],
   "source": []
  },
  {
   "cell_type": "markdown",
   "metadata": {
    "deletable": true,
    "editable": true
   },
   "source": [
    "## Problem 2: Semi-Empirical Mass Formula\n",
    "\n",
    "[Adapted from Newman, Exercise 2.10] In nuclear physics, the semi-empirical mass formula is a formula for calculating the approximte nuclear binding energy $B$ of an atomic nucleus with atomic number $Z$ and mass number $A$:\n",
    "\n",
    "$$ B = a_1 A - a_2 A^{2/3} - a_3 \\frac{Z^2}{A^{1/3}} - a_4 \\frac{(A-2Z)^2}{A} + \\frac{a_5}{A^{1/2}}, $$\n",
    "\n",
    "where, in units of millions of electron volts (MeV), the constants are $a_1 = 15.67$, $a_2 = 17.23$, $a_3 = 0.75$, $a_4 = 93.2$, and\n",
    "\n",
    "$$ a_5 = \\begin{cases}\n",
    "0 & \\text{if } A \\text{ is odd,}\\\\\n",
    "12.0 & \\text{if } A \\text{ and } Z \\text{ are both even,} \\\\\n",
    "-12.0 & \\text{if } A \\text{ is even and } Z \\text{ is odd.}\n",
    "\\end{cases} $$\n",
    "\n",
    "1. Write a function `binding_energy(A, Z)` that takes as its input the values of $A$ and $Z$, and returns the binding energy for the corresponding atom. Check your function by computing the binding energy of an atom with $A = 58$ and $Z = 28$. (Hint: The correct answer is around 490 MeV.)\n",
    "\n",
    "1. Write a function `binding_energy_per_nucleon(A, Z)` which returns not the total binding energy $B$, but the binding energy per nucleon, which is $B/A$.\n",
    "\n",
    "1. Write a function `max_binding_energy_per_nucleon(Z)` which takes as input just a single value of the atomic number $Z$ and then goes through all values of $A$ from $A = Z$ to $A = 3Z$, to find the one that has the largest binding energy per nucleon. This is the most stable nucleus with the given atomic number. Have your function return the value of $A$ for this most stable nucleus and the value of the binding energy per nucleon.\n",
    "\n",
    "1. Finally, use the functions you've written to write a program which runs through all values of $Z$ from 1 to 100 and prints out the most stable value of $A$ for each one. At what value of $Z$ does the maxium binding energy per nucleon occur? (The true answer, in real life, is $Z = 28$, which is nickel. You should find that the semi-empirical mass formula gets the answer roughly right, but not exactly.)\n",
    "\n",
    "#### Output\n",
    "\n",
    "Your final output should look like\n",
    "\n",
    "    Z =   1 : most stable A is 2\n",
    "    Z =   2 : most stable A is 4\n",
    "          .\n",
    "          .\n",
    "          .\n",
    "    Z =  10 : most stable A is 20\n",
    "    Z =  11 : most stable A is 23\n",
    "          .\n",
    "          .\n",
    "          .\n",
    "    Z = 100 : most stable A is 210\n",
    "    The most stable Z is ____\n",
    "    with binding energy per nucleon ____\n",
    "\n",
    "With the ...'s and ____'s replaced with your results. The binding energy per nucleon in the last line should have three decimal places.\n",
    "\n",
    "For maximum readability, you should include the extra whitespace around the $Z =$ numbers so everything lines up, as shown. (To remember the `print` formatting syntax to do this, see Table 1.1 in the Ayars text.)\n",
    "\n",
    "#### Reminder\n",
    "\n",
    "Remember to write informative doc strings, comment your code, and use descriptive function and variable names so others (and future you) can understand what you're doing!\n"
   ]
  },
  {
   "cell_type": "code",
   "execution_count": null,
   "metadata": {
    "collapsed": true
   },
   "outputs": [],
   "source": []
  },
  {
   "cell_type": "markdown",
   "metadata": {
    "deletable": true,
    "editable": true
   },
   "source": [
    "## Problem 3: Particle in a Box\n",
    "\n",
    "[Adapted from Ayars, Problem 3-1] The energy levels for a quantum particle in a three-dimensional rectangular box of dimensions $\\{L_1, L_2, \\text{ and } L_3\\}$ are given by\n",
    "\n",
    "$$ E_{n_1, n_2, n_3} = \\frac{\\hbar^2 \\pi^2}{2m} \\left[ \\frac{n_1^2}{L_1^2} + \\frac{n_2^2}{L_2^2} + \\frac{n_3^2}{L_3^2} \\right] $$\n",
    "\n",
    "where the $n$'s are integers greater than or equal to one. Your goal is to write a program that will calculate, and list in order of increasing energy, the values of the $n$'s for the 10 lowest *different* energy levels, given a box for which $L_2 = 2L_1$ and $L_3 = 4L_1$.\n",
    "\n",
    "Your program should include two user-defined functions that you may find helpful in accomplishing your goal:\n",
    "\n",
    "1. A function `energy(n1, n2, n3)` that takes integer values $n_1$, $n_2$, and $n_3$, and computes the corresponding energy level in units of $\\hbar^2 \\pi^2/2 m L_1^2$.\n",
    "\n",
    "1. A function `lowest_unique_K(K, List)` which takes a positive integer $K$ and a list of real numbers `List`, and returns an ordered (ascending) list of the lowest $K$ unique numbers in the list `List`. For instance, `lowest_unique_K(3, [-0.5, 3, 3, 2, 6, 7, 7])` would return `[-0.5, 2, 3]`. The function should not modify the original list `List`.\n",
    "    - As with most programming puzzles, there are several ways to write this function. Depending on how you do it, you may or may not find it helpful to recall \"Program 9\" in the Workshop's \"Debugging Practice\" (about copying lists), or to Google how to \"sort\" lists, or how to \"del\" or \"pop\" items out of lists.\n",
    "    \n",
    "You may also wish to make other user-defined functions depending on how you go about solving the problem. In fact, if you find some clever way to solve the problem that doesn't use `lowest_unique_K`, that is fine too! (You still need to write `lowest_unique_K`, though.) But whatever you do, be sure to comment your code clearly!\n",
    "\n",
    "#### Output\n",
    "\n",
    "Your final output should look like this (though with different numbers, and not necessarily the same number of lines):\n",
    "\n",
    "    energy, n1, n2, n3\n",
    "    (0.4375, 1, 1, 1)\n",
    "    (0.625, 1, 2, 1)\n",
    "    (0.8125, 2, 1, 1)\n",
    "    (0.9375, 1, 3, 1)\n",
    "    (1.0, 2, 2, 1)\n",
    "    (1.1875, 1, 1, 2)\n",
    "    (1.3125, 2, 3, 1)\n",
    "    (1.375, 1, 2, 2)\n",
    "    (1.375, 1, 4, 1)\n",
    "    (1.4375, 3, 1, 1)\n",
    "    (1.5625, 2, 1, 2)\n",
    "\n",
    "Notice how there are only 10 unique energies listed, but more than 10 lines. Each line could also have brackets instead of parentheses if you prefer, like this: `[0.4375, 1, 1, 1]`.\n",
    "\n",
    "#### Reminder\n",
    "\n",
    "Remember to write informative doc strings, comment your code, and use descriptive function and variable names so others (and future you) can understand what you're doing!\n",
    "\n",
    "#### Just for fun\n",
    "\n",
    "If you'd like, write a function `print_table(list_of_lists)` that takes  a list of lists (or a list of tuples) and prints them in a nicely aligned table. Feel free to Google to get ideas on how to do this. Try to get your function to produce something like\n",
    "\n",
    "    energy  n1 n2 n3\n",
    "    0.4375  1  1  1\n",
    "    0.625   1  2  1\n",
    "    0.8125  2  1  1\n",
    "    0.9375  1  3  1\n",
    "    1.0     2  2  1\n",
    "    1.1875  1  1  2\n",
    "    1.3125  2  3  1\n",
    "    1.375   1  2  2\n",
    "    1.375   1  4  1\n",
    "    1.4375  3  1  1\n",
    "    1.5625  2  1  2"
   ]
  },
  {
   "cell_type": "code",
   "execution_count": null,
   "metadata": {
    "collapsed": true,
    "deletable": true,
    "editable": true
   },
   "outputs": [],
   "source": []
  }
 ],
 "metadata": {
  "kernelspec": {
   "display_name": "Python 3",
   "language": "python",
   "name": "python3"
  },
  "language_info": {
   "codemirror_mode": {
    "name": "ipython",
    "version": 3
   },
   "file_extension": ".py",
   "mimetype": "text/x-python",
   "name": "python",
   "nbconvert_exporter": "python",
   "pygments_lexer": "ipython3",
   "version": "3.5.2"
  }
 },
 "nbformat": 4,
 "nbformat_minor": 0
}
