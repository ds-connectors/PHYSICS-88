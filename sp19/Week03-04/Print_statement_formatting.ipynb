{
 "cells": [
  {
   "cell_type": "markdown",
   "metadata": {},
   "source": [
    "### Cleanest and easiest print statement formatting"
   ]
  },
  {
   "cell_type": "code",
   "execution_count": 5,
   "metadata": {
    "scrolled": true
   },
   "outputs": [
    {
     "name": "stdout",
     "output_type": "stream",
     "text": [
      "To hard-boil a large egg taken directly from the fridge, cook it for 6.41 minutes (  6 min,  25 sec).\n"
     ]
    }
   ],
   "source": [
    "cook_time = 384.6 # seconds\n",
    "print('To hard-boil a large egg taken directly from the fridge, cook it for {:.2f} minutes ({:3.0f} min, {:3.0f} sec).'.format(cook_time/60, cook_time//60, cook_time % 60))"
   ]
  },
  {
   "cell_type": "markdown",
   "metadata": {},
   "source": [
    "advantages:\n",
    "- all of the words are within a single, unbroken quote at the beginning of the print statement\n",
    "- use of the format specifiers within the brackets allows you to control how the numbers are presented\n"
   ]
  },
  {
   "cell_type": "markdown",
   "metadata": {},
   "source": [
    "### What is role of each character inside the curly brackets?"
   ]
  },
  {
   "cell_type": "markdown",
   "metadata": {},
   "source": [
    "For the purposes of this course, the curly brackets will have the following pattern:  \n",
    "`{[element_index]:[format_spec]}`\n",
    "* e.g., in `{0:3.2f}` the element index is 0 and the format specification is `3.2f`\n",
    "* `[format_spec]` = `[[width][.precision][type]]`\n",
    "    * in `3.2f`, the width is `3`, the precision is `2`, and the type is `f`\n",
    "    * role of the width: specifies the **minimum** character width used to print out the number\n",
    "        * easiest to understand what this means using an example or by just experimenting with it\n",
    "        * e.g., if trying to print the number `5.634` (which is five characters wide), and you specify a width of `2`, there will be no effect because the number itself is more than 2 characters long, but if you specify a width of `7`, then two space characters will be printed in front of the number in order to have seven characters\n",
    "        * if omitted, the field width will just be the same size as the data to fill it, e.g. 5 characters for `  5.364`  \n",
    "    * role of the precision: specifies the number of digits to print after the decimal place\n",
    "    * options for the type\n",
    "        * for an integer\n",
    "            * `b` \tBinary format. Outputs the number in base 2.\n",
    "            * `c` \tCharacter. Converts the integer to the corresponding unicode character before printing.\n",
    "            * `d` \tDecimal Integer. Outputs the number in base 10.\n",
    "            * `o` \tOctal format. Outputs the number in base 8.\n",
    "            * `x` \tHex format. Outputs the number in base 16, using lower-case letters for the digits above 9.\n",
    "            * `X` \tHex format. Outputs the number in base 16, using upper-case letters for the digits above 9.\n",
    "            * `n` \tNumber. This is the same as 'd', except that it uses the current locale setting to insert the                          appropriate number separator characters.\n",
    "        * for a floating point number\n",
    "            * `e` \tExponent notation. Prints the number in scientific notation using the letter ‘e’ to indicate the exponent. The default precision is 6.\n",
    "            * `E` \tExponent notation. Same as 'e' except it uses an upper case ‘E’ as the separator character.\n",
    "            * `f` \tFixed-point notation. Displays the number as a fixed-point number. The default precision is 6.\n",
    "            * `F` \tFixed-point notation. Same as 'f', but converts nan to NAN and inf to INF.\n",
    "            * more\n",
    "* the element index\n",
    "    * if they are omitted, then by default they start at 0 and increment by one with succeeding brackets\n",
    "        * e.g.  \n",
    "`print('{:.2f} minutes ({:3.0f} min, {:3.0f} sec).'.format(cook_time/60, cook_time//60, cook_time % 60))`  \n",
    "is interpreted as  \n",
    "`print('{0:.2f} minutes ({1:3.0f} min, {2:3.0f} sec).'.format(cook_time/60, cook_time//60, cook_time % 60))`\n",
    "        * the `0` in `{0:.2f}` instructs \"put the zeroth argument passed to `format()` here\" and analogously the `2` in `{2:3.0f}` instructs \"put the second argument passed to `format()` here\"\n",
    "        * if all of the element indices were `0`, each curly bracket would print `cook_time/60`, and the other arguments passed to `format()` would never be printed\n",
    "* there are many more options for `[format_spec]` that have been omitted here, see https://docs.python.org/3/library/string.html#format-specification-mini-language if you're ever looking for a certain way to print a number"
   ]
  },
  {
   "cell_type": "markdown",
   "metadata": {},
   "source": [
    "### Reasonable alternative but with drawbacks"
   ]
  },
  {
   "cell_type": "code",
   "execution_count": 17,
   "metadata": {},
   "outputs": [
    {
     "name": "stdout",
     "output_type": "stream",
     "text": [
      "To hard-boil a large egg taken directly from the fridge, cook it for 6.41 minutes ( 6  min,  25  sec).\n"
     ]
    }
   ],
   "source": [
    "cook_time = 384.62 # seconds\n",
    "print('To hard-boil a large egg taken directly from the fridge, cook it for', round(cook_time/60, 2), 'minutes (', int(cook_time//60), ' min, ',round(cook_time % 60),' sec).')\n",
    "# \n"
   ]
  },
  {
   "cell_type": "markdown",
   "metadata": {},
   "source": [
    "To note:  \n",
    "By default, the `print()` function prints all arguments that you give it in succession with a space `' '` between each.  It is easy to change this `' '` separator to something else (try adding `sep = 'test'` as the last argument of this print statement)\n",
    "\n",
    "advantages:  \n",
    "- numbers appear within the print command where they will actually be printed  \n",
    "\n",
    "disadvantages:  \n",
    "- difficult to type and read because of many commas and opening and closing quotation marks\n",
    "- more difficult to specify the formatting of the numbers (had to use `round(cook_time/60, 2)`) instead of just `{:.2f}`)"
   ]
  }
 ],
 "metadata": {
  "kernelspec": {
   "display_name": "Python 3",
   "language": "python",
   "name": "python3"
  },
  "language_info": {
   "codemirror_mode": {
    "name": "ipython",
    "version": 3
   },
   "file_extension": ".py",
   "mimetype": "text/x-python",
   "name": "python",
   "nbconvert_exporter": "python",
   "pygments_lexer": "ipython3",
   "version": "3.6.7"
  }
 },
 "nbformat": 4,
 "nbformat_minor": 2
}
