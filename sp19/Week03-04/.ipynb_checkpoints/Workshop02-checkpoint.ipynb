{
 "cells": [
  {
   "cell_type": "markdown",
   "metadata": {
    "deletable": true,
    "editable": true
   },
   "source": [
    "Your name here.  \n",
    "Your section number here. "
   ]
  },
  {
   "cell_type": "markdown",
   "metadata": {
    "deletable": true,
    "editable": true
   },
   "source": [
    "# Workshop 2: Control Structures"
   ]
  },
  {
   "cell_type": "markdown",
   "metadata": {
    "deletable": true,
    "editable": true
   },
   "source": [
    "** Submit this notebook to bCourses to receive a grade for this Workshop.**\n",
    "\n",
    "Please complete workshop activities in code cells in this iPython notebook. Include comments in your code when necessary. Enter your name in the cell at the top of the notebook, and rename the notebook [email_name]_Workshop02.ipynb, where [email_name] is the part of your UCB email address that precedes \"@berkeley.edu\" "
   ]
  },
  {
   "cell_type": "markdown",
   "metadata": {
    "deletable": true,
    "editable": true
   },
   "source": [
    "## Conditional and Loop Exercises (submit this: wkshp2pr1)\n",
    "\n",
    "Write your solutions to these exercises in code cells in this notebook, and submit your finished notebook to bCourses.\n",
    "\n",
    "In your file, separate and label each solution with a comment or a markdown cell marking the exercise.\n",
    "\n",
    "Here are the exercises. Each one will require you to use conditionals, loops, and/or list comprehensions to solve a problem and print a solution. Many of these programs are short and don't require much if any commenting to explain them. For longer or trickier solutions, however, comments may be appropriate to make your code and thought process clear. Use your best judgment.\n",
    "\n",
    "**Exercise 1** Write a program to make a list those multiples of 5 which are divisible by 7, between 1500 and 2700 (both included). Print this list."
   ]
  },
  {
   "cell_type": "code",
   "execution_count": null,
   "metadata": {
    "collapsed": true,
    "deletable": true,
    "editable": true
   },
   "outputs": [],
   "source": []
  },
  {
   "cell_type": "markdown",
   "metadata": {
    "deletable": true,
    "editable": true
   },
   "source": [
    "**Exercise 2** Write a Python program to construct the following pattern, using a nested `for` loop (or maybe two nested `for` loops).\n",
    "\n",
    "    * \n",
    "    * * \n",
    "    * * * \n",
    "    * * * * \n",
    "    * * * * * \n",
    "    * * * * \n",
    "    * * * \n",
    "    * * \n",
    "    *\n",
    "Hints: You can suppress a newline at the end of a `print` statement by using a comma:\n",
    "    \n",
    "    print 'hi',\n",
    "    print 'there and he',\n",
    "    print '\\bllo'\n",
    "    print 'young physicist!'\n",
    "results in \n",
    "    \n",
    "    hi there and hello\n",
    "    young physicist!\n",
    "Also, some solutions to exercise this might use a `range()` going backwards. You can make `range()` go backwards using syntax like this: `range(20,10,-1)`."
   ]
  },
  {
   "cell_type": "code",
   "execution_count": null,
   "metadata": {
    "collapsed": true,
    "deletable": true,
    "editable": true
   },
   "outputs": [],
   "source": []
  },
  {
   "cell_type": "markdown",
   "metadata": {
    "deletable": true,
    "editable": true
   },
   "source": [
    "**Exercise 3** Use a `for` loop to reverse the string `'!scisyhP'` (don't just use `'!scisyhP'[::-1]`), and print the result."
   ]
  },
  {
   "cell_type": "code",
   "execution_count": null,
   "metadata": {
    "collapsed": true,
    "deletable": true,
    "editable": true
   },
   "outputs": [],
   "source": []
  },
  {
   "cell_type": "markdown",
   "metadata": {
    "deletable": true,
    "editable": true
   },
   "source": [
    "**Exercise 4** Write a program to count the number of even and odd numbers in the tuple `numbers = (1, 2, 3, 4, 5, 6, 7, 8, 9)`.\n",
    "Expected Output : \n",
    "        \n",
    "    Number of even numbers : 5\n",
    "    Number of odd numbers : 5"
   ]
  },
  {
   "cell_type": "code",
   "execution_count": null,
   "metadata": {
    "collapsed": true,
    "deletable": true,
    "editable": true
   },
   "outputs": [],
   "source": []
  },
  {
   "cell_type": "markdown",
   "metadata": {
    "deletable": true,
    "editable": true
   },
   "source": [
    "**Exercise 5** Write a program that prints each item and its corresponding type from the following list. (Do not use the `range` function.)\n",
    "    \n",
    "    datalist = [1452, 11.23, 1+2j, True, 'w3resource',\n",
    "                (0, -1), [5, 12], {\"class\":'V', \"section\":'A'}]\n",
    "For instance,\n",
    "    \n",
    "    Type of 1452 is <type 'int'>\n",
    "    Type of 11.23 is <type 'float'>\n",
    "    ..."
   ]
  },
  {
   "cell_type": "code",
   "execution_count": null,
   "metadata": {
    "collapsed": true,
    "deletable": true,
    "editable": true
   },
   "outputs": [],
   "source": []
  },
  {
   "cell_type": "markdown",
   "metadata": {
    "deletable": true,
    "editable": true
   },
   "source": [
    "**Exercise 6** Write a program that prints all the numbers from 0 to 6 except 3 and 6. Use the `continue` statement."
   ]
  },
  {
   "cell_type": "code",
   "execution_count": null,
   "metadata": {
    "collapsed": true,
    "deletable": true,
    "editable": true
   },
   "outputs": [],
   "source": []
  },
  {
   "cell_type": "markdown",
   "metadata": {
    "deletable": true,
    "editable": true
   },
   "source": [
    "**Exercise 7** Write a program to print the Fibonacci series from 0 to 50. \n",
    "The Fibonacci Sequence is the series of numbers\n",
    "0, 1, 1, 2, 3, 5, 8, 13, 21, .... \n",
    "where every number after the first two is found by adding up the two numbers before it.\n",
    "Expected output:\n",
    "    \n",
    "    0 1 1 2 3 5 8 13 21 34\n",
    "Hint: Two (or more) variables can be assigned simultaneously. For instance, to swap the values of `a` and `b`, you can write `a, b = b, a`."
   ]
  },
  {
   "cell_type": "code",
   "execution_count": 3,
   "metadata": {
    "collapsed": false,
    "deletable": true,
    "editable": true
   },
   "outputs": [
    {
     "name": "stdout",
     "output_type": "stream",
     "text": [
      "[0, 1, 1, 2, 3, 5, 8, 13, 21]\n"
     ]
    }
   ],
   "source": [
    "def fib(n):\n",
    "    if n == 1:\n",
    "        return 0\n",
    "    elif n == 2: \n",
    "        return 1\n",
    "    else:\n",
    "        return fib(n-1) + fib(n-2)\n",
    "\n",
    "print [fib(i) for i in range(1,10)]"
   ]
  },
  {
   "cell_type": "markdown",
   "metadata": {
    "deletable": true,
    "editable": true
   },
   "source": [
    "**Exercise 8** Write a program which takes two digits m (row) and n (column) and generates a two dimensional array. The element value in the i-th row and j-th column of the array should be i\\*j. Print this array.\n",
    "(Note: i = 0,1.., m-1 and j = 0,1, n-1.) Start with this code for a 3x4 array:\n",
    "    \n",
    "    m = 3 # number of rows\n",
    "    n = 4 # number of columns\n",
    "    # your code here\n",
    "Expected output:\n",
    "    \n",
    "    [[0, 0, 0, 0], [0, 1, 2, 3], [0, 2, 4, 6]]\n",
    "Hint: Use a nested list comprehension."
   ]
  },
  {
   "cell_type": "code",
   "execution_count": null,
   "metadata": {
    "collapsed": true,
    "deletable": true,
    "editable": true
   },
   "outputs": [],
   "source": []
  },
  {
   "cell_type": "markdown",
   "metadata": {
    "deletable": true,
    "editable": true
   },
   "source": [
    "**Exercise 9** Write a program to get input from the user, convert temperatures to and from celsius and fahrenheit, and print the result with one decimal place. (The formula is $c/5 = (f - 32)/9$.) Start with this line:\n",
    "    \n",
    "    temp = input(\"Input the temperature you would like to convert (e.g., 51.2F, 102C etc.) : \")\n",
    "You may assume properly formatted input. Beware of integer division! Expected output examples (for inputs of `60.5C` and `45F`, respectively) : \n",
    "    \n",
    "    60.5C is 140.9F\n",
    "    45F is 7.2"
   ]
  },
  {
   "cell_type": "code",
   "execution_count": null,
   "metadata": {
    "collapsed": true,
    "deletable": true,
    "editable": true
   },
   "outputs": [],
   "source": []
  },
  {
   "cell_type": "markdown",
   "metadata": {
    "deletable": true,
    "editable": true
   },
   "source": [
    "**Exercise 10** Write a Python program to guess a number between 1 to 9. User is prompted to enter a guess. If the user guesses wrong, the prompt appears again until the guess is correct. On a successful guess, user will get a \"Well guessed!\" message, and the program will finish. Start with the following code:\n",
    "    \n",
    "    import random\n",
    "    target_num = random.randint(1, 9)\n",
    "(Note: If you accidentally find yourself in an infinite loop, press Control+C or use the Canopy menu Run > Interrupt Kernel to get out. You'll find a tutorial on dealing with infinite loops at the end of this workshop.)"
   ]
  },
  {
   "cell_type": "code",
   "execution_count": null,
   "metadata": {
    "collapsed": true,
    "deletable": true,
    "editable": true
   },
   "outputs": [],
   "source": []
  },
  {
   "cell_type": "markdown",
   "metadata": {
    "deletable": true,
    "editable": true
   },
   "source": [
    "## List Comprehensions and Spherical Cows\n",
    "\n",
    "### Basic LC's\n",
    "\n",
    "List comprehensions are an easy and efficient way to generate lists without resorting to messy loops. Say we want to generate a list of squares from $1^2$ to $10^2$. Using a `for` loop, we would write\n",
    "\n",
    "    squares = []\n",
    "    for n in range(1, 11):\n",
    "        squares.append(n**2)\n",
    "    print squares\n",
    "\n",
    "and get the output `[1, 4, 9, 16, 25, 36, 49, 64, 81, 100]`.  \n",
    "Using a list comprehension, we can do the same thing with much less typing:\n",
    "\n",
    "    print [n**2 for n in range(1, 11)]\n",
    "\n",
    "Or suppose we have a list of first and last names and we want to make Berkeley email names out of them. Then we could write\n",
    "\n",
    "    names = [('Emmy', 'Noether'), ('Albert', 'Einstein'),\n",
    "             ('Marie', 'Curie'),   ('Isaac', 'Newton')]\n",
    "    emails = [(name[0][0] + name[1]).lower() for name in names]\n",
    "\n",
    "Print `emails` and you'll find `['enoether', 'aeinstein', 'mcurie', 'inewton']`. Try it! (Note: using `.lower()` on a string makes all the letters lowercase: `'HELLO World'.lower()` produces `'hello world'`)"
   ]
  },
  {
   "cell_type": "markdown",
   "metadata": {
    "deletable": true,
    "editable": true
   },
   "source": [
    "#### Exercise 11\n",
    "A theoretical physicist wants to study various animals. Animals are complicated, though, and theoretical physicists like simplified models to make their calculations more feasible.\n",
    "\n",
    "Write a list comprehension to generate a list of spherical animals from the list `animals`. For instance, `'cow'` should become `'spherical cow'`.\n",
    "\n",
    "    animals = ['cow', 'bat', 'goatfish', 'dog', 'squirrel', 'llama']\n",
    "    approximate_animals1 = # your list comprehension here!"
   ]
  },
  {
   "cell_type": "code",
   "execution_count": null,
   "metadata": {
    "collapsed": true,
    "deletable": true,
    "editable": true
   },
   "outputs": [],
   "source": []
  },
  {
   "cell_type": "markdown",
   "metadata": {
    "deletable": true,
    "editable": true
   },
   "source": [
    "### LC's with `if` filters\n",
    "\n",
    "You can also use list comprehensions together with `if` statements to generate filtered lists. You can use this, for instance, to filter out only positive numbers, or just a certain type of data:\n",
    "\n",
    "    list1 = [5, 6, -10, -3, 3, 3, 22, 0]\n",
    "    list1_positive = [n for n in list1 if n > 0]\n",
    "    \n",
    "    list2 = ['hi', 8, 10.2, 1.0, 5, 'buffalo', ['bye']]\n",
    "    list2_strings = [el.upper() for el in list2 if type(el) == str]\n",
    "\n",
    "Print `list1_positive` and you'll find `[5, 6, 3, 3, 22]`. Print `list2_strings` and you'll find `['HI', 'BUFFALO']`. Try it!"
   ]
  },
  {
   "cell_type": "markdown",
   "metadata": {
    "deletable": true,
    "editable": true
   },
   "source": [
    "#### Exercise 12\n",
    "Having spherical animals is good, but now air resistance is mussing up the theorist's calculations. And it's looking like animals with shorter names might make the math easiest for a first approximation.\n",
    "\n",
    "Write a list comprehension that takes only animals with three-letter names, makes them spherical, and puts them in a vacuum. For instance, `'cow'` should become `'spherical cow in a vacuum'`.\n",
    "\n",
    "    animals = ['cow', 'bat', 'goatfish', 'dog', 'squirrel', 'llama']\n",
    "    approximate_animals2 = # your list comprehension here!\n",
    "\n",
    "You should find `len(approximate_animals2) == 3` is `True` when you're done. (That is, there should only be three animals in your final list.)"
   ]
  },
  {
   "cell_type": "code",
   "execution_count": null,
   "metadata": {
    "collapsed": true,
    "deletable": true,
    "editable": true
   },
   "outputs": [],
   "source": []
  },
  {
   "cell_type": "markdown",
   "metadata": {
    "deletable": true,
    "editable": true
   },
   "source": [
    "### LC's with `if ... else` filters\n",
    "\n",
    "List comprehensions can even have `if ... else` statements built right in. But note! The syntax is a bit flipped from the simple `if` filter. Suppose you want to flip the sign of all even numbers in a list:\n",
    "\n",
    "    list3 = [10, 3, -4, -5, -6, 1, 2, 8]\n",
    "    list3_evenNeg = [-x if (x % 2 == 0) else x for x in list3]\n",
    "\n",
    "Print `list2_evenNeg` and you'll find `[-10, 3, 4, -5, 6, 1, -2, -8]`. Try it! (Note: The parentheses are just to make the list comprehension a bit easier to read.)"
   ]
  },
  {
   "cell_type": "markdown",
   "metadata": {
    "deletable": true,
    "editable": true
   },
   "source": [
    "#### Exercise 13\n",
    "At long last, the theorist's work is complete, and she found very interesting results! For the spherical cow in a vacuum, at least. And also incidentally for a spherical cowshark in a vacuum! The bat and dog didn't work out this time, but they show enough promise that she'll list them as future work in the paper.\n",
    "\n",
    "Write a list comprehension that starts with `animals_for_paper` and prepends `'to publish: '` to strings with `'cow'` in them, and `'future work: '` to the rest. (Hint: Use the boolean operator `in`.)\n",
    "\n",
    "    animals_for_paper = ['spherical cow in a vacuum',\n",
    "                         'spherical cowshark in a vacuum',\n",
    "                         'spherical bat in a vacuum',\n",
    "                         'spherical dog in a vacuum']\n",
    "    paper_in_progress = # your list comprehension here!\n",
    "    "
   ]
  },
  {
   "cell_type": "code",
   "execution_count": null,
   "metadata": {
    "collapsed": false,
    "deletable": true,
    "editable": true
   },
   "outputs": [],
   "source": []
  },
  {
   "cell_type": "markdown",
   "metadata": {
    "deletable": true,
    "editable": true
   },
   "source": [
    "#### Style Note\n",
    "\n",
    "Sometimes it is possible to do something with a list comprehension, but the line gets too long or otherwise it is hard to understand what the list comprehension is doing. In these cases, it is generally better to just use regular loops and conditional statements. This also leaves more room for comments. More compact code is only better code if the compactness makes it clearer.  "
   ]
  },
  {
   "cell_type": "markdown",
   "metadata": {
    "deletable": true,
    "editable": true
   },
   "source": [
    "#### Just for fun\n",
    "\n",
    "http://abstrusegoose.com/406"
   ]
  },
  {
   "cell_type": "markdown",
   "metadata": {
    "deletable": true,
    "editable": true
   },
   "source": [
    "## Debugging Practice\n",
    "\n",
    "[Partly adapted from Langtangen, Exercise 2.55, 2.56]\n",
    "\n",
    "Working alone or with a partner, type each program exactly as you see it and note the errors you get. Figure out why these programs fail and correct the errors. Run your revised programs to make sure they work.\n",
    "\n",
    "*Note: Besides demonstrating errors, some of these programs also demonstrate generally bad coding practices. Try not to emulate these examples in your own code.*\n",
    "\n",
    "**Program 1:** This is supposed to compute $f(x) = e^{rx} \\sin(mx) + e^{sx} \\sin(nx) $.\n",
    "\n",
    "    def f(x, m, n, r, s):\n",
    "        return expsin(x, r, m) + expsin(x, s, n)\n",
    "    \n",
    "    x = 2.5\n",
    "    print f(x, 0.1, 0.2, 1, 1)\n",
    "    \n",
    "    from math import exp, sin\n",
    "    \n",
    "    def expsin(x, p, q):\n",
    "        return exp(p*x)*sin(q*x)"
   ]
  },
  {
   "cell_type": "markdown",
   "metadata": {
    "deletable": true,
    "editable": true
   },
   "source": [
    "**Program 2**\n",
    "\n",
    "    def f(x)\n",
    "        return 1+x**2;"
   ]
  },
  {
   "cell_type": "markdown",
   "metadata": {
    "deletable": true,
    "editable": true
   },
   "source": [
    "**Program 3**\n",
    "\n",
    "    def f(x):\n",
    "         term1 = 1\n",
    "        term2 = x**2\n",
    "        return term1 + term2"
   ]
  },
  {
   "cell_type": "markdown",
   "metadata": {
    "deletable": true,
    "editable": true
   },
   "source": [
    "**Program 4**\n",
    "\n",
    "    def f(x, a, b):\n",
    "        return a + b*x\n",
    "    \n",
    "    print f(1), f(2), f(3)"
   ]
  },
  {
   "cell_type": "markdown",
   "metadata": {
    "deletable": true,
    "editable": true
   },
   "source": [
    "**Program 5**\n",
    "\n",
    "    def f(x, w):\n",
    "        from math import sin\n",
    "        return sin(w*x)\n",
    "    \n",
    "    f = 'f(x, w)'\n",
    "    w = 10\n",
    "    x = 0.1\n",
    "    print f(x, w)"
   ]
  },
  {
   "cell_type": "markdown",
   "metadata": {
    "deletable": true,
    "editable": true
   },
   "source": [
    "**Program 6:** This program runs fine, but the statement it prints is wrong. Why isn't the log of 1 equal to 0? What happened?\n",
    "\n",
    "    from math import *\n",
    "    \n",
    "    def log(message):\n",
    "        print message\n",
    "    \n",
    "    print 'The logarithm of 1 is', log(1)"
   ]
  },
  {
   "cell_type": "markdown",
   "metadata": {
    "deletable": true,
    "editable": true
   },
   "source": [
    "**Program 7**\n",
    "\n",
    "    import time\n",
    "    def print_CPU_time():\n",
    "        print 'CPU time so far in the program:', time.clock()\n",
    "    \n",
    "    print_CPU_time;"
   ]
  },
  {
   "cell_type": "markdown",
   "metadata": {
    "deletable": true,
    "editable": true
   },
   "source": [
    "**Program 8**\n",
    "\n",
    "    def square(x):\n",
    "        print x**2\n",
    "    \n",
    "    print square(2) + 2    # Is this 6?"
   ]
  },
  {
   "cell_type": "markdown",
   "metadata": {
    "deletable": true,
    "editable": true
   },
   "source": [
    "**Program 9**\n",
    "\n",
    "    def fall_distance(t):\n",
    "        g = 9.8\n",
    "        return .5 * g * t**2\n",
    "    \n",
    "    print 'The ball has fallen a distance', fall_distance(5)\n",
    "    print 'Its acceleration is', g, 'm/s^2 downwards'"
   ]
  },
  {
   "cell_type": "markdown",
   "metadata": {
    "deletable": true,
    "editable": true
   },
   "source": [
    "**Program 10:** Run the code below, then Google something like \"python list copy\" or check out [this page](https://stackoverflow.com/questions/2612802/how-to-clone-or-copy-a-list-in-python) to learn how to fix it.\n",
    "    \n",
    "    old_list = [5, 2.0, 'hi', ('bye', 'bye')]\n",
    "    \n",
    "    new_list = old_list\n",
    "    new_list[0] = 11\n",
    "    \n",
    "    print new_list\n",
    "    print old_list  # but I didn't want the old list to change!"
   ]
  },
  {
   "cell_type": "markdown",
   "metadata": {
    "deletable": true,
    "editable": true
   },
   "source": [
    "**Program 11:** List comprehensions in Python 2 don't behave very well in terms of variable scope. Python 2 treats index variables used in a list comprehension as *global* variables instead of *local* variables as we might expect. Be aware of this, and choose your list comprehension index variables wisely!\n",
    "\n",
    "Run the code below, then change the index variable in the list comprehension so it doesn't clobber our variable `n`.\n",
    "\n",
    "    n = 5\n",
    "    print 'The value of n is', n\n",
    "    print [n**2 for n in range(10)]\n",
    "    print 'The value of n is', n     # We want this to still be 5!\n",
    "\n",
    "In a similar vein, run this horrible code to see how it behaves. (You don't need to fix anything.)\n",
    "    \n",
    "    n = 5\n",
    "    squares = [1]\n",
    "    while len(squares) > 0:\n",
    "        print 'The value of n is', n\n",
    "        squares = [n**2 for n in range(n)]\n",
    "        print squares"
   ]
  },
  {
   "cell_type": "markdown",
   "metadata": {
    "deletable": true,
    "editable": true
   },
   "source": [
    "**Program 12:** This one is just a very bad idea. Use `del True` to undo the terrible mistake this programmer made and make the last printed statement correct, and then a similar statement to undo the other bad mistake. (You can always use `del` if you accidentally overwrite some a reserved python word or function.)\n",
    "\n",
    "Evaluate the following code in an iPython notebook to see how it behaves, and understand why. Then make it right by adding one or two lines of code. Don't modify any existing lines of code.\n",
    "    \n",
    "    True = False\n",
    "    False = True\n",
    "    int = str\n",
    "    \n",
    "    if (2 == 3) == True:\n",
    "        print 'True is %s and False is %s' % (True, False)\n",
    "        print '(2 == 3) == True. This statement is', (2 == 3) == True\n",
    "    print \"'Hello World' is an integer:\", type('Hello World!') == int\n",
    "    print \"5 is an integer:\", type(5) == int\n",
    "    \n",
    "    # Add your code here\n",
    "    \n",
    "    print 'But now we\\'ve fixed it: \\\n",
    "    True is %s and False is %s' % (True, False)\n",
    "    print \"'Hello World' is an integer:\", type('Hello World!') == int\n",
    "    print \"5 is an integer:\", type(5) == int"
   ]
  },
  {
   "cell_type": "markdown",
   "metadata": {
    "deletable": true,
    "editable": true
   },
   "source": [
    "## When to define your own functions\n",
    "\n",
    "So you have the power to write your own functions, but when should you? And when should you just write code to do something in the main body of your program, without having a function do it? [Chapter 2.7](http://www.umich.edu/~mejn/cp/chapters/programming.pdf) of Newman's [*Python Programming for Physicists*](http://www-personal.umich.edu/~mejn/computational-physics/) has some great recommendations on good python programming style. You should go read them! But in particular, he has this to say about writing your own functions:\n",
    "\n",
    "> **Employ user-defined functions, where appropriate.** Use user-defined functions to represent repeated operations, especially complicated operations. Functions can greatly increase the legibility of your program. Avoid overusing them, however: simple operations, ones that can be represented by just a line or two of code, are often better left in the main body of the program, because it allows you to follow the flow of the calculation when reading through your program without having to jump to a function and back. Normally you should put your function definitions at the start of your program (probably after imports and constant definitions). This ensures that each definition appears before the first use of the function it defines and that the definitions can be easily found and modified when necessary."
   ]
  },
  {
   "cell_type": "markdown",
   "metadata": {
    "deletable": true,
    "editable": true
   },
   "source": [
    "## Sinc \n",
    "\n",
    "[Adapted from Ayaras, Problem 1-4] The mathematical function $\\text{sinc}(x)$ appears when deriving the theory for [double-slit experiments](https://en.wikipedia.org/wiki/Double-slit_experiment). Write a python function for $$ \\text{sinc}(x) \\equiv \\frac{\\sin x}{x} $$ Make sure that your function handles $x=0$ correctly.\n",
    "\n",
    "Type your code in a code cell in this iPython notebook. You can use the template below to get started.\n",
    "    \n",
    "    # Import any libraries you need here\n",
    "    \n",
    "    def sinc(x):\n",
    "        \"\"\" Takes a real number x and returns the continuous function\n",
    "            sinc(x) = sin(x)/x. \"\"\"\n",
    "        # Your code here!\n",
    "    \n",
    "    # Plotting the sinc\n",
    "    # Your code here!"
   ]
  },
  {
   "cell_type": "markdown",
   "metadata": {
    "deletable": true,
    "editable": true
   },
   "source": [
    "Once you are happy with your function, write code to plot it. Instead of using `linspace`  and arrays to generate the $x$ and $y$ values, use list comprehensions! Generate 1001 $x$ values between -50 and 50 (inclusive), and use your `sinc` function to generate corresponding $y$ values. Then plot the results on a new figure with appropriate limits and labels."
   ]
  },
  {
   "cell_type": "markdown",
   "metadata": {
    "deletable": true,
    "editable": true
   },
   "source": [
    "#### Hint\n",
    "\n",
    "At $x=0$, $\\text{sinc}(x)$ should give the value of $\\lim_{x \\to 0} \\frac{\\sin x}{x}$ so that the function is continuous."
   ]
  },
  {
   "cell_type": "markdown",
   "metadata": {
    "deletable": true,
    "editable": true
   },
   "source": [
    "#### Just for fun\n",
    "\n",
    "The `numpy` library also includes a `sinc(x)` function. If you plot it, you'll find that it has the same general shape as yours, but different intercepts. Why is this? Type \"numpy.sinc?\" into your interpreter or Google something like \"numpy sinc\" to find out!"
   ]
  },
  {
   "cell_type": "markdown",
   "metadata": {
    "deletable": true,
    "editable": true
   },
   "source": [
    "## Prime Numbers\n",
    "\n",
    "[Adapted from Ayars, Problem 1-6] Write a function called `is_prime(n)` that determines whether a number `n` is prime or not, and returns either `True` or `False` accordingly. You can assume that the argument `n` passed to any of your functions will be an integer. Remember to include descriptive doc strings for each function your write!\n",
    "\n",
    "    def is_prime(n):\n",
    "        \"\"\" Determines if n is prime or not. Takes an integer n.\n",
    "        Returns True if n is prime, and False otherwise. \"\"\"\n",
    "        # Your code here!"
   ]
  },
  {
   "cell_type": "markdown",
   "metadata": {
    "deletable": true,
    "editable": true
   },
   "source": [
    "Then, write a function called `list_primes_for(n)` that uses a `for` loop and returns a list of all primes below a given number. Also write functions `list_primes_while(n)` and `list_primes_LC(n)` that use a `while` loop and a list comprehension, respectively, to do the same thing.\n",
    "\n",
    "(Note: If you accidentally find yourself in an infinite loop, press Control+C or use the Canopy menu Run > Interrupt Kernel to get out. You'll find a tutorial on dealing with infinite loops at the end of this workshop.)"
   ]
  },
  {
   "cell_type": "markdown",
   "metadata": {
    "deletable": true,
    "editable": true
   },
   "source": [
    "    def list_primes_for(n):\n",
    "        \"\"\" Takes an integer n. Returns a list of all primes\n",
    "        less than n, using a for loop \"\"\"\n",
    "        # Your code here! (use a for loop)\n",
    "    \n",
    "    def list_primes_while(n):\n",
    "        \"\"\" Your doc string here! \"\"\"\n",
    "        # Your code here! (use a while loop)\n",
    "    \n",
    "    def list_primes_LC(n):\n",
    "        \"\"\" Your doc string here! \"\"\"\n",
    "        # You can do this one in a single line!\n",
    "        return # Your list comprehension here!\n",
    "    "
   ]
  },
  {
   "cell_type": "markdown",
   "metadata": {
    "deletable": true,
    "editable": true
   },
   "source": [
    "Remember to try various test cases: What if the argument passed to `is_prime` or `list_primes` is ...\n",
    "- 20\n",
    "- 2\n",
    "- 1\n",
    "- 0\n",
    "- negative"
   ]
  },
  {
   "cell_type": "markdown",
   "metadata": {
    "deletable": true,
    "editable": true
   },
   "source": [
    "#### Hint\n",
    "\n",
    "Use your `is_prime` function in your various `list_primes` functions so you don't have to rewrite it each time!"
   ]
  },
  {
   "cell_type": "markdown",
   "metadata": {
    "deletable": true,
    "editable": true
   },
   "source": [
    "#### Just for fun\n",
    "If you're curious about (much!) more efficient ways to find primes, check out Newman problem 2.12. Try it out if you'd like!"
   ]
  },
  {
   "cell_type": "markdown",
   "metadata": {
    "deletable": true,
    "editable": true
   },
   "source": [
    "## Loopy Issues"
   ]
  },
  {
   "cell_type": "markdown",
   "metadata": {
    "deletable": true,
    "editable": true
   },
   "source": [
    "### `for` Loop Over a Changing List\n",
    "\n",
    "[Adapted from Langtangen, Exercise 2.60] It is possible---but almost never recommended---to execute a for loop over a changing list. This is dangerous business, and can lead to very unpredictable results. *Always be careful that you are looping over a list that is not being changed by the loop*---unless you really really know what you're doing.\n",
    "\n",
    "With a partner, study the following program with its output and explain in detail what happens in each pass of the loop. Use this explanation to understand the output. You might try typing the program into a file or the interactive python shell to better understand what's happening.\n",
    "\n",
    "Program:\n",
    "\n",
    "    numbers = range(10)\n",
    "    print numbers\n",
    "    for n in numbers:\n",
    "        i = len(numbers)/2\n",
    "        del numbers[i]\n",
    "        print 'n=%d, del %d' % (n,i), numbers\n",
    "\n",
    "Output:\n",
    "\n",
    "    [0, 1, 2, 3, 4, 5, 6, 7, 8, 9]\n",
    "    n=0, del 5 [0, 1, 2, 3, 4, 6, 7, 8, 9]\n",
    "    n=1, del 4 [0, 1, 2, 3, 6, 7, 8, 9]\n",
    "    n=2, del 4 [0, 1, 2, 3, 7, 8, 9]\n",
    "    n=3, del 3 [0, 1, 2, 7, 8, 9]\n",
    "    n=8, del 3 [0, 1, 2, 8, 9]\n",
    "    \n",
    "How do you think the output would change if the 3rd line read \n",
    "    \n",
    "    for n in range(10):\n",
    "instead of  \"`for n in numbers:`\" ? Make your best guess, then try it out."
   ]
  },
  {
   "cell_type": "markdown",
   "metadata": {
    "deletable": true,
    "editable": true
   },
   "source": [
    "### Infinite (`while`) Loop\n",
    "\n",
    "Infinite loops are a very common problem, especially when using while loops, and it's important to know how to break out of them and how to debug them. \n",
    "\n",
    "One way that (usually) works to escape get out of an infinite loop is to make sure the python shell is in focus (i.e., it's the active window on your computer) and press Control+C on your keyboard. If that doesn't work, then you can try (in order of increasing desperation):\n",
    "\n",
    "1. Press Control+C with the python shell in focus\n",
    "1. Canopy's Run Menu > Interrupt kernel\n",
    "1. Canopy's Run menu > Restart kernel\n",
    "1. Quit Canopy, then restart it\n",
    "\n",
    "([reference](https://support.enthought.com/hc/en-us/articles/204469610-How-to-stop-an-infinite-runaway-loop-in-your-Python-program-running-in-Canopy)) In the worst-case (this doesn't usually happen!), the program will continue to go on and on, filling up your ram and slowing down your computer so much that you can't do anything to stop it. Your computer might be clever and eventually kill the process once it gets too big, or you might have to reboot. If this every happens to you, it will generally only be because your loop is trying to do intensive calculations or display lots of text or images---for instance if you accidentally write an infinite loop that keeps producing plots. This can be very frustrating, but if you've been saving your work, it won't lose you too much time. **Remember to save your work often!**\n",
    "\n",
    "Let's learn how to handle infinite loops, so you can be prepared! None of the examples we'll try here should hang your computer, but it never hurts to go save your work anyways!\n",
    "\n",
    "The simplest infinite loop looks like\n",
    "\n",
    "    while True:\n",
    "        pass\n",
    "\n",
    "(The `pass` command does absolutely nothing.) Try it! Press Control+C to get out."
   ]
  },
  {
   "cell_type": "markdown",
   "metadata": {
    "deletable": true,
    "editable": true
   },
   "source": [
    "If it doesn't work for some reason, you can figure out any kinks now before getting stuck on more intensive loops later. If you add a print statement, like\n",
    "\n",
    "    while True:\n",
    "        print ('This is an infinite loop!')\n",
    "\n",
    "You might find the shell is slower to respond to your keyboard interrupt. (Try it!)"
   ]
  },
  {
   "cell_type": "markdown",
   "metadata": {
    "deletable": true,
    "editable": true
   },
   "source": [
    "Why would you ever use `while True`, you ask? Maybe you know something will finish eventually, but you don't know how long it will take. For instance, you want to wait until a user gives you a valid input:\n",
    "\n",
    "    while True:\n",
    "        user_input = input('Enter an integer:')\n",
    "        if type(user_input) = int:\n",
    "            print 'Thank you!'\n",
    "            break\n",
    "        else:\n",
    "            print \"That's not an integer.\"\n",
    "            continue"
   ]
  },
  {
   "cell_type": "markdown",
   "metadata": {
    "deletable": true,
    "editable": true
   },
   "source": [
    "The `break` command will break out of the loop immediately. The `continue` command will proceed immediately to the next iteration of the loop. The `continue` command is not necessary in this example, since the loop will proceed to the next iteration as soon as it hits the bottom anyways, but it can be very useful at times.\n",
    "\n",
    "Forgetting to include `break` in the right place is one way infinite loops can arise. Accidentally messing up indents is another common way. For instance, suppose we want to find the largest number whose square is less than 1000. We might run\n",
    "\n",
    "    n = 1\n",
    "    numbers = []\n",
    "    squares = []\n",
    "    while n**2 < 1000:\n",
    "        numbers.append(n)\n",
    "        squares.append(n**2)\n",
    "    n += 1\n",
    "    \n",
    "    print 'The biggest number whose square is \\\n",
    "    less than 1000 is',  numbers[-1]\n",
    "    print 'Its square is', squares[-1]\n",
    "    \n",
    "but oops! We forgot to indent the `n += 1` line, so it isn't included in the `while` loop and the program never stops. (Try it!)"
   ]
  },
  {
   "cell_type": "markdown",
   "metadata": {
    "collapsed": true,
    "deletable": true,
    "editable": true
   },
   "source": [
    "How can you debug an infinite loop? If you can't figure it out by looking at the code, you can try adding print statements to the loop to see how it's evolving. Adding `print n` to the squares example above, for instance, would show us that `n` doesn't change as we expected.\n",
    "\n",
    "While you're debugging, it can be useful to add a stopper to break the infinite loop until you figure out what's wrong, so you don't have to rely on keyboard interrupts to stop the loop. This can be a simple counter that you add to the `while` conditional to stop it after a certain number of iterations. For instance, we could change\n",
    "\n",
    "    while True:\n",
    "        pass\n",
    "\n",
    "to\n",
    "\n",
    "    stopper = 0\n",
    "    while True and (stopper < 100):\n",
    "        stopper += 1\n",
    "        pass\n",
    "        \n",
    "and once we're confident the loop is debugged, we simply (and carefully!) remove the stoppers. Try this on the squares loop above, before fixing the indent."
   ]
  },
  {
   "cell_type": "markdown",
   "metadata": {
    "deletable": true,
    "editable": true
   },
   "source": [
    "## You're done!\n",
    "\n",
    "Congratulations, you've finished this week's workshop! You're welcome to leave early or get started on this week's homework."
   ]
  },
  {
   "cell_type": "markdown",
   "metadata": {
    "collapsed": true,
    "deletable": true,
    "editable": true
   },
   "source": [
    "---------------\n",
    "\n",
    "*\"Conditional and Loop Exercises\" in this workshop adapted from [w3resource.com](http://www.w3resource.com/python-exercises/python-conditional-statements-and-loop-exercises.php)*"
   ]
  }
 ],
 "metadata": {
  "kernelspec": {
   "display_name": "Python 3",
   "language": "python",
   "name": "python3"
  },
  "language_info": {
   "codemirror_mode": {
    "name": "ipython",
    "version": 3
   },
   "file_extension": ".py",
   "mimetype": "text/x-python",
   "name": "python",
   "nbconvert_exporter": "python",
   "pygments_lexer": "ipython3",
   "version": "3.5.2"
  }
 },
 "nbformat": 4,
 "nbformat_minor": 0
}
