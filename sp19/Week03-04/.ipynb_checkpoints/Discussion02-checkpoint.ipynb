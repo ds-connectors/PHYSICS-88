{
 "cells": [
  {
   "cell_type": "markdown",
   "metadata": {
    "deletable": true,
    "editable": true
   },
   "source": [
    "## Findings\n",
    "\n",
    "[Inspired by Demetri Martin] Here, you will practice manipulating data and plotting results.\n",
    "\n",
    "Below are two examples adapted from Demetri Martin's comedy routine."
   ]
  },
  {
   "cell_type": "code",
   "execution_count": 2,
   "metadata": {
    "collapsed": false,
    "deletable": true,
    "editable": true
   },
   "outputs": [],
   "source": [
    "import numpy as np\n",
    "import matplotlib.pyplot as plt\n",
    "\n",
    "# Define variables\n",
    "skill = np.linspace(0.01,1,100) # normalized to 1\n",
    "fun = 1/(skill**(0.2)) + np.arctan(4*skill) # arbitrary units\n",
    "\n",
    "# Initialize plot\n",
    "plt.figure(figsize = (9,7))\n",
    "\n",
    "# Plot variables\n",
    "plt.plot(skill,fun, 'g.', linewidth = 2)\n",
    "\n",
    "# Label axes\n",
    "plt.xlabel('skill [normalized]', fontsize = 20)\n",
    "plt.ylabel('fun to watch [a.u.]', fontsize = 20)\n",
    "plt.title('Skiing', fontsize = 24, y = 1.02);"
   ]
  },
  {
   "cell_type": "code",
   "execution_count": 3,
   "metadata": {
    "collapsed": false,
    "deletable": true,
    "editable": true
   },
   "outputs": [],
   "source": [
    "# Define independent variable\n",
    "friendship = np.linspace(0,10,100) # closeness of friendship, 1 to 10\n",
    "\n",
    "# Define dependent variable as a piecewise function of indep variable\n",
    "interest = np.array([0.]*100)\n",
    "interest[0:80] = friendship[0:80]**(1.6)\n",
    "interest[80:] = interest[79]*(1 - 0.5*(friendship[80:]-friendship[79])/(friendship[-1] - friendship[80]))\n",
    "\n",
    "# Initialize plot\n",
    "plt.figure(figsize = (9,7))\n",
    "\n",
    "# Plot variables\n",
    "plt.plot(friendship, interest, 'm', linewidth = 3)\n",
    "\n",
    "# Label axes\n",
    "plt.xlabel('closeness of friendship \\n [0 = stranger, 10 = best friend]', fontsize = 20)\n",
    "plt.ylabel('how interested I am in hearing about \\n how adorable their cat is [a.u.]', fontsize = 20);"
   ]
  },
  {
   "cell_type": "markdown",
   "metadata": {
    "deletable": true,
    "editable": true
   },
   "source": [
    "Now its your turn to plot your findings:"
   ]
  },
  {
   "cell_type": "code",
   "execution_count": null,
   "metadata": {
    "collapsed": true,
    "deletable": true,
    "editable": true
   },
   "outputs": [],
   "source": []
  },
  {
   "cell_type": "markdown",
   "metadata": {
    "deletable": true,
    "editable": true
   },
   "source": [
    "## Scientific Mad Libs\n",
    "\n",
    "[Adapted from phdcomic.com] Fill in values for the following variables. Be creative!"
   ]
  },
  {
   "cell_type": "code",
   "execution_count": null,
   "metadata": {
    "collapsed": false,
    "deletable": true,
    "editable": true
   },
   "outputs": [],
   "source": [
    "adj1   =  # synonym for \"new\"\n",
    "verb1  =  # sciency verb\n",
    "noun1  =  # something few people have heard of\n",
    "noun2  =  # something you didn't invent\n",
    "noun3  =  # property\n",
    "float1 =  # some floating point number\n",
    "float2 =  # another floating point number\n",
    "units  =  # unit type (string)\n",
    "adj2   =  # overly positive adjective\n",
    "noun4  =  # name of your favorite scientist\n",
    "noun5  =  # fancy buzzword\n",
    "noun6  =  # existential threat for humanity"
   ]
  },
  {
   "cell_type": "code",
   "execution_count": null,
   "metadata": {
    "collapsed": false,
    "deletable": true,
    "editable": true
   },
   "outputs": [],
   "source": [
    "print (\"Abstract: This paper presents a %s method for %s the %s. \" + \\\n",
    "    \"Using %s, the %s was measured to be %.3f +/- %0.3f %s. \" + \\\n",
    "    \"Results show %s agreement with theoretical predictions \" + \\\n",
    "    \"and significant improvement over previous effors by %s, et al. \" + \\\n",
    "    \"The work presented here has profound implications for future \" + \\\n",
    "    \"studies of %s and may one day help solve the problem of %s.\") % \\\n",
    "    (adj1, verb1, noun1, noun2, noun3, float1, float2, units, \\\n",
    "    adj2, noun4, noun5, noun6) "
   ]
  }
 ],
 "metadata": {
  "kernelspec": {
   "display_name": "Python 3",
   "language": "python",
   "name": "python3"
  },
  "language_info": {
   "codemirror_mode": {
    "name": "ipython",
    "version": 3
   },
   "file_extension": ".py",
   "mimetype": "text/x-python",
   "name": "python",
   "nbconvert_exporter": "python",
   "pygments_lexer": "ipython3",
   "version": "3.5.2"
  }
 },
 "nbformat": 4,
 "nbformat_minor": 1
}
