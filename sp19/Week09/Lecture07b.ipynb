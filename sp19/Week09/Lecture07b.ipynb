{
 "cells": [
  {
   "cell_type": "markdown",
   "metadata": {
    "deletable": true,
    "editable": true
   },
   "source": [
    "# Lecture 7\n",
    "\n",
    "## Numerical Integration"
   ]
  },
  {
   "cell_type": "markdown",
   "metadata": {
    "deletable": true,
    "editable": true
   },
   "source": [
    "Integrate the function $g(t)=exp(−t^2)$ from -3 to 3 using various numerical techniques"
   ]
  },
  {
   "cell_type": "code",
   "execution_count": 1,
   "metadata": {
    "collapsed": true,
    "deletable": true,
    "editable": true
   },
   "outputs": [],
   "source": [
    "def Trapezoidal(f, a, b, n):\n",
    "    h = (b-a)/float(n)\n",
    "    s = 0.5*(f(a) + f(b))\n",
    "    for i in range(1,n,1):\n",
    "        s += f(a + i*h)\n",
    "    return h*s\n"
   ]
  },
  {
   "cell_type": "code",
   "execution_count": 17,
   "metadata": {
    "collapsed": false,
    "deletable": true,
    "editable": true
   },
   "outputs": [
    {
     "name": "stdout",
     "output_type": "stream",
     "text": [
      "1.77241425304\n"
     ]
    }
   ],
   "source": [
    "import numpy as np\n",
    "from math import exp\n",
    "def g1(t):\n",
    "    return np.exp(-t**2)\n",
    "\n",
    "a = -3;  b = 3\n",
    "n = 100\n",
    "\n",
    "result1 = Trapezoidal(g1, a, b, n)\n",
    "print (result1)\n"
   ]
  },
  {
   "cell_type": "code",
   "execution_count": 18,
   "metadata": {
    "collapsed": false,
    "deletable": true,
    "editable": true
   },
   "outputs": [
    {
     "name": "stdout",
     "output_type": "stream",
     "text": [
      "1.77240526321\n"
     ]
    }
   ],
   "source": [
    "import numpy as np\n",
    "import math\n",
    "x=np.arange(a, b, (b-a)/n)\n",
    "y=np.exp(-(x**2))\n",
    "res1=np.trapz(y,x)\n",
    "print (res1)"
   ]
  },
  {
   "cell_type": "code",
   "execution_count": 19,
   "metadata": {
    "collapsed": false,
    "deletable": true,
    "editable": true
   },
   "outputs": [
    {
     "name": "stdout",
     "output_type": "stream",
     "text": [
      "1.77241962974\n"
     ]
    }
   ],
   "source": [
    "def simpson_rule(f, a, b, n):\n",
    "    h = (b-a)/float(n)\n",
    "    s = (f(a) + f(b))/3\n",
    "    for i in range(1,n,2):\n",
    "        s += (4*f(a + i*h)+2*f(a+(i+1)*h))/3\n",
    "    return h*s\n",
    "\n",
    "result3 = simpson_rule(g1, a, b, n)\n",
    "print (result3)"
   ]
  },
  {
   "cell_type": "code",
   "execution_count": 20,
   "metadata": {
    "collapsed": false,
    "deletable": true,
    "editable": true
   },
   "outputs": [
    {
     "name": "stdout",
     "output_type": "stream",
     "text": [
      "1.77240589572\n"
     ]
    }
   ],
   "source": [
    "from scipy.integrate import simps\n",
    "import numpy as np\n",
    "x=np.arange(a, b, (b-a)/n)\n",
    "y=np.exp(-(x**2))\n",
    "res3=simps(y,x)\n",
    "print (res3)"
   ]
  },
  {
   "cell_type": "code",
   "execution_count": 23,
   "metadata": {
    "collapsed": false,
    "deletable": true,
    "editable": true
   },
   "outputs": [
    {
     "name": "stdout",
     "output_type": "stream",
     "text": [
      "1.7724146965190428 +/- 6.353644780437984e-11\n"
     ]
    }
   ],
   "source": [
    "from scipy.integrate import quad\n",
    "\n",
    "res4,eps=quad(g1,a,b)\n",
    "print (res4, \"+/-\", eps)\n"
   ]
  },
  {
   "cell_type": "code",
   "execution_count": 24,
   "metadata": {
    "collapsed": false,
    "deletable": true,
    "editable": true
   },
   "outputs": [
    {
     "name": "stdout",
     "output_type": "stream",
     "text": [
      "Trapezoid Rule              =  1.77241425304\n",
      "Builtin Trapezoid           =  1.77240526321\n",
      "Simpsons Rule               =  1.77241962974\n",
      "Builtin Simpsons Rule       =  1.77240589572\n",
      "Builtin Gaussian Quadrature =  1.7724146965190428\n"
     ]
    }
   ],
   "source": [
    "print ('Trapezoid Rule              = ', result1)\n",
    "print ('Builtin Trapezoid           = ', res1)\n",
    "print ('Simpsons Rule               = ', result3)\n",
    "print ('Builtin Simpsons Rule       = ', res3)\n",
    "print ('Builtin Gaussian Quadrature = ', res4)"
   ]
  },
  {
   "cell_type": "code",
   "execution_count": 25,
   "metadata": {
    "collapsed": false,
    "deletable": true,
    "editable": true
   },
   "outputs": [
    {
     "name": "stdout",
     "output_type": "stream",
     "text": [
      "Error Trapezoid          =  -2.50210659525e-07\n",
      "Error Builtin Trapezoid  =  -5.3222921359e-06\n",
      "Error Simpsons Rule      =  2.7833341385e-06\n",
      "Error Builtin Simpsons   =  -4.96542694661e-06\n",
      "Error Builtin Gauss Quad =  4.440892098500626e-16\n"
     ]
    }
   ],
   "source": [
    "from math import sqrt, erf, pi\n",
    "\n",
    "answer = sqrt(pi)*erf(3.) \n",
    "print('Error Trapezoid          = ',result1/answer-1)\n",
    "print('Error Builtin Trapezoid  = ',res1/answer-1)\n",
    "print('Error Simpsons Rule      = ',result3/answer-1)\n",
    "print('Error Builtin Simpsons   = ',res3/answer-1)\n",
    "print('Error Builtin Gauss Quad = ',res4/answer-1)"
   ]
  },
  {
   "cell_type": "code",
   "execution_count": null,
   "metadata": {
    "collapsed": true,
    "deletable": true,
    "editable": true
   },
   "outputs": [],
   "source": []
  }
 ],
 "metadata": {
  "kernelspec": {
   "display_name": "Python 3",
   "language": "python",
   "name": "python3"
  },
  "language_info": {
   "codemirror_mode": {
    "name": "ipython",
    "version": 3
   },
   "file_extension": ".py",
   "mimetype": "text/x-python",
   "name": "python",
   "nbconvert_exporter": "python",
   "pygments_lexer": "ipython3",
   "version": "3.5.2"
  }
 },
 "nbformat": 4,
 "nbformat_minor": 1
}
