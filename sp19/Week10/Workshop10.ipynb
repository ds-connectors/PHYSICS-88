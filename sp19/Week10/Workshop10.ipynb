{
 "cells": [
  {
   "cell_type": "markdown",
   "metadata": {},
   "source": [
    "# Workshop 10: Approximate Root-Finding Methods"
   ]
  },
  {
   "cell_type": "markdown",
   "metadata": {},
   "source": [
    "**Submit this notebook to bCourses to receive a grade for this Workshop.**\n",
    "\n",
    "Please complete workshop activities in code cells in this iPython notebook. The activities titled **Practice** are purely for you to explore Python. Some of them may have some code written, and you should try to modify it in different ways to understand how it works. Although no particular output is expected at submission time, it is _highly_ recommended that you read and work through the practice activities before or alongside the exercises. However, the activities titled **Exercise** have specific tasks and specific outputs expected. Include comments in your code when necessary. Enter your name in the cell at the top of the notebook. The workshop should be submitted on bCourses under the Assignments tab."
   ]
  },
  {
   "cell_type": "markdown",
   "metadata": {},
   "source": [
    "In lecture, you discussed a few different ways to estimate roots of nonlinear functions of one variable. Here we will expand on the details and use some of those techniques."
   ]
  },
  {
   "cell_type": "markdown",
   "metadata": {},
   "source": [
    "## Root finding"
   ]
  },
  {
   "cell_type": "markdown",
   "metadata": {},
   "source": [
    "### Iterative Relaxation Method"
   ]
  },
  {
   "cell_type": "markdown",
   "metadata": {},
   "source": [
    "A fixed point of a function $g$ is defined to be a point $x_0$ where $g(x_0) = x_0$. One method of finding a fixed point is to simply guess a value, and keep applying $g$ to it. If at some iteration we reach the fixed point, then every iteration after it will return the same value, and we know we have solved the equation. So we can try applying $g$ for many iterations and watch for convergence. Doing so solves the equation\n",
    "\n",
    "$$g(x) = x$$\n",
    "\n",
    "But what we want to solve is, for a function $f(x)$, \n",
    "\n",
    "$$f(x) = 0$$\n",
    "\n",
    "So this method works automatically if the function $f(x)$ whose root we want to find contains a term $-x$ in it, such as\n",
    "\n",
    "$$f(x) = 2 - e^{-x} - x$$\n",
    "\n",
    "Then we can use the method above to solve\n",
    "\n",
    "$$g(x) = 2 - e^{-x} = x$$\n",
    "\n",
    "But we can also try to solve functions which don't contain $-x$ by simply adding $x$ to both sides of the root equation:\n",
    "\n",
    "$$f(x) + x = x$$\n",
    "\n",
    "So $g(x) = f(x) + x$."
   ]
  },
  {
   "cell_type": "code",
   "execution_count": null,
   "metadata": {},
   "outputs": [],
   "source": [
    "import numpy as np\n",
    "import scipy as sc\n",
    "import matplotlib.pyplot as plt\n",
    "%matplotlib inline\n",
    "\n",
    "def fixedpt_finding(func, x0, nIter=50):\n",
    "    '''\n",
    "        fixedpt_finding uses an iterative relaxation method to solve the problem func(x) == x\n",
    "        \n",
    "        Inputs:\n",
    "            func - name of function. func must be a python function which\n",
    "                   takes only required argument and returns one value\n",
    "            \n",
    "            x0 - initial guess for the location of the fixed point\n",
    "            nIter - number of iterations. Default value is 50.\n",
    "            \n",
    "        Outputs:\n",
    "            x - the final estimate of the location of the fixed point\n",
    "            prec - an estimate of the precision of the location, evaluated \n",
    "                as the difference between the last and second last estimates\n",
    "                of the location of the fixed point\n",
    "            xa - numpy array of the nIter estimates of the location of the fixed point\n",
    "    '''\n",
    "    xa = []\n",
    "    x = x0\n",
    "    for i in range(nIter):\n",
    "        xa.append(x)\n",
    "        x = func(x)\n",
    "        \n",
    "    prec = xa[-1]-xa[-2]\n",
    "    \n",
    "    return x, prec, np.array(xa)"
   ]
  },
  {
   "cell_type": "code",
   "execution_count": null,
   "metadata": {},
   "outputs": [],
   "source": [
    "# Example\n",
    "\n",
    "def f(x):\n",
    "    return np.cos(x)**2 - 0.5\n",
    "\n",
    "def g(x):\n",
    "    return f(x) + x\n",
    "\n",
    "x_root, precision, _ = fixedpt_finding(g, 0.0, nIter=50)\n",
    "\n",
    "print(\"Root:\\t\\tx= \", x_root)\n",
    "print(\"Precision:\\tdx=\", precision)\n",
    "\n",
    "xd = np.linspace(-4,4,100)\n",
    "\n",
    "# Plot f(x) and see if the estimated root is in the right place\n",
    "plt.figure()\n",
    "plt.plot(xd, f(xd),label='f(x)')\n",
    "plt.plot(xd, np.zeros(len(xd)),label='y=0')\n",
    "plt.plot(x_root, f(x_root),marker='o',markersize=10, label='root found')\n",
    "plt.legend()\n",
    "\n",
    "# Plot g(x) and visualize the fixed point\n",
    "plt.figure()\n",
    "plt.plot(xd, g(xd),label='g(x)')\n",
    "plt.plot(xd, xd,label='y=x')\n",
    "plt.plot(x_root, g(x_root),marker='o',markersize=10, label='fixed pt')\n",
    "plt.legend()\n",
    "\n",
    "plt.show()"
   ]
  },
  {
   "cell_type": "markdown",
   "metadata": {},
   "source": [
    "## Exercise 1\n",
    "a. Use the iterative relaxation method to find the root of $f(x) = \\cos(x)-x$. Print your solution and precision. Make a plot of the guessed value of the root vs. iteration number to demonstrate the convergence to the solution. Feel free to use the function defined above.\n",
    "\n",
    "b. Now use the iterative relaxation method to find a root of $f(x) = \\cos(x)$. Print your solution and precision. Plot the value vs. iteration number. Compare your answer to the analytical value.\n",
    "\n",
    "c. Now find the root of $f(x) = e^{x}-x-2$. Print your solution and precision, and plot the value vs. iteration number. Try a few different guesses and numbers of iterations. How many roots does this function have? How many were you able to find using this method?\n",
    "\n",
    "d. Lastly, use this method to find the root of $f(x) = \\cos(\\frac{\\pi x}{2})-x$. Print your solution and precision. Plot the value vs. iteration number. Does the method converge to a solution? Does a root exist for this function?"
   ]
  },
  {
   "cell_type": "code",
   "execution_count": null,
   "metadata": {},
   "outputs": [],
   "source": [
    "# Code for Exercise 1"
   ]
  },
  {
   "cell_type": "markdown",
   "metadata": {},
   "source": [
    "### Root finding using the bisection method\n",
    "\n",
    "First we introduce the `bisect` algorithm which is (i) robust and (ii) slow but conceptually very simple.\n",
    "\n",
    "Suppose we need to compute the roots of \n",
    "\n",
    "$$f(x) = x^3 - 2x^2$$\n",
    "\n",
    "This function has a roots at $x=0, 2$. Run the cell below to generate a plot of $f(x)$. What do you notice about how the function behaves around each of these two zeros?"
   ]
  },
  {
   "cell_type": "code",
   "execution_count": null,
   "metadata": {},
   "outputs": [],
   "source": [
    "def f(x):\n",
    "    return x ** 3 - 2 * x ** 2\n",
    "\n",
    "# Visualize f(x) and see the roots\n",
    "xd = np.linspace(-1,3,100)\n",
    "yd = f(xd)\n",
    "plt.figure()\n",
    "plt.plot(xd,yd, label='f(x)')\n",
    "plt.plot(xd,np.zeros(len(xd)))\n",
    "plt.legend()\n",
    "plt.show()"
   ]
  },
  {
   "cell_type": "markdown",
   "metadata": {},
   "source": [
    "Indeed, the `bisect` method operates on the \"Intermediate Value Theorem\" which just makes the observation that if a continuous function $f(x)$ changes sign over an interval $x\\in [a,b]$, then there must exist at least one value of $x$ in that interval for which $f(x) = 0$. As a result, this method cannot find the root at $x=0$. So to use `scipy.optimize.bisect` you need to give it three arguments: the name of the python function which encodes $f(x)$, the left end of your interval ($a$) and the right end of your interval $b$. But further more, $a$ and $b$ must be such that $f(a)$ and $f(b)$ have opposite sign. Try changing some of these values in the call to `bisect` below!"
   ]
  },
  {
   "cell_type": "code",
   "execution_count": null,
   "metadata": {},
   "outputs": [],
   "source": [
    "from scipy.optimize import bisect\n",
    "\n",
    "x_root = bisect(f, 1.5, 3, xtol=1e-6) #xtol is an optional argument specifying how precise we want the answer\n",
    "\n",
    "print(\"The root x is approximately x=%14.12g,\\n\"\n",
    "      \"the error is less than 1e-6.\" % (x))\n",
    "print(\"The exact error is %g.\" % (2 - x))"
   ]
  },
  {
   "cell_type": "markdown",
   "metadata": {},
   "source": [
    "## Exercise 2\n",
    "a. Use the built-in `bisect` function to compute the roots of the four functions from Exercise 2, and compare the results. Was the bisect method able to find all of the roots of $f(x) = e^{x} - x - 2$? What about for $f(x) = \\cos(\\frac{\\pi x}{2})-x$?\n"
   ]
  },
  {
   "cell_type": "code",
   "execution_count": null,
   "metadata": {
    "collapsed": true
   },
   "outputs": [],
   "source": [
    "# Code for Exercise 2"
   ]
  },
  {
   "cell_type": "markdown",
   "metadata": {},
   "source": [
    "### Root finding using Brent method\n",
    "\n",
    "This is another method to find a root of the function $f(x)$ on the sign changing interval $x\\in[a , b]$. It is a safe version of the secant method that uses inverse quadratic extrapolation. Brent’s method combines a few other elementary root-finding techniques: root bracketing, interval bisection, and inverse quadratic interpolation. But again, this still requires that $f(a)$ and $f(b)$ have opposite signs."
   ]
  },
  {
   "cell_type": "code",
   "execution_count": null,
   "metadata": {},
   "outputs": [],
   "source": [
    "from scipy.optimize import brentq\n",
    "\n",
    "def f(x):\n",
    "    return x ** 3 - 2 * x ** 2\n",
    "\n",
    "x = brentq(f, 0.5,3, xtol=1e-6)\n",
    "\n",
    "print(\"The root x is approximately x=%14.12g,\\n\"\n",
    "      \"the error is less than 1e-6.\" % (x))\n",
    "print(\"The exact error is %g.\" % (2 - x))"
   ]
  },
  {
   "cell_type": "markdown",
   "metadata": {},
   "source": [
    "### Root finding using the `fsolve` function\n",
    "\n",
    "A (often) better (in the sense of “more efficient”) algorithm than the bisection algorithm is implemented in the general purpose `fsolve()` function for root finding of (multidimensional) functions. This algorithm needs only one starting point close to the suspected location of the root (but is not garanteed to converge).\n",
    "\n",
    "Here is an example:"
   ]
  },
  {
   "cell_type": "code",
   "execution_count": null,
   "metadata": {},
   "outputs": [],
   "source": [
    "from scipy.optimize import fsolve\n",
    "\n",
    "def f(x):\n",
    "    return x ** 3 - 2 * x ** 2\n",
    "\n",
    "x = fsolve(f, [-0.5,3])           # look for two roots starting with 0 and 3\n",
    "\n",
    "print(\"Number of roots is\", len(x))\n",
    "print(\"The root(s) are \", x)"
   ]
  },
  {
   "cell_type": "markdown",
   "metadata": {},
   "source": [
    "The input to `fsolve` is the name of the python function and the array of initial locations for the roots you are trying to find. The return value of `fsolve` is a numpy array of the best estimates of the locations of the roots found for each initial guess given. If $n$ initial guesses are given, $n$ estimates are returned."
   ]
  },
  {
   "cell_type": "markdown",
   "metadata": {},
   "source": [
    "## Exercise 3 \n",
    "(Newman 6.15)\n",
    "\n",
    "Consider a sixth-order polynomial \n",
    "$$P(x) = 924x^6 - 2772x^5 + 3150x^4 -1680x^3 +420x^2 -42x + 1$$\n",
    "There is no general formula for the roots of a polynomial of degree 6, but you can compute the roots numerically. \n",
    "1. Make a plot of $P(x)$ from $x=0$ to $x=1$ and by inspecting it find rough values for the six roots of the polynomial. \n",
    "1. Write the code to solve for the positions of all six roots to at least ten decimal places using at least one of the methods above (you can use the built-in functions)."
   ]
  },
  {
   "cell_type": "code",
   "execution_count": null,
   "metadata": {},
   "outputs": [],
   "source": [
    "# Code for Exercise 3"
   ]
  }
 ],
 "metadata": {
  "kernelspec": {
   "display_name": "Python 3",
   "language": "python",
   "name": "python3"
  },
  "language_info": {
   "codemirror_mode": {
    "name": "ipython",
    "version": 3
   },
   "file_extension": ".py",
   "mimetype": "text/x-python",
   "name": "python",
   "nbconvert_exporter": "python",
   "pygments_lexer": "ipython3",
   "version": "3.6.5"
  }
 },
 "nbformat": 4,
 "nbformat_minor": 2
}
