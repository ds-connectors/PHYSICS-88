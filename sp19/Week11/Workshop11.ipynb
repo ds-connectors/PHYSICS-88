{
 "cells": [
  {
   "cell_type": "markdown",
   "metadata": {
    "deletable": true,
    "editable": true
   },
   "source": [
    "# Workshop 11: Linear Algebra in Python"
   ]
  },
  {
   "cell_type": "markdown",
   "metadata": {
    "deletable": true,
    "editable": true
   },
   "source": [
    "**Submit this notebook to bCourses to receive a grade for this Workshop.**\n",
    "\n",
    "Please complete workshop activities in code cells in this iPython notebook. The activities titled **Practice** are purely for you to explore Python. Some of them may have some code written, and you should try to modify it in different ways to understand how it works. Although no particular output is expected at submission time, it is _highly_ recommended that you read and work through the practice activities before or alongside the exercises. However, the activities titled **Exercise** have specific tasks and specific outputs expected. Include comments in your code when necessary. Enter your name in the cell at the top of the notebook. The workshop should be submitted on bCourses under the Assignments tab."
   ]
  },
  {
   "cell_type": "markdown",
   "metadata": {
    "deletable": true,
    "editable": true
   },
   "source": [
    "In lecture, you learned a bit about how to perform matrix operations using `numpy` in Python. Now, we will put those methods to work for us. If you are new to linear algebra, don't worry--we will build some basic intuition for the concepts below without resorting to any explicit proofs. This is perhaps the most important type of math you should learn in all sciences, especially physics, so I encourage you to study it."
   ]
  },
  {
   "cell_type": "markdown",
   "metadata": {
    "deletable": true,
    "editable": true
   },
   "source": [
    "**Notation**: In the equations in the text below, we will adopt the convention that matrices are denoted by capital letters and vectors are denoted by lower case letters."
   ]
  },
  {
   "cell_type": "markdown",
   "metadata": {
    "deletable": true,
    "editable": true
   },
   "source": [
    "## Constructing matrices in Python, matrix algebra, and finding determinants\n",
    "The following code demonstrates the syntax for writing a matrix, adding or multiplying matrices, and calculating determinants using the built-in function `np.linalg.det`"
   ]
  },
  {
   "cell_type": "code",
   "execution_count": null,
   "metadata": {
    "collapsed": true,
    "deletable": true,
    "editable": true
   },
   "outputs": [],
   "source": [
    "import numpy as np\n",
    "A = np.matrix(\n",
    "    [[0, 4],\n",
    "     [2, 0]]\n",
    ")\n",
    "B = np.matrix(\n",
    "    [[-1, 2],\n",
    "     [1, -2]]\n",
    ")\n",
    "\n",
    "# Access a single element\n",
    "print(\"first row, first column element of A: %i\\n\" % A[1,1])\n",
    "\n",
    "# Add matrices\n",
    "C = A + B\n",
    "print(\"C = A + B = \\n\",C, \"\\n\")\n",
    "\n",
    "D = A * B\n",
    "print(\"D = A * B = \\n\",D, \"\\n\")\n",
    "\n",
    "determinant = np.linalg.det(C)\n",
    "print(\"det(C) = %.3f\" % determinant)\n",
    "\n",
    "# Column vector\n",
    "v = np.transpose(np.matrix([-1, 1]))\n",
    "print(\"v = \\n\", v , \"\\n\")\n",
    "\n",
    "# Multiply matrix by vector\n",
    "print(\"C * v = \\n\", C * v)\n",
    "\n",
    "# How to check the dimensions of something, very useful for debugging\n",
    "print(\"Shape of v is \", v.shape)"
   ]
  },
  {
   "cell_type": "markdown",
   "metadata": {
    "deletable": true,
    "editable": true
   },
   "source": [
    "### Exercise 1\n",
    "\n",
    "1. Store a $3\\times 3$ matrix $A$ which is with entries\n",
    "$$A = \\begin{pmatrix}\n",
    "2 & 5 & 3\\\\\n",
    "4 & 10 & 6\\\\\n",
    "3 & 7 & 3\\\\\n",
    "\\end{pmatrix}$$\n",
    "Calculate its determinant using the built-in `np.linalg.det` function.\n",
    "1. Write your own determinant function `determinant(M)`, which takes a 3x3 matrix `M` as an argument and returns the determinant of that matrix. Consult the linear algebra refresher notebook in this directory (or Wikipedia) for help.\n",
    "\n",
    "1. Test your determinant function on the matrix $A$ above. Does your function agree with the built-in function? Is $A$ singular (i.e. non-invertible)?"
   ]
  },
  {
   "cell_type": "code",
   "execution_count": null,
   "metadata": {
    "collapsed": true,
    "deletable": true,
    "editable": true
   },
   "outputs": [],
   "source": [
    "# Code for exercise 1 "
   ]
  },
  {
   "cell_type": "markdown",
   "metadata": {
    "deletable": true,
    "editable": true
   },
   "source": [
    "## Inverting matrices"
   ]
  },
  {
   "cell_type": "markdown",
   "metadata": {
    "deletable": true,
    "editable": true
   },
   "source": [
    "Linear systems of equations are of the form \n",
    "\n",
    "$$Av = b$$\n",
    "\n",
    "where $A$ is a square matrix, $v$ is a vector of variables, and $b$ is a vector of values. This equation is solved by \n",
    "$$v = A^{-1}b$$\n",
    "\n",
    "where $A^{-1}$ is the inverse of $A$, defined such that $AA^{-1} = A^{-1}A = I$, the identity matrix. Typically inverting a matrix is not the optimal numerical method for solving such problems, but there may be other occasions when inverting a matrix is necessary; the code below gives an example of how to compute the inverse of a matrix using the built-in function `np.linalg.inv`."
   ]
  },
  {
   "cell_type": "code",
   "execution_count": null,
   "metadata": {
    "collapsed": true,
    "deletable": true,
    "editable": true
   },
   "outputs": [],
   "source": [
    "M = np.matrix(\n",
    "[[10,-7,0],\n",
    "[-3,2.099,6],\n",
    "[5,-1,5]]  \n",
    ")\n",
    "print('We have matrix M = \\n')\n",
    "print(M)\n",
    "Minv = np.linalg.inv(M)\n",
    "print('Its inverse M^-1 = \\n')\n",
    "print(Minv)"
   ]
  },
  {
   "cell_type": "markdown",
   "metadata": {
    "deletable": true,
    "editable": true
   },
   "source": [
    "### Exercise 2\n",
    "1. Invert the matrices $C$ and $D$ in the code cell below. Then multiply $C$ and $D$ on the left by your answer for their respective inverses (calculate $C^{-1}C$ and $D^{-1}D$). Is the product what you expect?\n",
    "1. Let \n",
    "$$b = \\begin{pmatrix}\n",
    "1 \\\\\n",
    "2 \\\\\n",
    "\\end{pmatrix}$$\n",
    "Use the matrices given to solve for $v$ in the linear equations $Cv = b$ and $Dv = b$ by inverting $C$ and $D$."
   ]
  },
  {
   "cell_type": "code",
   "execution_count": null,
   "metadata": {
    "collapsed": true,
    "deletable": true,
    "editable": true
   },
   "outputs": [],
   "source": [
    "# Matrices for Exercise 2\n",
    "# Do not delete this cell\n",
    "C = np.matrix([[5, 3],[-6, 7]])\n",
    "D = np.matrix([[0, 1],[1, 1]])"
   ]
  },
  {
   "cell_type": "code",
   "execution_count": null,
   "metadata": {
    "collapsed": true,
    "deletable": true,
    "editable": true
   },
   "outputs": [],
   "source": [
    "# Code for Exercise 2"
   ]
  },
  {
   "cell_type": "markdown",
   "metadata": {
    "deletable": true,
    "editable": true
   },
   "source": [
    "## Solving systems of linear equations"
   ]
  },
  {
   "cell_type": "markdown",
   "metadata": {
    "deletable": true,
    "editable": true
   },
   "source": [
    "A typically more efficient way of solving the equation \n",
    "\n",
    "$$Av = b$$\n",
    "\n",
    "is using Gaussian elimination, which is implemented in `np.linalg.solve` as below."
   ]
  },
  {
   "cell_type": "code",
   "execution_count": null,
   "metadata": {
    "collapsed": true,
    "deletable": true,
    "editable": true
   },
   "outputs": [],
   "source": [
    "A = np.matrix(\n",
    "[\n",
    "    [25, 5, 1],\n",
    "    [64, 8, 1],\n",
    "    [144, 12, 1]\n",
    "])\n",
    "\n",
    "b = np.transpose(np.matrix([106.8, 177.2, 279.2])) # why do I need to transpose?\n",
    "\n",
    "v = np.linalg.solve(A, b)\n",
    "print(\"Solution: v=\\n\", v, \"\\n\")\n",
    "print(\"A * v = \\n\", A * v)"
   ]
  },
  {
   "cell_type": "markdown",
   "metadata": {
    "deletable": true,
    "editable": true
   },
   "source": [
    "### Exercise 3\n",
    "a. Solve the systems $Cv = b$ and $Dv = b$, with $C$, $D$, and $b$ from Exercise 2 using Gaussian elimination. Do the answers agree?\n",
    "\n",
    "b. Solving an electromagnetism problem - consider the circuit below:\n",
    "\n",
    "![a circuit](circuit.jpg)\n",
    "(Picture of circuit from http://aplusphysics.com)"
   ]
  },
  {
   "cell_type": "markdown",
   "metadata": {
    "deletable": true,
    "editable": true
   },
   "source": [
    "This circuit has 3 currents $I_1, I_2, I_3$ for which we need to solve using Kirchoff's loop and junction rules. By applying these rules, we can get the following system of equations:\n",
    "\n",
    "$$ V -I_1R_1 - I_2R_2 - I_1R_4 = 0$$\n",
    "$$ I_1 = I_2 + I_3$$\n",
    "$$ I_2R_2 - I_3R_3 = 0$$\n",
    "\n",
    "Re-arrange these equations to take the form \n",
    "\n",
    "$$Av = b$$\n",
    "\n",
    "where $v$ is a vector of your three unknown currents $(I_1, I_2, I_3)^T$ and $A$ is a $3 \\times 3$ matrix of coefficients and $b$ is a vector of 3 constants. Then, use any numerical method you would like to solve for the three constants."
   ]
  },
  {
   "cell_type": "code",
   "execution_count": null,
   "metadata": {
    "collapsed": true,
    "deletable": true,
    "editable": true
   },
   "outputs": [],
   "source": [
    "# Code for Exercise 3a"
   ]
  },
  {
   "cell_type": "code",
   "execution_count": null,
   "metadata": {
    "collapsed": true,
    "deletable": true,
    "editable": true
   },
   "outputs": [],
   "source": [
    "# Code for Exercise 3b"
   ]
  },
  {
   "cell_type": "markdown",
   "metadata": {
    "deletable": true,
    "editable": true
   },
   "source": [
    "## Eigenvalues and Eigenvectors"
   ]
  },
  {
   "cell_type": "markdown",
   "metadata": {
    "deletable": true,
    "editable": true
   },
   "source": [
    "Probably the most famous problem in all of science is the eigenvalue problem. It is ubiquitous across fields and is the defining problem of quantum mechanics. In this problem, we change the problem slightly from before. For a given $A$, we try to look for scalar values $\\lambda$ and vectors $v$ that satisfy the matrix equation\n",
    "\n",
    "$$A v = \\lambda v$$\n",
    "\n",
    "Notice the geometrical interpretation of this problem: the matrix $A$ acting on the vector $v$ does not change its direction; it only rescales $v$ (changes its length). In this case, $v$ is called an eigenvector, and $\\lambda$ is called its corresponding eigenvalue. An example of how to solve an eigenvalue problem using the built-in `np.linalg.eig` function is shown below."
   ]
  },
  {
   "cell_type": "code",
   "execution_count": null,
   "metadata": {
    "collapsed": true,
    "deletable": true,
    "editable": true
   },
   "outputs": [],
   "source": [
    "A = np.matrix(\n",
    "[\n",
    "    [25,5,1],\n",
    "    [64,8,1],\n",
    "    [144,12,1]\n",
    "])\n",
    "eigenvals, eigenvecs = np.linalg.eig(A)\n",
    "print('Eigenvalues of A=', eigenvals)\n",
    "print('Eigenvectors: \\n', eigenvecs)"
   ]
  },
  {
   "cell_type": "markdown",
   "metadata": {
    "deletable": true,
    "editable": true
   },
   "source": [
    "Each eigenvector is a **column** in the matrix `eigenvecs` above and its corresponding eigenvalue is in `eigenvals`. For example, the first eigenvalue is `40.01957922` and its corresponding eigenvector is the first column of `eigenvecs`:"
   ]
  },
  {
   "cell_type": "code",
   "execution_count": null,
   "metadata": {
    "collapsed": true,
    "deletable": true,
    "editable": true
   },
   "outputs": [],
   "source": [
    "# Check that A * v * (1/lambda) = v\n",
    "A * eigenvecs[:,0] / eigenvals[0]"
   ]
  },
  {
   "cell_type": "markdown",
   "metadata": {
    "deletable": true,
    "editable": true
   },
   "source": [
    "### Exercise 4: Particle in a Box with Electric Field (adapted from Newman Ch.6)\n",
    "Solving a quantum mechanics problem - if you haven't taken quantum mechanics, don't worry: I've done the physics portion for you, so the remaining part is just computational. If you have... notice how this method allows you to find approximate energy levels / wavefunctions for problems that may be analytically intractable!\n",
    "\n",
    "Suppose a particle is in a square well potential $V$ with infinite barriers at $x \\leq 0$ and $x \\geq L$. The basic problem, which is exactly solvable, is called the \"particle in a box\" and has $V = 0$ for $0< x < L$:\n",
    "\n",
    "\n",
    "Now, we want to go beyond this simple description and try to solve the case where $V(x) = (a/L)x$ for $0 < x < L$ (but still $V = \\infty$ for $x \\leq 0$ and $x \\geq L$). This would be the case if, for example, the particle in the box were charged and a finite electric field were applied.\n",
    "\n",
    "Because $V = \\infty$ outside the box, the wavefunction $\\psi(x)$ must be equal to zero for $x\\leq 0$ and $x\\geq L$ (remember that if $\\psi(x)\\neq 0$, there is a nonzero probability of finding the particle at $x$). To solve this, we can express $\\psi(x)$ for $0 < x < L$ as a linear combination of functions which are equal to zero at $x=0,L$. That way, they respect this condition. Those functions are of the form \n",
    "\n",
    "$$\\psi(x) = \\sum\\limits_{n=1}^\\infty \\psi_n \\sin\\left({\\frac{n\\pi x}{L}}\\right)$$\n",
    "\n",
    "The coefficients $\\psi_n$ are the unknowns for which we need to solve. Let us think of these unknowns as forming a vector $v = (\\psi_1, \\psi_2, \\dots)^T$. The Schrodinger equation is a matrix equation that looks like \n",
    "\n",
    "$$H v = E v$$\n",
    "\n",
    "where $H$ is a matrix (called the Hamiltonian) and $E$ is a scalar (the energies of $H$). Therefore, this is an eigenvalue problem. What actually is the matrix $H$? For the potential described above, it can be shown that the entries of $H$ take on the form \n",
    "\n",
    "$$H_{mn} = \\begin{cases}\n",
    "0 \\quad m \\neq n\\text{ and both are even or odd}\\\\\n",
    " -\\frac{8amn}{\\pi^2(m^2-n^2)^2} \\quad m \\neq n\\text{ and one is even and one is odd} \\\\\n",
    "\\frac{a}{2} + \\frac{\\hbar^2\\pi^2n^2}{2ML^2}\\quad m = n\n",
    "\\end{cases}$$\n",
    "\n",
    "Here $M$ is the mass of the particle, $\\hbar$ is the reduced Planck's constant (values given below). So now we have a way to calculate all of the elements of $H$, so we have enough to set up the problem. But there is one little thing we need to deal with. The expression for $\\psi(x)$ involve summing from $n=1$ to $n=\\infty$! That means $v$ has $\\infty$ elements and $H$ and is an $\\infty \\times \\infty$ matrix! So we need to make some simplifications. One case we can consider is that if we are only interested in the lowest energies (lowest eigenvalues) of $H$, then we likely do not need to consider the high frequency (high $n$) functions in the expansion of $\\psi(x)$. So let us choose to only consider $n=1\\dots 10$, so $v$ has 10 elements and $H$ is a $10\\times 10 $ matrix.\n",
    "\n",
    "\n",
    "\n",
    "A physically realistic setup might have that our particle is an electron sitting in optical trap of width $L$. So here are some plausible values to use:\n",
    "\n",
    "$$M = 9.109\\times 10^{-31}\\text{ kg}$$\n",
    "$$a = 1.60218\\times 10^{-18}\\text{ J}$$\n",
    "$$L = 5\\times 10^{-10}\\text{ m}$$\n",
    "$$\\hbar = 1.0545\\times 10^{-34}\\text{ J}\\cdot\\text{s}$$\n",
    "\n",
    "Find the energies (eigenvalues) of the $10 \\times 10$ matrix $H$. When you are populating the elements of $H$, beware that in the equations above, $n = 1\\dots 10$, but your matrix dimensions start at 0."
   ]
  },
  {
   "cell_type": "code",
   "execution_count": null,
   "metadata": {
    "collapsed": true,
    "deletable": true,
    "editable": true
   },
   "outputs": [],
   "source": [
    "# Code for Exercise 4"
   ]
  }
 ],
 "metadata": {
  "kernelspec": {
   "display_name": "Python 3",
   "language": "python",
   "name": "python3"
  },
  "language_info": {
   "codemirror_mode": {
    "name": "ipython",
    "version": 3
   },
   "file_extension": ".py",
   "mimetype": "text/x-python",
   "name": "python",
   "nbconvert_exporter": "python",
   "pygments_lexer": "ipython3",
   "version": "3.5.2"
  }
 },
 "nbformat": 4,
 "nbformat_minor": 2
}
