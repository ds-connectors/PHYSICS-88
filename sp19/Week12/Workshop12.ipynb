{
 "cells": [
  {
   "cell_type": "markdown",
   "metadata": {},
   "source": [
    "# Workshop 12: Introduction to Numerical ODE Solutions\n",
    "*Source: http://phys.csuchico.edu/ayars/312 *\n",
    "\n",
    "\n",
    "**Submit this notebook to bCourses to receive a grade for this Workshop.**\n",
    "\n",
    "Please complete workshop activities in code cells in this iPython notebook. The activities titled **Practice** are purely for you to explore Python. Some of them may have some code written, and you should try to modify it in different ways to understand how it works. Although no particular output is expected at submission time, it is _highly_ recommended that you read and work through the practice activities before or alongside the exercises. However, the activities titled **Exercise** have specific tasks and specific outputs expected. Include comments in your code when necessary. Enter your name in the cell at the top of the notebook. The workshop should be submitted on bCourses under the Assignments tab."
   ]
  },
  {
   "cell_type": "code",
   "execution_count": null,
   "metadata": {},
   "outputs": [],
   "source": [
    "# Run this cell before preceding\n",
    "%matplotlib inline\n",
    "import numpy as np\n",
    "import matplotlib.pyplot as plt"
   ]
  },
  {
   "cell_type": "markdown",
   "metadata": {},
   "source": [
    "## Ordinary Differential Equation (ODE)\n",
    "\n",
    "An ordinary differential equation is an equation that takes the following form:\n",
    "\n",
    "$$F(t,x,x',x'',\\dots) = 0$$\n",
    "\n",
    "where $x$ is a function of $t$ and the $'$ symbol denotes derivatives:\n",
    "\n",
    "$$x' = \\frac{dx}{dt}$$\n",
    "$$x'' = \\frac{d^2x}{dt^2}$$\n",
    "$$\\vdots$$\n",
    "\n",
    "An example is\n",
    "\n",
    "$$x' + x = 0$$\n",
    "\n",
    "To solve such an equation, we need to specify an *initial condition*: a set of values $(t_0, x_0)$ that our solution must pass through. This is because there are multiple solutions which can satisfy that equation. Any solution of the form \n",
    "\n",
    "$$x(t) = Ae^{-t}$$\n",
    "\n",
    "satisfies the differential equation above. So by requiring that this curve pass through a particular point $(t_0, x_0)$, we can determine $A$:\n",
    "\n",
    "$$A  = \\frac{x_0}{e^{-t_0}}$$\n",
    "\n",
    "Another way to visualize is this is with the aid of a \"slope field\": a plot that, for various points $(t,x)$ shows what $x(t)$ must look like locally by evaluating the derivative $x'$ at that point:"
   ]
  },
  {
   "cell_type": "code",
   "execution_count": null,
   "metadata": {
    "scrolled": true
   },
   "outputs": [],
   "source": [
    "# Initial condition\n",
    "t0 = 0.0\n",
    "x0 = 0.75\n",
    "\n",
    "# Make a grid of x,t values\n",
    "t_values = np.linspace(t0, t0+3, 20)\n",
    "x_values = np.linspace(-np.abs(x0)*1.2, np.abs(x0)*1.2, 20)\n",
    "t, x = np.meshgrid(t_values, x_values)\n",
    "\n",
    "# Evaluate derivative at each x point\n",
    "xdot = -x\n",
    "\n",
    "plt.figure()\n",
    "\n",
    "# Plot slope field arrows\n",
    "plt.quiver(t,x, np.ones(t.shape), xdot,color='b')\n",
    "\n",
    "# Plot solution\n",
    "A = x0 / np.exp(-t0)\n",
    "plt.plot(t_values,A * np.exp(-t_values),color='r')\n",
    "\n",
    "# Plot initial condition\n",
    "plt.plot(t0,x0,'go',markersize=8)\n",
    "\n",
    "plt.xlabel('t')\n",
    "plt.ylabel('x(t)')\n",
    "plt.title(\"Slope field and a solution of $x'=x$\")\n",
    "plt.show()"
   ]
  },
  {
   "cell_type": "markdown",
   "metadata": {},
   "source": [
    "With those two pieces of information--the differential equation and an initial condition--we are able to write down a closed-form solution $x(t)$. But for a general differential equation, even if you have an initial condition, it is difficult to write down $x(t)$ in closed form. For example, if the equation is nonlinear or, if you have a set of *coupled* differential equations, as we frequently encounter in physics, numerical methods are indispensable."
   ]
  },
  {
   "cell_type": "markdown",
   "metadata": {},
   "source": [
    "## Outline of this Workshop\n",
    "\n",
    "1. Basic setup and numerical solution of a first-order ODE\n",
    "2. Set up a second-order ODE--the harmonic oscillator\n",
    "3. Numerical stability issue\n",
    "4. Phase portraits"
   ]
  },
  {
   "cell_type": "markdown",
   "metadata": {},
   "source": [
    "## Euler method"
   ]
  },
  {
   "cell_type": "markdown",
   "metadata": {},
   "source": [
    "### Definition of the Euler method\n",
    "\n",
    "Suppose we have the differential equation\n",
    "\n",
    "$$\\frac{dx}{dt} = f(x,t)$$\n",
    "\n",
    "This means that, given a point in the system $(x_0, t_0)$, we have a way to compute the derivative $dx/dt$ at that point. But it may be difficult or impossible to analytically integrate $f(x,t)$ to find a closed form for $x(t)$. Instead, we rely on numerical methods to estimate solutions. More specifically, given an *initial condition* $(x_0, t_0)$, where $x(t_0) = x_0$, the goal is to find a numerical method to calculate $x(t)$ for $t > t_0$. \n",
    "\n",
    "The most basic Euler method is based on the simple observation that\n",
    "\n",
    "$$x(t+\\Delta t) = x(t) + \\int_{t}^{t+\\Delta t} \\left(\\frac{dx}{dt}\\right) dt =  x(t) + \\int_{t}^{t+\\Delta t} f(x(t),t) dt $$\n",
    "\n",
    "If we cannot explicitly take that integral, but we have a way to calculate $f(x,t)$, then the first thing we would try is \n",
    "\n",
    "$$x(t+\\Delta t) \\approx x(t) + f(x(t), t) \\cdot \\Delta t$$\n",
    "\n",
    "Now let us try to make this into code. Suppose we have a list of times $\\{t_i\\}$ such that $t_{i+1} - t_i = \\Delta t$ (generated by `np.arange` or `np.linspace`, for example). Then given $x_0$ at $t_0$, we calculate $x_i$ according to the rule\n",
    "\n",
    "$$x_i = x_{i-1} + f(x_{i-1},t_{i-1})\\Delta t$$\n",
    "\n",
    "So as long as we can write the first derivative in the form above, we have a way to attack this problem. \n",
    "\n",
    "For example, we can numerically solve a problem like\n",
    "\n",
    "$$v' = 1-v^2$$\n",
    "$$\\rightarrow v_i = v_{i-1} + f(v_{i-1}, t_{i-1}) \\Delta t = v_{i-1} + (1-v_{i-1}^2)\\Delta t$$\n",
    "Given an initial $(t_0, v_0)$, we can use the Euler method to solve this equation, which describes the velocity (denoted $v$ here) of a particle falling but experiencing a drag force (see lecture). We know that the solution of such an equation should be that the velocity of the particle should increase quickly at first (due to constant gravitational force) but then asymptote to some terminal value because the drag force increases with velocity. Let's see this:"
   ]
  },
  {
   "cell_type": "code",
   "execution_count": null,
   "metadata": {},
   "outputs": [],
   "source": [
    "# Basic example of Euler method\n",
    "t_0 = 0.0 # initial time condition\n",
    "v_0 = 0.0 # initial velocity condition\n",
    "\n",
    "# Generate some times t_i\n",
    "t_data = np.linspace(0,100,1000)\n",
    "\n",
    "# Placeholder array for velocities v_i\n",
    "v_data = np.zeros(1000)\n",
    "\n",
    "v_data[0] = v_0\n",
    "N = len(t_data)\n",
    "\n",
    "# use Euler method to estimate v_i for each i\n",
    "for i in range(1,N):\n",
    "    \n",
    "    f = 1 - v_data[i-1]**2 # f(v_{i-1})\n",
    "    dt = t_data[i] - t_data[i-1] # time interval\n",
    "    v_data[i] = v_data[i-1] + f * dt # calculate v_i\n",
    "\n",
    "# Plot results\n",
    "plt.figure()\n",
    "plt.plot(t_data, v_data)\n",
    "plt.xlabel(\"Time\")\n",
    "plt.ylabel(\"Velocity\")\n",
    "plt.title(\"Velocity of particle falling and experiencing drag\")\n",
    "plt.show()"
   ]
  },
  {
   "cell_type": "markdown",
   "metadata": {},
   "source": [
    "So we have established a technique to approximate solutions to some first-order differential equations. Note that these solutions still have some error--flip back to the workshop on integration techniques to remind yourself of this.\n",
    "\n",
    "At first, being able to solve only first-order differential equations seems very restrictive. But actually, it is enough for us to start modeling real systems and observing interesting behaviors. First, let us try to convert a second order differential equation, such as Newton's second law, into a set of first order differential equations, which we now know how to solve."
   ]
  },
  {
   "cell_type": "markdown",
   "metadata": {},
   "source": [
    "### Example: Euler Method and a Second-Order ODE"
   ]
  },
  {
   "cell_type": "markdown",
   "metadata": {},
   "source": [
    "Commonly we have a set of *second-order* differential equations. For example, the harmonic oscillator takes this form:\n",
    "\n",
    "$$F = ma = m\\frac{d^2x}{dt^2} = -kx$$\n",
    "$$\\rightarrow \\frac{d^2x}{dt^2} + \\frac{k}{m}x = 0$$\n",
    "But we can rewrite as a set of first-order differential equations by noting that\n",
    "\n",
    "$$a = \\frac{dv}{dt}$$\n",
    "\n",
    "and\n",
    "\n",
    "$$v = \\frac{dx}{dt}$$\n",
    "\n",
    "So the force equation above becomes a pair of equations:\n",
    "\n",
    "\\begin{align}\n",
    "x' &= \\frac{dx}{dt} =  v \\\\\n",
    "v' &= \\frac{dv}{dt} = -\\frac{k}{m}x\n",
    "\\end{align}\n",
    "\n",
    "This means that to form a solution, we need three numbers for the initial condition, $(t_0, x_0, v_0)$ where $x(t_0) = x_0$ and $v(t_0) = v_0$. As we did above, let us write this down in terms of the values $x_i$, $v_i$, and $t_i$:\n",
    "\n",
    "\\begin{align}\n",
    "x_i &= x_{i-1} + v_{i-1} \\Delta t \\\\\n",
    "v_i &= v_{i-1} + \\left(-\\frac{k}{m}x_{i-1}\\right)\\Delta t\n",
    "\\end{align}\n",
    "\n",
    "In the examples below, I will continue to take $t_0 = 0$"
   ]
  },
  {
   "cell_type": "code",
   "execution_count": null,
   "metadata": {},
   "outputs": [],
   "source": [
    "# Use Euler method to solve coupled first order ODE\n",
    "import numpy as np\n",
    "%matplotlib inline\n",
    "import matplotlib.pyplot as plt\n",
    "\n",
    "km = 0.3 # value of k / m\n",
    "\n",
    "# Initial conditions\n",
    "x_0 = 1.0\n",
    "v_0 = 0.0\n",
    "\n",
    "# Number of timesteps\n",
    "T = 1000\n",
    "dt = 0.1 #size of time step (Delta t)\n",
    "\n",
    "\n",
    "def Euler(t0, x0, v0, T, dt):\n",
    "    x_data = np.zeros(T)\n",
    "    v_data = np.zeros(T)\n",
    "    \n",
    "    t_data = np.arange(T) * dt + t0\n",
    "    x_data[0] = x0\n",
    "    v_data[0] = v0\n",
    "    \n",
    "    \n",
    "    for i in range(1,T):\n",
    "        x_data[i] = x_data[i-1] + v_data[i-1] * dt\n",
    "        v_data[i] = v_data[i-1] + (-km * x_data[i-1]) * dt\n",
    "        \n",
    "    return t_data, x_data, v_data\n",
    "\n",
    "t_data, x_data, v_data = Euler(0.0, x_0, v_0, T, dt)\n",
    "\n",
    "# Analytical solutions for (x(t), v(t)) assuming x_0 = 1.0, v_0 = 0, t_0 = 0\n",
    "analytical_x = np.cos(np.sqrt(km)*t_data)\n",
    "analytical_v = -np.sqrt(km)*np.sin(np.sqrt(km)*t_data)\n",
    "\n",
    "plt.figure(figsize=(8,8))\n",
    "plt.subplot(211)\n",
    "plt.plot(t_data, x_data, label=\"numerical\")\n",
    "plt.plot(t_data, analytical_x,label=\"analytical\")\n",
    "plt.ylabel(\"Position\")\n",
    "plt.legend()\n",
    "plt.title(\"Position of the mass on spring\")\n",
    "\n",
    "plt.subplot(212)\n",
    "plt.plot(t_data, v_data, label=\"numerical\")\n",
    "plt.plot(t_data, analytical_v, label=\"analytical\")\n",
    "plt.ylabel(\"Velocity\")\n",
    "plt.xlabel(\"Time\")\n",
    "plt.legend()\n",
    "plt.title(\"Velocity of the mass on spring\")\n",
    "\n",
    "# Plot error in position as a function of time\n",
    "plt.figure()\n",
    "plt.plot(t_data, np.abs(x_data - analytical_x))\n",
    "plt.ylabel(\"$|x_i - x_{analytical}|$\")\n",
    "plt.xlabel(\"Time\")\n",
    "plt.title(\"Absolute error in position\")\n",
    "plt.show()"
   ]
  },
  {
   "cell_type": "markdown",
   "metadata": {},
   "source": [
    "### Exercise 1:\n",
    "\n",
    "The damped harmonic oscillator (DHO) satisfies the following differential equation:\n",
    "\n",
    "$$\\frac{d^2x}{dt^2}+\\frac{c}{m}\\frac{dx}{dt}+\\frac{k}{m}x = 0$$\n",
    "\n",
    "It differs from the previous example by the addition of the $(c/m) dx/dt$ term. Like we did above, we can unwrap this second-order ODE into two first-order ODEs using two separate variables $x(t)$ and $v(t)$\n",
    "\n",
    "\\begin{align}\n",
    "x' &= v \\\\\n",
    "v' &= -\\frac{c}{m}v - \\frac{k}{m}x\n",
    "\\end{align}\n",
    "\n",
    "1. Like in the example above, write down the update rules for $x_i$ and $v_i$. \n",
    "1. Then write some code to implement your rules to estimate a numerical solution for $x(t)$ and $v(t)$ for a given initial condition $x_0$ and $v_0$ (you can assume $t_0 = 0$ like above). \n",
    "1. Plot your results for $x(t)$ and $v(t)$ and make sure that they make sense. You may use the code in the example as a template.\n",
    "\n",
    "*Hint*: Recall that the qualitative behavior of the oscillator is different depending on the (dimensionless) value of the ratio \n",
    "\n",
    "$$\\frac{(c/m)^2}{k/m}$$\n",
    "\n",
    "So you should be able to see the effect of this by trying out different values for $c/m$ and $k/m$."
   ]
  },
  {
   "cell_type": "code",
   "execution_count": null,
   "metadata": {},
   "outputs": [],
   "source": [
    "# Code for Exercise 1"
   ]
  },
  {
   "cell_type": "markdown",
   "metadata": {},
   "source": [
    "## But wait...\n",
    "\n",
    "But you know that for a closed system, like the SHO, we actually have a special constraint on the system--the total energy (kinetic + potential) must be constant! So at every point of our solution, we should check whether this is true. How do we evaluate the total energy?\n",
    "\n",
    "$$E = T + U = \\frac{1}{2}mv^2 + \\frac{1}{2}kx^2$$\n",
    "\n",
    "Let's define a rescaled energy $\\tilde{E}$ as $(1/m)E$:\n",
    "\n",
    "$$\\tilde{E} = \\frac{1}{2}v^2 + \\frac{1}{2}\\frac{k}{m} x^2$$"
   ]
  },
  {
   "cell_type": "markdown",
   "metadata": {},
   "source": [
    "### Exercise 2:\n",
    "\n",
    "1. Copy the code from the example using the SHO above, in which we solved the SHO using the Euler Method. Add code to calculate the rescaled energy $\\tilde{E}_i$ for each time step.\n",
    "1. Plot $\\tilde{E}(t)$ vs. the time. Does the energy stay constant, fluctuate around some constant value, or does it diverge/decay?"
   ]
  },
  {
   "cell_type": "code",
   "execution_count": null,
   "metadata": {},
   "outputs": [],
   "source": [
    "# Code for Exercise 2"
   ]
  },
  {
   "cell_type": "markdown",
   "metadata": {},
   "source": [
    "## Euler-Cromer/Symplectic Euler Method\n",
    "\n",
    "There exists a way to keep the energy fluctuations from growing, using a just a slight variant of the update rules described above. This update rule is called the \n",
    "\n",
    "\\begin{align}\n",
    "v_i &= v_{i-1} + \\left(-\\frac{k}{m}x_{i-1}\\right)\\Delta t \\\\\n",
    "x_i &= x_{i-1} + v_{i} \\Delta t\n",
    "\\end{align}\n",
    "\n",
    "In this version, you use the approximate velocity at time $t_i$ instead of the velocity at time $t_{i-1}$ to calculate $x_i$."
   ]
  },
  {
   "cell_type": "markdown",
   "metadata": {},
   "source": [
    "### Exercise 3:\n",
    "\n",
    "1. Modify the code from Exercise 2 to instead implement the update rule in the Euler-Cromer method. You can either modify the it in-place or copy it to the cell below and modify it.\n",
    "1. Now run your code to calculate and plot $x(t)$, $v(t)$, and $\\tilde{E}(t)$. Does the energy stay constant, fluctuate around some constant value, or does it diverge/decay?"
   ]
  },
  {
   "cell_type": "code",
   "execution_count": null,
   "metadata": {},
   "outputs": [],
   "source": [
    "# Code for Exercise 3"
   ]
  },
  {
   "cell_type": "markdown",
   "metadata": {},
   "source": [
    "There are also higher order ODE integration schemes, like Runge-Kutta, which make better estimates of the change in $(x(t),v(t)...)$ between $t_{i-1}$ and $t_i$. The shortcoming of our simple method above is that we are typically using the value of the derivative ($x'$ or $v'$) at $t_i$ or $t_{i-1}$ as a subsitute for the derivative over the entire interval $(t_{i-1}, t_i)$. These higher order schemes try to make better estimates of the derivatives inside this interval to make a better estimate of $\\Delta x$ and $\\Delta v$."
   ]
  },
  {
   "cell_type": "markdown",
   "metadata": {},
   "source": [
    "## Visualizing Phase Space\n",
    "\n",
    "Here we generalize the use of the slope field above to visualize our error in the Euler method. The tool below is called a phase portrait and is ubiquitous in physics and mathematics, and students studying dynamical systems for their capstone projects may find it useful as a nice visualization. In the cell below, we examine the phase portrait of the SHO and study the numerical and analytical solutions. Before you run this cell, run the SHO example cell again with `x_0 = 1.0` and `v_0 = 0.0` so that `km`, `x_data`, and `v_data` are properly populated. "
   ]
  },
  {
   "cell_type": "code",
   "execution_count": null,
   "metadata": {},
   "outputs": [],
   "source": [
    "import numpy as np\n",
    "%matplotlib inline\n",
    "import matplotlib.pyplot as plt\n",
    "\n",
    "xvalues, yvalues = np.meshgrid(np.arange(min(x_data),max(x_data), 0.2), np.arange(min(v_data), max(v_data), 0.5))\n",
    "xdot = yvalues\n",
    "ydot = - km * xvalues\n",
    "\n",
    "plt.figure(figsize=(8,8))\n",
    "plt.streamplot(xvalues, yvalues, xdot, ydot)\n",
    "\n",
    "plt.plot(x_data[0],v_data[0],'go',markersize=8)\n",
    "plt.plot(x_data, v_data,color='r', label=\"numerical\")\n",
    "plt.plot(analytical_x, analytical_v, color='k', label=\"analytical\")\n",
    "plt.ylabel(\"Velocity\")\n",
    "plt.xlabel(\"Position\")\n",
    "plt.title(\"Phase Portrait\")\n",
    "plt.legend()\n",
    "plt.grid()\n",
    "plt.show()"
   ]
  },
  {
   "cell_type": "markdown",
   "metadata": {},
   "source": [
    "You can make phase portraits for just about any system! Here's a phase portrait for the DHO. How does the phase portrait change qualitatively, as you vary $c/m$ and $k/m$?"
   ]
  },
  {
   "cell_type": "code",
   "execution_count": null,
   "metadata": {},
   "outputs": [],
   "source": [
    "cm = 0.2 # c / m\n",
    "km = 0.3 # k / m\n",
    "\n",
    "xvalues, yvalues = np.meshgrid(np.arange(-3,3, 0.5), np.arange(-3,3, 0.5))\n",
    "xdot = yvalues\n",
    "ydot = - cm * yvalues - km * xvalues\n",
    "\n",
    "plt.figure(figsize=(8,8))\n",
    "plt.streamplot(xvalues, yvalues, xdot, ydot)\n",
    "\n",
    "plt.ylabel(\"Velocity\")\n",
    "plt.xlabel(\"Position\")\n",
    "plt.title(\"Phase Portrait\")\n",
    "plt.grid()\n",
    "plt.show()"
   ]
  },
  {
   "cell_type": "code",
   "execution_count": null,
   "metadata": {},
   "outputs": [],
   "source": []
  }
 ],
 "metadata": {
  "kernelspec": {
   "display_name": "Python 3",
   "language": "python",
   "name": "python3"
  },
  "language_info": {
   "codemirror_mode": {
    "name": "ipython",
    "version": 3
   },
   "file_extension": ".py",
   "mimetype": "text/x-python",
   "name": "python",
   "nbconvert_exporter": "python",
   "pygments_lexer": "ipython3",
   "version": "3.6.7"
  }
 },
 "nbformat": 4,
 "nbformat_minor": 1
}
