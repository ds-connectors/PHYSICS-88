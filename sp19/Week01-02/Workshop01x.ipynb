{
 "cells": [
  {
   "cell_type": "markdown",
   "metadata": {},
   "source": [
    "Your name here.  \n",
    "Your section number here.  "
   ]
  },
  {
   "cell_type": "markdown",
   "metadata": {},
   "source": [
    "# Workshop 1x (OPTIONAL): How to install a Python "
   ]
  },
  {
   "cell_type": "markdown",
   "metadata": {},
   "source": [
    "This notebook is an optional tutorial (contains no graded exercises) to instruct you in *how to install and run Python* on your own computer if you run Windows or Mac. If you run Linux, it is most likely already installed. This tutorial also contains a short guide on the text-based interface to the computer known as the \"command line\" which many programmers use almost exclusively when coding."
   ]
  },
  {
   "cell_type": "markdown",
   "metadata": {},
   "source": [
    "## Using Data Science JupyterHub"
   ]
  },
  {
   "cell_type": "markdown",
   "metadata": {},
   "source": [
    "The default environment for the course will be a web-based environment (Jupyter) hosted by the Data Science Initiative (datahub.berkeley.edu). Log in with your @berkeley credentials, or contact the instructors to create an account. "
   ]
  },
  {
   "cell_type": "markdown",
   "metadata": {},
   "source": [
    "## Installing Canopy"
   ]
  },
  {
   "cell_type": "markdown",
   "metadata": {},
   "source": [
    "You may also want to have python installed on your computer, so here are some instructions to do that. While the download and installation are running, feel free to continue on with the rest of the workshop. "
   ]
  },
  {
   "cell_type": "markdown",
   "metadata": {},
   "source": [
    "### Getting the download started\n",
    "\n",
    "Go to the Enthought Canopy website to [download the installer](https://store.enthought.com/downloads/#default) here. This course uses Python3 syntax, so make sure you install at least Python 3.5 environment (if necessary, you would be able to switch to 2.7 after the installation). Check that the operating system and 32/64 bit options at the top are correct before hitting download. The default options are probably good. If you're not sure whether your computer is 32-bit or 64-bit (most modern computers are 64-bit), here are directions to find out for [Windows](https://esupport.trendmicro.com/en-us/home/pages/technical-support/1038680.aspx), [Mac](http://www.chiefarchitect.com/support/article/KB-01230/determining-if-your-computer-is-32-bit-or-64-bit.html), and [Linux](http://www.howtogeek.com/198615/how-to-check-if-your-linux-system-is-32-bit-or-64-bit/).\n",
    "\n"
   ]
  },
  {
   "cell_type": "markdown",
   "metadata": {},
   "source": [
    "###  Creating an account\n",
    "\n",
    "While that's downloading, request an academic license to access all the features of Canopy. Go to [this page](https://store.enthought.com/#canopy-academic) and click \"Request your license\". Fill in your information to make an account. Once you've installed Canopy, you'll be able to \"Log in\" to access Canopy's suite \"Training on Demand\" tutorials along with various other features within the program."
   ]
  },
  {
   "cell_type": "markdown",
   "metadata": {},
   "source": [
    "### Installation\n",
    "\n",
    "Once the installer finishes downloading, installation should be straightforward. (This is one of the reasons we chose Canopy, after all.) Simply open the downloaded file and follow the default options. Once it's installed, open Canopy and once again follow the default options to set up your python environment. If you'd like more specific install instructions, Canopy has OS-specific guides here:\n",
    "* [Windows Installation](http://docs.enthought.com/canopy/quick-start/install_windows.html)\n",
    "* [Mac OSX Installation](http://docs.enthought.com/canopy/quick-start/install_macos.html)\n",
    "* [Linux Installation](http://docs.enthought.com/canopy/quick-start/install_linux.html)"
   ]
  },
  {
   "cell_type": "markdown",
   "metadata": {},
   "source": [
    "### Updating packages\n",
    "\n",
    "That should be about it! You can make sure everything is up to date by opening the \"Package Manager\" from the main Canopy window. Click \"Updates\" (in the left sidebar) and then \"Install All Updates\" in the bottom right. If there are several updates, it might take a while to finish. Leave that working in the background and check back on it later."
   ]
  },
  {
   "cell_type": "markdown",
   "metadata": {},
   "source": [
    "## The Terminal / Command Line / Shell"
   ]
  },
  {
   "cell_type": "markdown",
   "metadata": {},
   "source": [
    "You will find it useful to know some basics about the command line (aka terminal or shell) on your computer. The command line lets you navigate around your computer and perform tasks without any graphical user interface---just text. You don't need a mouse to use the command line, just your keyboard. With experience, some people find it faster to use command line tools than graphical tools to do certain things on their computer.\n",
    "\n",
    "So let's dive in! If you're on a Mac or Linux, find and open the Terminal. If you're on Windows, go to your start menu and type \"cmd\" (no quotes), then run it.\n",
    "\n",
    "You'll be faced with a prompt where you can type things in. Press `Enter` to execute whatever you've typed. Try typing these commands (in this order if you'd like!) to get a feel for your terminal. Type `ls` or `dir` occasionally as you change things to see how the contents of your folder have changed.\n",
    "\n",
    "See where you are\n",
    "    - On Mac/Linux:  pwd\n",
    "    - On Windows:    cd\n",
    "\n",
    "See what's in the current directory\n",
    "    - On Mac/Linux:  ls\n",
    "    - On Windows:    dir\n",
    "    \n",
    "Change directories (into the `Documents` directory, for instance)\n",
    "    - On Mac/Linux:  cd Documents\n",
    "    - On Windows:    cd Documents\n",
    "    \n",
    "Go back to the \"parent directory\"\n",
    "    - On Mac/Linux:  cd ..\n",
    "    - On Windows:    cd ..\n",
    "    \n",
    "Make a directory (the directory `fooDirectory`, for instance)\n",
    "    - On Mac/Linux:  mkdir fooDirectory\n",
    "    - On Windows:    mkdir fooDirectory\n",
    "\n",
    "Make another directory!\n",
    "    -                mkdir barDirectory\n",
    "    \n",
    "Move something (move `barDirectory` into `fooDirectory` directory, for instance)\n",
    "    - On Mac/Linux:  mv barDirectory fooDirectory\n",
    "    - On Windows:    move barDirectory fooDirectory\n",
    "\n",
    "Check the contents of a different directory\n",
    "    - On Mac/Linux:  ls fooDirectory\n",
    "    - On Windows:    dir fooDirectory\n",
    "    \n",
    "Change through multiple directories at once\n",
    "    - On Mac/Linux:  cd fooDirectory/barDirectory\n",
    "    - On Windows:    cd fooDirectory\\barDirectory\n",
    "        (notice different slash directions!)\n",
    "\n",
    "Go back to your \"home\" directory\n",
    "    - On Mac/Linux:  cd\n",
    "                or:  cd ~\n",
    "    - On Windows:    cd %userprofile%\n",
    "    \n",
    "Rename something (rename `fooDirectory` into `RenamedDir`, for instance)\n",
    "    - On Mac/Linux:  mv fooDirectory RenamedDir\n",
    "    - On Windows:    move fooDirectory RenamedDir\n",
    "\n",
    "Remove an empty directory (the directory `myDirectory`, for instance)\n",
    "    - On Mac/Linux:  rmdir fooDirectory/barDirectory\n",
    "    - On Windows:    rmdir fooDirectory\\barDirectory\n",
    "    \n",
    "Learn more about a command (the `cd` command, for instance)\n",
    "    - On Mac/Linux:  man cd\n",
    "    - On Windows:    cd /?\n",
    "\n",
    "Print the contents of a file to the terminal (`file.txt`, for instance)\n",
    "    - On Mac/Linux:  cat file.txt\n",
    "    - On Windows:    type file.txt"
   ]
  },
  {
   "cell_type": "markdown",
   "metadata": {},
   "source": [
    " - import numpy\n",
    " - import numpy as np\n",
    " - from numpy import linspace\n",
    " - from numpy import linspace as lp\n",
    " - from pylab import *\n",
    "\n",
    "\"Note that we imported all library definitions from pylab into the default namespace, and can use the functions directly instead of having to add the name or alias of the package:\"\n",
    "\n",
    "What is the default namespace?\n",
    " - essentially just the list of everything that we can access without using a '.'\n",
    " - see everything in the default namespace by running the command dir()"
   ]
  },
  {
   "cell_type": "code",
   "execution_count": null,
   "metadata": {
    "scrolled": true
   },
   "outputs": [],
   "source": [
    "dir()"
   ]
  },
  {
   "cell_type": "markdown",
   "metadata": {},
   "source": [
    "There are a bunch of things that we don't recognize, but we can start to see how this is working by defining a variable x"
   ]
  },
  {
   "cell_type": "code",
   "execution_count": null,
   "metadata": {},
   "outputs": [],
   "source": [
    "x = 20\n",
    "dir()"
   ]
  },
  {
   "cell_type": "markdown",
   "metadata": {},
   "source": [
    "The function print( ) is something that we can access without using a dot, where is that?  It is hidden in \\_\\_builtins__, and we can find it by looking in the namespace of \\_\\_builtins__ via dir(\\_\\_builtins__)"
   ]
  },
  {
   "cell_type": "code",
   "execution_count": null,
   "metadata": {},
   "outputs": [],
   "source": [
    "dir(__builtins__)"
   ]
  },
  {
   "cell_type": "markdown",
   "metadata": {},
   "source": [
    "This means that we can access 'print' using \\_\\_builtins__.print()  ."
   ]
  },
  {
   "cell_type": "code",
   "execution_count": null,
   "metadata": {},
   "outputs": [],
   "source": [
    "__builtins__.print('{:d} if this works'.format(1))"
   ]
  },
  {
   "cell_type": "markdown",
   "metadata": {},
   "source": [
    "You could also look in the namespace of \\_\\_builtins__.print by running dir(\\_\\_builtins__.print).  You can even look in the namespace of the variable x by running dir(x).\n",
    "\n",
    "What if we want to use other functions, for example linspace from numpy?  We get the functions in \\_\\_builtins__ automatically, but to get those from numpy we have to import it"
   ]
  },
  {
   "cell_type": "code",
   "execution_count": null,
   "metadata": {},
   "outputs": [],
   "source": [
    "import numpy\n",
    "dir()"
   ]
  },
  {
   "cell_type": "markdown",
   "metadata": {},
   "source": [
    "To see everything that is accessible via numpy.'xxxxx', look in the namespace of numpy"
   ]
  },
  {
   "cell_type": "code",
   "execution_count": null,
   "metadata": {},
   "outputs": [],
   "source": [
    "dir(numpy)"
   ]
  },
  {
   "cell_type": "code",
   "execution_count": null,
   "metadata": {},
   "outputs": [],
   "source": [
    "print('{:d} if this works'.format(1))\n",
    "linspace(0,5,1)"
   ]
  },
  {
   "cell_type": "markdown",
   "metadata": {},
   "source": [
    "Shows different behavior of '\\_\\_builtins__' and 'numpy'\n",
    "  - print and other functions in \\_\\_builtins__ are special because they can be accessed without using the prefix \\_\\_builtins__\n",
    "  - linspace shows the usual behavior – it's not listed in the dir() 'default namespace,' so we can't access it just by writing linspace.  Instead, we must use numpy.linspace"
   ]
  },
  {
   "cell_type": "markdown",
   "metadata": {},
   "source": [
    "Other import statements that we have used\n",
    "- import numpy as np\n",
    "- from numpy import *\n",
    "- from numpy import linspace\n",
    "- from numpy import linspace as lp\n",
    "\n",
    "You can run these commands and then use dir() to see what they put into the 'default namespace'\n",
    "\n",
    "The command\n",
    "%reset\n",
    "resets the namespace"
   ]
  },
  {
   "cell_type": "markdown",
   "metadata": {},
   "source": [
    "Why does the first cell below fail and the second one work?"
   ]
  },
  {
   "cell_type": "code",
   "execution_count": null,
   "metadata": {},
   "outputs": [],
   "source": [
    "%reset -f\n",
    "from numpy import *\n",
    "from math import *\n",
    "x = arange(0,10,1)\n",
    "cos(x)"
   ]
  },
  {
   "cell_type": "code",
   "execution_count": null,
   "metadata": {},
   "outputs": [],
   "source": [
    "%reset -f\n",
    "from math import *\n",
    "from numpy import *\n",
    "x = arange(0,10,1)\n",
    "cos(x)"
   ]
  },
  {
   "cell_type": "markdown",
   "metadata": {},
   "source": [
    "Some of the libraries that we've imported so far\n",
    " - math\n",
    " - numpy\n",
    " - matplotlib.pyplot\n",
    " - pylab\n",
    "\n",
    "Terminology:\n",
    "- 'math' in python is called a module, which python.org says \"is a file containing Python definitions and statements.\"  In the case of 'math,' this is a bunch of function definitions, and you get access to all of them by importing the module.   By running dir(math), you can see a list of all these functions\n",
    "- 'numpy' is generally referred to as a library, although 'library' is not a technical term in Python.  It is almost the same thing as a module, but sometimes you access individual functions from it (e.g. numpy.linspace) and sometimes whole modules (e.g. numpy.linalg).  You can import numpy and check its namespace via dir(numpy) to ensure that linspace and linalg are both in there.\n",
    "- 'matplotlib' is a library, and pyplot is a module within it"
   ]
  },
  {
   "cell_type": "code",
   "execution_count": null,
   "metadata": {},
   "outputs": [],
   "source": [
    "# An example from lecture shows how you can access a function from the module linalg\n",
    "import numpy as np\n",
    "m = np.ndarray(shape=(3,3),dtype=float)  # unitialized array\n",
    "m[0,:]=[1,2,3]\n",
    "m[1,:]=[4,5,6]\n",
    "m[2,:]=[7,8,9]\n",
    "print (m)\n",
    "\n",
    "np.linalg.det(m)"
   ]
  },
  {
   "cell_type": "markdown",
   "metadata": {},
   "source": [
    "What if you want to import only a specific module from a library?"
   ]
  },
  {
   "cell_type": "code",
   "execution_count": null,
   "metadata": {},
   "outputs": [],
   "source": [
    "%reset -f\n",
    "import matplotlib.pyplot as plt # how it's done in the first workbook\n",
    "import numpy.linalg as lg # analogous statement for the linalg module\n",
    "dir() "
   ]
  },
  {
   "cell_type": "markdown",
   "metadata": {},
   "source": [
    "Things that don't work or don't work as perhaps expected (try them and if they work check the default namespace)\n",
    " - import matplotlib.pyplot or import numpy.linalg\n",
    "     - functional alternative: from matplotlib import pyplot or from numpy import linalg\n",
    " - import numpy.linspace\n",
    "     - functional alternative: from numpy import linspace\n",
    " - import numpy.linspace as lp\n",
    "     - functional alternative: from numpy import linspace as lp"
   ]
  },
  {
   "cell_type": "markdown",
   "metadata": {},
   "source": [
    " - pylab is a \"convenience module\" that combines matplotlib.pyplot and numpy so that you don't have to import both of them (see what pylab gives you by checking its namespace)\n",
    " - https://matplotlib.org/faq/usage_faq.html#matplotlib-pyplot-and-pylab-how-are-they-related gives a summary of the difference between matplotlib, pyplot, and pylab"
   ]
  }
 ],
 "metadata": {
  "kernelspec": {
   "display_name": "Python 3",
   "language": "python",
   "name": "python3"
  },
  "language_info": {
   "codemirror_mode": {
    "name": "ipython",
    "version": 3
   },
   "file_extension": ".py",
   "mimetype": "text/x-python",
   "name": "python",
   "nbconvert_exporter": "python",
   "pygments_lexer": "ipython3",
   "version": "3.6.7"
  }
 },
 "nbformat": 4,
 "nbformat_minor": 1
}
