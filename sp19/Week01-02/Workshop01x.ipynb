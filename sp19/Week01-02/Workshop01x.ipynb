{
 "cells": [
  {
   "cell_type": "markdown",
   "metadata": {},
   "source": [
    "Your name here.  \n",
    "Your section number here.  "
   ]
  },
  {
   "cell_type": "markdown",
   "metadata": {},
   "source": [
    "# Workshop 1x (OPTIONAL): How to install a Python "
   ]
  },
  {
   "cell_type": "markdown",
   "metadata": {},
   "source": [
    "This notebook is an optional tutorial (contains no graded exercises) to instruct you in *how to install and run Python* on your own computer if you run Windows or Mac. If you run Linux, it is most likely already installed. This tutorial also contains a short guide on the text-based interface to the computer known as the \"command line\" which many programmers use almost exclusively when coding."
   ]
  },
  {
   "cell_type": "markdown",
   "metadata": {},
   "source": [
    "## Using Data Science JupyterHub"
   ]
  },
  {
   "cell_type": "markdown",
   "metadata": {},
   "source": [
    "The default environment for the course will be a web-based environment (Jupyter) hosted by the Data Science Initiative (datahub.berkeley.edu). Log in with your @berkeley credentials, or contact the instructors to create an account. "
   ]
  },
  {
   "cell_type": "markdown",
   "metadata": {},
   "source": [
    "## Installing Canopy"
   ]
  },
  {
   "cell_type": "markdown",
   "metadata": {},
   "source": [
    "You may also want to have python installed on your computer, so here are some instructions to do that. While the download and installation are running, feel free to continue on with the rest of the workshop. "
   ]
  },
  {
   "cell_type": "markdown",
   "metadata": {},
   "source": [
    "### Getting the download started\n",
    "\n",
    "Go to the Enthought Canopy website to [download the installer](https://store.enthought.com/downloads/#default) here. This course uses Python3 syntax, so make sure you install at least Python 3.5 environment (if necessary, you would be able to switch to 2.7 after the installation). Check that the operating system and 32/64 bit options at the top are correct before hitting download. The default options are probably good. If you're not sure whether your computer is 32-bit or 64-bit (most modern computers are 64-bit), here are directions to find out for [Windows](https://esupport.trendmicro.com/en-us/home/pages/technical-support/1038680.aspx), [Mac](http://www.chiefarchitect.com/support/article/KB-01230/determining-if-your-computer-is-32-bit-or-64-bit.html), and [Linux](http://www.howtogeek.com/198615/how-to-check-if-your-linux-system-is-32-bit-or-64-bit/).\n",
    "\n"
   ]
  },
  {
   "cell_type": "markdown",
   "metadata": {},
   "source": [
    "###  Creating an account\n",
    "\n",
    "While that's downloading, request an academic license to access all the features of Canopy. Go to [this page](https://store.enthought.com/#canopy-academic) and click \"Request your license\". Fill in your information to make an account. Once you've installed Canopy, you'll be able to \"Log in\" to access Canopy's suite \"Training on Demand\" tutorials along with various other features within the program."
   ]
  },
  {
   "cell_type": "markdown",
   "metadata": {},
   "source": [
    "### Installation\n",
    "\n",
    "Once the installer finishes downloading, installation should be straightforward. (This is one of the reasons we chose Canopy, after all.) Simply open the downloaded file and follow the default options. Once it's installed, open Canopy and once again follow the default options to set up your python environment. If you'd like more specific install instructions, Canopy has OS-specific guides here:\n",
    "* [Windows Installation](http://docs.enthought.com/canopy/quick-start/install_windows.html)\n",
    "* [Mac OSX Installation](http://docs.enthought.com/canopy/quick-start/install_macos.html)\n",
    "* [Linux Installation](http://docs.enthought.com/canopy/quick-start/install_linux.html)"
   ]
  },
  {
   "cell_type": "markdown",
   "metadata": {},
   "source": [
    "### Updating packages\n",
    "\n",
    "That should be about it! You can make sure everything is up to date by opening the \"Package Manager\" from the main Canopy window. Click \"Updates\" (in the left sidebar) and then \"Install All Updates\" in the bottom right. If there are several updates, it might take a while to finish. Leave that working in the background and check back on it later."
   ]
  },
  {
   "cell_type": "markdown",
   "metadata": {},
   "source": [
    "## The Terminal / Command Line / Shell"
   ]
  },
  {
   "cell_type": "markdown",
   "metadata": {},
   "source": [
    "You will find it useful to know some basics about the command line (aka terminal or shell) on your computer. The command line lets you navigate around your computer and perform tasks without any graphical user interface---just text. You don't need a mouse to use the command line, just your keyboard. With experience, some people find it faster to use command line tools than graphical tools to do certain things on their computer.\n",
    "\n",
    "So let's dive in! If you're on a Mac or Linux, find and open the Terminal. If you're on Windows, go to your start menu and type \"cmd\" (no quotes), then run it.\n",
    "\n",
    "You'll be faced with a prompt where you can type things in. Press `Enter` to execute whatever you've typed. Try typing these commands (in this order if you'd like!) to get a feel for your terminal. Type `ls` or `dir` occasionally as you change things to see how the contents of your folder have changed.\n",
    "\n",
    "See where you are\n",
    "    - On Mac/Linux:  pwd\n",
    "    - On Windows:    cd\n",
    "\n",
    "See what's in the current directory\n",
    "    - On Mac/Linux:  ls\n",
    "    - On Windows:    dir\n",
    "    \n",
    "Change directories (into the `Documents` directory, for instance)\n",
    "    - On Mac/Linux:  cd Documents\n",
    "    - On Windows:    cd Documents\n",
    "    \n",
    "Go back to the \"parent directory\"\n",
    "    - On Mac/Linux:  cd ..\n",
    "    - On Windows:    cd ..\n",
    "    \n",
    "Make a directory (the directory `fooDirectory`, for instance)\n",
    "    - On Mac/Linux:  mkdir fooDirectory\n",
    "    - On Windows:    mkdir fooDirectory\n",
    "\n",
    "Make another directory!\n",
    "    -                mkdir barDirectory\n",
    "    \n",
    "Move something (move `barDirectory` into `fooDirectory` directory, for instance)\n",
    "    - On Mac/Linux:  mv barDirectory fooDirectory\n",
    "    - On Windows:    move barDirectory fooDirectory\n",
    "\n",
    "Check the contents of a different directory\n",
    "    - On Mac/Linux:  ls fooDirectory\n",
    "    - On Windows:    dir fooDirectory\n",
    "    \n",
    "Change through multiple directories at once\n",
    "    - On Mac/Linux:  cd fooDirectory/barDirectory\n",
    "    - On Windows:    cd fooDirectory\\barDirectory\n",
    "        (notice different slash directions!)\n",
    "\n",
    "Go back to your \"home\" directory\n",
    "    - On Mac/Linux:  cd\n",
    "                or:  cd ~\n",
    "    - On Windows:    cd %userprofile%\n",
    "    \n",
    "Rename something (rename `fooDirectory` into `RenamedDir`, for instance)\n",
    "    - On Mac/Linux:  mv fooDirectory RenamedDir\n",
    "    - On Windows:    move fooDirectory RenamedDir\n",
    "\n",
    "Remove an empty directory (the directory `myDirectory`, for instance)\n",
    "    - On Mac/Linux:  rmdir fooDirectory/barDirectory\n",
    "    - On Windows:    rmdir fooDirectory\\barDirectory\n",
    "    \n",
    "Learn more about a command (the `cd` command, for instance)\n",
    "    - On Mac/Linux:  man cd\n",
    "    - On Windows:    cd /?\n",
    "\n",
    "Print the contents of a file to the terminal (`file.txt`, for instance)\n",
    "    - On Mac/Linux:  cat file.txt\n",
    "    - On Windows:    type file.txt"
   ]
  }
 ],
 "metadata": {
  "kernelspec": {
   "display_name": "Python 3",
   "language": "python",
   "name": "python3"
  },
  "language_info": {
   "codemirror_mode": {
    "name": "ipython",
    "version": 3
   },
   "file_extension": ".py",
   "mimetype": "text/x-python",
   "name": "python",
   "nbconvert_exporter": "python",
   "pygments_lexer": "ipython3",
   "version": "3.6.5"
  }
 },
 "nbformat": 4,
 "nbformat_minor": 1
}
