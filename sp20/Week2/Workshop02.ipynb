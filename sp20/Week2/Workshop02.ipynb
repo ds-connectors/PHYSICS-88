{
 "cells": [
  {
   "cell_type": "markdown",
   "metadata": {},
   "source": [
    "Your name here.  \n",
    "Your section number here. "
   ]
  },
  {
   "cell_type": "markdown",
   "metadata": {},
   "source": [
    "# Workshop 2: Control Structures"
   ]
  },
  {
   "cell_type": "markdown",
   "metadata": {},
   "source": [
    "**Submit this notebook to bCourses to receive a grade for this Workshop.**\n",
    "\n",
    "Please complete workshop activities in code cells in this iPython notebook. The activities titled **Practice** are purely for you to explore Python, and no particular output is expected. Some of them have some code written, and you should try to modify it in different ways to understand how it works. Although no particular output is expected at submission time, it is _highly_ recommended that you read and work through the practice activities before or alongside the exercises. However, the activities titled **Exercise** have specific tasks and specific outputs expected. Include comments in your code when necessary. Enter your name in the cell at the top of the notebook. \n",
    "\n",
    "**The workshop should be submitted on bCourses under the Assignments tab (both the .ipynb and .pdf files).**"
   ]
  },
  {
   "cell_type": "markdown",
   "metadata": {},
   "source": [
    "## Practice \n",
    "\n",
    "[Exercises start here](#exercises)"
   ]
  },
  {
   "cell_type": "markdown",
   "metadata": {},
   "source": [
    "### Loops and Lists"
   ]
  },
  {
   "cell_type": "markdown",
   "metadata": {},
   "source": [
    "In Python, we can create a list of things (integers, floats, strings, more lists...) using the following syntax:"
   ]
  },
  {
   "cell_type": "code",
   "execution_count": null,
   "metadata": {},
   "outputs": [],
   "source": [
    "#Make sure the elements of your list are separated by commas -- and don't forget the brackets!\n",
    "people = ['Rick', 'Morty', 'Beth', 'Summer', 'Jerry', 'Birdperson', 'Mr. Meeseeks']  \n",
    "some_numbers = [2, 3, 4.3, 9e3, 1/2]\n",
    "\n",
    "print(people, some_numbers)"
   ]
  },
  {
   "cell_type": "markdown",
   "metadata": {},
   "source": [
    "You can put a mix of whatever you want into a list, but we mostly only need lists of numbers in computational physics.  If we want to go through each thing in a list (things in lists are called _elements_), we can use a `for` loop.  Note that the first line with the word `for` has a colon at the end, and everything below it is indented."
   ]
  },
  {
   "cell_type": "code",
   "execution_count": null,
   "metadata": {},
   "outputs": [],
   "source": [
    "'''When Python sees a for loop, it will go through each element in a list (in order) and perform whatever\n",
    "   commands are on the indented lines.  Below, we see that he name of the list (people) is placed after the keyword \"in\".\n",
    "   The variable name (person) between the \"for\" and \"in\" keywords is assigned to the value of each element\n",
    "   as the loop goes through the list.'''\n",
    "   \n",
    "for person in people:\n",
    "    print(person)\n",
    "\n",
    "'''Here, the variable name (number) is assigned to each element of the list (some_numbers) successively.\n",
    "   In each iteration of the loop, the current value of number is squared and printed.'''\n",
    "for number in some_numbers:\n",
    "    print(number**2)"
   ]
  },
  {
   "cell_type": "markdown",
   "metadata": {},
   "source": [
    "We can grab a specific element of the list by referencing its index (the first element has an index of 0, the second is 1, the third is 2, etc.). "
   ]
  },
  {
   "cell_type": "code",
   "execution_count": null,
   "metadata": {},
   "outputs": [],
   "source": [
    "print(people[0], people[3], some_numbers[1])"
   ]
  },
  {
   "cell_type": "markdown",
   "metadata": {},
   "source": [
    "There's another really common way of going through lists in Python.  We'll use a `for` loop again, but this time we'll grab the elements by referencing indices.  To do this, we'll use the pre-defined `range(N)` which gives us a list of numbers from 0 to N - 1. <a id='range_syntax'></a>\n"
   ]
  },
  {
   "cell_type": "code",
   "execution_count": null,
   "metadata": {},
   "outputs": [],
   "source": [
    "#range(5) is equivalent to [0, 1, 2, 3, 4]\n",
    "for i in range(5):\n",
    "    print(i)"
   ]
  },
  {
   "cell_type": "code",
   "execution_count": null,
   "metadata": {},
   "outputs": [],
   "source": [
    "for i in range(5):\n",
    "    print(some_numbers[i])"
   ]
  },
  {
   "cell_type": "markdown",
   "metadata": {},
   "source": [
    "If you want to go through every element of a list using this `for x in range(N)` syntax, it's useful to know the length of the list."
   ]
  },
  {
   "cell_type": "code",
   "execution_count": null,
   "metadata": {},
   "outputs": [],
   "source": [
    "#len(list) returns the integer-valued length of the list\n",
    "for i in range(len(people)):\n",
    "    print(people[i])"
   ]
  },
  {
   "cell_type": "markdown",
   "metadata": {},
   "source": [
    "Another useful thing you can do is check if an element is in a list using the `in` keyword.  If the element is in the list, Python returns the Boolean value `True`.  If not, it returns `False`."
   ]
  },
  {
   "cell_type": "code",
   "execution_count": null,
   "metadata": {},
   "outputs": [],
   "source": [
    "'Squanchy' in people"
   ]
  },
  {
   "cell_type": "code",
   "execution_count": null,
   "metadata": {},
   "outputs": [],
   "source": [
    "'Morty' in people"
   ]
  },
  {
   "cell_type": "code",
   "execution_count": null,
   "metadata": {},
   "outputs": [],
   "source": [
    "'Squanchy' not in people"
   ]
  },
  {
   "cell_type": "markdown",
   "metadata": {},
   "source": [
    "### Conditional statements"
   ]
  },
  {
   "cell_type": "markdown",
   "metadata": {},
   "source": [
    "We can check if two things are equivalent using `==` (equal to) in Python."
   ]
  },
  {
   "cell_type": "code",
   "execution_count": null,
   "metadata": {},
   "outputs": [],
   "source": [
    "5 == 5"
   ]
  },
  {
   "cell_type": "code",
   "execution_count": null,
   "metadata": {},
   "outputs": [],
   "source": [
    "5 == 4"
   ]
  },
  {
   "cell_type": "markdown",
   "metadata": {},
   "source": [
    "If they are equivalent, the expression returns `True`, otherwise it returns `False`.  We can then use these `True` and `False` expressions to write something called an `if` statement.  \n",
    "\n",
    "The syntax of an `if` statement is `if conditional:` where `conditional` is some expression that will either be `True` or `False`.  The (indented) code below an `if` statement will only run if the **conditional expression** is `True`.  For example, run the code below with two equal numbers and then two different numbers."
   ]
  },
  {
   "cell_type": "code",
   "execution_count": null,
   "metadata": {},
   "outputs": [],
   "source": [
    "if 5 == 5:\n",
    "    print(\"This is true\")"
   ]
  },
  {
   "cell_type": "markdown",
   "metadata": {},
   "source": [
    "We also have the option of adding an `else` statement *after* any `if` statement.  The (indented) code below an `else` statement will only run if the conditional expression of the `if` statement is `False`."
   ]
  },
  {
   "cell_type": "code",
   "execution_count": null,
   "metadata": {},
   "outputs": [],
   "source": [
    "if 5 == 4:\n",
    "    print(\"This is true\")\n",
    "else:\n",
    "    print(\"This is false\")"
   ]
  },
  {
   "cell_type": "markdown",
   "metadata": {},
   "source": [
    "There's also something called an `else if` statement, written as `elif` in Python code.  But first, let's look at a few more ways we can compare things using `<` (less than), `>` (greater than), `<=` (less than or equal to), `>=` (greater than or equal to), and `!=` (not equal to).  All of these comparisons return either `True` or `False`."
   ]
  },
  {
   "cell_type": "code",
   "execution_count": null,
   "metadata": {},
   "outputs": [],
   "source": [
    "5 < 4"
   ]
  },
  {
   "cell_type": "code",
   "execution_count": null,
   "metadata": {},
   "outputs": [],
   "source": [
    "5 > 4"
   ]
  },
  {
   "cell_type": "code",
   "execution_count": null,
   "metadata": {},
   "outputs": [],
   "source": [
    "5 >= 6"
   ]
  },
  {
   "cell_type": "code",
   "execution_count": null,
   "metadata": {},
   "outputs": [],
   "source": [
    "5 <= 5"
   ]
  },
  {
   "cell_type": "code",
   "execution_count": null,
   "metadata": {},
   "outputs": [],
   "source": [
    "5 != 6"
   ]
  },
  {
   "cell_type": "markdown",
   "metadata": {},
   "source": [
    "Alright, so suppose we want to compare the number `a` to multiples of the number `b`.  I'm not sure why we'd want to do this, but it's a good way to demonstrate `elif` statements.  If we just write a bunch of `if` statements, it's possible that all of them are `True`."
   ]
  },
  {
   "cell_type": "code",
   "execution_count": null,
   "metadata": {},
   "outputs": [],
   "source": [
    "a = 5\n",
    "b = 6\n",
    "\n",
    "if a < b:\n",
    "  print(\"{} is less than {}\".format(a, b))\n",
    "\n",
    "if a < 2*b:\n",
    "  print(\"{} is less than 2*{}\".format(a, b))\n",
    "\n",
    "if a < 3*b:\n",
    "  print(\"{} is less than 3*{}\".format(a, b))"
   ]
  },
  {
   "cell_type": "markdown",
   "metadata": {},
   "source": [
    "If we only want one thing to be printed, we can use `elif` statements after the first `if` statement -- you always need to start with an `if` statement.  The syntax is `elif conditional:`, followed by some indented code that runs if the conditional expression is `True`.  The difference: once an `elif` (or the first `if`) conditional expression is `True`, the following `elif` statements and their code are ignored."
   ]
  },
  {
   "cell_type": "code",
   "execution_count": null,
   "metadata": {},
   "outputs": [],
   "source": [
    "a = 5\n",
    "b = 4\n",
    "\n",
    "if a < b:  #False, Python moves on to the next elif statement\n",
    "  print(\"{} is less than {}\".format(a, b))\n",
    "\n",
    "elif a < 2*b: #True, Python runs the indented code below\n",
    "  print(\"{} is less than 2*{}\".format(a, b))\n",
    "\n",
    "elif a < 3*b: #The above elif statement was True, so this is ignored\n",
    "  print(\"{} is less than 3*{}\".format(a, b))"
   ]
  },
  {
   "cell_type": "markdown",
   "metadata": {},
   "source": [
    "You can put as many `elif` statements as you'd like after the first `if` statement.  As always, you're free to throw on an `else` statement at the end."
   ]
  },
  {
   "cell_type": "code",
   "execution_count": null,
   "metadata": {},
   "outputs": [],
   "source": [
    "a = 5\n",
    "b = 1\n",
    "\n",
    "if a < b:  #False, move on to the next one\n",
    "  print(\"{} is less than {}\".format(a, b))\n",
    "\n",
    "elif a < 2*b:  #False, move on to the next one\n",
    "  print(\"{} is less than 2*{}\".format(a, b))\n",
    "\n",
    "elif a < 3*b:  #False, move on to the next one\n",
    "  print(\"{} is less than 3*{}\".format(a, b))\n",
    "\n",
    "else:  #If all the above if and elif conditionals are False, then we run the indented code below\n",
    "  print(\"Everything above the else statement is False\")"
   ]
  },
  {
   "cell_type": "markdown",
   "metadata": {},
   "source": [
    "### Combining Loops and Conditionals"
   ]
  },
  {
   "cell_type": "markdown",
   "metadata": {},
   "source": [
    "Sometimes we want to go through the elements of a list and do something only if a certain condition is met.  In this case, we'll want to combine `if` statements with `for` loops."
   ]
  },
  {
   "cell_type": "code",
   "execution_count": null,
   "metadata": {},
   "outputs": [],
   "source": [
    "people = ['Rick', 'Morty', 'Beth', 'Summer', 'Jerry', 'Birdperson', 'Mr. Meeseeks']\n",
    "\n",
    "for name in people:\n",
    "    if name == 'Mr. Meeseeks':\n",
    "        print(\"I'm {}, look at me!!!\".format(name))\n",
    "    else:\n",
    "        print(\"Hi, I'm {}\".format(name))"
   ]
  },
  {
   "cell_type": "markdown",
   "metadata": {},
   "source": [
    "For a more practical example, suppose we want to only print the even numbers in a list."
   ]
  },
  {
   "cell_type": "code",
   "execution_count": null,
   "metadata": {},
   "outputs": [],
   "source": [
    "numbers = [3, 4, 11, 2, 7]\n",
    "\n",
    "for number in numbers:\n",
    "    if (number % 2) == 0:  #The % (modulus) operator gives the remainder after integer division; a number is even if it has a remainder of 0 after division by 2\n",
    "        print(number)"
   ]
  },
  {
   "cell_type": "markdown",
   "metadata": {},
   "source": [
    "Now suppose we want to create two new lists containing the even and odd numbers.  We can use `.append()` to add things to an existing list."
   ]
  },
  {
   "cell_type": "code",
   "execution_count": null,
   "metadata": {},
   "outputs": [],
   "source": [
    "even_numbers = []  #Create an empty list\n",
    "odd_numbers = []\n",
    "\n",
    "for number in numbers:\n",
    "    if (number % 2) == 0:            # If the number is even,\n",
    "        even_numbers.append(number)  # put it in the even list\n",
    "    else:                            # otherwise\n",
    "        odd_numbers.append(number)   # put it in the odd list\n",
    "        \n",
    "print(even_numbers)\n",
    "print(odd_numbers)"
   ]
  },
  {
   "cell_type": "markdown",
   "metadata": {},
   "source": [
    "<a id='exercises'></a>\n",
    "## Exercises\n",
    "\n",
    "Write your solutions to these exercises in code cells in this notebook, and submit your finished notebook to bCourses.\n",
    "\n",
    "In your file, separate and label each solution with a comment or a markdown cell marking the exercise.\n",
    "\n",
    "Here are the exercises. Each one will require you to use conditionals, loops, and/or list comprehensions to solve a problem and print a solution. Many of these programs are short and don't require much if any commenting to explain them. For longer or trickier solutions, however, comments may be appropriate to make your code and thought process clear. Use your best judgment.\n",
    "\n"
   ]
  },
  {
   "cell_type": "markdown",
   "metadata": {},
   "source": [
    "### Short Conditional and Loop Exercises\n",
    "\n",
    "**Exercise 1** Write a program that prints multiples of 5 which are evenly divisible by 7 (zero remainder after division), between 1500 and 2700 (both included). \n",
    "\n",
    "Hint: Try seeing what `range(10, 30)` and `range(10, 30, 4)` gives you; remember [this](#range_syntax) `for i in range(...)` syntax."
   ]
  },
  {
   "cell_type": "code",
   "execution_count": null,
   "metadata": {},
   "outputs": [],
   "source": [
    "#The for loop below prints numbers between 10 (inclusive) and 30 (exclusive), skipping by 4's\n",
    "for i in range(10, 30, 4):\n",
    "    print(i)\n",
    "#Try using something similar, but use an 'if' statement to also check if the number is evenly divisible by 7 before printing\n",
    "\n",
    "#Your code here"
   ]
  },
  {
   "cell_type": "markdown",
   "metadata": {},
   "source": [
    "**Exercise 2** Write a Python program to construct the following pattern, using a `for` loop.\n",
    "\n",
    "    * \n",
    "    * * \n",
    "    * * * \n",
    "    * * * * \n",
    "    * * * * * \n",
    "    * * * * * *\n"
   ]
  },
  {
   "cell_type": "code",
   "execution_count": null,
   "metadata": {},
   "outputs": [],
   "source": [
    "star = '* '\n",
    "\n",
    "print(1*star)\n",
    "print(2*star)\n",
    "print(3*star)\n",
    "\n",
    "\n",
    "\n",
    "#Now try automating this printing process using a for loop\n",
    "#Your code here"
   ]
  },
  {
   "cell_type": "markdown",
   "metadata": {},
   "source": [
    "**Exercise 3** Use a `for` loop to reverse the string `'!scisyhP'` (don't just use `'!scisyhP'[::-1]`), and print the result.  Remember you can think of a string as a list of characters."
   ]
  },
  {
   "cell_type": "code",
   "execution_count": null,
   "metadata": {},
   "outputs": [],
   "source": [
    "string = '!scisyhP'\n",
    "\n",
    "new_string = ''  #This is just an empty string\n",
    "new_string = new_string + string[7] + string[6] + string[5]  #I can add characters to my empty string using the index number of each character \n",
    "print(new_string)\n",
    "\n",
    "#Now try automating this reversal process using a for loop\n",
    "#Your code here"
   ]
  },
  {
   "cell_type": "markdown",
   "metadata": {},
   "source": [
    "**Exercise 4** Write a program to count the number of even and odd numbers in the list `numbers = [1, 2, 3, 4, 5, 6, 7, 8, 9]`.\n",
    "Expected Output : \n",
    "        \n",
    "    Number of even numbers : 4\n",
    "    Number of odd numbers : 5"
   ]
  },
  {
   "cell_type": "code",
   "execution_count": null,
   "metadata": {},
   "outputs": [],
   "source": [
    "numbers = [1, 2, 3, 4, 5, 6, 7, 8, 9] \n",
    "\n",
    "#Use these variables to store the number of even and odd numbers\n",
    "number_even = 0\n",
    "number_odd  = 0\n",
    "\n",
    "for number in numbers:\n",
    "    print(number)\n",
    "    #Now using an if/else statement, check if each number is even or odd, and update the corresponding variable\n",
    "    \n",
    "print(\"Number of even numbers : {}\".format(number_even))\n",
    "print(\"Number of odd numbers : {}\".format(number_odd))"
   ]
  },
  {
   "cell_type": "markdown",
   "metadata": {},
   "source": [
    "**Exercise 5** Write a program that prints all the numbers from 0 to 6 except 3 and 6. Use the `continue` statement.  When using a loop in Python, if the `continue` statement is reached, Python then skips to the next iteration of the loop."
   ]
  },
  {
   "cell_type": "code",
   "execution_count": null,
   "metadata": {},
   "outputs": [],
   "source": [
    "#Example: only print odd numbers from 1 to 10\n",
    "for number in range(1,11):\n",
    "    if number % 2 == 0:  #if this is True (i.e. number is even),\n",
    "        continue         #then skip to the next iteration of the loop\n",
    "\n",
    "    print(number)        #the number is only printed when the continue statement is not reached"
   ]
  },
  {
   "cell_type": "code",
   "execution_count": null,
   "metadata": {},
   "outputs": [],
   "source": [
    "#Your code here"
   ]
  },
  {
   "cell_type": "markdown",
   "metadata": {},
   "source": [
    "**Exercise 6: Fibonacci Sequence**\n",
    "The Fibonacci sequence is a sequence of integers defined by the following recursion relation. The $n$-th integer $a_n$ is defined in terms of previous integers of the sequence as\n",
    "\n",
    "$$a_n = a_{n-1} + a_{n-2}$$\n",
    "\n",
    "and $a_0 = 0$ and $a_1 = 1$. So the first few numbers are 0, 1, 1, 2, 3, 5, 8, 13, 21, .... Write a program to print the first 10 numbers in the Fibonacci series. Expected output:\n",
    "    \n",
    "    0 1 1 2 3 5 8 13 21 34\n",
    "Hint: Two (or more) variables can be assigned simultaneously. For instance, to swap the values of `a` and `b`, you can write `a, b = b, a`."
   ]
  },
  {
   "cell_type": "code",
   "execution_count": null,
   "metadata": {},
   "outputs": [],
   "source": [
    "a0 = 0\n",
    "a1 = 1\n",
    "a2 = a0 + a1\n",
    "a3 = a1 + a2\n",
    "print(a0, a1, a2, a3)\n",
    "\n",
    "\n",
    "#It's tedious typing out these summations; try automating this process using a for loop\n",
    "#Your code here"
   ]
  },
  {
   "cell_type": "markdown",
   "metadata": {},
   "source": [
    "**Exercise 7** Write a program which takes two digits m (row) and n (column) and generates a two dimensional array. The element value in the i-th row and j-th column of the array should be i\\*j. Print this array.\n",
    "(Note: i = 0,1.., m-1 and j = 0,1, n-1.) Start with this code for a 3x4 array:\n",
    "    \n",
    "Expected output:\n",
    "    \n",
    "    [[0, 0, 0, 0], [0, 1, 2, 3], [0, 2, 4, 6]]\n",
    "Hint: You may use a nested `for` loops (a `for` loop inside another `for` loops) or look up \"nested list comprehension\"."
   ]
  },
  {
   "cell_type": "code",
   "execution_count": null,
   "metadata": {},
   "outputs": [],
   "source": [
    "m = 3 # number of rows\n",
    "n = 4 # number of columns\n",
    "\n",
    "my_array = []\n",
    "\n",
    "#Your code here; try using a for loop over range(n) inside a for loop over range(m)\n",
    "\n",
    "print(my_array)"
   ]
  },
  {
   "cell_type": "markdown",
   "metadata": {},
   "source": [
    "## Exercise 8: Sinc Function\n",
    "\n",
    "[Adapted from Ayaras, Problem 1-4] The mathematical function $\\text{sinc}(x)$ appears when deriving the theory for [double-slit experiments](https://en.wikipedia.org/wiki/Double-slit_experiment).\n",
    "\n",
    "$$ \\text{sinc}(x) \\equiv \\frac{\\sin x}{x} $$\n",
    "\n",
    "Write a python function for Make sure that your function handles $x=0$ correctly. Type your code in a code cell in this iPython notebook. You can use the template below to get started."
   ]
  },
  {
   "cell_type": "markdown",
   "metadata": {},
   "source": [
    "Once you are happy with your function, write code to plot it. Use `numpy.linspace` to generate 1001 $x$ values between -50 and 50 (inclusive), and use your `sinc` function to generate corresponding $y$ values. Then plot the results on a new figure with appropriate limits and labels."
   ]
  },
  {
   "cell_type": "markdown",
   "metadata": {},
   "source": [
    "#### Hint\n",
    "\n",
    "At $x=0$, $\\text{sinc}(x)$ should give the value of $\\lim_{x \\to 0} \\frac{\\sin x}{x}$ so that the function is continuous.  You'll probably used an if statement in your definition of $\\text{sinc}(x)$, so be careful when finding the y values to make the plot.  Doing something like `y_values = sinc(x_values)` won't work in this case, so you'll need to evaluate each element of `x_values` individually."
   ]
  },
  {
   "cell_type": "code",
   "execution_count": null,
   "metadata": {},
   "outputs": [],
   "source": [
    "import numpy as np\n",
    "import matplotlib.pyplot as plt\n",
    "\n",
    "def sinc(x):\n",
    "    \"\"\" Takes a real number x and returns the continuous function\n",
    "        sinc(x) = sin(x)/x. \"\"\"\n",
    "\n",
    "    # Your code here!\n",
    "\n",
    "x_values = np.linspace(-50, 50, 1001)\n",
    "\n",
    "'''y_values = sinc(x_values) would give an error; numpy arrays don't play nicely with conditional statements\n",
    "   Instead, we have to fill a list of y_values one element at a time.'''\n",
    "\n",
    "y_values = []\n",
    "\n",
    "for x in x_values:\n",
    "    y = sinc(x)\n",
    "    y_values.append(y)\n",
    "    \n",
    "# Plotting the sinc function\n",
    "\n",
    "# Your code here!\n"
   ]
  },
  {
   "cell_type": "markdown",
   "metadata": {},
   "source": [
    "#### Just for fun\n",
    "\n",
    "The `numpy` library also includes a `sinc(x)` function. If you plot it, you'll find that it has the same general shape as yours, but different intercepts. Why is this? Type \"numpy.sinc?\" into your interpreter or Google something like \"numpy sinc\" to find out!"
   ]
  },
  {
   "cell_type": "markdown",
   "metadata": {},
   "source": [
    "## Exercise 9: Prime Numbers\n",
    "\n",
    "[Adapted from Ayars, Problem 1-6] Write a function called `is_prime(n)` that determines whether a number `n` is prime or not, and returns either `True` or `False` accordingly. You can assume that the argument `n` passed to any of your functions will be an integer. Remember to include descriptive doc strings for each function your write!"
   ]
  },
  {
   "cell_type": "markdown",
   "metadata": {},
   "source": [
    "Then, write a function called `list_primes(n)` that uses a `for` loop and returns a list of all primes below a given number.  For fun, you can also try writing this function using a `while` loop and/or list comprehension.\n",
    "\n",
    "(Note: If you accidentally find yourself in an infinite loop, press Control+C or use the Kernel->Interrupt to get out.)"
   ]
  },
  {
   "cell_type": "markdown",
   "metadata": {},
   "source": [
    "Remember to try various test cases: What if the argument passed to `is_prime` or `list_primes` is ...\n",
    "- 20\n",
    "- 2\n",
    "- 1\n",
    "- 0\n",
    "- negative"
   ]
  },
  {
   "cell_type": "markdown",
   "metadata": {},
   "source": [
    "#### Hint\n",
    "\n",
    "Use your `is_prime` function in your various `list_primes` functions so you don't have to rewrite it each time!"
   ]
  },
  {
   "cell_type": "code",
   "execution_count": null,
   "metadata": {},
   "outputs": [],
   "source": [
    "def is_prime(n):\n",
    "    \"\"\" Determines if n is prime or not. Takes an integer n.\n",
    "    Returns True if n is prime, and False otherwise. \"\"\"\n",
    "    # Your code here!\n",
    "    \n",
    "def list_primes(n):\n",
    "    \"\"\" Takes an integer n. Returns a list of all primes\n",
    "    less than n, using a for loop \"\"\"\n",
    "    # Your code here! "
   ]
  },
  {
   "cell_type": "markdown",
   "metadata": {},
   "source": [
    "#### Just for fun\n",
    "If you're curious about (much!) more efficient ways to find primes, check out Newman problem 2.12. Try it out if you'd like!"
   ]
  },
  {
   "cell_type": "markdown",
   "metadata": {},
   "source": [
    "## Practice: Debugging (Optional)\n",
    "\n",
    "[Partly adapted from Langtangen, Exercise 2.55, 2.56]\n",
    "\n",
    "Working alone or with a partner, run each program exactly as you see it and note the errors you get. Figure out why these programs fail and correct the errors. Run your revised programs to make sure they work.\n",
    "\n",
    "*Note: Besides demonstrating errors, some of these programs also demonstrate generally bad coding practices. Try not to emulate these examples in your own code.*\n",
    "\n",
    "**Program 1:**"
   ]
  },
  {
   "cell_type": "code",
   "execution_count": null,
   "metadata": {},
   "outputs": [],
   "source": [
    "def f(x)\n",
    "    return 1+x**2;"
   ]
  },
  {
   "cell_type": "markdown",
   "metadata": {},
   "source": [
    "**Program 2:**"
   ]
  },
  {
   "cell_type": "code",
   "execution_count": null,
   "metadata": {},
   "outputs": [],
   "source": [
    "def f(x):\n",
    "     term1 = 1\n",
    "    term2 = x**2\n",
    "    return term1 + term2"
   ]
  },
  {
   "cell_type": "markdown",
   "metadata": {},
   "source": [
    "**Program 3:** Run the code below, then Google something like \"python list copy\" or check out [this page](https://stackoverflow.com/questions/2612802/how-to-clone-or-copy-a-list-in-python) to learn how to fix it. "
   ]
  },
  {
   "cell_type": "code",
   "execution_count": null,
   "metadata": {},
   "outputs": [],
   "source": [
    "old_list = [5, 2.0, 'hi', ('bye', 'bye')]\n",
    "    \n",
    "new_list = old_list\n",
    "new_list[0] = 11\n",
    "\n",
    "print(new_list)\n",
    "print(old_list)  # but I didn't want the old list to change!"
   ]
  },
  {
   "cell_type": "markdown",
   "metadata": {},
   "source": [
    "## You're done!\n",
    "\n",
    "Congratulations, you've finished this week's workshop! You're welcome to leave early or get started on this week's homework."
   ]
  },
  {
   "cell_type": "markdown",
   "metadata": {
    "collapsed": true
   },
   "source": [
    "---------------\n",
    "\n",
    "*\"Conditional and Loop Exercises\" in this workshop adapted from [w3resource.com](http://www.w3resource.com/python-exercises/python-conditional-statements-and-loop-exercises.php)*"
   ]
  }
 ],
 "metadata": {
  "kernelspec": {
   "display_name": "Python 3",
   "language": "python",
   "name": "python3"
  },
  "language_info": {
   "codemirror_mode": {
    "name": "ipython",
    "version": 3
   },
   "file_extension": ".py",
   "mimetype": "text/x-python",
   "name": "python",
   "nbconvert_exporter": "python",
   "pygments_lexer": "ipython3",
   "version": "3.7.4"
  }
 },
 "nbformat": 4,
 "nbformat_minor": 1
}
