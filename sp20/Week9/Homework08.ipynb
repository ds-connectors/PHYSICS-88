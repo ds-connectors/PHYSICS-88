{
 "cells": [
  {
   "cell_type": "markdown",
   "metadata": {
    "collapsed": true
   },
   "source": [
    "# Homework 8: Numerical Integration and Differentiation"
   ]
  },
  {
   "cell_type": "markdown",
   "metadata": {},
   "source": [
    "##### ** Submit this notebook to bourses to receive a credit for this assignment. **\n",
    "\n",
    "Please complete this homework assignment in code cells in the iPython notebook. Please submit both a PDF of the jupyter notebook to bcourses and the notebook itself (.ipynb file).  Note, that when saving as PDF you don't want to use the option with latex because it crashes, but rather the one to save it directly as a PDF."
   ]
  },
  {
   "cell_type": "markdown",
   "metadata": {},
   "source": [
    "## Problem 1: Numerical integration [Ayars 2.2]\n",
    "\n",
    "Compare results of the trapezoid integration method,  Simpson’s method, and the adaptive Gaussian quadrature method for the following integrals:\n",
    "\n",
    "1. $$\\int_0^{\\pi/2}\\cos x\\, dx $$\n",
    "1. $$\\int_1^3 \\frac{1}{x^2}\\, dx $$\n",
    "1. $$\\int_2^4 (x^2+x+1)\\, dx$$\n",
    "1. $$\\int_0^{6.9}\\cos\\left(\\frac{\\pi}{2}x^2\\right)\\, dx$$\n",
    "\n",
    "For each part, try it with more and with fewer slices to determine how many slices are required to give an ‘acceptable’ answer. (If you double the number of slices and still get the same answer, then try half as many, etc.) Parts (3) and (4) are particularly interesting in this regard. In your submitted work, describe roughly how many points were required, and explain."
   ]
  },
  {
   "cell_type": "code",
   "execution_count": null,
   "metadata": {},
   "outputs": [],
   "source": [
    "import numpy as np\n",
    "import scipy.integrate\n",
    "import matplotlib.pyplot as plt\n",
    "\n",
    "'''The best way to \"explain\" how many slices/points are needed to get an acceptable answer is to just\n",
    "   make plots of the fractional error vs number of slices.  The fractional error is defined as \n",
    "   abs(estimate - exact)/exact, where \"estimate\" is the value of the integral using one of these three\n",
    "   integration methods and \"exact\" is the analytical value of the integral (by hand or using WolframAlpha).\n",
    "   If you do everything correctly, you should find that the fractional error approaches 0 as you increase\n",
    "   the number of slices.'''"
   ]
  },
  {
   "cell_type": "markdown",
   "metadata": {},
   "source": [
    "## Problem 2: Numerical differentiation [Ayars 2.8]\n",
    "\n",
    "Write a function that, given a list of x-values $x_i$ and function values $f_i(x_i)$, returns a list of values of the second derivative $f''(x_i)$ of the function. Test your function by giving it a list of known function values for $\\sin(x)$ and making a graph of the differences between the output of the function and $−\\sin(x)$. Compare your output to Python's *scipy.misc.derivative*"
   ]
  },
  {
   "cell_type": "code",
   "execution_count": null,
   "metadata": {},
   "outputs": [],
   "source": [
    "import numpy as np\n",
    "import matplotlib.pyplot as plt\n",
    "from scipy.misc import derivative\n",
    "\n",
    "x_values = np.linspace(0, 2*np.pi, 1000)\n",
    "function_values = np.sin(x_values)\n",
    "plt.plot(x_values, function_values)\n",
    "plt.show()\n",
    "\n",
    " \n",
    "def second_derivative(x_values, function_values):\n",
    "    '''Write your function to calculate and return\n",
    "       the values of the second derivative.  You can think\n",
    "       of it as two first-order derivatives, or see\n",
    "       \"higher order differences\" on this wiki page:\n",
    "       https://en.wikipedia.org/wiki/Finite_difference'''\n",
    "    \n",
    "# Compare your second derivative values to both the exact answer and scipy.misc.derivative (with n = 2)"
   ]
  },
  {
   "cell_type": "markdown",
   "metadata": {},
   "source": [
    "## Problem 3: MC integration [similar to Ayars 6.2, Newman 10.7 ]\n",
    "\n",
    "The “volume” of a 2-sphere $x^2 + y^2 \\le r^2$ (aka “circle”) is $(1)\\pi r^2$. The volume of a 3-sphere $x^2 + y^2 + z^2 \\le r^2$ is $(\\frac{4}{3}) \\pi r^3$. The equation for an N-sphere is $x_1^2 +x_2^2 +x_3^2 + ... + x_N^2 \\le r^2$ (where $x_i$ are spatial coordinates in $N$ dimensions). We can guess, by induction from the 2-dimensional and 3-dimensional cases, that the “volume” of an N-sphere is $\\alpha_N\\pi r^N$. Write a function that uses Monte Carlo integration to estimate $\\alpha_N$ and its uncertainty for a fixed $N$. Graph $\\alpha_N$ with its uncertainty as a function of $N$ for $N=4$ ... $10$. "
   ]
  },
  {
   "cell_type": "markdown",
   "metadata": {},
   "source": [
    "First, here's the standard import statements and some plotting parameters."
   ]
  },
  {
   "cell_type": "code",
   "execution_count": null,
   "metadata": {},
   "outputs": [],
   "source": [
    "import numpy as np\n",
    "import matplotlib.pyplot as plt\n",
    "plt.rcParams['figure.figsize'] = 10, 5\n",
    "plt.rcParams['font.size'] = 14"
   ]
  },
  {
   "cell_type": "markdown",
   "metadata": {},
   "source": [
    "If you're having trouble getting started, we did the $N = 2$ case in Workshop 7.  To use this method of MC integration, start by generating a large number (something like $10000$) of points randomly scattered in some region of $N-$dimensional space.  I say \"some region\", because you may choose to sample points from the range $(0,1)$ or the range $(-1, 1)$ along each dimension.  I prefer to use `np.random.rand()`, which samples uniformly from the range $(0,1)$ and scale things appropriately (this choice of range required us to multiply by $4$ to estimate $\\pi$ in WS7).\n",
    "\n",
    "Then you just need to count up the number of these random points that satisfy the $N-$sphere condition given above (it's easiest just to take $r=1$).  The fraction of points within the $N-$sphere can be used to estimate $\\alpha_N$.  You could repeat this procedure many times to estimate the uncertainty in each $\\alpha_N$ or you may find it faster to an analytical formula for the error."
   ]
  },
  {
   "cell_type": "code",
   "execution_count": null,
   "metadata": {},
   "outputs": [],
   "source": [
    "# It's probably easiest to write a function that finds alpha and its error for a given N\n",
    "# Then go through values of N from 4 to 10, and get the alpha estimates from this function\n",
    "# Finally, plot these estimates (along with error bars) -- plt.errorbar() is helpful for this"
   ]
  }
 ],
 "metadata": {
  "kernelspec": {
   "display_name": "Python 3",
   "language": "python",
   "name": "python3"
  },
  "language_info": {
   "codemirror_mode": {
    "name": "ipython",
    "version": 3
   },
   "file_extension": ".py",
   "mimetype": "text/x-python",
   "name": "python",
   "nbconvert_exporter": "python",
   "pygments_lexer": "ipython3",
   "version": "3.7.4"
  }
 },
 "nbformat": 4,
 "nbformat_minor": 1
}
