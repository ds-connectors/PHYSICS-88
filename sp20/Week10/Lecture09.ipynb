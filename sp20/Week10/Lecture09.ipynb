{
 "cells": [
  {
   "cell_type": "markdown",
   "metadata": {
    "deletable": true,
    "editable": true
   },
   "source": [
    "# Approximation Methods"
   ]
  },
  {
   "cell_type": "markdown",
   "metadata": {
    "deletable": true,
    "editable": true
   },
   "source": [
    "Interpolation\n",
    "-------------\n",
    "\n",
    "Given a set of *N* points $(x_i, y_i)$ with $i = 1, 2, …N$, we sometimes need a function $\\hat{f}(x)$ which returns $y_i = f(x_i)$ where $x == x_i$, and which in addition provides some interpolation of the data $(x_i, y_i)$ for all $x$.\n",
    "\n",
    "The function `y0 = scipy.interpolate.interp1d(x,y,kind=’..’)` does this interpolation based on splines of varying order. Note that the function `interp1d` returns *a function* `y0` which will then interpolate the x-y data for any given $x$ when called as $y0(x)$.\n",
    "\n",
    "The code below demonstrates this, and shows the different interpolation kinds."
   ]
  },
  {
   "cell_type": "code",
   "execution_count": 23,
   "metadata": {
    "collapsed": false,
    "deletable": true,
    "editable": true
   },
   "outputs": [
    {
     "name": "stdout",
     "output_type": "stream",
     "text": [
      "-20.273556746819665\n"
     ]
    },
    {
     "data": {
      "text/plain": [
       "<matplotlib.text.Text at 0x12508f860>"
      ]
     },
     "execution_count": 23,
     "metadata": {},
     "output_type": "execute_result"
    },
    {
     "data": {
      "image/png": "[encoded data removed]",
      "text/plain": [
       "<matplotlib.figure.Figure at 0x124fa41d0>"
      ]
     },
     "metadata": {},
     "output_type": "display_data"
    }
   ],
   "source": [
    "import numpy as np\n",
    "import scipy.interpolate\n",
    "import pylab\n",
    "%matplotlib inline\n",
    "\n",
    "def create_data(n):\n",
    "    \"\"\"Given an integer n, returns n data points\n",
    "    x and values y as a numpy.array.\"\"\"\n",
    "    xmax = 5.\n",
    "    x = np.linspace(0, xmax, n)\n",
    "    y = - x**2\n",
    "    #make x-data somewhat irregular\n",
    "    y += 1.5 * np.random.normal(size=len(x))\n",
    "    return x, y\n",
    "\n",
    "#main program\n",
    "n = 10\n",
    "x, y = create_data(n)\n",
    "\n",
    "#use finer and regular mesh for plot\n",
    "xfine = np.linspace(0.1, 4.9, n * 100)\n",
    "#interpolate with piecewise constant function (p=0)\n",
    "y0 = scipy.interpolate.interp1d(x, y, kind='nearest')\n",
    "#interpolate with piecewise linear func (p=1)\n",
    "y1 = scipy.interpolate.interp1d(x, y, kind='linear')\n",
    "#interpolate with piecewise constant func (p=3)\n",
    "y3 = scipy.interpolate.interp1d(x, y, kind='cubic')\n",
    "print(y3(4.5))\n",
    "#interpolate with cubic Hermite\n",
    "yfineH = scipy.interpolate.pchip_interpolate(x, y, xfine)\n",
    "\n",
    "pylab.plot(x, y, 'o', label='data point')\n",
    "pylab.plot(xfine, y0(xfine), label='nearest')\n",
    "pylab.plot(xfine, y1(xfine), label='linear')\n",
    "pylab.plot(xfine, y3(xfine), label='cubic')\n",
    "pylab.plot(xfine, yfineH, label='cubic Hermite')\n",
    "#pylab.legend()\n",
    "pylab.xlabel('x')"
   ]
  },
  {
   "cell_type": "markdown",
   "metadata": {
    "deletable": true,
    "editable": true
   },
   "source": [
    "## Root finding"
   ]
  },
  {
   "cell_type": "markdown",
   "metadata": {
    "deletable": true,
    "editable": true
   },
   "source": [
    "### Root finding using iterative relaxation method"
   ]
  },
  {
   "cell_type": "code",
   "execution_count": 29,
   "metadata": {
    "collapsed": false,
    "deletable": true,
    "editable": true
   },
   "outputs": [
    {
     "name": "stdout",
     "output_type": "stream",
     "text": [
      "Solution =  1.84140566044 , precision =  0.0\n"
     ]
    },
    {
     "data": {
      "image/png": "[encoded data removed]",
      "text/plain": [
       "<matplotlib.figure.Figure at 0x124c8f048>"
      ]
     },
     "metadata": {},
     "output_type": "display_data"
    }
   ],
   "source": [
    "import numpy as np\n",
    "import scipy as sc\n",
    "import matplotlib.pyplot as plt\n",
    "%matplotlib inline\n",
    "\n",
    "def g(x):\n",
    "    return 2-np.exp(-x) # np.cos(x) \n",
    "\n",
    "nIter = 50\n",
    "\n",
    "na = range(nIter)\n",
    "xa = np.zeros(nIter)\n",
    "x = 0.5 # initial guess\n",
    "for k in na:\n",
    "    xa[k] = x\n",
    "    x = g(x)\n",
    "    \n",
    "plt.plot(na,xa)\n",
    "plt.xlabel('n')\n",
    "plt.ylabel('x')\n",
    "\n",
    "print('Solution = ',xa[-1],', precision = ',np.abs(xa[-1]-xa[-2]))"
   ]
  },
  {
   "cell_type": "markdown",
   "metadata": {
    "deletable": true,
    "editable": true
   },
   "source": [
    "### Root finding using the bisection method\n",
    "\n",
    "First we introduce the `bisect` algorithm which is (i) robust and (ii) slow but conceptually very simple.\n",
    "\n",
    "Suppose we need to compute the roots of *f*(*x*)=*x*<sup>3</sup> − 2*x*<sup>2</sup>. This function has a (double) root at *x* = 0 (this is trivial to see) and another root which is located between *x* = 1.5 (where *f*(1.5)= − 1.125) and *x* = 3 (where *f*(3)=9). It is pretty straightforward to see that this other root is located at *x* = 2. Here is a program that determines this root numerically:"
   ]
  },
  {
   "cell_type": "code",
   "execution_count": 30,
   "metadata": {
    "collapsed": false,
    "deletable": true,
    "editable": true
   },
   "outputs": [
    {
     "name": "stdout",
     "output_type": "stream",
     "text": [
      "The root x is approximately x= 2.00000023842,\n",
      "the error is less than 1e-6.\n",
      "The exact error is -2.38419e-07.\n"
     ]
    }
   ],
   "source": [
    "from scipy.optimize import bisect\n",
    "\n",
    "def f(x):\n",
    "    \"\"\"returns f(x)=x^3-2x^2=x^2(x-2). Has roots at\n",
    "    x=0 (double root) and x=2\"\"\"\n",
    "    return x ** 3 - 2 * x ** 2\n",
    "\n",
    "# main program starts here\n",
    "x = bisect(f, 1.5, 3, xtol=1e-6)\n",
    "\n",
    "print(\"The root x is approximately x=%14.12g,\\n\"\n",
    "      \"the error is less than 1e-6.\" % (x))\n",
    "print(\"The exact error is %g.\" % (2 - x))"
   ]
  },
  {
   "cell_type": "markdown",
   "metadata": {
    "deletable": true,
    "editable": true
   },
   "source": [
    "The `bisect()` method takes three compulsory arguments: (i) the function *f*(*x*), (ii) a lower limit *a* (for which we have chosen 1.5 in our example) and (ii) an upper limit *b* (for which we have chosen 3). The optional parameter `xtol` determines the maximum error of the method."
   ]
  },
  {
   "cell_type": "markdown",
   "metadata": {
    "deletable": true,
    "editable": true
   },
   "source": [
    "### Root finding using Brent method\n",
    "\n",
    "This is a classic method to find a zero of the function f on the sign changing interval [a , b]. It is a safe version of the secant method that uses inverse quadratic extrapolation. Brent’s method combines root bracketing, interval bisection, and inverse quadratic interpolation."
   ]
  },
  {
   "cell_type": "code",
   "execution_count": 32,
   "metadata": {
    "collapsed": false,
    "deletable": true,
    "editable": true
   },
   "outputs": [
    {
     "name": "stdout",
     "output_type": "stream",
     "text": [
      "The root x is approximately x=             2,\n",
      "the error is less than 1e-6.\n",
      "The exact error is -6.70575e-13.\n"
     ]
    }
   ],
   "source": [
    "from scipy.optimize import brentq\n",
    "\n",
    "def f(x):\n",
    "    return x ** 3 - 2 * x ** 2\n",
    "\n",
    "x = brentq(f, -1.5, 3, xtol=1e-6)\n",
    "\n",
    "print(\"The root x is approximately x=%14.12g,\\n\"\n",
    "      \"the error is less than 1e-6.\" % (x))\n",
    "print(\"The exact error is %g.\" % (2 - x))"
   ]
  },
  {
   "cell_type": "markdown",
   "metadata": {
    "deletable": true,
    "editable": true
   },
   "source": [
    "### Root finding using the `fsolve` function\n",
    "\n",
    "A (often) better (in the sense of “more efficient”) algorithm than the bisection algorithm is implemented in the general purpose `fsolve()` function for root finding of (multidimensional) functions. This algorithm needs only one starting point close to the suspected location of the root (but is not guaranteed to converge).\n",
    "\n",
    "Here is an example:"
   ]
  },
  {
   "cell_type": "code",
   "execution_count": 34,
   "metadata": {
    "collapsed": false,
    "deletable": true,
    "editable": true
   },
   "outputs": [
    {
     "name": "stdout",
     "output_type": "stream",
     "text": [
      "Number of roots is 4\n",
      "The root(s) are  [  0.00000000e+00   2.00000000e+00  -9.54418472e-31   2.00000000e+00]\n",
      "precision :  0.0 0.0\n"
     ]
    }
   ],
   "source": [
    "from scipy.optimize import fsolve\n",
    "\n",
    "def f(x):\n",
    "    return x ** 3 - 2 * x ** 2\n",
    "\n",
    "x = fsolve(f, [0,3])           # look for two roots starting with 0 and 3\n",
    "\n",
    "print(\"Number of roots is\",len(x))\n",
    "print(\"The root(s) are \",x)\n",
    "print(\"precision : \",x[0],x[1]-2)"
   ]
  },
  {
   "cell_type": "markdown",
   "metadata": {
    "deletable": true,
    "editable": true
   },
   "source": [
    "The input to `fsolve` is the function and the array of initial locations for the roots. The return value of `fsolve` is a numpy array of length *n* for a root finding problem with *n* variables. In the example above, we have *n* = 2."
   ]
  },
  {
   "cell_type": "code",
   "execution_count": null,
   "metadata": {
    "collapsed": true,
    "deletable": true,
    "editable": true
   },
   "outputs": [],
   "source": []
  }
 ],
 "metadata": {
  "kernelspec": {
   "display_name": "Python 3",
   "language": "python",
   "name": "python3"
  },
  "language_info": {
   "codemirror_mode": {
    "name": "ipython",
    "version": 3
   },
   "file_extension": ".py",
   "mimetype": "text/x-python",
   "name": "python",
   "nbconvert_exporter": "python",
   "pygments_lexer": "ipython3",
   "version": "3.5.2"
  }
 },
 "nbformat": 4,
 "nbformat_minor": 2
}
