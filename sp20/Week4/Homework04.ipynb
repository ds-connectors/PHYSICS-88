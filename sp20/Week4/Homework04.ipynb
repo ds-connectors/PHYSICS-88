{
 "cells": [
  {
   "cell_type": "markdown",
   "metadata": {},
   "source": [
    "Your name here.  \n",
    "Your Worskshop section here."
   ]
  },
  {
   "cell_type": "markdown",
   "metadata": {
    "collapsed": true
   },
   "source": [
    "# Homework 4: File I/O, Statistics"
   ]
  },
  {
   "cell_type": "markdown",
   "metadata": {},
   "source": [
    "**Submit this notebook to bCourses to receive a credit for this assignment.**\n",
    "\n",
    "Please complete this homework assignment in code cells in the iPython notebook. Include comments in your code when necessary. Enter your name in the cell at the top of the notebook, and rename the notebook [email_name]_HW04.ipynb, where [email_name] is the part of your UCB email address that precedes \"@berkeley.edu\". Please also submit a PDF of the jupyter notebook to bcourses.  Note, that when saving as PDF you don't want to use the option with latex because it crashes, but rather the one to save it directly as a PDF."
   ]
  },
  {
   "cell_type": "markdown",
   "metadata": {},
   "source": [
    "## Problem 1: Wind Statistics\n",
    "\n",
    "In this problem, you'll create a new array that summarizes a larger dataset. In the folder for this Homework assignment, you'll find a dataset \"`wind.data`\", and a description of the dataset \"`wind.desc`\". \n",
    "\n",
    "Read the description `wind.desc` to understand the format of `wind.data`. Then, write a program which loads the data and generates a new array with the following format: each row should contain the year, month, mean wind speed, min wind speed, and max wind speed, in that order. The means, mins, and maxes should be taken over all days in that particular month, over all the cities that `wind.data` includes. The rows should be in chronological order. Printing your array should give you something like this:\n",
    "\n",
    "    [[ 61.           1.          11.38064516   0.5         27.71      ]\n",
    "     [ 61.           2.          13.49235119   2.21        29.63      ]\n",
    "     [ 61.           3.          11.07236559   1.46        23.45      ]\n",
    "     ..., \n",
    "     [ 78.          10.           9.23389785   0.21        28.21      ]\n",
    "     [ 78.          11.          12.72102778   0.96        30.21      ]\n",
    "     [ 78.          12.          12.70357527   0.42        41.46      ]]\n",
    "\n",
    "Next, plot the means, mins, and maxes over time using just a single `plt.plot()` command, along with whatever other commands you need to label and display the figure. (Hint: What happens when you plot a 2D array?) Be sure to label your figure with proper units, etc. The x-axis may be labeled using year/month or just the years (i.e. have ticks along the axis which are labeled with some of the years, like 1961,1964,1967,1970,etc.). There are several ways to accomplish this. One way is to use `plt.xticks()`, which will give you the most explicit control over which points on the x axis get labeled and what labels they get. To understand this function, check out the documentation for `matplotlib.pyplot.xticks` on the `matplotlib` website.\n",
    "\n",
    "** Just for fun **\n",
    "\n",
    "If you look at your plot, you'll notice some periodicity in the wind speeds. To better see the period, use the `running_average` function you wrote for the Sunspots problem to plot the running average of the means, mins, and maxes along with the original curves. Depending on how you wrote your `running_average` function, it may work immediately on this new 2D array without any modifications! From visual inspection of your running average, how long is the period, and when are wind speeds fastest and slowest in Ireland?\n",
    "\n",
    "#### Hints\n",
    "\n",
    "Depending on how you do this problem, you may find it useful to use boolean indexing along with numpy's `logical_and` function. It's okay to use lists as intermediate steps in generating your array. That is, not everything has to be an array, though it is possible to do this with only arrays. (Challenge!)"
   ]
  },
  {
   "cell_type": "code",
   "execution_count": null,
   "metadata": {},
   "outputs": [],
   "source": [
    "import numpy as np\n",
    "import matplotlib.pyplot as plt\n",
    "\n",
    "# Feel free to play with the default figure/font size\n",
    "plt.rcParams['figure.figsize'] = [14, 9]\n",
    "plt.rcParams['font.size'] = 16\n",
    "\n",
    "# Using numpy to load the text file containing the data\n",
    "wind_data = np.loadtxt('wind.data')\n",
    "\n",
    "'''As with most programming problems, there are a lot of ways to approach this.  As a starting\n",
    "   point, a few useful ideas will be listed below.  Feel free to use all (or none) of them.'''\n",
    "\n",
    "# If you have a list/array of values (like years), you can get an array of the unique values with np.unique(years)\n",
    "\n",
    "# np.zeros((i,j)) will initialize an array of i rows and j columns -- filled with zeros\n",
    "# this is useful for creating the general structure of your new data array; you can then fill in the values below\n",
    "\n",
    "''' You can use np.all() to create a \"boolean selector\" with something like\n",
    "    boolean_selector = np.all([months == 1, years == 61], axis = 0) \n",
    "    (In this case, years and columns are the first and second columns of wind.data)\n",
    "    Then wind_speeds[boolean_selector] will pick out the rows of \"wind_speeds\"\n",
    "    where month == 1 and year == 61; you can then average over these rows or find the max/min'''\n",
    "\n",
    "# If the boolean selector stuff is annoying, try just looping through all the rows of wind_data,\n",
    "# keeping track of when the month switches (this works well since everything is in order) and finding \n",
    "# the average, min, and max of each month as you go along\n",
    "\n",
    "    "
   ]
  },
  {
   "cell_type": "markdown",
   "metadata": {},
   "source": [
    "## Problem 2: Central Limit Theorem"
   ]
  },
  {
   "cell_type": "markdown",
   "metadata": {},
   "source": [
    "Here we will verify the Central Limit Theorem (a key theorem in statistics that we will discuss in class) and reproduce this plot(https://en.wikipedia.org/wiki/Central_limit_theorem#/media/File:Dice_sum_central_limit_theorem.svg)"
   ]
  },
  {
   "cell_type": "markdown",
   "metadata": {},
   "source": [
    "1. Write a function that returns $n$ integer random numbers, uniformly disributed between 1 and 6, inclusively. This represents $n$ throws of a fair 6-sided die. The value that comes up at each throw will be called the \"score\".\n",
    "1. Generate a distribution of 1000 dice throws and plot it as a  histogram normalized to unit area. Compute the mean $\\mu_1$ and standard deviation $\\sigma_1$ of this distribution. Compare your numerical result to the analytical calculation. \n",
    "1. Generate 1000 sets of throws of $N=2,3,4,5,10$ dice, computing the total sum of dice scores for each set. For each value of $N$, plot the distribution of total scores, and compute the mean $\\mu_N$ and standard deviation $\\sigma_N$ of each distribution. This should be similar to the plot at the link above.\n",
    "1. Plot the standard deviation $\\sigma_N$ as a function of $N$. Does it follow the Central Limit Theorem? "
   ]
  },
  {
   "cell_type": "code",
   "execution_count": null,
   "metadata": {},
   "outputs": [],
   "source": [
    "import numpy as np\n",
    "import matplotlib.pyplot as plt\n",
    "\n",
    "\n",
    "def roll_dice(n):\n",
    "    '''This function returns the values from n rolls of a 6-sided die.  \n",
    "       For example, n = 10 rolls might return something like \n",
    "       [2, 4, 3, 3, 1, 6, 5, 4, 5, 2]'''\n",
    "    \n",
    "    # Try using the randint function from the numpy.random library"
   ]
  },
  {
   "cell_type": "code",
   "execution_count": null,
   "metadata": {},
   "outputs": [],
   "source": [
    "distribution_1 = roll_dice(1000)  # Distribution of 1000 rolls of a single die\n",
    "\n",
    "# matplotlib has a histogram function; see:  https://matplotlib.org/3.1.1/api/_as_gen/matplotlib.pyplot.hist.html\n",
    "# note that using optional argument \"density = True\" in plt.hist() will normalize the histogram for you\n",
    "\n",
    "# Feel free to write your own functions for the standard deviation and mean or use numpy's built-in functions\n",
    "# Remember to compare to the analytical result!"
   ]
  },
  {
   "cell_type": "code",
   "execution_count": null,
   "metadata": {},
   "outputs": [],
   "source": [
    "Ns = [2, 3, 4, 5, 10]\n",
    "\n",
    "standard_deviations = [] # An empty list to keep track of the standard deviations\n",
    "\n",
    "for N in Ns:\n",
    "    distribution_N = # Distribution of 1000 rolls of N dice (values summed together for each roll)\n",
    "    \n",
    "    '''For the case N = 2, the distribution we are looking for is equivalent to\n",
    "       roll_dice(1000) + roll_dice(1000).  That is, we are just summing the scores\n",
    "       of 2 dice (and repeating this 1000 times).  You'll need to generalize this sum\n",
    "       to any N (using a loop, numpy array methods, or whatever makes sense to you)'''\n",
    "    \n",
    "    # Use plt.hist() again to make each plot\n",
    "    # Use np.std() and np.mean() again or your own function\n",
    "    # Remember to append each standard deviation to the empty list for plotting in part 4"
   ]
  },
  {
   "cell_type": "code",
   "execution_count": null,
   "metadata": {},
   "outputs": [],
   "source": [
    "plt.scatter(Ns, standard_deviations_of_sums)\n",
    "\n",
    "# Please label your plot and compare against the central limit theorem"
   ]
  }
 ],
 "metadata": {
  "kernelspec": {
   "display_name": "Python 3",
   "language": "python",
   "name": "python3"
  },
  "language_info": {
   "codemirror_mode": {
    "name": "ipython",
    "version": 3
   },
   "file_extension": ".py",
   "mimetype": "text/x-python",
   "name": "python",
   "nbconvert_exporter": "python",
   "pygments_lexer": "ipython3",
   "version": "3.7.3"
  }
 },
 "nbformat": 4,
 "nbformat_minor": 1
}
