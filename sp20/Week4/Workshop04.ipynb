{
 "cells": [
  {
   "cell_type": "markdown",
   "metadata": {},
   "source": [
    "# Workshop 4: Animations and 3D plots"
   ]
  },
  {
   "cell_type": "markdown",
   "metadata": {},
   "source": [
    "**Submit this notebook to bCourses to receive a grade for this Workshop.**\n",
    "\n",
    "Please complete workshop activities in code cells in this iPython notebook. The activities titled **Practice** are purely for you to explore Python, and no particular output is expected. Some of them have some code written, and you should try to modify it in different ways to understand how it works. Although no particular output is expected at submission time, it is _highly_ recommended that you read and work through the practice activities before or alongside the exercises. However, the activities titled **Exercise** have specific tasks and specific outputs expected. Include comments in your code when necessary. Enter your name in the cell at the top of the notebook. \n",
    "\n",
    "**The workshop should be submitted on bCourses under the Assignments tab (both the .ipynb and .pdf files).**"
   ]
  },
  {
   "cell_type": "markdown",
   "metadata": {},
   "source": [
    "We'll use [animation.FuncAnimation()](https://matplotlib.org/api/_as_gen/matplotlib.animation.FuncAnimation.html#matplotlib.animation.FuncAnimation) from the matplotlib library to generate the frames for our animation.  This example is taken from a post by [Louis Tiao](http://louistiao.me/posts/notebooks/embedding-matplotlib-animations-in-jupyter-as-interactive-javascript-widgets/)."
   ]
  },
  {
   "cell_type": "code",
   "execution_count": null,
   "metadata": {},
   "outputs": [],
   "source": [
    "import numpy as np\n",
    "import matplotlib.pyplot as plt\n",
    "\n",
    "from matplotlib import animation\n",
    "from IPython.display import HTML"
   ]
  },
  {
   "cell_type": "markdown",
   "metadata": {},
   "source": [
    "### Creating the animation"
   ]
  },
  {
   "cell_type": "markdown",
   "metadata": {},
   "source": [
    "To create an animation, you need to generate a sequence of many images and then display them rapidly one after another (~20 images per second is a good starting point).  Luckily, matplotlib comes with a built-in animation module that does a lot of this work for us.\n",
    "\n",
    "We'll be using matplotlib in its \"object oriented\" mode; that is, we'll create first create an empty figure and axis object (instead of using a bunch of plt.something() commands to create our plots)."
   ]
  },
  {
   "cell_type": "code",
   "execution_count": null,
   "metadata": {},
   "outputs": [],
   "source": [
    "fig, ax = plt.subplots()   #Create empty figure and axis for plotting\n",
    "plt.close(fig)  #Keeps notebook from displaying the empty figure upon creation\n",
    "\n",
    "#Set the x and y axis ranges\n",
    "ax.set_xlim(( 0, 2))\n",
    "ax.set_ylim((-2, 2))\n",
    "\n",
    "#This basically creates an empty \"line object\" that we'll fill with (x,y) values in the animate() function\n",
    "line, = ax.plot([], [], lw=2)"
   ]
  },
  {
   "cell_type": "markdown",
   "metadata": {},
   "source": [
    "Define the initialization function, which plots the background of each frame:"
   ]
  },
  {
   "cell_type": "code",
   "execution_count": null,
   "metadata": {},
   "outputs": [],
   "source": [
    "def init():\n",
    "    line.set_data([], [])\n",
    "    return (line,)"
   ]
  },
  {
   "cell_type": "markdown",
   "metadata": {},
   "source": [
    "Define the animation function, which is called for each new frame:"
   ]
  },
  {
   "cell_type": "code",
   "execution_count": null,
   "metadata": {},
   "outputs": [],
   "source": [
    "def animate(i):\n",
    "    x = np.linspace(0, 2, 1000)\n",
    "    y = np.sin(2 * np.pi * (x - 0.01 * i))\n",
    "    line.set_data(x, y)\n",
    "    return (line,)"
   ]
  },
  {
   "cell_type": "markdown",
   "metadata": {},
   "source": [
    "Compile the animation. Setting ```blit=True``` will only re-draw the parts that have changed.  Feel free to play with the frames and interval to see how these arguments change the animation."
   ]
  },
  {
   "cell_type": "code",
   "execution_count": null,
   "metadata": {},
   "outputs": [],
   "source": [
    "anim = animation.FuncAnimation(fig, animate, init_func=init,\n",
    "                               frames=100, interval=20, \n",
    "                               blit=True)"
   ]
  },
  {
   "cell_type": "markdown",
   "metadata": {},
   "source": [
    "### Displaying the animation"
   ]
  },
  {
   "cell_type": "markdown",
   "metadata": {},
   "source": [
    "Now create an interactive JavaScript widget using the ```to_jshtml()``` method:"
   ]
  },
  {
   "cell_type": "code",
   "execution_count": null,
   "metadata": {},
   "outputs": [],
   "source": [
    "HTML(anim.to_jshtml())"
   ]
  },
  {
   "cell_type": "markdown",
   "metadata": {},
   "source": [
    "You can also use the ```to_html5_video()``` method, if the ```ffmpeg``` module is available:"
   ]
  },
  {
   "cell_type": "code",
   "execution_count": null,
   "metadata": {},
   "outputs": [],
   "source": [
    "HTML(anim.to_html5_video())"
   ]
  },
  {
   "cell_type": "markdown",
   "metadata": {},
   "source": [
    "## Exercise 1\n",
    "\n",
    "Using the example above, create an animation of two sine waves moving in opposite directions.  Also plot the sum of these two waves within the animation--if it's working correctly, you should have a standing wave.  The first code cell should be the same:"
   ]
  },
  {
   "cell_type": "code",
   "execution_count": null,
   "metadata": {},
   "outputs": [],
   "source": [
    "import numpy as np\n",
    "import matplotlib.pyplot as plt\n",
    "\n",
    "from matplotlib import animation\n",
    "from IPython.display import HTML\n",
    "\n",
    "fig, ax = plt.subplots()   #Create empty figure and axis for plotting\n",
    "plt.close(fig)  #Keeps notebook from displaying the empty figure upon creation\n",
    "\n",
    "#Set the x and y axis ranges\n",
    "ax.set_xlim(( 0, 2))\n",
    "ax.set_ylim((-2, 2))"
   ]
  },
  {
   "cell_type": "markdown",
   "metadata": {},
   "source": [
    "First, define two additional line objects just like the first one (give them different names)"
   ]
  },
  {
   "cell_type": "code",
   "execution_count": null,
   "metadata": {},
   "outputs": [],
   "source": [
    "#This basically creates an empty \"line object\" that we'll fill with (x,y) values in the animate() function\n",
    "line, = ax.plot([], [], lw=2)"
   ]
  },
  {
   "cell_type": "markdown",
   "metadata": {},
   "source": [
    "Now modify the init() function to include the two additional lines you've created--remember to return all three!"
   ]
  },
  {
   "cell_type": "code",
   "execution_count": null,
   "metadata": {},
   "outputs": [],
   "source": [
    "def init():\n",
    "    line.set_data([], [])\n",
    "    return (line,)"
   ]
  },
  {
   "cell_type": "markdown",
   "metadata": {},
   "source": [
    "Finally, create two new y-value arrays.  The first should also be a sine wave, but moving in the opposite direction.  The second should be a sum of the first two.  Then use set_data() on the lines you created above, and once again return all three."
   ]
  },
  {
   "cell_type": "code",
   "execution_count": null,
   "metadata": {},
   "outputs": [],
   "source": [
    "def animate(i):\n",
    "    x = np.linspace(0, 2, 1000)\n",
    "    y = np.sin(2 * np.pi * (x - 0.01 * i))\n",
    "    line.set_data(x, y)\n",
    "    return (line,)"
   ]
  },
  {
   "cell_type": "markdown",
   "metadata": {},
   "source": [
    "If you've done everything correctly, you should sine waves moving in opposite directions, along with a standing wave."
   ]
  },
  {
   "cell_type": "code",
   "execution_count": null,
   "metadata": {},
   "outputs": [],
   "source": [
    "anim = animation.FuncAnimation(fig, animate, init_func=init,\n",
    "                               frames=100, interval=20, \n",
    "                               blit=True)"
   ]
  },
  {
   "cell_type": "code",
   "execution_count": null,
   "metadata": {},
   "outputs": [],
   "source": [
    "HTML(anim.to_jshtml())"
   ]
  },
  {
   "cell_type": "markdown",
   "metadata": {},
   "source": [
    "### More interesting examples"
   ]
  },
  {
   "cell_type": "markdown",
   "metadata": {},
   "source": [
    "A single wave isn't very interesting, so here's a double pendulum animation from [matplotlib.org](https://matplotlib.org/examples/animation/double_pendulum_animated.html):"
   ]
  },
  {
   "cell_type": "code",
   "execution_count": null,
   "metadata": {},
   "outputs": [],
   "source": [
    "\"\"\"\n",
    "===========================\n",
    "The double pendulum problem\n",
    "===========================\n",
    "\n",
    "This animation illustrates the double pendulum problem.\n",
    "\"\"\"\n",
    "\n",
    "# Double pendulum formula translated from the C code at\n",
    "# http://www.physics.usyd.edu.au/~wheat/dpend_html/solve_dpend.c\n",
    "\n",
    "from numpy import sin, cos\n",
    "import scipy.integrate as integrate\n",
    "\n",
    "G = 9.8  # acceleration due to gravity, in m/s^2\n",
    "L1 = 1.0  # length of pendulum 1 in m\n",
    "L2 = 1.0  # length of pendulum 2 in m\n",
    "M1 = 1.0  # mass of pendulum 1 in kg\n",
    "M2 = 1.0  # mass of pendulum 2 in kg\n",
    "\n",
    "\n",
    "def derivs(state, t):\n",
    "\n",
    "    dydx = np.zeros_like(state)\n",
    "    dydx[0] = state[1]\n",
    "\n",
    "    del_ = state[2] - state[0]\n",
    "    den1 = (M1 + M2)*L1 - M2*L1*cos(del_)*cos(del_)\n",
    "    dydx[1] = (M2*L1*state[1]*state[1]*sin(del_)*cos(del_) +\n",
    "               M2*G*sin(state[2])*cos(del_) +\n",
    "               M2*L2*state[3]*state[3]*sin(del_) -\n",
    "               (M1 + M2)*G*sin(state[0]))/den1\n",
    "\n",
    "    dydx[2] = state[3]\n",
    "\n",
    "    den2 = (L2/L1)*den1\n",
    "    dydx[3] = (-M2*L2*state[3]*state[3]*sin(del_)*cos(del_) +\n",
    "               (M1 + M2)*G*sin(state[0])*cos(del_) -\n",
    "               (M1 + M2)*L1*state[1]*state[1]*sin(del_) -\n",
    "               (M1 + M2)*G*sin(state[2]))/den2\n",
    "\n",
    "    return dydx\n",
    "\n",
    "# create a time array from 0..100 sampled at 0.05 second steps\n",
    "dt = 0.05\n",
    "t = np.arange(0.0, 5, dt)\n",
    "\n",
    "# th1 and th2 are the initial angles (degrees)\n",
    "# w10 and w20 are the initial angular velocities (degrees per second)\n",
    "th1 = 120.0\n",
    "w1 = 0.0\n",
    "th2 = -10.0\n",
    "w2 = 0.0\n",
    "\n",
    "# initial state\n",
    "state = np.radians([th1, w1, th2, w2])\n",
    "\n",
    "# integrate your ODE using scipy.integrate.\n",
    "y = integrate.odeint(derivs, state, t)\n",
    "\n",
    "x1 = L1*sin(y[:, 0])\n",
    "y1 = -L1*cos(y[:, 0])\n",
    "\n",
    "x2 = L2*sin(y[:, 2]) + x1\n",
    "y2 = -L2*cos(y[:, 2]) + y1\n",
    "\n",
    "fig = plt.figure()\n",
    "ax = fig.add_subplot(111, autoscale_on=False, aspect = 'equal', xlim=(-2, 2), ylim=(-2, 2))\n",
    "ax.grid()\n",
    "plt.close(fig)\n",
    "\n",
    "line, = ax.plot([], [], 'o-', lw=2)\n",
    "time_template = 'time = %.1fs'\n",
    "time_text = ax.text(0.05, 0.9, '', transform=ax.transAxes)\n",
    "\n",
    "\n",
    "def init():\n",
    "    line.set_data([], [])\n",
    "    time_text.set_text('')\n",
    "    return line, time_text\n",
    "\n",
    "\n",
    "def animate(i):\n",
    "    thisx = [0, x1[i], x2[i]]\n",
    "    thisy = [0, y1[i], y2[i]]\n",
    "\n",
    "    line.set_data(thisx, thisy)\n",
    "    time_text.set_text(time_template % (i*dt))\n",
    "    return line, time_text\n",
    "\n",
    "anim = animation.FuncAnimation(fig, animate, np.arange(1, len(y)),\n",
    "                              interval=25, blit=True, init_func=init)"
   ]
  },
  {
   "cell_type": "code",
   "execution_count": null,
   "metadata": {},
   "outputs": [],
   "source": [
    "HTML(anim.to_jshtml())"
   ]
  },
  {
   "cell_type": "markdown",
   "metadata": {},
   "source": [
    "Or a tunneling animation from [Jake VanderPlas](http://jakevdp.github.io/blog/2012/09/05/quantum-python/): (this takes a bit of time to generate the animation)."
   ]
  },
  {
   "cell_type": "code",
   "execution_count": null,
   "metadata": {},
   "outputs": [],
   "source": [
    "\"\"\"\n",
    "General Numerical Solver for the 1D Time-Dependent Schrodinger's equation.\n",
    "\n",
    "author: Jake Vanderplas\n",
    "email: vanderplas@astro.washington.edu\n",
    "website: http://jakevdp.github.com\n",
    "license: BSD\n",
    "Please feel free to use and modify this, but keep the above information. Thanks!\n",
    "\"\"\"\n",
    "\n",
    "from matplotlib import pyplot as pl\n",
    "from scipy.fftpack import fft,ifft\n",
    "\n",
    "\n",
    "class Schrodinger(object):\n",
    "    \"\"\"\n",
    "    Class which implements a numerical solution of the time-dependent\n",
    "    Schrodinger equation for an arbitrary potential\n",
    "    \"\"\"\n",
    "    def __init__(self, x, psi_x0, V_x,\n",
    "                 k0 = None, hbar=1, m=1, t0=0.0):\n",
    "        \"\"\"\n",
    "        Parameters\n",
    "        ----------\n",
    "        x : array_like, float\n",
    "            length-N array of evenly spaced spatial coordinates\n",
    "        psi_x0 : array_like, complex\n",
    "            length-N array of the initial wave function at time t0\n",
    "        V_x : array_like, float\n",
    "             length-N array giving the potential at each x\n",
    "        k0 : float\n",
    "            the minimum value of k.  Note that, because of the workings of the\n",
    "            fast fourier transform, the momentum wave-number will be defined\n",
    "            in the range\n",
    "              k0 < k < 2*pi / dx\n",
    "            where dx = x[1]-x[0].  If you expect nonzero momentum outside this\n",
    "            range, you must modify the inputs accordingly.  If not specified,\n",
    "            k0 will be calculated such that the range is [-k0,k0]\n",
    "        hbar : float\n",
    "            value of planck's constant (default = 1)\n",
    "        m : float\n",
    "            particle mass (default = 1)\n",
    "        t0 : float\n",
    "            initial tile (default = 0)\n",
    "        \"\"\"\n",
    "        # Validation of array inputs\n",
    "        self.x, psi_x0, self.V_x = map(np.asarray, (x, psi_x0, V_x))\n",
    "        N = self.x.size\n",
    "        assert self.x.shape == (N,)\n",
    "        assert psi_x0.shape == (N,)\n",
    "        assert self.V_x.shape == (N,)\n",
    "\n",
    "        # Set internal parameters\n",
    "        self.hbar = hbar\n",
    "        self.m = m\n",
    "        self.t = t0\n",
    "        self.dt_ = None\n",
    "        self.N = len(x)\n",
    "        self.dx = self.x[1] - self.x[0]\n",
    "        self.dk = 2 * np.pi / (self.N * self.dx)\n",
    "\n",
    "        # set momentum scale\n",
    "        if k0 == None:\n",
    "            self.k0 = -0.5 * self.N * self.dk\n",
    "        else:\n",
    "            self.k0 = k0\n",
    "        self.k = self.k0 + self.dk * np.arange(self.N)\n",
    "\n",
    "        self.psi_x = psi_x0\n",
    "        self.compute_k_from_x()\n",
    "\n",
    "        # variables which hold steps in evolution of the\n",
    "        self.x_evolve_half = None\n",
    "        self.x_evolve = None\n",
    "        self.k_evolve = None\n",
    "\n",
    "        # attributes used for dynamic plotting\n",
    "        self.psi_x_line = None\n",
    "        self.psi_k_line = None\n",
    "        self.V_x_line = None\n",
    "\n",
    "    def _set_psi_x(self, psi_x):\n",
    "        self.psi_mod_x = (psi_x * np.exp(-1j * self.k[0] * self.x)\n",
    "                          * self.dx / np.sqrt(2 * np.pi))\n",
    "\n",
    "    def _get_psi_x(self):\n",
    "        return (self.psi_mod_x * np.exp(1j * self.k[0] * self.x)\n",
    "                * np.sqrt(2 * np.pi) / self.dx)\n",
    "\n",
    "    def _set_psi_k(self, psi_k):\n",
    "        self.psi_mod_k = psi_k * np.exp(1j * self.x[0]\n",
    "                                        * self.dk * np.arange(self.N))\n",
    "\n",
    "    def _get_psi_k(self):\n",
    "        return self.psi_mod_k * np.exp(-1j * self.x[0] * \n",
    "                                        self.dk * np.arange(self.N))\n",
    "    \n",
    "    def _get_dt(self):\n",
    "        return self.dt_\n",
    "\n",
    "    def _set_dt(self, dt):\n",
    "        if dt != self.dt_:\n",
    "            self.dt_ = dt\n",
    "            self.x_evolve_half = np.exp(-0.5 * 1j * self.V_x\n",
    "                                         / self.hbar * dt )\n",
    "            self.x_evolve = self.x_evolve_half * self.x_evolve_half\n",
    "            self.k_evolve = np.exp(-0.5 * 1j * self.hbar /\n",
    "                                    self.m * (self.k * self.k) * dt)\n",
    "    \n",
    "    psi_x = property(_get_psi_x, _set_psi_x)\n",
    "    psi_k = property(_get_psi_k, _set_psi_k)\n",
    "    dt = property(_get_dt, _set_dt)\n",
    "\n",
    "    def compute_k_from_x(self):\n",
    "        self.psi_mod_k = fft(self.psi_mod_x)\n",
    "\n",
    "    def compute_x_from_k(self):\n",
    "        self.psi_mod_x = ifft(self.psi_mod_k)\n",
    "\n",
    "    def time_step(self, dt, Nsteps = 1):\n",
    "        \"\"\"\n",
    "        Perform a series of time-steps via the time-dependent\n",
    "        Schrodinger Equation.\n",
    "\n",
    "        Parameters\n",
    "        ----------\n",
    "        dt : float\n",
    "            the small time interval over which to integrate\n",
    "        Nsteps : float, optional\n",
    "            the number of intervals to compute.  The total change\n",
    "            in time at the end of this method will be dt * Nsteps.\n",
    "            default is N = 1\n",
    "        \"\"\"\n",
    "        self.dt = dt\n",
    "\n",
    "        if Nsteps > 0:\n",
    "            self.psi_mod_x *= self.x_evolve_half\n",
    "\n",
    "        for i in range(Nsteps - 1):\n",
    "            self.compute_k_from_x()\n",
    "            self.psi_mod_k *= self.k_evolve\n",
    "            self.compute_x_from_k()\n",
    "            self.psi_mod_x *= self.x_evolve\n",
    "\n",
    "        self.compute_k_from_x()\n",
    "        self.psi_mod_k *= self.k_evolve\n",
    "\n",
    "        self.compute_x_from_k()\n",
    "        self.psi_mod_x *= self.x_evolve_half\n",
    "\n",
    "        self.compute_k_from_x()\n",
    "\n",
    "        self.t += dt * Nsteps\n",
    "\n",
    "\n",
    "######################################################################\n",
    "# Helper functions for gaussian wave-packets\n",
    "\n",
    "def gauss_x(x, a, x0, k0):\n",
    "    \"\"\"\n",
    "    a gaussian wave packet of width a, centered at x0, with momentum k0\n",
    "    \"\"\" \n",
    "    return ((a * np.sqrt(np.pi)) ** (-0.5)\n",
    "            * np.exp(-0.5 * ((x - x0) * 1. / a) ** 2 + 1j * x * k0))\n",
    "\n",
    "def gauss_k(k,a,x0,k0):\n",
    "    \"\"\"\n",
    "    analytical fourier transform of gauss_x(x), above\n",
    "    \"\"\"\n",
    "    return ((a / np.sqrt(np.pi))**0.5\n",
    "            * np.exp(-0.5 * (a * (k - k0)) ** 2 - 1j * (k - k0) * x0))\n",
    "\n",
    "\n",
    "######################################################################\n",
    "# Utility functions for running the animation\n",
    "\n",
    "def theta(x):\n",
    "    \"\"\"\n",
    "    theta function :\n",
    "      returns 0 if x<=0, and 1 if x>0\n",
    "    \"\"\"\n",
    "    x = np.asarray(x)\n",
    "    y = np.zeros(x.shape)\n",
    "    y[x > 0] = 1.0\n",
    "    return y\n",
    "\n",
    "def square_barrier(x, width, height):\n",
    "    return height * (theta(x) - theta(x - width))\n",
    "\n",
    "######################################################################\n",
    "# Create the animation\n",
    "\n",
    "# specify time steps and duration\n",
    "dt = 0.05\n",
    "N_steps = 50\n",
    "t_max = 120\n",
    "frames = int(t_max / float(N_steps * dt))\n",
    "\n",
    "# specify constants\n",
    "hbar = 1.0   # planck's constant\n",
    "m = 1.9      # particle mass\n",
    "\n",
    "# specify range in x coordinate\n",
    "N = 2 ** 11\n",
    "dx = 0.1\n",
    "x = dx * (np.arange(N) - 0.5 * N)\n",
    "\n",
    "# specify potential\n",
    "V0 = 1.5\n",
    "L = hbar / np.sqrt(2 * m * V0)\n",
    "a = 3 * L\n",
    "x0 = -60 * L\n",
    "V_x = square_barrier(x, a, V0)\n",
    "V_x[x < -98] = 1E6\n",
    "V_x[x > 98] = 1E6\n",
    "\n",
    "# specify initial momentum and quantities derived from it\n",
    "p0 = np.sqrt(2 * m * 0.2 * V0)\n",
    "dp2 = p0 * p0 * 1./80\n",
    "d = hbar / np.sqrt(2 * dp2)\n",
    "\n",
    "k0 = p0 / hbar\n",
    "v0 = p0 / m\n",
    "psi_x0 = gauss_x(x, d, x0, k0)\n",
    "\n",
    "# define the Schrodinger object which performs the calculations\n",
    "S = Schrodinger(x=x,\n",
    "                psi_x0=psi_x0,\n",
    "                V_x=V_x,\n",
    "                hbar=hbar,\n",
    "                m=m,\n",
    "                k0=-28)\n",
    "\n",
    "######################################################################\n",
    "# Set up plot\n",
    "fig = pl.figure()\n",
    "\n",
    "# plotting limits\n",
    "xlim = (-100, 100)\n",
    "klim = (-5, 5)\n",
    "\n",
    "# top axes show the x-space data\n",
    "ymin = 0\n",
    "ymax = V0\n",
    "ax1 = fig.add_subplot(211, xlim=xlim,\n",
    "                      ylim=(ymin - 0.2 * (ymax - ymin),\n",
    "                            ymax + 0.2 * (ymax - ymin)))\n",
    "psi_x_line, = ax1.plot([], [], c='r', label=r'$|\\psi(x)|$')\n",
    "V_x_line, = ax1.plot([], [], c='k', label=r'$V(x)$')\n",
    "center_line = ax1.axvline(0, c='k', ls=':',\n",
    "                          label = r\"$x_0 + v_0t$\")\n",
    "\n",
    "title = ax1.set_title(\"\")\n",
    "ax1.legend(prop=dict(size=12))\n",
    "ax1.set_xlabel('$x$')\n",
    "ax1.set_ylabel(r'$|\\psi(x)|$')\n",
    "\n",
    "# bottom axes show the k-space data\n",
    "ymin = abs(S.psi_k).min()\n",
    "ymax = abs(S.psi_k).max()\n",
    "ax2 = fig.add_subplot(212, xlim=klim,\n",
    "                      ylim=(ymin - 0.2 * (ymax - ymin),\n",
    "                            ymax + 0.2 * (ymax - ymin)))\n",
    "psi_k_line, = ax2.plot([], [], c='r', label=r'$|\\psi(k)|$')\n",
    "\n",
    "p0_line1 = ax2.axvline(-p0 / hbar, c='k', ls=':', label=r'$\\pm p_0$')\n",
    "p0_line2 = ax2.axvline(p0 / hbar, c='k', ls=':')\n",
    "mV_line = ax2.axvline(np.sqrt(2 * V0) / hbar, c='k', ls='--',\n",
    "                      label=r'$\\sqrt{2mV_0}$')\n",
    "ax2.legend(prop=dict(size=12))\n",
    "ax2.set_xlabel('$k$')\n",
    "ax2.set_ylabel(r'$|\\psi(k)|$')\n",
    "\n",
    "V_x_line.set_data(S.x, S.V_x)\n",
    "\n",
    "######################################################################\n",
    "# Animate plot\n",
    "def init():\n",
    "    psi_x_line.set_data([], [])\n",
    "    V_x_line.set_data([], [])\n",
    "    center_line.set_data([], [])\n",
    "\n",
    "    psi_k_line.set_data([], [])\n",
    "    title.set_text(\"\")\n",
    "    return (psi_x_line, V_x_line, center_line, psi_k_line, title)\n",
    "\n",
    "def animate(i):\n",
    "    S.time_step(dt, N_steps)\n",
    "    psi_x_line.set_data(S.x, 4 * abs(S.psi_x))\n",
    "    V_x_line.set_data(S.x, S.V_x)\n",
    "    center_line.set_data(2 * [x0 + S.t * p0 / m], [0, 1])\n",
    "\n",
    "    psi_k_line.set_data(S.k, abs(S.psi_k))\n",
    "    title.set_text(\"t = %.2f\" % S.t)\n",
    "    return (psi_x_line, V_x_line, center_line, psi_k_line, title)\n",
    "\n",
    "# call the animator.  blit=True means only re-draw the parts that have changed.\n",
    "anim = animation.FuncAnimation(fig, animate, init_func=init,\n",
    "                               frames=frames, interval=30, blit=True)\n",
    "\n",
    "\n",
    "# uncomment the following line to save the video in mp4 format.  This\n",
    "# requires either mencoder or ffmpeg to be installed on your system\n",
    "\n",
    "#anim.save('schrodinger_barrier.mp4', fps=15, extra_args=['-vcodec', 'libx264'])\n",
    "\n",
    "pl.show()"
   ]
  },
  {
   "cell_type": "code",
   "execution_count": null,
   "metadata": {},
   "outputs": [],
   "source": [
    "HTML(anim.to_jshtml())"
   ]
  },
  {
   "cell_type": "markdown",
   "metadata": {},
   "source": [
    "# A bit more on 3D plotting\n",
    "\n",
    "In Lecture 3, you saw an example of a 3D surface plot of the Higgs potential.  Here a little trick to make 3D plots interactive within Jupyter notebooks; add the following line: %matplotlib notebook"
   ]
  },
  {
   "cell_type": "code",
   "execution_count": null,
   "metadata": {},
   "outputs": [],
   "source": [
    "# By Armin Moser\n",
    "\n",
    "%matplotlib notebook\n",
    "\n",
    "from mpl_toolkits.mplot3d import Axes3D\n",
    "import matplotlib\n",
    "import numpy as np\n",
    "from matplotlib import cm\n",
    "from matplotlib import pyplot as plt\n",
    "step = 0.04\n",
    "maxval = 1.0\n",
    "fig = plt.figure()\n",
    "ax = fig.add_subplot(111, projection='3d')\n",
    "\n",
    "# create supporting points in polar coordinates\n",
    "r = np.linspace(0,1.25,50)\n",
    "p = np.linspace(0,2*np.pi,50)\n",
    "R,P = np.meshgrid(r,p)\n",
    "# transform them to cartesian system\n",
    "X,Y = R*np.cos(P),R*np.sin(P)\n",
    "\n",
    "Z = ((R**2 - 1)**2)\n",
    "ax.plot_surface(X, Y, Z, rstride=1, cstride=1, cmap=cm.YlGnBu_r)\n",
    "ax.set_zlim3d(0, 1)\n",
    "ax.set_title('Higgs potential')\n",
    "ax.set_xlabel(r'$\\phi_\\mathrm{real}$')\n",
    "ax.set_ylabel(r'$\\phi_\\mathrm{im}$')\n",
    "ax.set_zlabel(r'$V(\\phi)$')\n",
    "plt.show()"
   ]
  },
  {
   "cell_type": "markdown",
   "metadata": {},
   "source": [
    "Finally, you can combine animations and 3D surface plots: [see here](https://pythonmatplotlibtips.blogspot.com/2018/11/animation-3d-surface-plot-funcanimation-matplotlib.html)"
   ]
  },
  {
   "cell_type": "code",
   "execution_count": null,
   "metadata": {},
   "outputs": [],
   "source": [
    "import numpy as np\n",
    "import matplotlib.pyplot as plt\n",
    "from mpl_toolkits.mplot3d import Axes3D \n",
    "import matplotlib.animation as animation\n",
    "import matplotlib"
   ]
  },
  {
   "cell_type": "markdown",
   "metadata": {},
   "source": [
    "Note that this is done is slightly different way than the 2D animations we had above.  Below, the variable zarray is storing the z values for all frames of the animation.  The update_plot() function is then used to erase the current surface and draw a new one for each frame of the animation."
   ]
  },
  {
   "cell_type": "code",
   "execution_count": null,
   "metadata": {},
   "outputs": [],
   "source": [
    "N = 150 # Meshsize\n",
    "fps = 10 # frame per sec\n",
    "frn = 50 # frame number of the animation\n",
    "\n",
    "x = np.linspace(-4,4,N+1)\n",
    "x, y = np.meshgrid(x, x)\n",
    "zarray = np.zeros((N+1, N+1, frn))\n",
    "\n",
    "def f(x,y,sig):\n",
    "    return 1/np.sqrt(sig)*np.exp(-(x**2+y**2)/sig**2)\n",
    "\n",
    "for i in range(frn):\n",
    "    zarray[:,:,i] = f(x,y,1.5+np.sin(i*2*np.pi/frn))"
   ]
  },
  {
   "cell_type": "code",
   "execution_count": null,
   "metadata": {},
   "outputs": [],
   "source": [
    "def update_plot(frame_number, zarray, plot):\n",
    "    plot[0].remove()\n",
    "    plot[0] = ax.plot_surface(x, y, zarray[:,:,frame_number], cmap=\"magma\")\n",
    "\n",
    "fig = plt.figure()\n",
    "ax = fig.add_subplot(111, projection='3d')\n",
    "\n",
    "plot = [ax.plot_surface(x, y, zarray[:,:,0], color='0.75', rstride=1, cstride=1)]\n",
    "ax.set_zlim(0,1.1)\n",
    "anim = animation.FuncAnimation(fig, update_plot, frn, fargs=(zarray, plot), interval=1000/fps)\n",
    "\n",
    "plt.close()"
   ]
  },
  {
   "cell_type": "code",
   "execution_count": null,
   "metadata": {},
   "outputs": [],
   "source": [
    "HTML(anim.to_jshtml())"
   ]
  },
  {
   "cell_type": "code",
   "execution_count": null,
   "metadata": {},
   "outputs": [],
   "source": []
  }
 ],
 "metadata": {
  "kernelspec": {
   "display_name": "Python 3",
   "language": "python",
   "name": "python3"
  },
  "language_info": {
   "codemirror_mode": {
    "name": "ipython",
    "version": 3
   },
   "file_extension": ".py",
   "mimetype": "text/x-python",
   "name": "python",
   "nbconvert_exporter": "python",
   "pygments_lexer": "ipython3",
   "version": "3.6.9"
  }
 },
 "nbformat": 4,
 "nbformat_minor": 2
}
