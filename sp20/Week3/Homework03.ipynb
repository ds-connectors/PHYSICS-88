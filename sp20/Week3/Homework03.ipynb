{
 "cells": [
  {
   "cell_type": "markdown",
   "metadata": {},
   "source": [
    "Your name here.  \n",
    "Your Workshop section here."
   ]
  },
  {
   "cell_type": "markdown",
   "metadata": {
    "collapsed": true
   },
   "source": [
    "# Homework 3: Arrays,  File I/O and Plotting"
   ]
  },
  {
   "cell_type": "markdown",
   "metadata": {},
   "source": [
    "** Submit this notebook to bCourses to receive a credit for this assignment.**\n",
    "\n",
    "Please complete this homework assignment in code cells in the iPython notebook. Include comments in your code when necessary. Enter your name in the cell at the top of the notebook, and rename the notebook [email_name]_HW03.ipynb, where [email_name] is the part of your UCB email address that precedes \"@berkeley.edu\". Please also submit a PDF of the jupyter notebook to bcourses.  Note, that when saving as PDF you don't want to use the option with latex because it crashes, but rather the one to save it directly as a PDF."
   ]
  },
  {
   "cell_type": "markdown",
   "metadata": {},
   "source": [
    "## Problem 1: Sunspots\n",
    "\n",
    "[Adapted from Newman, Exercise 3.1] At <a href=\"http://www-personal.umich.edu/~mejn/computational-physics/sunspots.txt\">this link</a> (and also in your current directory on datahub) you will find a file called `sunspots.txt`, which contains the observed number of sunspots on the Sun for each month since January 1749. The file contains two columns of numbers, the first being the month and the second being the sunspot number.\n",
    "\n",
    "a. Write a program that reads in the data and makes a graph of sunspots as a function of time. Adjust the $x$ axis so that the data fills the whole horizontal width of the graph."
   ]
  },
  {
   "cell_type": "markdown",
   "metadata": {},
   "source": [
    "b. Modify your code to display two subplots in a single figure: The plot from Part 1 with all the data, and a second subplot with the first 1000 data points on the graph."
   ]
  },
  {
   "cell_type": "markdown",
   "metadata": {},
   "source": [
    "c. Write a function `running_average(y, r)` that takes an array or list $y$ and calculates the running average of the data, defined by \n",
    "$$ Y_k = \\frac{1}{2r+1} \\sum_{m=-r}^r y_{k+m},$$\n",
    "where $y_k$ are the sunspot numbers in our case. Use this function and modify your second subplot (the one with the first 1000 data points) to plot both the original data and the running average on the same graph, again over the range covered by the first 1000 data points. Use $r=5$, but make sure your program allows the user to easily change $r$."
   ]
  },
  {
   "cell_type": "markdown",
   "metadata": {},
   "source": [
    "The next two parts may require you to google for how to do things. Make a strong effort to do these parts on your own without asking for help. If you do ask for help from a GSI or friend, first ask them to point you to the resource they used, and do your best to learn the necessary techniques from that resource yourself. Finding and learning from online documentation and forums is a very important skill. (Hint: Stack Exchange/Stack Overflow is often a great resource.)\n",
    "\n",
    "d. Add legends to each of your subplots, but make them partially transparent, so that you can still see any data that they might overlap. *Note: In your program, you should only have to change $r$ for the running average in one place to adjust both the graph and the legend.*"
   ]
  },
  {
   "cell_type": "markdown",
   "metadata": {},
   "source": [
    "e. Since the $x$ and $y$ axes in both subplots have the same units, add shared $x$ and $y$ labels to your plot that are centered on the horizontal and vertical dimensions of your figure, respectively. Also add a single title to your figure.\n",
    "\n",
    "When your are finished, your plot should look something close to this:\n",
    "\n",
    "![title](img/p1_output.png)"
   ]
  },
  {
   "cell_type": "markdown",
   "metadata": {},
   "source": [
    "#### Hints\n",
    "\n",
    "* The running average is not defined for the first and last few points that you're taking a running average over. (Why is that?) Notice, for instance, that the black curve in the plot above doesn't extend quite as far on either side as the red curve. For making your plot, it might be helpful if your `running_average` function returns an array of the $x$-values $x_k$ (or their corresponding indices $k$) along with an array of the $y$-values $Y_k$ that you compute for the running average.\n",
    "\n",
    "* You can use the Latex code `$\\pm$` for the $\\pm$ symbol in the legend. You can also just write `+/-` if you prefer.\n"
   ]
  },
  {
   "cell_type": "code",
   "execution_count": null,
   "metadata": {},
   "outputs": [],
   "source": [
    "import numpy as np\n",
    "import matplotlib.pyplot as plt\n",
    "\n",
    "# These are some optional parameters that adjust figure size and font size in matplotlib plots;\n",
    "# feel free to adjust them\n",
    "plt.rcParams['figure.figsize'] = [14, 9]\n",
    "plt.rcParams['font.size'] = 18\n",
    "\n",
    "# Below, we use numpy to load the data into two arrays\n",
    "month, sunspots = np.loadtxt('sunspots.txt', unpack = True)\n",
    "\n",
    "# Now use matplotlib to plot the data; numpy array slicing will be helpful for plotting the first 1000 data points"
   ]
  },
  {
   "cell_type": "code",
   "execution_count": null,
   "metadata": {},
   "outputs": [],
   "source": [
    "# For creating subplots, I suggest the \"object-oriented\" approach outlined in the workshop\n",
    "# You can start with a line of code like this:\n",
    "\n",
    "fig1, (ax1, ax2) = plt.subplots(2,1)  #fig1 refers to the entire figure, while ax1 and ax2 are now the subplots within the figure\n",
    "\n",
    "# Then, instead of using plt.plot(), plt.xlabel(), etc. most plotting commands act on a specific axis, for example:\n",
    "# ax1.plot(xvalues, yvalues) or ax1.x_lim([lower_bound, upper_bound]) or ax1.legend()"
   ]
  },
  {
   "cell_type": "code",
   "execution_count": null,
   "metadata": {},
   "outputs": [],
   "source": [
    "def running_average(y, r):\n",
    "    \"\"\"Return the symmetric rolling average of y, with each average taken over 2*r + 1 data points.\n",
    "       The first input, y, will be a numpy array (the sunspots array), and the second input, r, is\n",
    "       the integer value used in the definition.\"\"\"\n",
    "    \n",
    "    # You may find it useful to \"initialize\" a numpy array of zeros, and then fill it with the appropriate \n",
    "    # running average values\n",
    "    y_running_average = np.zeros(y.size)\n",
    "    \n",
    "    # The first (and last) r entries of y can't have a running average of length 2r + 1.  For each of these entries,\n",
    "    # compute the maximally sized symmetric running average, i.e. index 0 is unaveraged, index 1 is an average of \n",
    "    # three elements, index 2 is an average of five elements, etc. \n",
    "    \n",
    "    # You can dive right into writing this function, or try to think it through on paper first.  There are lots\n",
    "    # of ways to do this; one way is to break it up into 3 parts: the first r elements, the middle, and the final\n",
    "    # r elements.  Then for each part, try a pair of nested for loops (loop inside a loop) if you're stuck.  (The\n",
    "    # inner loop can be used to calculate the average at each point).\n",
    "    \n",
    "     \n",
    "    # Now we return our array of running average values so we can plot them\n",
    "    # If it makes it easier, you can define and return the x values for the running average also \n",
    "    return y_running_average"
   ]
  },
  {
   "cell_type": "code",
   "execution_count": null,
   "metadata": {},
   "outputs": [],
   "source": [
    "# With your running average function defined, now make the final plot--remember to use subplots, legends and labels!"
   ]
  },
  {
   "cell_type": "markdown",
   "metadata": {},
   "source": [
    "## Problem 2: Variety Plot\n",
    "\n",
    "In this problem, you will reproduce the following as a single figure with four subplots, as best you can:\n",
    "\n",
    "![title](img/p2_output.png)"
   ]
  },
  {
   "cell_type": "markdown",
   "metadata": {},
   "source": [
    "Here are some hints and directions for each one:\n",
    "\n",
    "**Upper-left:** This is an image of silicon taken with an electron microscope.\n",
    "\n",
    "You can find the data file [here](http://www-personal.umich.edu/~mejn/computational-physics/stm.txt) and in your datahub directory, among resources for the [Newman](http://www-personal.umich.edu/~mejn/computational-physics/) text.\n",
    "\n",
    "You may assume that the upper-left of the array is indeed the upper-left of the image.\n",
    "\n",
    "Both axes should run from 0 to 5.5.\n",
    "\n",
    "This subplot uses the `gray` colormap."
   ]
  },
  {
   "cell_type": "markdown",
   "metadata": {},
   "source": [
    "**Upper-Right:** Matplotlib can plot any list of $(x,y)$ points you give it, including parametric or polar curves. The curve in this subplot is called a \"deltoid\", and is the result of the equations\n",
    "\n",
    "$$ \\begin{align*}\n",
    "x &= 2\\cos\\theta + \\cos2\\theta \\\\\n",
    "y &= 2\\sin\\theta - \\sin2\\theta\n",
    "\\end{align*} $$\n",
    "\n",
    "over a range of $\\theta$ from $0$ to $2\\pi$.\n",
    "\n",
    "To get the aspect ratio equal with nice spacing around the curve, try one of the following, depending on how you are making your subplots:\n",
    "- if you're using `plt.subplot(...)` to get each subplot (the \"state-machine\" approach), add the `aspect='equal'` and `adjustable='datalim'` arguments to the deltoid subplot, so your command will look something like `plt.subplot(..., aspect='equal', adjustable='datalim')`.\n",
    "- if you're using `... = plt.subplots(...)` (note the 's'!) or `ax = fig.add_subplot(...)` on a figure `fig` to get subplots with axes objects (the \"object-oriented\" approach), add the line `ax.set_aspect(aspect='equal', adjustable='datalim')`, where `ax` is the axes object you want to affect."
   ]
  },
  {
   "cell_type": "markdown",
   "metadata": {},
   "source": [
    "**Lower-Left:** This kind of plot is called a log-log plot, where both axes are on a logarithmic scale. Google or look in the matplotlib gallery to learn how to make this kind of plot.\n",
    "\n",
    "The three curves are $y = x$, $y = x^2$, and $y = x^3$, where $x$ ranges over $10^{-1}$ to $10^1$. (Note: You can write powers of ten in python using the shorthand `1e-1` for $10^{-1}$, `1e1` for $10^1$, and so on.)\n",
    "\n",
    "To make the pretty mathematical labels you see in the sample figure above, you can use\n",
    "* `r'$y = x, x^2, x^3$'` for the title\n",
    "* `r'$x$'` for the $x$-axis, and\n",
    "* `r'$y$'` for the $y$-axis.\n",
    "\n",
    "Just put these bits of code as you see them (with the **`r`** outside the quotes!) where you would normally put a string for the title or axes labels."
   ]
  },
  {
   "cell_type": "markdown",
   "metadata": {},
   "source": [
    "**Lower-Right:** Here you see a density plot with contours of the function\n",
    "\n",
    "$$f(x,y) = \\cos^2(\\pi\\,x\\,y ) e^{-\\frac{x^2 + 4 y}{8}},$$\n",
    "\n",
    "over $x$ from -2 to 2 and $y$ from -3 to 0.2.\n",
    "\n",
    "Use `meshgrid` to generate the $x$ and $y$ values. Be careful to make sure that the point $(-2,-3)$ is in the bottom left corner of the plot.\n",
    "\n",
    "You'll need to use both `imshow` and `contour` to generate the density plot and then overlay it with contours. This plot uses the default contour spacing, so you don't need to worry about adjusting that. The colormap is `jet`, matplotlib's current default. (The default colormap will be changing to `viridis` in the next version.)\n",
    "\n",
    "To get the ticks spaced out like you see here, use matplotlib's `xticks` or `set_xticks` functions for the $x$-axis (depending on how you're making your plots), and similar functions for the $y$-axis. You can pass each of these a single argument: a simple list or array of the numbers you want ticked on each axis.\n",
    "\n",
    "**Spacing the subplots:** Once all is said and done and you run `plt.show()`, you may notice your plots are cramped and overlapping each other. Add the line `plt.tight_layout()` before `plt.show()`, and matplotlib will space things out in an attempt to avoid overlapping subplots."
   ]
  },
  {
   "cell_type": "code",
   "execution_count": null,
   "metadata": {},
   "outputs": [],
   "source": [
    "import numpy as np\n",
    "import matplotlib.image as mpimg\n",
    "from numpy import cos, sin\n",
    "from math import pi\n",
    "\n",
    "# These are some optional parameters that adjust figure size and font size in matplotlib plots;\n",
    "# feel free to adjust them\n",
    "plt.rcParams['figure.figsize'] = [11, 8]\n",
    "plt.rcParams['font.size'] = 16\n",
    "\n",
    "# Defining a figure object and 4 axes objects to do our plotting\n",
    "fig1, ((ax1, ax2), (ax3, ax4)) = plt.subplots(2,2)\n",
    "\n",
    "\n",
    "\n",
    "# upper left\n",
    "# use plotting commands on ax1\n",
    "# array 2d contains the STM data \n",
    "array2d = np.loadtxt('stm.txt')\n",
    "\n",
    "\n",
    "\n",
    "# upper right\n",
    "# use plotting commands on ax2\n",
    "\n",
    "\n",
    "\n",
    "# bottom left\n",
    "# use plotting commands on ax3\n",
    "\n",
    "\n",
    "\n",
    "# bottom right\n",
    "# use plotting commands on ax4\n",
    "\n",
    "\n",
    "\n",
    "# tight_layout() tends to make figures with subplots look a bit nicer\n",
    "plt.tight_layout()\n",
    "plt.show()"
   ]
  }
 ],
 "metadata": {
  "kernelspec": {
   "display_name": "Python 3",
   "language": "python",
   "name": "python3"
  },
  "language_info": {
   "codemirror_mode": {
    "name": "ipython",
    "version": 3
   },
   "file_extension": ".py",
   "mimetype": "text/x-python",
   "name": "python",
   "nbconvert_exporter": "python",
   "pygments_lexer": "ipython3",
   "version": "3.7.4"
  }
 },
 "nbformat": 4,
 "nbformat_minor": 1
}
