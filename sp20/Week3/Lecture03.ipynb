{
 "cells": [
  {
   "cell_type": "markdown",
   "metadata": {},
   "source": [
    "# Lecture 3: Visualization"
   ]
  },
  {
   "cell_type": "markdown",
   "metadata": {},
   "source": [
    "## Announcements\n",
    "* My office hours this week will be from 3 - 4 pm on Tuesday.  Next week they will be from 5 - 6 pm on Tuesday (only virtual -- use the zoom link!) You can always find out when they will be from the following link: https://calendar.google.com/calendar/b/2/r?cid=aGVhdGhlci5ncmF5QGJlcmtlbGV5LmVkdQ\n",
    "* No lecture next week on Monday as its President's day"
   ]
  },
  {
   "cell_type": "markdown",
   "metadata": {},
   "source": [
    "## Feedback (thanks!)\n",
    "* Lists vs arrays: when to use which?\n",
    "* How data is stored in the computer\n",
    "* More about the % command (see later!)\n"
   ]
  },
  {
   "cell_type": "markdown",
   "metadata": {},
   "source": [
    "### Lists vs arrays\n",
    "\n",
    "Any computing language defines more complex data structures, which aggregate individual data into a single container. \n",
    "\n",
    "The simplest such data structure is an **array**, which holds a fixed number of elements of a single type, usually in a contiguous region in memory. \n",
    "Individual array elements can be indexed; first index in Python and other C-like languages is 0\n",
    "Arrays can be multi-dimensional, although they are always \"unrolled\" into a 1d structure when they are stored in computer memory\n",
    "\n",
    "Another sequential structure is a **list**, which is more dynamic, i.e. allows one to insert, remove, and append elements with little overhead, but is less suitable for scientific applications.\n",
    "\n",
    "Third common structure is a **dictionary**, which is often implemented as a **hash table** (e.g. in Python) or a **tree** (e.g. in C++ STL)\n",
    "\n",
    "#### Arrays"
   ]
  },
  {
   "cell_type": "code",
   "execution_count": null,
   "metadata": {},
   "outputs": [],
   "source": [
    "import numpy as np\n",
    "b = np.array([1,2,3,4,5]) #an array\n",
    "a = [1,2,3,4,5] # a list\n",
    "print (a[0],a[4])\n",
    "for i in a:\n",
    "    print (i)"
   ]
  },
  {
   "cell_type": "code",
   "execution_count": null,
   "metadata": {},
   "outputs": [],
   "source": [
    "print (len(a))   # how long is an array ? "
   ]
  },
  {
   "cell_type": "code",
   "execution_count": null,
   "metadata": {},
   "outputs": [],
   "source": [
    "a = a*3\n",
    "print(a)"
   ]
  },
  {
   "cell_type": "code",
   "execution_count": null,
   "metadata": {},
   "outputs": [],
   "source": [
    "b = b*3\n",
    "print(b)"
   ]
  },
  {
   "cell_type": "code",
   "execution_count": null,
   "metadata": {},
   "outputs": [],
   "source": [
    "m = np.ndarray(shape=(5,4),dtype=float)  # unitialized array # The N-dimensional array\n",
    "print(m)\n",
    "m[:,:] = 0\n",
    "print(m)\n",
    "m += 5   # take current values of m, increment by 5\n",
    "m[1:3,2] = 10 # 1:3 means \"from 1 up to but not including 3\"\n",
    "print(m)"
   ]
  },
  {
   "cell_type": "markdown",
   "metadata": {},
   "source": [
    "More on matrix operations when we discuss linear algebra"
   ]
  },
  {
   "cell_type": "code",
   "execution_count": null,
   "metadata": {},
   "outputs": [],
   "source": [
    "v = np.array([1,2,3])\n",
    "w = np.array([-3,3,-1])\n",
    "print (v*w)  \n",
    "print (v.dot(w))     # now we can do linear algebra !"
   ]
  },
  {
   "cell_type": "markdown",
   "metadata": {},
   "source": [
    "#### Lists"
   ]
  },
  {
   "cell_type": "markdown",
   "metadata": {},
   "source": [
    "Lists are also enumerable data sets, but they can accommodate mixed data types. The data are not contiguous in memory, so iterating over the lists is slower than over arrays. On the other hand, changing the size of the list is faster than the size of the array (e.g. insert or delete elements). "
   ]
  },
  {
   "cell_type": "code",
   "execution_count": null,
   "metadata": {},
   "outputs": [],
   "source": [
    "l = [2,4,5,'Apple']\n",
    "print(l[0],l[3],len(l))\n",
    "print()\n",
    "for element in l:\n",
    "    print (element, type(element))\n",
    "    "
   ]
  },
  {
   "cell_type": "markdown",
   "metadata": {},
   "source": [
    "## Data storage in python"
   ]
  },
  {
   "cell_type": "markdown",
   "metadata": {},
   "source": [
    "Python is clever! We talked about how python can be dynamic in terms of data storage. We talked about floats and how the different parts of the float are stored, so let's go into a bit more detail about how integers are stored. In order to achieve this, python needs to store both the data for the integer and some extra information for the overhead.\n",
    "\n",
    "![title](integers.png)\n",
    "\n",
    "So here is what is actually inside an integer:\n",
    "\n",
    "* refcnt: a reference count that helps Python silently handle memory allocation and deallocation\n",
    "* type: encodes the type of the variable\n",
    "* size: specifies the size of the following data members\n",
    "* digit: contains the actual integer value that we expect the Python variable to represent.\n"
   ]
  },
  {
   "cell_type": "markdown",
   "metadata": {},
   "source": [
    "### Special keywords for loops: break, continue, pass, else\n",
    "\n",
    "#### break:"
   ]
  },
  {
   "cell_type": "code",
   "execution_count": null,
   "metadata": {},
   "outputs": [],
   "source": [
    "sum = 0\n",
    "count = 0\n",
    "while sum < 100:\n",
    "    sum += 10\n",
    "    count += 1\n",
    "    if count >= 6:\n",
    "        break\n",
    "    \n",
    "print (sum, count)"
   ]
  },
  {
   "cell_type": "markdown",
   "metadata": {},
   "source": [
    "#### continue:"
   ]
  },
  {
   "cell_type": "code",
   "execution_count": null,
   "metadata": {},
   "outputs": [],
   "source": [
    "sum = 0\n",
    "count = 0\n",
    "while sum < 100000:\n",
    "    sum += 10\n",
    "    count += 1\n",
    "    if count > 4 :\n",
    "        continue\n",
    "    print (sum)\n",
    "    \n",
    "print (sum, count)"
   ]
  },
  {
   "cell_type": "markdown",
   "metadata": {},
   "source": [
    "#### else:"
   ]
  },
  {
   "cell_type": "code",
   "execution_count": null,
   "metadata": {},
   "outputs": [],
   "source": [
    "sum = 0\n",
    "count = 0\n",
    "while sum < 100:\n",
    "    sum += 10\n",
    "    count += 1\n",
    "    if count >= 60:\n",
    "        break\n",
    "    else:                                     # beware of indentation !!!\n",
    "        print (\"Finished without break\")\n",
    "    \n",
    "    \n",
    "print (sum, count)"
   ]
  },
  {
   "cell_type": "markdown",
   "metadata": {},
   "source": [
    "## Outline for Lecture 2 \n",
    "\n",
    "* Plotting with Matplotlib\n",
    "    * Plotting basics review and extension\n",
    "        - plot()\n",
    "            - can use lists or arrays\n",
    "            - format strings ('b--', 'g^', etc.)\n",
    "            - automatically creates a figure if one doesn't exist\n",
    "                - otherwise makes new 'axes' on active figure\n",
    "        - figure()\n",
    "            - used to make new figure and make existing ones active\n",
    "                - e.g., figure(2) creates Figure 2, or makes Figure 2 active if it already exists.\n",
    "        - subplot() and add_subplot()\n",
    "            - for making subplots and adding subplots to figures\n",
    "            - basic example of working with axes objects\n",
    "                - (important, because most gallery examples make plots by using methods of axes objects)\n",
    "                - adding plots to them\n",
    "                - drawing things on them\n",
    "                - getting and setting limits\n",
    "        - matplotlib documentation and gallery\n",
    "        \n",
    "(If there's enough time)\n",
    "\n",
    "* Input/Output\n",
    "    * Reading from the prompt\n",
    "    * Reading from the command line\n",
    "    * File input/output\n",
    "                \n",
    "   "
   ]
  },
  {
   "cell_type": "markdown",
   "metadata": {
    "collapsed": true
   },
   "source": [
    "## Plotting with Matplotlib"
   ]
  },
  {
   "cell_type": "markdown",
   "metadata": {},
   "source": [
    "Matplotlib provides an interface, and a set of convenient tools for graphing (2-dimensional, i.e. a graph with 2 axes, as well as 3-dimensional). The interface and appearance of the plots are deliberately made to resemble Matlab. One could argue with this aesthetic choice, but the interface makes it much easier for users used to Matlab to transition to Python (and vice versa!)"
   ]
  },
  {
   "cell_type": "markdown",
   "metadata": {},
   "source": [
    "Let's look at an example"
   ]
  },
  {
   "cell_type": "code",
   "execution_count": null,
   "metadata": {},
   "outputs": [],
   "source": [
    "from pylab import * # import all functions from numpy and matplotlib. Beware ! Overloads functions like sqrt, sin\n",
    "\n",
    "# make plots inline (so that the plots appear)\n",
    "%matplotlib inline\n",
    "x = arange(-pi, pi, pi/100)   # create an array of x values\n",
    "plot(x, sin(x), 'b:', label='sine' )   # plot sin(x) in a blue, dotted line\n",
    "plot(x, cos(x), 'g--', label='cosine' ) # plot cos(x) in a green, dashed line\n",
    "xlabel('x value' )\n",
    "ylabel('y value' )\n",
    "xlim(-pi, pi)\n",
    "ylim(-1, 1)\n",
    "legend(loc='upper left')\n",
    "show()"
   ]
  },
  {
   "cell_type": "markdown",
   "metadata": {},
   "source": [
    "Actually, plot is a very flexible command. Arguments can any sequential data types (e.g. lists), although internally they are converted into arrays. Attributes can be set on the command line or separately (see below). "
   ]
  },
  {
   "cell_type": "code",
   "execution_count": null,
   "metadata": {},
   "outputs": [],
   "source": [
    "plot([1,2,3,4], [1,4,9,16], marker='.', color='aquamarine')\n",
    "axis([0, 5, 0, 20])\n",
    "xlabel('x value' )\n",
    "ylabel('y value' )\n",
    "show()"
   ]
  },
  {
   "cell_type": "markdown",
   "metadata": {},
   "source": [
    "### Line attributes\n",
    "\n",
    "![Line styles](linestyles.png)\n"
   ]
  },
  {
   "cell_type": "markdown",
   "metadata": {},
   "source": [
    "### Colors\n",
    "\n",
    "Huge range of colors in python! Here is the full table, but you can also just start with the base colors: b, g, r, c, m, y, k, w\n",
    "\n",
    "![Colors](colors.png)\n",
    "\n",
    "See PDF version for better resolution."
   ]
  },
  {
   "cell_type": "markdown",
   "metadata": {},
   "source": [
    "### Markers\n",
    "\n",
    "![Filled markers](filledmarkers.png)\n",
    "![Unfilled markers](unfilledmarkers.png)\n",
    "\n",
    "See (http://matplotlib.org/) for more details"
   ]
  },
  {
   "cell_type": "markdown",
   "metadata": {},
   "source": [
    "### Plots and subplots\n",
    "\n",
    "Subplots are very useful when you want to draw more than one plot at the same time. Let's start by drawing two plots in the same cell (but things will quickly get quite a bit more complicated!)"
   ]
  },
  {
   "cell_type": "code",
   "execution_count": null,
   "metadata": {},
   "outputs": [],
   "source": [
    "import numpy as np\n",
    "import matplotlib.pyplot as plt\n",
    "\n",
    "x1 = np.linspace(0.0, 5.0) #what happens if I don't specify the number of points\n",
    "x2 = np.linspace(0.0, 2.0)\n",
    "\n",
    "y1 = np.cos(2 * np.pi * x1) * np.exp(-x1/2)\n",
    "y2 = np.cos(2 * np.pi * x2)\n",
    "\n",
    "plt.subplot(2, 1, 1) # subplot(nrows, ncols, index, **kwargs)\n",
    "plt.plot(x1, y1, color='black', marker='o')\n",
    "plt.title('A tale of 2 subplots')\n",
    "plt.ylabel('Damped oscillation')\n",
    "\n",
    "plt.subplot(2, 1, 2)\n",
    "plt.plot(x2, y2, 'r.-')\n",
    "plt.xlabel('time (s)')\n",
    "plt.ylabel('Undamped')\n",
    "\n",
    "plt.show()"
   ]
  },
  {
   "cell_type": "markdown",
   "metadata": {},
   "source": [
    "Now let's explore a few different ways to use subplots()\n",
    "\n",
    "#### A figure and a single subplot"
   ]
  },
  {
   "cell_type": "code",
   "execution_count": null,
   "metadata": {},
   "outputs": [],
   "source": [
    "import matplotlib.pyplot as plt\n",
    "import numpy as np\n",
    "\n",
    "# Simple data to display in various forms\n",
    "x = np.linspace(0, 2 * np.pi, 400)\n",
    "y = np.sin(x ** 2)\n",
    "\n",
    "# Just a figure and one subplot\n",
    "f, ax = plt.subplots() #f is the figure; a is the axis\n",
    "ax.plot(x, y)\n",
    "ax.set_title('A single subplot')\n",
    "ax.set_xlabel('Time (s)')\n",
    "ax.set_ylabel('Amplitude (m)')\n",
    "plt.show()\n"
   ]
  },
  {
   "cell_type": "markdown",
   "metadata": {},
   "source": [
    "#### Two subplots that share the x-axis"
   ]
  },
  {
   "cell_type": "code",
   "execution_count": null,
   "metadata": {},
   "outputs": [],
   "source": [
    "f, axarr = plt.subplots(2, sharex=True)\n",
    "axarr[0].plot(x, y,'r')\n",
    "axarr[0].set_title('Sharing X axis')\n",
    "axarr[1].scatter(x, y, color='g')\n",
    "axarr[1].set_xlabel('time (s)')"
   ]
  },
  {
   "cell_type": "markdown",
   "metadata": {},
   "source": [
    "#### Two subplots that share the y-axis"
   ]
  },
  {
   "cell_type": "code",
   "execution_count": null,
   "metadata": {},
   "outputs": [],
   "source": [
    "f, (ax1, ax2) = plt.subplots(1, 2, sharey=True)\n",
    "ax1.plot(x, y, 'r')\n",
    "ax1.set_title('Sharing Y axis')\n",
    "ax1.set_ylabel('Amplitude (m)')\n",
    "ax1.set_xlabel('time (s)')\n",
    "ax2.scatter(x, y, color='g')\n",
    "ax2.set_xlabel('time (s)')"
   ]
  },
  {
   "cell_type": "markdown",
   "metadata": {},
   "source": [
    "#### Three subplots sharing both x/y axes"
   ]
  },
  {
   "cell_type": "code",
   "execution_count": null,
   "metadata": {},
   "outputs": [],
   "source": [
    "f, (ax1, ax2, ax3) = plt.subplots(3, sharex=True, sharey=True)\n",
    "ax1.plot(x, y, 'r')\n",
    "ax1.set_title('Sharing both axes')\n",
    "ax2.scatter(x, y, color='g')\n",
    "ax3.scatter(x, 2 * y ** 2 - 2, color='b')\n",
    "# Fine-tune figure; make subplots close to each other and hide x ticks for\n",
    "# all but bottom plot.\n",
    "#f.subplots_adjust(hspace=0)\n",
    "#plt.setp([a.get_xticklabels() for a in f.axes[:-1]], visible=False)\n"
   ]
  },
  {
   "cell_type": "markdown",
   "metadata": {},
   "source": [
    "#### Four subplots; sharing x and y axes in each row"
   ]
  },
  {
   "cell_type": "code",
   "execution_count": null,
   "metadata": {},
   "outputs": [],
   "source": [
    "f, ((ax1, ax2), (ax3, ax4)) = plt.subplots(2, 2, sharex='col', sharey='row')\n",
    "ax1.plot(x, y, 'r')\n",
    "ax1.set_title('Sharing x per column, y per row')\n",
    "ax2.scatter(x, y, color='g')\n",
    "ax3.scatter(x, 2 * y ** 2 - 2, color='b')\n",
    "ax4.plot(x, 2 * y ** 2 - 1, 'y')\n"
   ]
  },
  {
   "cell_type": "markdown",
   "metadata": {},
   "source": [
    "#### Four plots, four axes (returned as a 2-d array)"
   ]
  },
  {
   "cell_type": "code",
   "execution_count": null,
   "metadata": {},
   "outputs": [],
   "source": [
    "\n",
    "f, axarr = plt.subplots(2, 2)\n",
    "axarr[0, 0].plot(x, y, 'r')\n",
    "axarr[0, 0].set_title('Axis [0,0]')\n",
    "axarr[0, 1].scatter(x, y, color='g')\n",
    "axarr[0, 1].set_title('Axis [0,1]')\n",
    "axarr[1, 0].plot(x, y ** 2 -1, 'b')\n",
    "axarr[1, 0].set_title('Axis [1,0]')\n",
    "axarr[1, 1].scatter(x, y ** 2 + 3, color = 'y')\n",
    "axarr[1, 1].set_title('Axis [1,1]')\n",
    "# Fine-tune figure; hide x ticks for top plots and y ticks for right plots\n",
    "plt.setp([a.get_xticklabels() for a in axarr[0, :]], visible=False)\n",
    "plt.setp([a.get_yticklabels() for a in axarr[:, 1]], visible=False)\n",
    "\n",
    "plt.show()"
   ]
  },
  {
   "cell_type": "markdown",
   "metadata": {},
   "source": [
    "For (even more!) details see the [documentation](https://matplotlib.org/api/_as_gen/matplotlib.pyplot.subplots.html)"
   ]
  },
  {
   "cell_type": "markdown",
   "metadata": {},
   "source": [
    "### Histogramming \n",
    "\n",
    "Histograms are different to graphs because they store the data in bins. Histograms are used extensively in data analysis. We'll see them again in the lecture on statistics."
   ]
  },
  {
   "cell_type": "code",
   "execution_count": null,
   "metadata": {},
   "outputs": [],
   "source": [
    "from pylab import *\n",
    "from scipy.stats import norm # a new libary -- more advanced scientific programming\n",
    "\n",
    "mu = 200\n",
    "sigma = 25\n",
    "x = mu + sigma*randn(10000)\n",
    "\n",
    "val, bins, patches = hist(x, 50, density=True, color='g')\n",
    "print(bins)\n",
    "lines = plot(bins, norm.pdf(bins, mu, sigma), 'b--', label='fit', linewidth=3)\n",
    "foo = legend([lines[0], patches[0]], ['Gaussian', 'hist'])"
   ]
  },
  {
   "cell_type": "markdown",
   "metadata": {},
   "source": [
    "Now let's have a look at what the different histtype settings do."
   ]
  },
  {
   "cell_type": "code",
   "execution_count": null,
   "metadata": {},
   "outputs": [],
   "source": [
    "import numpy as np\n",
    "import matplotlib.pyplot as plt\n",
    "\n",
    "# construct a histogram based on a Gaussian with mu=200 and sigma=25\n",
    "mu = 200\n",
    "sigma = 25\n",
    "x = mu + sigma*np.random.randn(10000)\n",
    "\n",
    "fig, (ax0, ax1) = plt.subplots(ncols=2, figsize=(8, 4)) # first the width, then the height\n",
    "\n",
    "ax0.hist(x, 20, density=1, histtype='stepfilled', facecolor='g') #stepfilled is the default\n",
    "ax0.set_title('stepfilled')\n",
    "\n",
    "# Create a histogram by providing the bin edges (unequally spaced).\n",
    "bins = [100, 150, 180, 195, 205, 220, 250, 300]\n",
    "ax1.hist(x, bins, density=1, histtype='bar', rwidth=0.8)\n",
    "ax1.set_title('unequal bins')\n",
    "\n",
    "plt.tight_layout()\n",
    "plt.show()"
   ]
  },
  {
   "cell_type": "markdown",
   "metadata": {},
   "source": [
    "### For fun: 3d plotting\n",
    "\n",
    "Does anyone know what this function is?"
   ]
  },
  {
   "cell_type": "code",
   "execution_count": null,
   "metadata": {},
   "outputs": [],
   "source": [
    "# By Armin Moser\n",
    "\n",
    "from mpl_toolkits.mplot3d import Axes3D\n",
    "import matplotlib\n",
    "import numpy as np\n",
    "from matplotlib import cm\n",
    "from matplotlib import pyplot as plt\n",
    "step = 0.04\n",
    "maxval = 1.0\n",
    "fig = plt.figure()\n",
    "ax = fig.add_subplot(111, projection='3d')\n",
    "\n",
    "# create supporting points in polar coordinates\n",
    "r = np.linspace(0,1.25,50)\n",
    "p = np.linspace(0,2*np.pi,50)\n",
    "R,P = np.meshgrid(r,p)\n",
    "# transform them to cartesian system\n",
    "X,Y = R*np.cos(P),R*np.sin(P)\n",
    "\n",
    "Z = ((R**2 - 1)**2)\n",
    "ax.plot_surface(X, Y, Z, rstride=1, cstride=1, cmap=cm.YlGnBu_r)\n",
    "ax.set_zlim3d(0, 1)\n",
    "ax.set_xlabel(r'$\\phi_\\mathrm{real}$')\n",
    "ax.set_ylabel(r'$\\phi_\\mathrm{im}$')\n",
    "ax.set_zlabel(r'$V(\\phi)$')\n",
    "plt.show()"
   ]
  },
  {
   "cell_type": "markdown",
   "metadata": {},
   "source": [
    "### More information\n",
    "We will cover plotting in the workshops. In the meantime, matplotlib is extensively documented:\n",
    "http://matplotlib.org/\n",
    "In particular, click on \"Gallery\" and \"Examples\" -- that's where a lot of this code has come from"
   ]
  },
  {
   "cell_type": "markdown",
   "metadata": {},
   "source": [
    "## Input and Output"
   ]
  },
  {
   "cell_type": "markdown",
   "metadata": {},
   "source": [
    "Most of the time, your code will need to process external data -- either entered by a human (through a keyboard), or read from external media. This is an example of *abstraction*: you write code that is stored separately from the data. \n",
    "\n",
    "Let's look at some basic examples"
   ]
  },
  {
   "cell_type": "markdown",
   "metadata": {},
   "source": [
    "#### Keyboard prompt"
   ]
  },
  {
   "cell_type": "code",
   "execution_count": null,
   "metadata": {},
   "outputs": [],
   "source": [
    "s = input('Enter a simple arithmetic problem ')\n",
    "x=eval(s)\n",
    "print (\"The answer to your problem,\", s,\", is \",x)"
   ]
  },
  {
   "cell_type": "markdown",
   "metadata": {},
   "source": [
    "You may want to convert strings to numerical types in order to perform calculations. See "
   ]
  },
  {
   "cell_type": "code",
   "execution_count": null,
   "metadata": {},
   "outputs": [],
   "source": [
    "age = input('What is your age ? ')\n",
    "print (type(age), age)\n",
    "ageNumber = int(age)\n",
    "print (type(ageNumber), ageNumber)\n",
    "nextYear = number+1\n",
    "print('Next year you will be',nextYear)"
   ]
  },
  {
   "cell_type": "markdown",
   "metadata": {},
   "source": [
    "Most often, you would want to enter several values and parse them. Use string method *split()*:\n",
    "But pay attention: the parsing is pretty rudimantary ! (examples)"
   ]
  },
  {
   "cell_type": "code",
   "execution_count": null,
   "metadata": {},
   "outputs": [],
   "source": [
    "s = input('Enter coordinates (x,y,z):')\n",
    "[x,y,z] = s.split(',')\n",
    "print (\"x=\",x,\"y=\",y,\"z=\",z)\n",
    "print (type(x), type(y), type(z))"
   ]
  },
  {
   "cell_type": "markdown",
   "metadata": {},
   "source": [
    "Sometimes you would want to convert to float or int immediately, so you can use list comprehension:"
   ]
  },
  {
   "cell_type": "code",
   "execution_count": null,
   "metadata": {},
   "outputs": [],
   "source": [
    "s = input('Enter coordinates (x,y,z):')\n",
    "[x,y,z] = [float(var) for var in (s.split(','))]\n",
    "print (\"x=\",x,\"y=\",y,\"z=\",z)\n",
    "print (type(x), type(y), type(z))\n",
    "print('x squared = ',x**2)"
   ]
  },
  {
   "cell_type": "markdown",
   "metadata": {},
   "source": [
    "#### Formatted output"
   ]
  },
  {
   "cell_type": "code",
   "execution_count": null,
   "metadata": {},
   "outputs": [],
   "source": [
    "for x in range(1, 11):\n",
    "    print (repr(x).rjust(3), repr(x*x).rjust(3),repr(x*x*x).ljust(6))    # right justification of strings"
   ]
  },
  {
   "cell_type": "markdown",
   "metadata": {},
   "source": [
    "You can also zero-pad numbers, e.g. "
   ]
  },
  {
   "cell_type": "code",
   "execution_count": null,
   "metadata": {},
   "outputs": [],
   "source": [
    "print ('-3.14'.zfill(7))"
   ]
  },
  {
   "cell_type": "code",
   "execution_count": null,
   "metadata": {},
   "outputs": [],
   "source": [
    "import math\n",
    "s = 'pi = {0:05.10e}'.format(math.pi)\n",
    "print(s)\n",
    "#print ('The value of PI is approximately {0:07.3f}, but you can also output more digits: {1}'.format(math.pi,math.pi))"
   ]
  },
  {
   "cell_type": "markdown",
   "metadata": {},
   "source": [
    "The format command in python is pretty powerful. Have a look [here](https://docs.python.org/3/library/string.html) to see everything it can do."
   ]
  },
  {
   "cell_type": "markdown",
   "metadata": {},
   "source": [
    "In the first lecture we discussed binary as a different representation compared to decimal. There's another one, called hexadecimal, which uses base 16. "
   ]
  },
  {
   "cell_type": "code",
   "execution_count": null,
   "metadata": {},
   "outputs": [],
   "source": [
    "i = int(input('Enter integer: '))\n",
    "print ('The hex representation of the integer is 0x{0:x}'.format(i))"
   ]
  },
  {
   "cell_type": "markdown",
   "metadata": {},
   "source": [
    "For those of you familiar with C (and its *sprintf()* function), you can use old-style formatting in python (if you want):"
   ]
  },
  {
   "cell_type": "code",
   "execution_count": null,
   "metadata": {},
   "outputs": [],
   "source": [
    "print ('The value of PI is approximately %7.3e.' % math.pi)\n",
    "i = int(input('Enter integer: '))\n",
    "print ('The hex representation of the integer is 0x%x' % i)"
   ]
  },
  {
   "cell_type": "markdown",
   "metadata": {},
   "source": [
    "### Reading and writing files"
   ]
  },
  {
   "cell_type": "markdown",
   "metadata": {},
   "source": [
    "Very often you will want to read a large dataset, and would want to read it from an external medium (rather than typing it by hand into your jupyter notebook!). Th simplest case is a file on your local disk. Use *open()* function. It returns a file object, and is most commonly used with two arguments: *open(filenamne,mode)*:"
   ]
  },
  {
   "cell_type": "code",
   "execution_count": null,
   "metadata": {},
   "outputs": [],
   "source": [
    "%ls"
   ]
  },
  {
   "cell_type": "code",
   "execution_count": null,
   "metadata": {
    "scrolled": false
   },
   "outputs": [],
   "source": [
    "f = open('test3.txt', 'w')\n",
    "print (f)\n",
    "f.write('Write a line\\n')\n",
    "f.write('Write another line\\n')\n",
    "f.write('Write a number here: ')\n",
    "f.write(repr(1))\n",
    "f.write('more and more and more')\n",
    "f.write('print this line please \\n')\n",
    "f.write('\\n')   # end line (good practice)\n",
    "f.close()\n",
    "\n",
    "%ls\n",
    "\n",
    "%cat test3.txt"
   ]
  },
  {
   "cell_type": "code",
   "execution_count": null,
   "metadata": {},
   "outputs": [],
   "source": [
    "f.write('some more\\n')\n",
    "f.close()"
   ]
  },
  {
   "cell_type": "markdown",
   "metadata": {},
   "source": [
    "Most commonly, you would want to write columns of data:"
   ]
  },
  {
   "cell_type": "code",
   "execution_count": null,
   "metadata": {},
   "outputs": [],
   "source": [
    "import numpy as np\n",
    "f = open('test.txt', 'w')\n",
    "for x in np.arange(0,10,0.1):\n",
    "    f.write('{0:f}\\t {1:f}\\t {2:f}\\n'.format(x,x**2,-x**3))\n",
    "f.close()\n",
    "\n",
    "%cat test.txt"
   ]
  },
  {
   "cell_type": "code",
   "execution_count": null,
   "metadata": {},
   "outputs": [],
   "source": [
    "import numpy as np\n",
    "import matplotlib.pyplot as plt\n",
    "%matplotlib inline\n",
    "x, x2, x3 = np.loadtxt('test.txt', unpack = True)\n",
    "#print(x,x2,x3)\n",
    "plt.plot(x,x2,'r-',x,x3,'b--')\n",
    "plt.show()"
   ]
  },
  {
   "cell_type": "markdown",
   "metadata": {},
   "source": [
    "There is also a more direct, less polished interface for reading data from a file:"
   ]
  },
  {
   "cell_type": "code",
   "execution_count": null,
   "metadata": {},
   "outputs": [],
   "source": [
    "f = open('test.txt', 'r')    # open file for reading\n",
    "#f.write('Try me\\n')\n",
    "s = f.readline()             # read one line (including end-of-line character, '\\n')\n",
    "print (s)                      # print it"
   ]
  },
  {
   "cell_type": "code",
   "execution_count": null,
   "metadata": {},
   "outputs": [],
   "source": [
    "s2 = f.readline()            # this will now read the second line\n",
    "print (s2)"
   ]
  },
  {
   "cell_type": "code",
   "execution_count": null,
   "metadata": {},
   "outputs": [],
   "source": [
    "f = open('test.txt', 'rb') # opening the file again will reset the handle to the beginning of the file.NB: binary mode !\n",
    "f.seek(5)                  # skip 5 bytes (5 characters)\n",
    "s2 = f.readline()          # read from that point until the end of the line\n",
    "print (s2)                 # notice trancation \n",
    "f.seek(-10, 1)             # go back 10 bytes from the current position (i.e. beginning of next line)\n",
    "s2 = f.readline()          # notice what is read\n",
    "print (s2)\n",
    "f.seek?"
   ]
  }
 ],
 "metadata": {
  "kernelspec": {
   "display_name": "Python 3",
   "language": "python",
   "name": "python3"
  },
  "language_info": {
   "codemirror_mode": {
    "name": "ipython",
    "version": 3
   },
   "file_extension": ".py",
   "mimetype": "text/x-python",
   "name": "python",
   "nbconvert_exporter": "python",
   "pygments_lexer": "ipython3",
   "version": "3.7.3"
  }
 },
 "nbformat": 4,
 "nbformat_minor": 1
}
