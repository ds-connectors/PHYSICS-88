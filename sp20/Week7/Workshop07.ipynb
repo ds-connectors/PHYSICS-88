{
 "cells": [
  {
   "cell_type": "markdown",
   "metadata": {},
   "source": [
    "# Workshop 7: Monte Carlo techniques\n",
    "\n",
    "**Submit this notebook to bCourses to receive a grade for this Workshop.**\n",
    "\n",
    "Please complete workshop activities in code cells in this iPython notebook. The activities titled **Practice** are purely for you to explore Python. Some of them may have some code written, and you should try to modify it in different ways to understand how it works. Although no particular output is expected at submission time, it is _highly_ recommended that you read and work through the practice activities before or alongside the exercises. However, the activities titled **Exercise** have specific tasks and specific outputs expected. Include comments in your code when necessary. Enter your name in the cell at the top of the notebook. The workshop should be submitted on bCourses under the Assignments tab."
   ]
  },
  {
   "cell_type": "code",
   "execution_count": null,
   "metadata": {
    "collapsed": true
   },
   "outputs": [],
   "source": [
    "# standard preamble\n",
    "import numpy as np\n",
    "import scipy as sp      \n",
    "from scipy import stats\n",
    "import matplotlib.pyplot as plt\n",
    "%matplotlib inline"
   ]
  },
  {
   "cell_type": "markdown",
   "metadata": {},
   "source": [
    "So far, you have seen the following functions for drawing random numbers from various distributions:\n",
    "\n",
    "    np.random.rand()\n",
    "    np.random.randint()\n",
    "    np.random.uniform()\n",
    "    np.random.standard_normal()\n",
    "    np.random.exponential()\n",
    "    np.random.binomial()\n",
    "    np.random.poisson()\n",
    "    \n",
    "Now let's see how to sample probability distributions for which a function may not already exist."
   ]
  },
  {
   "cell_type": "markdown",
   "metadata": {},
   "source": [
    "## Exercise 1: Generating an arbitrary distribution\n",
    "\n",
    "A problem that is frequently encountered is one of sampling one distribution but only having direct access to sampling another distribution (often the uniform distribution). As an example, we will try out one way to draw numbers from a Gaussian distribution starting with numbers drawn only from a uniform distribution. As it turns out, there are multiple ways of doing this. This particular method is known as the [\"Box-Muller transform\"](https://en.wikipedia.org/wiki/Box%E2%80%93Muller_transform).\n",
    "\n",
    "1. Starting from a uniform random number distribution (`numpy.random.rand()`), generate 10,000 Gaussian-distributed random numbers using inverse transform method:\n",
    "    1. Generate a pair of uniform-distributed numbers $u_1\\in[0..1]$ and $u_2\\in[0..1]$\n",
    "    1. Compute $z_1=\\sin(2\\pi u_1)\\sqrt{-2\\ln u_2}$ and $z_2=\\cos(2\\pi u_1)\\sqrt{-2\\ln u_2}$\n",
    "1. Make histograms of $z_1$ and $z_2$.\n",
    "1. Make a scatter plot of $z_2$ vs $z_1$. \n",
    "1. Do the random variables $z_2$ and $z_1$ appear to follow a Gaussian distribution?"
   ]
  },
  {
   "cell_type": "code",
   "execution_count": 6,
   "metadata": {},
   "outputs": [
    {
     "data": {
      "text/plain": [
       "(array([   4.,   24.,  196.,  950., 2319., 3171., 2256.,  907.,  157.,\n",
       "          16.]),\n",
       " array([-4.47241898, -3.65551582, -2.83861265, -2.02170949, -1.20480632,\n",
       "        -0.38790316,  0.42900001,  1.24590317,  2.06280634,  2.8797095 ,\n",
       "         3.69661267]),\n",
       " <a list of 10 Patch objects>)"
      ]
     },
     "execution_count": 6,
     "metadata": {},
     "output_type": "execute_result"
    },
    {
     "data": {
      "image/png": "[encoded data removed]",
      "text/plain": [
       "<Figure size 432x288 with 1 Axes>"
      ]
     },
     "metadata": {
      "needs_background": "light"
     },
     "output_type": "display_data"
    }
   ],
   "source": [
    "import numpy as np\n",
    "import matplotlib.pyplot as plt\n",
    "\n",
    "# Remember numpy has all the math function you need: np.sin, np.cos, np.sqrt, np.log"
   ]
  },
  {
   "cell_type": "markdown",
   "metadata": {},
   "source": [
    "If you want to get ahead for the next homework assignment, try using `scipy.stats.norm.fit()` to fit the $z_1$ and/or $z_2$ distributions.  This function will return the best-fit values for $\\mu$ and $\\sigma$ (which should be about 0 and 1, respectively)."
   ]
  },
  {
   "cell_type": "code",
   "execution_count": 13,
   "metadata": {},
   "outputs": [],
   "source": [
    "from scipy.stats import norm\n",
    "\n",
    "# If you'd like, fit the z1 and/or z2 distribution using norm.fit()"
   ]
  },
  {
   "cell_type": "markdown",
   "metadata": {},
   "source": [
    "## Exercise 2: Integration by accept-reject Monte Carlo method\n",
    "\n",
    "The \"accept-reject\" method is another way of simulating drawing from one probability distribution starting from sampling a uniform distribution. Here we explore this technique for finding the area under curves using random numbers. Although in this exercise we will only use it to estimate the value of $\\pi$, you can use it for more sophisticated problems.\n",
    "\n",
    "Before we start coding, let us just look at a quarter circle inscribed inside a square of dimensions 1 by 1.\n",
    "\n",
    "<img src=\"quarter_circle.png\">\n",
    "\n",
    "If we were to throw a dart randomly, with uniform probability, into the square, what is the probability it would land in the shaded region under the curve? It should be the ratio of the shaded area to the area of the entire square.\n",
    "\n",
    "$$P(\\text{dart under curve}) = \\frac{A_\\text{curve}}{A_\\text{square}}$$\n",
    "$$A_\\text{curve} = \\frac{1}{4}\\pi \\times 1^2$$\n",
    "$$A_\\text{square} = 1 \\times 1$$\n",
    "$$P(\\text{dart under curve}) = \\frac{\\pi}{4}$$\n",
    "\n",
    "We also know that if we were to throw a very large number of darts, the fraction of them that land in the shaded region would approach the value of $P(\\text{dart under curve})$ found above. Therefore, if we can simulate throwing these darts and checking whether they landed inside the shaded region or outside the shaded region, we can estimate the area of the shaded region. In this case, the area of the shaded region is proportional to $\\pi$, so we can then use that area to estimate $\\pi$.\n",
    "\n",
    "This technique of randomly generating points and checking whether they are under the curve or above the curve is referred to as $\\textit{Monte Carlo integration}$.\n",
    "Compute the value of $\\pi$ using Monte Carlo method. \n",
    "\n",
    "1. Implement the Monte Carlo accept-reject method for computing $\\pi$\n",
    "1. For a given number of events $N$ you use in the calculation, compute\n",
    "    1. The estimate of $\\pi$\n",
    "    1. The estimated precision of the value $\\pi$\n",
    "1. Plot the difference between estimated and true value of $\\pi$ as a function of the number of events $N$ and compare that difference to the uncertainty you estimated"
   ]
  },
  {
   "cell_type": "code",
   "execution_count": 15,
   "metadata": {},
   "outputs": [],
   "source": [
    "import numpy as np\n",
    "import matplotlib.pyplot as plt\n",
    "\n",
    "# Don't use np.pi until you are comparing your estimate to the true value"
   ]
  }
 ],
 "metadata": {
  "kernelspec": {
   "display_name": "Python 3",
   "language": "python",
   "name": "python3"
  },
  "language_info": {
   "codemirror_mode": {
    "name": "ipython",
    "version": 3
   },
   "file_extension": ".py",
   "mimetype": "text/x-python",
   "name": "python",
   "nbconvert_exporter": "python",
   "pygments_lexer": "ipython3",
   "version": "3.7.3"
  }
 },
 "nbformat": 4,
 "nbformat_minor": 1
}
