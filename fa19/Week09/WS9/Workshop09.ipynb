{
 "cells": [
  {
   "cell_type": "markdown",
   "metadata": {},
   "source": [
    "# Workshop 9: Numerical differentiation and integration"
   ]
  },
  {
   "cell_type": "markdown",
   "metadata": {},
   "source": [
    "**Submit this notebook to bCourses to receive a grade for this Workshop.**\n",
    "\n",
    "Please complete workshop activities in code cells in this iPython notebook. The activities titled **Practice** are purely for you to explore Python. Some of them may have some code written, and you should try to modify it in different ways to understand how it works. Although no particular output is expected at submission time, it is _highly_ recommended that you read and work through the practice activities before or alongside the exercises. However, the activities titled **Exercise** have specific tasks and specific outputs expected. Include comments in your code when necessary. Enter your name in the cell at the top of the notebook. The workshop should be submitted on bCourses under the Assignments tab."
   ]
  },
  {
   "cell_type": "markdown",
   "metadata": {},
   "source": [
    "The lecture this week introduced you to the first application of numerical techniques. We will explore the applications to Python in this workshop. "
   ]
  },
  {
   "cell_type": "markdown",
   "metadata": {},
   "source": [
    "## Numerical differentiation"
   ]
  },
  {
   "cell_type": "markdown",
   "metadata": {
    "collapsed": true
   },
   "source": [
    "First, let's do differentiation \"by hand\" using loops, which is illustrative. Some examples borrowed (and modified) from http://gilgamesh.cheme.cmu.edu/doc/software/jacapo/9-numerics/9.1-numpy\n",
    "\n",
    "These are examples of the \"brute force\" differentiation. They work well for a smooth vector, i.e. if there is not much \"noise\" on top of the function you are trying to differentiate. "
   ]
  },
  {
   "cell_type": "code",
   "execution_count": null,
   "metadata": {
    "collapsed": true
   },
   "outputs": [],
   "source": [
    "# standard preamble\n",
    "import numpy as np\n",
    "import scipy as sp\n",
    "import matplotlib.pyplot as plt\n",
    "%matplotlib inline"
   ]
  },
  {
   "cell_type": "code",
   "execution_count": null,
   "metadata": {
    "collapsed": true
   },
   "outputs": [],
   "source": [
    "def forward_dy(y, x):\n",
    "    '''\n",
    "        Uses forward differences (see below) to estimate the derivatives at each value of x, \n",
    "        except for the last one. The derivative at the last value of x is estimated \n",
    "        using a backward difference.\n",
    "            dy/dx at x[i] is approximated by (y[i+1] - y[i]) /  (x[i+1] - x[i])\n",
    "    '''\n",
    "    dyf = np.zeros(len(x))\n",
    "    for i in range(len(y)-1):\n",
    "        dyf[i] = (y[i+1] - y[i])/(x[i+1]-x[i])\n",
    "    \n",
    "    #set last element by backwards difference\n",
    "    dyf[-1] = (y[-1] - y[-2])/(x[-1] - x[-2])\n",
    "    return dyf\n",
    "\n",
    "def backward_dy(y, x):\n",
    "    '''\n",
    "        Uses backward differences (see below) to estimate the derivatives at each value of x, \n",
    "        except for the first one. The derivative at the first value of x is estimated \n",
    "        using a forward difference.\n",
    "            dy/dx at x[i] is approximated by (y[i] - y[i-1]) /  (x[i] - x[i-1])\n",
    "    '''\n",
    "    \n",
    "    dyb = np.zeros(len(x))\n",
    "    #set first element by forward difference\n",
    "    dyb[0] = (y[0] - y[1])/(x[0] - x[1])\n",
    "    for i in range(1,len(y)):\n",
    "        dyb[i] = (y[i] - y[i-1])/(x[i]-x[i-1])\n",
    "\n",
    "    return dyb\n",
    "\n",
    "def centered_dy(y, x):\n",
    "    '''\n",
    "        Uses centered differences (see below) to estimate the derivatives at each value of x, \n",
    "        except for the first and last values. The derivative at the first value of x is estimated \n",
    "        using a forward difference. The derivative at the last value of x is estimated \n",
    "        using a backward difference.\n",
    "            dy/dx at x[i] is approximated by (y[i+1] - y[i-1]) / (x[i+1]-x[i-1])\n",
    "    '''\n",
    "    dyc = np.zeros(len(x))\n",
    "    dyc[0] = (y[0] - y[1])/(x[0] - x[1])\n",
    "    for i in range(1,len(y)-1):\n",
    "        dyc[i] = (y[i+1] - y[i-1])/(x[i+1]-x[i-1])\n",
    "    dyc[-1] = (y[-1] - y[-2])/(x[-1] - x[-2])\n",
    "\n",
    "    return dyc"
   ]
  },
  {
   "cell_type": "markdown",
   "metadata": {},
   "source": [
    "### Exercise 1\n",
    "1. Use the functions above to estimate the $f'(x)$ in three ways for\n",
    "$$f(x) = \\sin(x)$$\n",
    "using $N = 100$ points in the window $x\\in [0, 2\\pi)$. Calculate the analytical derivative at each point as well. Plot the four curves together (forward derivatives, backward derivatives, centered derivatives, and analytical derivatives). If you have done everything right, they should all agree well with each other. You do not need axis labels, but do add a legend to indicate which curve is which.\n",
    "\n",
    "1. Plot the difference between result from each estimate method and the result from the analytical method. For example, you should compute `dyf - dy_analytical`,`dyb - dy_analytical`, and `dyc - dy_analytical` and plot all three together. You do not need axis labels, but do add a legend to indicate which curve is which. Which method is most accurate? \n",
    "\n",
    "1. Vary the number of points $N$ representing the original function (try $N = 10, 100, 1000$ points). How does the precision change (*Hint: look at the maximum/minimum value of the differences you calculated above*)."
   ]
  },
  {
   "cell_type": "code",
   "execution_count": null,
   "metadata": {
    "collapsed": true
   },
   "outputs": [],
   "source": [
    "# Code here for Exercise 1"
   ]
  },
  {
   "cell_type": "markdown",
   "metadata": {},
   "source": [
    "### Using `scipy.misc.derivative()`"
   ]
  },
  {
   "cell_type": "markdown",
   "metadata": {},
   "source": [
    "SciPy offers a library function to compute derivatives along the lines of the code you just did. It uses a central difference formula, but with additional ability to use more than two points. Here is an example of its use. See full documentation at http://docs.scipy.org/doc/scipy/reference/generated/scipy.misc.derivative.html"
   ]
  },
  {
   "cell_type": "code",
   "execution_count": null,
   "metadata": {
    "collapsed": true
   },
   "outputs": [],
   "source": [
    "from scipy.misc import derivative\n",
    "import time\n",
    "\n",
    "# Compute the derivative of sin(x) at x = pi\n",
    "t0 = time.time()\n",
    "dy_scipy_1 = derivative(func=np.sin, x0=np.pi, dx=1e-6, n=1, order=3)\n",
    "t1 = time.time()\n",
    "dy_scipy_2 = derivative(func=np.sin, x0=np.pi, dx=1e-6, n=1, order=101)\n",
    "t2 = time.time()\n",
    "\n",
    "dt1 = t1 - t0\n",
    "dt2 = t2 - t1\n",
    "print(\"Derivative using order = 3: %.5f, takes %.5f sec\" % (dy_scipy_1, dt1))\n",
    "print(\"Derivative using order = 101: %.5f, takes %.5f sec\" % (dy_scipy_2, dt2))"
   ]
  },
  {
   "cell_type": "markdown",
   "metadata": {},
   "source": [
    "The arguments here are as follows:\n",
    "\n",
    "    func:  the name of the function whose derivative you want to calculate\n",
    "    x0:    the location of the value (scalar) or values (numpy array) where you want to evaluate the derivative\n",
    "    dx:    spacing between the points it generates (by evaluating `func`) to calculate the differences\n",
    "    n:     the number of derivatives. `n=1` means first derivative of `func`\n",
    "    order: number of points to use in the difference method. Must be odd."
   ]
  },
  {
   "cell_type": "markdown",
   "metadata": {},
   "source": [
    "### Exercise 2\n",
    "\n",
    "1. Use the `scipy.misc.derivative()` function with `order=3` to estimate the derivative of the $sin(x)$ like you did above, compute the difference relative to the analytical result, and plot this difference along with the difference you obtained for the centered estimates. Feel free to try changing some of the parameters like `dx` or `order` and see how they impact your result.\n",
    "\n",
    "1. Try a different value of `n` (the number of derivatives). Plot your estimates of `n`-th derivative. Does it behave like you expect?"
   ]
  },
  {
   "cell_type": "code",
   "execution_count": null,
   "metadata": {
    "collapsed": true
   },
   "outputs": [],
   "source": [
    "# Code for Exercise 2"
   ]
  },
  {
   "cell_type": "markdown",
   "metadata": {},
   "source": [
    "If your data are very noisy, numerical errors on computed derivatives will be large; derivatives tend to magnify noise. In these cases, you have to employ smoothing techniques, either implicitly by using a multipoint derivative formula, or explicitly by smoothing the data yourself, or taking the derivative of a function that has been fit to the data in the neighborhood you are interested in.\n",
    "\n",
    "Here is an example of a 4-point centered difference of some noisy data (courtesy http://gilgamesh.cheme.cmu.edu/doc/software/jacapo/9-numerics/9.1-numpy/9.2-integration.html#numerical-differentiation):\n",
    "\n",
    "$$f'(x_i) = \\frac{f(x_{i-2}) - 8f(x_{i-1}) + 8f(x_{i+1}) - f(x_{i+2})}{12h}$$\n"
   ]
  },
  {
   "cell_type": "code",
   "execution_count": null,
   "metadata": {
    "collapsed": true
   },
   "outputs": [],
   "source": [
    "def four_point_dy(y, x):\n",
    "    '''\n",
    "        Calculates dy/dx using a 4-point center differencing using array slices\n",
    "\n",
    "        \\frac{y[i-2] - 8y[i-1] + 8[i+1] - y[i+2]}{12h}\n",
    "\n",
    "        y[0] and y[1] must be defined by lower order methods\n",
    "        and y[-1] and y[-2] must be defined by lower order methods\n",
    "    '''\n",
    "\n",
    "    dy = np.zeros(y.shape,float) #we know it will be this size\n",
    "    h = x[1]-x[0] #this assumes the points are evenly spaced!\n",
    "    dy[2:-2] = (y[0:-4] - 8*y[1:-3] + 8*y[3:-1] - y[4:])/(12.* h)\n",
    "\n",
    "    dy[0] = (y[1]-y[0])/(x[1]-x[0])\n",
    "    dy[1] = (y[2]-y[1])/(x[2]-x[1])\n",
    "    dy[-2] = (y[-2] - y[-3])/(x[-2] - x[-3])\n",
    "    dy[-1] = (y[-1] - y[-2])/(x[-1] - x[-2])\n",
    "    \n",
    "    return dy"
   ]
  },
  {
   "cell_type": "code",
   "execution_count": null,
   "metadata": {
    "collapsed": true
   },
   "outputs": [],
   "source": [
    "x = np.linspace(0, 2 * np.pi,100)\n",
    "y = np.sin(x) + 0.1 * np.random.rand(x.shape[0])\n",
    "\n",
    "dy_analytical = np.cos(x) # analytical derivative\n",
    "dyf = forward_dy(y, x) # forward derivative for comparison\n",
    "dy4 = four_point_dy(y, x) # four-point derivative\n",
    "\n",
    "# Plot the original noisy function\n",
    "plt.figure()\n",
    "plt.plot(x,y,label='original function')\n",
    "plt.title('Sin(x) + noise')\n",
    "plt.show()\n",
    "\n",
    "# Plot the derivatives as computed in different ways\n",
    "plt.figure()\n",
    "plt.plot(x,dy_analytical,'g',label='analytical derivative')\n",
    "plt.plot(x,dyf,'r-',label='2pt-forward diff')\n",
    "plt.plot(x,dy4,'k--',lw=2,label='4pt-centered diff')\n",
    "plt.legend(loc='upper center')\n",
    "plt.title('Estimates of derivative')\n",
    "plt.show()"
   ]
  },
  {
   "cell_type": "markdown",
   "metadata": {},
   "source": [
    "## Numerical integration\n",
    "\n",
    "Material borrowed and modified from http://www.physics.nyu.edu/pine/pymanual/html/chap9/chap9_scipy.html\n",
    "\n",
    "When a function cannot be integrated analytically, or is very difficult to integrate analytically, one generally turns to numerical integration methods. SciPy has a number of routines for performing numerical integration. Most of them are found in the same scipy.integrate library. See http://docs.scipy.org/doc/scipy-0.14.0/reference/integrate.html for the full reference and documentation\n"
   ]
  },
  {
   "cell_type": "markdown",
   "metadata": {},
   "source": [
    "### Single integration\n",
    "\n",
    "The function `scipy.integrate.quad()` is the workhorse of SciPy’s integration functions. Numerical integration is sometimes called *quadrature* (see lecture notes), hence the name. It is normally the default choice for performing single integrals of a function $f(x)$ over a given fixed range from $a$ to $b$:\n",
    "\n",
    "$$\\int_a^b f(x) dx$$"
   ]
  },
  {
   "cell_type": "markdown",
   "metadata": {},
   "source": [
    "The simplest way to call this function is as follows: `scipy.integrate.quad(f, a, b)`. The arguments are defined as follows:\n",
    "    \n",
    "    f: the name of the function that you want to integrate\n",
    "    a: the lower limit of integration\n",
    "    b: the upper limit of integration\n",
    "    \n",
    "The routine uses adaptive quadrature methods to numerically evaluate integrals, meaning it successively refines the subintervals (makes them smaller) until a desired level of numerical precision is achieved. There are optional keyword arguments that you can pass to this function to change what this level of precision is or to set an upper limit on how many subintervals can be made. For a full list of these optional arguments, see https://docs.scipy.org/doc/scipy/reference/generated/scipy.integrate.quad.html. Typically, the default value of precision (for the quad routine, it is 1e-8) will suffice.\n",
    "\n",
    "As an example, let’s integrate a Gaussian function over the range from $-1$ to $1$\n",
    "\n",
    "$$\\int_{-1}^1 \\frac{1}{\\sqrt{2\\pi}} \\exp\\left(-\\frac{x^2}{2}\\right) dx$$\n",
    "\n",
    "We first need to define the function $f(x)=e^{-x^2/2}/\\sqrt{2\\pi}$.\n"
   ]
  },
  {
   "cell_type": "code",
   "execution_count": null,
   "metadata": {
    "collapsed": true
   },
   "outputs": [],
   "source": [
    "import scipy.integrate\n",
    "\n",
    "def func(x):\n",
    "    return np.exp(-x**2/2)/np.sqrt(2*np.pi)\n",
    "\n",
    "print(scipy.integrate.quad(func, -1, 1))"
   ]
  },
  {
   "cell_type": "markdown",
   "metadata": {},
   "source": [
    "You can see that this gives two outputs. The first is the value of the integral `0.68268`. The second is an estimate of the precision of the answer `7.57937e-15`, which is very good. You can store the two values as follows:"
   ]
  },
  {
   "cell_type": "code",
   "execution_count": null,
   "metadata": {
    "collapsed": true
   },
   "outputs": [],
   "source": [
    "# Store the two values\n",
    "\n",
    "val, err = scipy.integrate.quad(func, -1, 1)\n",
    "\n",
    "# Or ignore the second value\n",
    "\n",
    "val, _ = scipy.integrate.quad(func, -1, 1)"
   ]
  },
  {
   "cell_type": "markdown",
   "metadata": {},
   "source": [
    "And just for reference, you can also use $\\pm \\infty$ as your integration limits:"
   ]
  },
  {
   "cell_type": "code",
   "execution_count": null,
   "metadata": {
    "collapsed": true
   },
   "outputs": [],
   "source": [
    "print(scipy.integrate.quad(func, -np.inf, +np.inf))"
   ]
  },
  {
   "cell_type": "markdown",
   "metadata": {},
   "source": [
    "### Integrating sampled data"
   ]
  },
  {
   "cell_type": "markdown",
   "metadata": {},
   "source": [
    "If you don't have a known closed or code-able form for your function--in other words, you just have data--you can use one of the following methods to estimate the integral of the underlying function: `scipy.integrate.trapz()`, `scipy.integrate.simps()`, or `scipy.integrate.romb()`, which are the trapezoid, Simpson rule, and Romberg rule methods for integrating functions. Of course, you can also use these methods to estimate the integrals of known functions like the ones we have evaluated using `scipy.integrate.quad()`.\n",
    "\n"
   ]
  },
  {
   "cell_type": "code",
   "execution_count": null,
   "metadata": {
    "collapsed": true
   },
   "outputs": [],
   "source": [
    "x = np.linspace(-2, 2, 20)\n",
    "y = x**2\n",
    "\n",
    "integral_trapz = scipy.integrate.trapz(y)\n",
    "integral_simps = scipy.integrate.simps(y, x)\n",
    "integral_exact = 16.0 / 3.0\n",
    "\n",
    "print(\"Trapezoid rule gives:\\t %.5f\" % integral_trapz)\n",
    "print(\"Simpson rule gives:\\t %.5f\" % integral_simps)\n",
    "print(\"Exact value:\\t\\t %.5f\" % integral_exact)\n",
    "\n",
    "plt.plot(x,y,label=\"$f(x)$\")\n",
    "plt.legend()\n",
    "plt.show()"
   ]
  },
  {
   "cell_type": "markdown",
   "metadata": {},
   "source": [
    "### Exercise 3\n",
    "\n",
    "Compute a numerical integral \n",
    "\n",
    "$$\\int_{-1}^1 \\frac{1}{\\sqrt{2\\pi}} \\exp\\left(-\\frac{x^2}{2}\\right) dx$$\n",
    "\n",
    "using an array of $N$ = 10,100, and 1000 samples, and trapezoid and Simpson methods; compare the precision of these estimates of the integral to what the Scipy quadrature method returns."
   ]
  },
  {
   "cell_type": "code",
   "execution_count": null,
   "metadata": {
    "collapsed": true
   },
   "outputs": [],
   "source": [
    "# Code for Exercise 3"
   ]
  }
 ],
 "metadata": {
  "kernelspec": {
   "display_name": "Python 3",
   "language": "python",
   "name": "python3"
  },
  "language_info": {
   "codemirror_mode": {
    "name": "ipython",
    "version": 3
   },
   "file_extension": ".py",
   "mimetype": "text/x-python",
   "name": "python",
   "nbconvert_exporter": "python",
   "pygments_lexer": "ipython3",
   "version": "3.6.3"
  }
 },
 "nbformat": 4,
 "nbformat_minor": 1
}
