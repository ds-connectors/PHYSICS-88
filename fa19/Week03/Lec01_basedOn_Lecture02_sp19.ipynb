{
 "metadata": {
  "kernelspec": {
   "display_name": "Python 3",
   "language": "python",
   "name": "python3"
  },
  "language_info": {
   "codemirror_mode": {
    "name": "ipython",
    "version": 3
   },
   "file_extension": ".py",
   "mimetype": "text/x-python",
   "name": "python",
   "nbconvert_exporter": "python",
   "pygments_lexer": "ipython3",
   "version": "3.5.2"
  },
  "name": "",
  "signature": "sha256:4bbc8f9d41f84f4b51930224068b9b4f596143f9edde4316b9f6635b3f847682"
 },
 "nbformat": 3,
 "nbformat_minor": 0,
 "worksheets": [
  {
   "cells": [
    {
     "cell_type": "heading",
     "level": 1,
     "metadata": {
      "deletable": true,
      "editable": true
     },
     "source": [
      "Physics 77, Lecture 1: Control Structures (based on Spring 2019 Lecture 2)"
     ]
    },
    {
     "cell_type": "markdown",
     "metadata": {
      "deletable": true,
      "editable": true
     },
     "source": [
      "Topic coverage:\n",
      "* Review of last two weeks\n",
      "* Functions\n",
      "* Conditionals and If/Elif/Else statements\n",
      "* Local/Global variables\n",
      "* For and While Loops\n",
      "* List comprehensions (if not covered in Lecture 1)\n",
      "    - also list comprehensions with conditional filters?"
     ]
    },
    {
     "cell_type": "markdown",
     "metadata": {
      "collapsed": true,
      "deletable": true,
      "editable": true
     },
     "source": [
      "Many algorithms require execution of a different set of instructions depending on some conditions, repetitive (iterative) execution, etc. These are done by special control statements."
     ]
    },
    {
     "cell_type": "markdown",
     "metadata": {
      "deletable": true,
      "editable": true
     },
     "source": [
      "## Functions\n",
      "\n",
      "A function is a self-contained named piece of code that can be used by other parts of the code. Functions usually take arguments (parameters, variables), and return a value. Trig functions are a standard example. Most languages allow you to define your own functions. Functions can be group into a library, usually according to functionality they provide (e.g. math, complex numbers, linear algebra, plotting, etc).\n",
      "\n",
      "In a way, Python functions can be viewed mathematical functions:\n",
      "\n",
      "$f: \\mathbb{X} \\rightarrow \\mathbb{Y}$\n",
      "\n",
      "where $\\mathbb{X}$ and $\\mathbb{Y}$ can be whichever space of your choice.\n",
      "\n",
      "Python has 3 classes of functions:\n",
      "-  built-in functions, e.g. print()\n",
      "-  functions from packages/modules, e.g. sin() from the math package\n",
      "-  user-defined functions."
     ]
    },
    {
     "cell_type": "markdown",
     "metadata": {
      "deletable": true,
      "editable": true
     },
     "source": [
      "**Example 1: absolute value**\n",
      "\n",
      "$\\text{abs}: \\mathbb{R} \\rightarrow \\mathbb{R}^+_0$\n",
      "\n",
      "Mathematical implementation:\n",
      "\n",
      "$x = \\sqrt{x^2}$"
     ]
    },
    {
     "cell_type": "code",
     "collapsed": false,
     "input": [
      "x = -3\n",
      "r = abs(x)   # Call the abs() function \n",
      "print(r)     # Call the print() function!"
     ],
     "language": "python",
     "metadata": {
      "deletable": true,
      "editable": true
     },
     "outputs": [
      {
       "output_type": "stream",
       "stream": "stdout",
       "text": [
        "3\n"
       ]
      }
     ],
     "prompt_number": 46
    },
    {
     "cell_type": "markdown",
     "metadata": {
      "deletable": true,
      "editable": true
     },
     "source": [
      "**Example 2: type casting**\n",
      "\n",
      "Python allows to convert variables from one type to the other using dedicated predefined functions. One example is the <font color=blue>float</font> function:"
     ]
    },
    {
     "cell_type": "code",
     "collapsed": false,
     "input": [
      "a = 1.\n",
      "b = float(a) # casting a float to a float. Actually quite useless\n",
      "c = 2\n",
      "d = float(c) # casting an integer to a float\n",
      "e = \"4.\"\n",
      "f = float(e) # casting a string to a float\n",
      "print(a)\n",
      "print(b)\n",
      "print(c)\n",
      "print(d)\n",
      "print(e)\n",
      "print(f)"
     ],
     "language": "python",
     "metadata": {
      "deletable": true,
      "editable": true
     },
     "outputs": [
      {
       "output_type": "stream",
       "stream": "stdout",
       "text": [
        "1.0\n",
        "1.0\n",
        "2\n",
        "2.0\n",
        "4.\n",
        "4.0\n"
       ]
      }
     ],
     "prompt_number": 47
    },
    {
     "cell_type": "markdown",
     "metadata": {
      "deletable": true,
      "editable": true
     },
     "source": [
      "### User defined functions\n",
      "\n",
      "If the function we need doesn't exist, we can create one. In order to do so, we need to provide:\n",
      "-  a list of arguments\n",
      "-  the algorithm of the function\n",
      "-  the return value\n",
      "\n",
      "The basic structure of a function is the following:"
     ]
    },
    {
     "cell_type": "code",
     "collapsed": false,
     "input": [
      "def MyFunction( x ):\n",
      "    y = x*x            \n",
      "    return y\n",
      "\n",
      "print( MyFunction(3) ) "
     ],
     "language": "python",
     "metadata": {
      "deletable": true,
      "editable": true
     },
     "outputs": [
      {
       "output_type": "stream",
       "stream": "stdout",
       "text": [
        "9\n"
       ]
      }
     ],
     "prompt_number": 48
    },
    {
     "cell_type": "code",
     "collapsed": false,
     "input": [
      "y = MyFunction(173)\n",
      "print(y)\n",
      "print(173**2)"
     ],
     "language": "python",
     "metadata": {
      "deletable": true,
      "editable": true
     },
     "outputs": [
      {
       "output_type": "stream",
       "stream": "stdout",
       "text": [
        "29929\n",
        "29929\n"
       ]
      }
     ],
     "prompt_number": 49
    },
    {
     "cell_type": "markdown",
     "metadata": {
      "deletable": true,
      "editable": true
     },
     "source": [
      "Notice:\n",
      "-  the colon at the end of the function declaration\n",
      "-  the indentation\n",
      "-  the <font color=blue>return</font> command at the end of the function body\n",
      "\n",
      "**Example: $\\sin{(x)}/x$**"
     ]
    },
    {
     "cell_type": "code",
     "collapsed": false,
     "input": [
      "import matplotlib.pyplot as plt # we need this for drawing\n",
      "import numpy as np              # for the sin and linspace function\n",
      "\n",
      "def SinXoverX( x ):  # declaration\n",
      "    y = np.sin(x)/x  # implementation\n",
      "    return y         # return\n",
      "\n",
      "x = np.linspace( 0.5, 100., 200 ) # generate 200 points evenly distributed between 0.5 and 100.\n",
      "y = SinXoverX(x)\n",
      "# if a plot function doesn't show anything, run this and then the plot function again\n",
      "%matplotlib inline\n",
      "plt.plot( x, y, 'r-' )"
     ],
     "language": "python",
     "metadata": {
      "deletable": true,
      "editable": true
     },
     "outputs": [
      {
       "metadata": {},
       "output_type": "pyout",
       "prompt_number": 50,
       "text": [
        "[<matplotlib.lines.Line2D at 0x7fe3f82fc910>]"
       ]
      },
      {
       "metadata": {},
       "output_type": "display_data",
       "png": "[encoded data removed]",
       "text": [
        "<matplotlib.figure.Figure at 0x7fe3f83fe190>"
       ]
      }
     ],
     "prompt_number": 50
    },
    {
     "cell_type": "markdown",
     "metadata": {
      "deletable": true,
      "editable": true
     },
     "source": [
      "**Example: function with multiple arguments**"
     ]
    },
    {
     "cell_type": "code",
     "collapsed": false,
     "input": [
      "def distance( x, y ):\n",
      "    return abs(x-y) # It's a very simple calculation, so I can implement it directly in the return statement\n",
      "\n",
      "print( distance( 2., 4. ) )"
     ],
     "language": "python",
     "metadata": {
      "deletable": true,
      "editable": true
     },
     "outputs": [
      {
       "output_type": "stream",
       "stream": "stdout",
       "text": [
        "2.0\n"
       ]
      }
     ],
     "prompt_number": 51
    },
    {
     "cell_type": "markdown",
     "metadata": {
      "deletable": true,
      "editable": true
     },
     "source": [
      "**Required and optional arguments**\n",
      "\n",
      "Python functions can have two types of arguments: required and optional. Required arguments have no default value and must be passed by the user. Optional arguments have a default value which is used if not specified by the user.\n",
      "For example, let's rewrite the <font color=blue>distance</font> function with the second argument as optional:"
     ]
    },
    {
     "cell_type": "code",
     "collapsed": false,
     "input": [
      "def distance( x, y=0. ):\n",
      "    return abs(x-y)\n",
      "\n",
      "print( distance( 2., 4. ) )\n",
      "print( distance( 1. ) )"
     ],
     "language": "python",
     "metadata": {
      "deletable": true,
      "editable": true
     },
     "outputs": [
      {
       "output_type": "stream",
       "stream": "stdout",
       "text": [
        "2.0\n",
        "1.0\n"
       ]
      }
     ],
     "prompt_number": 53
    },
    {
     "cell_type": "markdown",
     "metadata": {
      "deletable": true,
      "editable": true
     },
     "source": [
      "**Function features to keep in mind**\n",
      "\n",
      "-  Python allows also functions with no return value. Why? For example if you want to compute the same quantity many times, and print it.\n",
      "-  Functions can only be used after they are defined. It is good practice to define them at the beginning of a script.\n",
      "-  You can put the function definitions in a separate file and import it. This is useful if you have some generic function that you use in many different programs."
     ]
    },
    {
     "cell_type": "markdown",
     "metadata": {
      "deletable": true,
      "editable": true
     },
     "source": [
      "## Conditionals\n",
      "\n",
      "Conditionals are commands that are executed only if some condition is satisfied.\n",
      "Beware! Indentation is important in Python. Also, it doesn't really matter how broad the indentation is.\n",
      "\n",
      "\n",
      "**Example: Heaviside step function**\n",
      "\n",
      "All the functions we considered so far were well behaved. But how do we code a step function in Python?\n",
      "\n",
      "$y = f(x) =\n",
      "\\begin{cases}\n",
      "0 \\quad \\text{if}\\quad x<0 \\\\\n",
      "1 \\quad \\text{if}\\quad x\\geq0\n",
      "\\end{cases}\n",
      "$"
     ]
    },
    {
     "cell_type": "code",
     "collapsed": false,
     "input": [
      "def Theta( x ):\n",
      "    if x < 0.:\n",
      "        return 0.\n",
      "    return 1.\n",
      "\n",
      "xraw = input('Enter numerical value: ') # Ask the user to privide a value\n",
      "print(type(xraw))   # beware ! In Python 3 this returns a string, which needs to be converted to int or float type\n",
      "#x = eval(xraw)      # Also beware of potential security risks (buffer overflow)\n",
      "print( Theta(float(xraw)) )"
     ],
     "language": "python",
     "metadata": {
      "deletable": true,
      "editable": true
     },
     "outputs": [
      {
       "name": "stdout",
       "output_type": "stream",
       "stream": "stdout",
       "text": [
        "Enter numerical value: 1.2\n"
       ]
      },
      {
       "output_type": "stream",
       "stream": "stdout",
       "text": [
        "<type 'float'>\n",
        "1.0\n"
       ]
      }
     ],
     "prompt_number": 57
    },
    {
     "cell_type": "markdown",
     "metadata": {
      "deletable": true,
      "editable": true
     },
     "source": [
      "An important thing to take into account is the indentation!"
     ]
    },
    {
     "cell_type": "code",
     "collapsed": false,
     "input": [
      "x=-200\n",
      "if x < 0 :\n",
      "    x = -x   # only executed for negative numbers\n",
      "    if x < -100 : \n",
      "        print('Very small')\n",
      "    print ('This was a negative value')\n",
      "print (x)    # always executed"
     ],
     "language": "python",
     "metadata": {
      "deletable": true,
      "editable": true
     },
     "outputs": [
      {
       "output_type": "stream",
       "stream": "stdout",
       "text": [
        "This was a negative value\n",
        "200\n"
       ]
      }
     ],
     "prompt_number": 62
    },
    {
     "cell_type": "markdown",
     "metadata": {
      "deletable": true,
      "editable": true
     },
     "source": [
      "Sometimes you may want to do two different things:"
     ]
    },
    {
     "cell_type": "code",
     "collapsed": false,
     "input": [
      "sum = 10\n",
      "xraw = input('Enter numerical value: ')\n",
      "x=float(xraw)\n",
      "if x < 0 :\n",
      "    sum = sum - x\n",
      "else :\n",
      "    sum += x\n",
      "print (sum)"
     ],
     "language": "python",
     "metadata": {
      "deletable": true,
      "editable": true
     },
     "outputs": [
      {
       "name": "stdout",
       "output_type": "stream",
       "stream": "stdout",
       "text": [
        "Enter numerical value: -1.2\n"
       ]
      },
      {
       "output_type": "stream",
       "stream": "stdout",
       "text": [
        "11.2\n"
       ]
      }
     ],
     "prompt_number": 64
    },
    {
     "cell_type": "markdown",
     "metadata": {
      "deletable": true,
      "editable": true
     },
     "source": [
      "And sometimes you may need to have several branches"
     ]
    },
    {
     "cell_type": "code",
     "collapsed": false,
     "input": [
      "value = 0 # this line is not needed\n",
      "x = float(input('Enter numerical value: '))\n",
      "if x > 10 :\n",
      "    value = -1\n",
      "elif x > 7 : # else if\n",
      "    value = 6\n",
      "elif x > -1 :\n",
      "    value = 1\n",
      "else :\n",
      "    value = 0\n",
      "    \n",
      "print (value)"
     ],
     "language": "python",
     "metadata": {
      "deletable": true,
      "editable": true
     },
     "outputs": [
      {
       "name": "stdout",
       "output_type": "stream",
       "stream": "stdout",
       "text": [
        "Enter numerical value: 1.2\n"
       ]
      },
      {
       "output_type": "stream",
       "stream": "stdout",
       "text": [
        "1\n"
       ]
      }
     ],
     "prompt_number": 66
    },
    {
     "cell_type": "heading",
     "level": 2,
     "metadata": {
      "deletable": true,
      "editable": true
     },
     "source": [
      "Loops"
     ]
    },
    {
     "cell_type": "markdown",
     "metadata": {
      "deletable": true,
      "editable": true
     },
     "source": [
      "### While\n",
      "\n",
      "The while loop repeats and execution while (as long as) a condition is valid."
     ]
    },
    {
     "cell_type": "code",
     "collapsed": false,
     "input": [
      "sum = 0\n",
      "count = 0\n",
      "while sum < 99:\n",
      "    sum += 10\n",
      "    count += 1\n",
      "    print (sum)\n",
      "    \n",
      "print (sum, count)"
     ],
     "language": "python",
     "metadata": {
      "deletable": true,
      "editable": true
     },
     "outputs": [
      {
       "output_type": "stream",
       "stream": "stdout",
       "text": [
        "10\n",
        "20\n",
        "30\n",
        "40\n",
        "50\n",
        "60\n",
        "70\n",
        "80\n",
        "90\n",
        "100\n",
        "(100, 10)\n"
       ]
      }
     ],
     "prompt_number": 67
    },
    {
     "cell_type": "markdown",
     "metadata": {
      "deletable": true,
      "editable": true
     },
     "source": [
      "**Special keywords: break, continue, pass, else**\n",
      "\n",
      "break:"
     ]
    },
    {
     "cell_type": "code",
     "collapsed": false,
     "input": [
      "sum = 0\n",
      "count = 0\n",
      "while sum < 100:\n",
      "    sum += 10\n",
      "    count += 1\n",
      "    if count >= 6:\n",
      "        break\n",
      "    \n",
      "print (sum, count)"
     ],
     "language": "python",
     "metadata": {
      "deletable": true,
      "editable": true
     },
     "outputs": [
      {
       "output_type": "stream",
       "stream": "stdout",
       "text": [
        "(60, 6)\n"
       ]
      }
     ],
     "prompt_number": 68
    },
    {
     "cell_type": "markdown",
     "metadata": {
      "deletable": true,
      "editable": true
     },
     "source": [
      "continue:"
     ]
    },
    {
     "cell_type": "code",
     "collapsed": false,
     "input": [
      "sum = 0\n",
      "count = 0\n",
      "while sum < 100000:\n",
      "    sum += 10\n",
      "    count += 1\n",
      "    if count > 4 :\n",
      "        continue\n",
      "    print (sum)\n",
      "    \n",
      "print (sum, count)"
     ],
     "language": "python",
     "metadata": {
      "deletable": true,
      "editable": true
     },
     "outputs": [
      {
       "output_type": "stream",
       "stream": "stdout",
       "text": [
        "10\n",
        "20\n",
        "30\n",
        "40\n",
        "(100000, 10000)\n"
       ]
      }
     ],
     "prompt_number": 69
    },
    {
     "cell_type": "markdown",
     "metadata": {
      "deletable": true,
      "editable": true
     },
     "source": [
      "else:"
     ]
    },
    {
     "cell_type": "code",
     "collapsed": false,
     "input": [
      "sum = 0\n",
      "count = 0\n",
      "while sum < 100:\n",
      "    sum += 10\n",
      "    count += 1\n",
      "    if count >= 60:\n",
      "        break\n",
      "    else:                                     # beware of indentation !!!\n",
      "        print (\"Finished without break\")\n",
      "    \n",
      "    \n",
      "print (sum, count)"
     ],
     "language": "python",
     "metadata": {
      "deletable": true,
      "editable": true,
      "scrolled": true
     },
     "outputs": [
      {
       "output_type": "stream",
       "stream": "stdout",
       "text": [
        "Finished without break\n",
        "Finished without break\n",
        "Finished without break\n",
        "Finished without break\n",
        "Finished without break\n",
        "Finished without break\n",
        "Finished without break\n",
        "Finished without break\n",
        "Finished without break\n",
        "Finished without break\n",
        "(100, 10)\n"
       ]
      }
     ],
     "prompt_number": 71
    },
    {
     "cell_type": "markdown",
     "metadata": {
      "deletable": true,
      "editable": true
     },
     "source": [
      "Beware of potential for getting into an infinite loops !"
     ]
    },
    {
     "cell_type": "code",
     "collapsed": true,
     "input": [
      "sum = 0\n",
      "count = 0\n",
      "while sum < 100:\n",
      " #  sum -= 10       # typo ! \n",
      "    sum += 10       # fixed typo ! \n",
      "    count += 1\n",
      "    \n",
      "print (sum, count)"
     ],
     "language": "python",
     "metadata": {
      "deletable": true,
      "editable": true
     },
     "outputs": [
      {
       "output_type": "stream",
       "stream": "stdout",
       "text": [
        "(100, 10)\n"
       ]
      }
     ],
     "prompt_number": 72
    },
    {
     "cell_type": "markdown",
     "metadata": {
      "deletable": true,
      "editable": true
     },
     "source": [
      "## For\n",
      "\n",
      "The for loop is more conventional and repeats the execution for an index within a given range. This is similar to for() loop in C or other languages"
     ]
    },
    {
     "cell_type": "markdown",
     "metadata": {
      "deletable": true,
      "editable": true
     },
     "source": [
      "An equivalent syntax in C would be for(int i=0;i<10;i++) {}"
     ]
    },
    {
     "cell_type": "code",
     "collapsed": false,
     "input": [
      "list = range(0,10)\n",
      "print(list)\n",
      "print (len(list))"
     ],
     "language": "python",
     "metadata": {
      "deletable": true,
      "editable": true
     },
     "outputs": [
      {
       "output_type": "stream",
       "stream": "stdout",
       "text": [
        "[0, 1, 2, 3, 4, 5, 6, 7, 8, 9]\n",
        "10\n"
       ]
      }
     ],
     "prompt_number": 77
    },
    {
     "cell_type": "code",
     "collapsed": false,
     "input": [
      "for i in list:    # loop from 0 to 10, not including 10, with step = 1\n",
      "    print (i, i*2)"
     ],
     "language": "python",
     "metadata": {
      "deletable": true,
      "editable": true
     },
     "outputs": [
      {
       "output_type": "stream",
       "stream": "stdout",
       "text": [
        "(0, 0)\n",
        "(1, 2)\n",
        "(2, 4)\n",
        "(3, 6)\n",
        "(4, 8)\n",
        "(5, 10)\n",
        "(6, 12)\n",
        "(7, 14)\n",
        "(8, 16)\n",
        "(9, 18)\n"
       ]
      }
     ],
     "prompt_number": 75
    },
    {
     "cell_type": "code",
     "collapsed": false,
     "input": [
      "for i in range(0,10,2):   # loop from 0 to 10, not including 10, with step = 2\n",
      "    print (i)"
     ],
     "language": "python",
     "metadata": {
      "deletable": true,
      "editable": true
     },
     "outputs": [
      {
       "output_type": "stream",
       "stream": "stdout",
       "text": [
        "0\n",
        "2\n",
        "4\n",
        "6\n",
        "8\n"
       ]
      }
     ],
     "prompt_number": 78
    },
    {
     "cell_type": "code",
     "collapsed": false,
     "input": [
      "list = [1,2,3,4,7,111.,67.] # iterate over elements of the tuple\n",
      "list.append(12)          # what happens here ? \n",
      "for x in list:\n",
      "    print (x**2)\n",
      "    \n",
      "print(list[3])"
     ],
     "language": "python",
     "metadata": {
      "deletable": true,
      "editable": true
     },
     "outputs": [
      {
       "output_type": "stream",
       "stream": "stdout",
       "text": [
        "1\n",
        "4\n",
        "9\n",
        "16\n",
        "49\n",
        "12321.0\n",
        "4489.0\n",
        "144\n",
        "4\n"
       ]
      }
     ],
     "prompt_number": 80
    },
    {
     "cell_type": "markdown",
     "metadata": {
      "deletable": true,
      "editable": true
     },
     "source": [
      "You can iterate over lists produced by other functions, e.g. a list of keys to a dictionary "
     ]
    },
    {
     "cell_type": "code",
     "collapsed": false,
     "input": [
      "lastnames = {}                        # create a dictionary\n",
      "lastnames['Billy'] = 'Jones'\n",
      "lastnames['Johnny'] = 'Jones'\n",
      "lastnames['Johnny'] = 'Baker'\n",
      "#lastnames[5] = 'Foo'\n",
      "\n",
      "#print(lastnames['Yury'])\n",
      "lastnames['Yury'] = 'Kolomensky'\n",
      "\n",
      "#list = sorted(lastnames.keys(),reverse=True)\n",
      "#print (list)\n",
      "for key in sorted(lastnames.keys(),reverse=True):          # iterate over elements of the dictionary\n",
      "    print (key, lastnames[key])\n"
     ],
     "language": "python",
     "metadata": {
      "deletable": true,
      "editable": true
     },
     "outputs": [
      {
       "output_type": "stream",
       "stream": "stdout",
       "text": [
        "('Yury', 'Kolomensky')\n",
        "('Johnny', 'Baker')\n",
        "('Billy', 'Jones')\n"
       ]
      }
     ],
     "prompt_number": 81
    },
    {
     "cell_type": "heading",
     "level": 3,
     "metadata": {
      "deletable": true,
      "editable": true
     },
     "source": [
      "Nesting and recursive functions"
     ]
    },
    {
     "cell_type": "markdown",
     "metadata": {
      "deletable": true,
      "editable": true
     },
     "source": [
      "We have seen already a few examples of an if statement inside a while loop: this called nesting. Python sets no limit to nesting, i.e. you can have infinite statements and loops within each other."
     ]
    },
    {
     "cell_type": "code",
     "collapsed": false,
     "input": [
      "def factorial(n):                # definition of the function\n",
      "    value = 1\n",
      "    for i in range(2,n+1):       # loop\n",
      "        value *= i               # increment factorial \n",
      "        \n",
      "    return value                 # return value\n",
      "\n",
      "print ('factorial(10)=',factorial(10))\n",
      "for i in range(1,5):\n",
      "    print ('factorial(%d)=%2d' % (i,factorial(i)))\n",
      "\n",
      "#print(factorial(1.1))"
     ],
     "language": "python",
     "metadata": {
      "deletable": true,
      "editable": true
     },
     "outputs": [
      {
       "output_type": "stream",
       "stream": "stdout",
       "text": [
        "('factorial(10)=', 3628800)\n",
        "factorial(1)= 1\n",
        "factorial(2)= 2\n",
        "factorial(3)= 6\n",
        "factorial(4)=24\n"
       ]
      }
     ],
     "prompt_number": 82
    },
    {
     "cell_type": "markdown",
     "metadata": {
      "deletable": true,
      "editable": true
     },
     "source": [
      "Here is a more elegant way to implement the function (recursive). It also has basic error handling"
     ]
    },
    {
     "cell_type": "code",
     "collapsed": false,
     "input": [
      "import numpy as np\n",
      "def factRecursive(n):\n",
      "    '''Computes n!, input: integer, output: integer'''\n",
      "    if type(n)!=int:                     # these factorials defined only for integers\n",
      "        return np.nan                    # return Not-a-number\n",
      "    if n > 1:\n",
      "        return n*factRecursive(n-1)      # THIS IS THE RECURSION!!\n",
      "    elif n >= 0:\n",
      "        return 1\n",
      "    else:\n",
      "        return -np.inf                 # return negative infinit\n",
      "    \n",
      "print (factRecursive(10))\n",
      "print (factRecursive(-1))\n",
      "print (factRecursive('Joe'))\n",
      "\n",
      "x = factorial(5)   # old function still defined\n",
      "y = x**2\n",
      "print (y)"
     ],
     "language": "python",
     "metadata": {
      "deletable": true,
      "editable": true
     },
     "outputs": [
      {
       "output_type": "stream",
       "stream": "stdout",
       "text": [
        "3628800\n",
        "-inf\n",
        "nan\n",
        "14400\n"
       ]
      }
     ],
     "prompt_number": 83
    },
    {
     "cell_type": "heading",
     "level": 3,
     "metadata": {
      "deletable": true,
      "editable": true
     },
     "source": [
      "Local vs Global variables"
     ]
    },
    {
     "cell_type": "markdown",
     "metadata": {
      "deletable": true,
      "editable": true
     },
     "source": [
      "Typically, variables inside the scope of a function (or class member) are only visible inside that function. If you happen to use the same variable outside and inside a function (global vs local scope), a new variable is usually created inside the function, which will \"shadow\" (make it inaccessible) the global variable. There are exceptions and special cases for this, and the behavior often depends on the programming language, environment, etc. It is BAD PRACTICE to reuse variable names in different scopes. It is also usually BAD PRACTICE for a function to modify global variables (this causes unexpected side effects). It is a good practice is to declare your intentions (in documentation, and also by declaring variables global). The best practice is not to rely on globals if you can (global variables are an anachronism from the days of Fortran and common blocks, they make things efficient but bug-prone)"
     ]
    },
    {
     "cell_type": "code",
     "collapsed": false,
     "input": [
      "x = 5\n",
      "def giveMeY():\n",
      "    global x                    # pull this from global scope\n",
      "    print (x)\n",
      "    y = 10\n",
      "    x = 7                       # change value of global variable\n",
      "    print ('x=',x,'y=',y)\n",
      "    return y\n",
      "\n",
      "print ('x before function:',x)\n",
      "a = giveMeY()\n",
      "print(a)\n",
      "print ('x after function:',x)\n"
     ],
     "language": "python",
     "metadata": {
      "deletable": true,
      "editable": true
     },
     "outputs": [
      {
       "output_type": "stream",
       "stream": "stdout",
       "text": [
        "('x before function:', 5)\n",
        "5\n",
        "('x=', 7, 'y=', 10)\n",
        "10\n",
        "('x after function:', 7)\n"
       ]
      }
     ],
     "prompt_number": 84
    },
    {
     "cell_type": "code",
     "collapsed": false,
     "input": [
      "x = 5\n",
      "def test():\n",
      "#    print('x inside the function = ',x)\n",
      "    y = 10\n",
      "    x = 8                   # assignment operator creates a local copy with the same name ! Beware !!!\n",
      "    print ('x inside function:',x)\n",
      "#    print(xx)\n",
      "#    xxx=5\n",
      "    return\n",
      "\n",
      "print ('x before function:',x)\n",
      "test()\n",
      "print ('x after function:',x)\n",
      "#print(xxx)"
     ],
     "language": "python",
     "metadata": {
      "deletable": true,
      "editable": true
     },
     "outputs": [
      {
       "output_type": "stream",
       "stream": "stdout",
       "text": [
        "('x before function:', 5)\n",
        "('x inside function:', 8)\n",
        "('x after function:', 5)\n"
       ]
      }
     ],
     "prompt_number": 36
    },
    {
     "cell_type": "markdown",
     "metadata": {
      "deletable": true,
      "editable": true
     },
     "source": [
      "Functions can be passed into other functions, stored in lists or tuples. This can produce some neat code"
     ]
    },
    {
     "cell_type": "code",
     "collapsed": false,
     "input": [
      "def lin(x):\n",
      "    '''Compute polynomal of 1st degree, parameters p0,p1 are global'''\n",
      "    global p0,p1             # didn't I say this was a bad idea ?\n",
      "    return p0+p1*x\n",
      "\n",
      "def sq(x):\n",
      "    global p0, p1, p2        \n",
      "    return p0+p1*x+p2*x*x    # why didn't I write x**2 ?\n",
      "\n",
      "#define global parameters\n",
      "p0 = 1\n",
      "p1 = 2\n",
      "p2 = +7\n",
      "\n",
      "print (sq(0.5))\n",
      "print(lin(np.array((1,2))))\n",
      "\n",
      "# import libraries\n",
      "import numpy as np\n",
      "import matplotlib.pyplot as plt\n",
      "%matplotlib inline\n",
      "\n",
      "# produce a plot\n",
      "x = np.linspace(-1,1,100)\n",
      "plt.plot(x,lin(x),'r-')\n",
      "plt.plot(x,sq(x),'b-')\n",
      "plt.xlabel('x')\n",
      "plt.ylabel('function')\n",
      "plt.legend(['Linear','Quadratic'],loc=2)\n",
      "plt.show()"
     ],
     "language": "python",
     "metadata": {
      "deletable": true,
      "editable": true
     },
     "outputs": [
      {
       "output_type": "stream",
       "stream": "stdout",
       "text": [
        "3.75\n",
        "[3 5]\n"
       ]
      },
      {
       "metadata": {},
       "output_type": "display_data",
       "png": "[encoded data removed]",
       "text": [
        "<matplotlib.figure.Figure at 0x7fe3f8acaad0>"
       ]
      }
     ],
     "prompt_number": 85
    },
    {
     "cell_type": "heading",
     "level": 3,
     "metadata": {
      "collapsed": true,
      "deletable": true,
      "editable": true
     },
     "source": [
      "Beware of unintended consequences in functions taking lists !"
     ]
    },
    {
     "cell_type": "code",
     "collapsed": false,
     "input": [
      "def sortedList(inputList):\n",
      "    myList = inputList\n",
      "    myList.sort(reverse=True) \n",
      "    return myList\n",
      "\n",
      "\n",
      "list1 = [1,4,5,10]\n",
      "print ('Original list = ',list1)\n",
      "list2 = sortedList(list1)\n",
      "print ('New list = ',list2)\n",
      "print ('Original list = ',list1)   # huh, what happened ? \n"
     ],
     "language": "python",
     "metadata": {
      "deletable": true,
      "editable": true
     },
     "outputs": [
      {
       "output_type": "stream",
       "stream": "stdout",
       "text": [
        "('Original list = ', [1, 4, 5, 10])\n",
        "('New list = ', [10, 5, 4, 1])\n",
        "('Original list = ', [10, 5, 4, 1])\n"
       ]
      }
     ],
     "prompt_number": 86
    },
    {
     "cell_type": "code",
     "collapsed": false,
     "input": [
      "'''This version preserves the original list'''\n",
      "from copy import copy\n",
      "\n",
      "def sortedList(inputList):\n",
      "    myList = copy(inputList)\n",
      "    myList.sort(reverse=True) \n",
      "#    myList = sorted(inputList,reverse=True) # this is a short-hand: returns new sorted list, preserving the original\n",
      "    return myList\n",
      "\n",
      "\n",
      "list1 = [1,4,5,10]\n",
      "print ('Original list = ',list1)\n",
      "list2 = sortedList(list1)\n",
      "print ('New list = ',list2)\n",
      "print ('Original list = ',list1)    \n"
     ],
     "language": "python",
     "metadata": {
      "deletable": true,
      "editable": true
     },
     "outputs": [
      {
       "output_type": "stream",
       "stream": "stdout",
       "text": [
        "('Original list = ', [1, 4, 5, 10])\n",
        "('New list = ', [10, 5, 4, 1])\n",
        "('Original list = ', [1, 4, 5, 10])\n"
       ]
      }
     ],
     "prompt_number": 87
    },
    {
     "cell_type": "markdown",
     "metadata": {
      "deletable": true,
      "editable": true
     },
     "source": [
      "Is this what you would expect ? \n",
      "\n",
      "There are two issues:\n",
      "1. Variables of type <tt>list</tt> are only \"handles\" -- they are really references/pointers to a place in memory where (the first element of the) list is stored. So assignment myList = inputList does not create a new list and copy the contents; it simply copies the handle. Now you have two references, all pointed to the same list in memory. When you operate on the list through one reference, the contents pointed to by the other reference changes also ! \n",
      "Note that this behavior is different from simple data types, like ints, floats, and strings\n",
      "1. Variables of type <tt>list</tt> are passed into functions \"by reference\" (in C/C++ language), so modifications changes to the list inside the function modify the list outside the function"
     ]
    },
    {
     "cell_type": "markdown",
     "metadata": {},
     "source": [
      "### Passing vectors to a function\n",
      "\n",
      "Some of you have noticed in the workshop that if your function has a nested if statement, and you pass it a numpy array (e.g. through `plot()`), Python complains. Here is an example:"
     ]
    },
    {
     "cell_type": "code",
     "collapsed": false,
     "input": [
      "def Theta(x):\n",
      "    if x > 0:\n",
      "        return 1\n",
      "    \n",
      "    return 0\n",
      "\n",
      "# produce a plot\n",
      "x = np.linspace(-1,1,100)\n",
      "plt.plot(x,Theta(x),'r-')\n",
      "plt.show()"
     ],
     "language": "python",
     "metadata": {},
     "outputs": [
      {
       "ename": "ValueError",
       "evalue": "The truth value of an array with more than one element is ambiguous. Use a.any() or a.all()",
       "output_type": "pyerr",
       "traceback": [
        "\u001b[0;31m---------------------------------------------------------------------------\u001b[0m\n\u001b[0;31mValueError\u001b[0m                                Traceback (most recent call last)",
        "\u001b[0;32m<ipython-input-88-cde277e312b4>\u001b[0m in \u001b[0;36m<module>\u001b[0;34m()\u001b[0m\n\u001b[1;32m      7\u001b[0m \u001b[0;31m# produce a plot\u001b[0m\u001b[0;34m\u001b[0m\u001b[0;34m\u001b[0m\u001b[0m\n\u001b[1;32m      8\u001b[0m \u001b[0mx\u001b[0m \u001b[0;34m=\u001b[0m \u001b[0mnp\u001b[0m\u001b[0;34m.\u001b[0m\u001b[0mlinspace\u001b[0m\u001b[0;34m(\u001b[0m\u001b[0;34m-\u001b[0m\u001b[0;36m1\u001b[0m\u001b[0;34m,\u001b[0m\u001b[0;36m1\u001b[0m\u001b[0;34m,\u001b[0m\u001b[0;36m100\u001b[0m\u001b[0;34m)\u001b[0m\u001b[0;34m\u001b[0m\u001b[0m\n\u001b[0;32m----> 9\u001b[0;31m \u001b[0mplt\u001b[0m\u001b[0;34m.\u001b[0m\u001b[0mplot\u001b[0m\u001b[0;34m(\u001b[0m\u001b[0mx\u001b[0m\u001b[0;34m,\u001b[0m\u001b[0mTheta\u001b[0m\u001b[0;34m(\u001b[0m\u001b[0mx\u001b[0m\u001b[0;34m)\u001b[0m\u001b[0;34m,\u001b[0m\u001b[0;34m'r-'\u001b[0m\u001b[0;34m)\u001b[0m\u001b[0;34m\u001b[0m\u001b[0m\n\u001b[0m\u001b[1;32m     10\u001b[0m \u001b[0mplt\u001b[0m\u001b[0;34m.\u001b[0m\u001b[0mshow\u001b[0m\u001b[0;34m(\u001b[0m\u001b[0;34m)\u001b[0m\u001b[0;34m\u001b[0m\u001b[0m\n",
        "\u001b[0;32m<ipython-input-88-cde277e312b4>\u001b[0m in \u001b[0;36mTheta\u001b[0;34m(x)\u001b[0m\n\u001b[1;32m      1\u001b[0m \u001b[0;32mdef\u001b[0m \u001b[0mTheta\u001b[0m\u001b[0;34m(\u001b[0m\u001b[0mx\u001b[0m\u001b[0;34m)\u001b[0m\u001b[0;34m:\u001b[0m\u001b[0;34m\u001b[0m\u001b[0m\n\u001b[0;32m----> 2\u001b[0;31m     \u001b[0;32mif\u001b[0m \u001b[0mx\u001b[0m \u001b[0;34m>\u001b[0m \u001b[0;36m0\u001b[0m\u001b[0;34m:\u001b[0m\u001b[0;34m\u001b[0m\u001b[0m\n\u001b[0m\u001b[1;32m      3\u001b[0m         \u001b[0;32mreturn\u001b[0m \u001b[0;36m1\u001b[0m\u001b[0;34m\u001b[0m\u001b[0m\n\u001b[1;32m      4\u001b[0m \u001b[0;34m\u001b[0m\u001b[0m\n\u001b[1;32m      5\u001b[0m     \u001b[0;32mreturn\u001b[0m \u001b[0;36m0\u001b[0m\u001b[0;34m\u001b[0m\u001b[0m\n",
        "\u001b[0;31mValueError\u001b[0m: The truth value of an array with more than one element is ambiguous. Use a.any() or a.all()"
       ]
      }
     ],
     "prompt_number": 88
    },
    {
     "cell_type": "markdown",
     "metadata": {},
     "source": [
      "I explained the reason in lecture. `plt.plot()` passes an array `x` into the function `Theta(x)` instead of a single value. The `if` statement for an array is underfined. \n",
      "\n",
      "The solution is to define the function to strictly take a single argument, and then wrap it in a 'vectorized' version. The vectorized function will loop over elements of an array (or a list), call the original function one element at a time, and then create an array (or list) or results. See below:"
     ]
    },
    {
     "cell_type": "code",
     "collapsed": false,
     "input": [
      "vTheta = np.vectorize(Theta)\n",
      "x = np.linspace(-1,1,100)\n",
      "plt.plot(x,vTheta(x),'r-')\n",
      "plt.show()"
     ],
     "language": "python",
     "metadata": {},
     "outputs": [
      {
       "metadata": {},
       "output_type": "display_data",
       "png": "[encoded data removed]",
       "text": [
        "<matplotlib.figure.Figure at 0x7fe3f8ad2a10>"
       ]
      }
     ],
     "prompt_number": 41
    },
    {
     "cell_type": "markdown",
     "metadata": {
      "collapsed": true,
      "deletable": true,
      "editable": true
     },
     "source": [
      "### Extra: List Comprehension\n",
      "\n",
      "List comprehensions are an easy and efficient way to generate lists without resorting to messy loops. Say we want to generate a list of squares from $1^2$ to $10^2$. Using a `for` loop, we would write\n"
     ]
    },
    {
     "cell_type": "code",
     "collapsed": false,
     "input": [
      "squares = []\n",
      "for n in range(1, 11):\n",
      "    if n%2 == 0:\n",
      "        squares.append(n**2)\n",
      "print (squares)"
     ],
     "language": "python",
     "metadata": {
      "deletable": true,
      "editable": true
     },
     "outputs": [
      {
       "output_type": "stream",
       "stream": "stdout",
       "text": [
        "[4, 16, 36, 64, 100]\n"
       ]
      }
     ],
     "prompt_number": 89
    },
    {
     "cell_type": "markdown",
     "metadata": {
      "deletable": true,
      "editable": true
     },
     "source": [
      "Using a list comprehension, we can do the same thing with much less typing:"
     ]
    },
    {
     "cell_type": "code",
     "collapsed": true,
     "input": [
      "squares = [n**2 for n in range(1, 11)]\n",
      "print(squares)\n"
     ],
     "language": "python",
     "metadata": {
      "deletable": true,
      "editable": true
     },
     "outputs": [
      {
       "output_type": "stream",
       "stream": "stdout",
       "text": [
        "[1, 4, 9, 16, 25, 36, 49, 64, 81, 100]\n"
       ]
      }
     ],
     "prompt_number": 90
    },
    {
     "cell_type": "markdown",
     "metadata": {
      "deletable": true,
      "editable": true
     },
     "source": [
      "You can also combine conditionals with the loop expression:"
     ]
    },
    {
     "cell_type": "code",
     "collapsed": false,
     "input": [
      "evensquares = [n**2 for n in range(1, 11) if n%2 == 0]\n",
      "print(evensquares)"
     ],
     "language": "python",
     "metadata": {
      "deletable": true,
      "editable": true
     },
     "outputs": [
      {
       "output_type": "stream",
       "stream": "stdout",
       "text": [
        "[4, 16, 36, 64, 100]\n"
       ]
      }
     ],
     "prompt_number": 91
    },
    {
     "cell_type": "markdown",
     "metadata": {
      "deletable": true,
      "editable": true
     },
     "source": [
      "The overall syntax is\n",
      "\n",
      "*result*  = [*transform*    *iteration*         *filter*     ]\n",
      "\n",
      "where *transform* is an operation to be performed, *iteration* is equivalent to for loop, abd *filter* is a conditional statement. \n",
      "\n",
      "LC is a fast and convenient way to code loops over lists or arrays. But they are not as readable as loops, so require some care "
     ]
    },
    {
     "cell_type": "code",
     "collapsed": true,
     "input": [],
     "language": "python",
     "metadata": {
      "deletable": true,
      "editable": true
     },
     "outputs": [],
     "prompt_number": null
    }
   ],
   "metadata": {}
  }
 ]
}