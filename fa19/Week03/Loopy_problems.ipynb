{
 "cells": [
  {
   "cell_type": "markdown",
   "metadata": {},
   "source": [
    "# Loopy problems"
   ]
  },
  {
   "cell_type": "markdown",
   "metadata": {},
   "source": [
    "### `for` Loop Over a Changing List\n",
    "\n",
    "[Adapted from Langtangen, Exercise 2.60] It is possible---but almost never recommended---to execute a for loop over a changing list. This is dangerous business, and can lead to very unpredictable results. *Always be careful that you are looping over a list that is not being changed by the loop*---unless you really really know what you're doing.\n",
    "\n",
    "With a partner, study the following program with its output and explain in detail what happens in each pass of the loop. Use this explanation to understand the output. You might try typing the program into a file or the interactive python shell to better understand what's happening.\n",
    "\n",
    "Program:\n",
    "\n",
    "    numbers = [i for i in range(10)]\n",
    "    print(numbers)\n",
    "    for n in numbers:\n",
    "        i = len(numbers)//2\n",
    "        del numbers[i]\n",
    "        print('n={:d}, del {:d}'.format(n,i), numbers)\n",
    "\n",
    "Output:\n",
    "\n",
    "    [0, 1, 2, 3, 4, 5, 6, 7, 8, 9]\n",
    "    n=0, del 5 [0, 1, 2, 3, 4, 6, 7, 8, 9]\n",
    "    n=1, del 4 [0, 1, 2, 3, 6, 7, 8, 9]\n",
    "    n=2, del 4 [0, 1, 2, 3, 7, 8, 9]\n",
    "    n=3, del 3 [0, 1, 2, 7, 8, 9]\n",
    "    n=8, del 3 [0, 1, 2, 8, 9]\n",
    "    \n",
    "How do you think the output would change if the 3rd line read \n",
    "    \n",
    "    for n in range(10):\n",
    "instead of  \"`for n in numbers:`\" ? Make your best guess, then try it out."
   ]
  },
  {
   "cell_type": "markdown",
   "metadata": {},
   "source": [
    "### Infinite (`while`) Loop\n",
    "\n",
    "Infinite loops are a very common problem, especially when using while loops, and it's important to know how to break out of them and how to debug them. \n",
    "\n",
    "One way that (usually) works to escape get out of an infinite loop is to make sure the python shell is in focus (i.e., it's the active window on your computer) and press Control+C on your keyboard. If that doesn't work, then you can try (in order of increasing desperation):\n",
    "\n",
    "1. Press Control+C with the python shell in focus\n",
    "1. Canopy's Run Menu > Interrupt kernel\n",
    "1. Canopy's Run menu > Restart kernel\n",
    "1. Quit Canopy, then restart it\n",
    "\n",
    "([reference](https://support.enthought.com/hc/en-us/articles/204469610-How-to-stop-an-infinite-runaway-loop-in-your-Python-program-running-in-Canopy)) In the worst-case (this doesn't usually happen!), the program will continue to go on and on, filling up your ram and slowing down your computer so much that you can't do anything to stop it. Your computer might be clever and eventually kill the process once it gets too big, or you might have to reboot. If this every happens to you, it will generally only be because your loop is trying to do intensive calculations or display lots of text or images---for instance if you accidentally write an infinite loop that keeps producing plots. This can be very frustrating, but if you've been saving your work, it won't lose you too much time. **Remember to save your work often!**\n",
    "\n",
    "Let's learn how to handle infinite loops, so you can be prepared! None of the examples we'll try here should hang your computer, but it never hurts to go save your work anyways!\n",
    "\n",
    "The simplest infinite loop looks like\n",
    "\n",
    "    while True:\n",
    "        pass\n",
    "\n",
    "(The `pass` command does absolutely nothing.) Try it! Press Control+C to get out."
   ]
  },
  {
   "cell_type": "markdown",
   "metadata": {},
   "source": [
    "If it doesn't work for some reason, you can figure out any kinks now before getting stuck on more intensive loops later. If you add a print statement, like\n",
    "\n",
    "    while True:\n",
    "        print ('This is an infinite loop!')\n",
    "\n",
    "You might find the shell is slower to respond to your keyboard interrupt. (Try it!)"
   ]
  },
  {
   "cell_type": "markdown",
   "metadata": {},
   "source": [
    "Why would you ever use `while True`, you ask? Maybe you know something will finish eventually, but you don't know how long it will take. For instance, you want to wait until a user gives you a valid input:\n",
    "\n",
    "    while True:\n",
    "        user_input = input('Enter an integer:')\n",
    "        if type(user_input) = int:\n",
    "            print('Thank you!')\n",
    "            break\n",
    "        else:\n",
    "            print('That's not an integer.')\n",
    "            continue"
   ]
  },
  {
   "cell_type": "markdown",
   "metadata": {},
   "source": [
    "The `break` command will break out of the loop immediately. The `continue` command will proceed immediately to the next iteration of the loop. The `continue` command is not necessary in this example, since the loop will proceed to the next iteration as soon as it hits the bottom anyways, but it can be very useful at times.\n",
    "\n",
    "Forgetting to include `break` in the right place is one way infinite loops can arise. Accidentally messing up indents is another common way. For instance, suppose we want to find the largest number whose square is less than 1000. We might run\n",
    "\n",
    "    n = 1\n",
    "    numbers = []\n",
    "    squares = []\n",
    "    while n**2 < 1000:\n",
    "        numbers.append(n)\n",
    "        squares.append(n**2)\n",
    "    n += 1\n",
    "    \n",
    "    print('The biggest number whose square is \\\n",
    "    less than 1000 is',  numbers[-1], \\\n",
    "    '\\nIts square is', squares[-1])\n",
    "    \n",
    "but oops! We forgot to indent the `n += 1` line, so it isn't included in the `while` loop and the program never stops. (Try it!)"
   ]
  },
  {
   "cell_type": "markdown",
   "metadata": {},
   "source": [
    "How can you debug an infinite loop? If you can't figure it out by looking at the code, you can try adding print statements to the loop to see how it's evolving. Adding `print n` to the squares example above, for instance, would show us that `n` doesn't change as we expected.\n",
    "\n",
    "While you're debugging, it can be useful to add a stopper to break the infinite loop until you figure out what's wrong, so you don't have to rely on keyboard interrupts to stop the loop. This can be a simple counter that you add to the `while` conditional to stop it after a certain number of iterations. For instance, we could change\n",
    "\n",
    "    while True:\n",
    "        pass\n",
    "\n",
    "to\n",
    "\n",
    "    stopper = 0\n",
    "    while True and (stopper < 100):\n",
    "        stopper += 1\n",
    "        pass\n",
    "        \n",
    "and once we're confident the loop is debugged, we simply (and carefully!) remove the stoppers. Try this on the squares loop above, before fixing the indent."
   ]
  }
 ],
 "metadata": {
  "kernelspec": {
   "display_name": "Python 3",
   "language": "python",
   "name": "python3"
  },
  "language_info": {
   "codemirror_mode": {
    "name": "ipython",
    "version": 3
   },
   "file_extension": ".py",
   "mimetype": "text/x-python",
   "name": "python",
   "nbconvert_exporter": "python",
   "pygments_lexer": "ipython3",
   "version": "3.7.3"
  }
 },
 "nbformat": 4,
 "nbformat_minor": 2
}
