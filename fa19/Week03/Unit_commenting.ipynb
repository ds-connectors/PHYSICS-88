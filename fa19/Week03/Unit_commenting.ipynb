{
 "cells": [
  {
   "cell_type": "code",
   "execution_count": null,
   "metadata": {},
   "outputs": [],
   "source": [
    "from math import pi\n",
    "import numpy as np\n",
    "\n",
    "sidereal_day = 23.93 # [hours]\n",
    "orbit_period = np.array([200000, 90 * 60, 45 * 60, 60 * 60 * 24, 60 * 60 * sidereal_day]) # [seconds]\n",
    "grav_constant = 6.67e-11 # [m^3 kg^-1 s^-2]\n",
    "earth_mass = 5.97e24 # [kg]\n",
    "earth_radius = 6371e3 # [meters]\n",
    "meters_to_miles = .0006213712\n",
    "orbit_height = ((grav_constant * earth_mass * orbit_period**2)/(4 * pi**2))**(1/3) - earth_radius # [meters]\n",
    "\n",
    "for i in range(0,orbit_period.size):\n",
    "    print('Altitude for orbit with a period of {:1.0f} seconds \\n{:15.1f} m\\n{:15.1f} km \\n{:15.1f} miles'.format(orbit_period[i], orbit_height[i], orbit_height[i]/1000, orbit_height[i] * meters_to_miles))\n"
   ]
  }
 ],
 "metadata": {
  "kernelspec": {
   "display_name": "Python 3",
   "language": "python",
   "name": "python3"
  },
  "language_info": {
   "codemirror_mode": {
    "name": "ipython",
    "version": 3
   },
   "file_extension": ".py",
   "mimetype": "text/x-python",
   "name": "python",
   "nbconvert_exporter": "python",
   "pygments_lexer": "ipython3",
   "version": "3.6.7"
  }
 },
 "nbformat": 4,
 "nbformat_minor": 2
}
