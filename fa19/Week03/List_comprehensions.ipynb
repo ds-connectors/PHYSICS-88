{
 "cells": [
  {
   "cell_type": "markdown",
   "metadata": {},
   "source": [
    "# Tutorial in List Comprehensions"
   ]
  },
  {
   "cell_type": "markdown",
   "metadata": {},
   "source": [
    "These exercises used to be part of Workshop 3 but have now been made optional. The pedagogical justification is that although list comprehensions are ubuquitous in Python, they do not appear in most other programming languages. Moreover, since they do not contain any additional flow control concepts beyond those taught by this point (`while`, `for`, `if`-`elif`-`else`), they do not teach any broad programming concepts. Therefore, for the student it would be helpful but not strictly necessary to work through these exercises."
   ]
  },
  {
   "cell_type": "markdown",
   "metadata": {},
   "source": [
    "## List Comprehensions and Spherical Cows\n",
    "\n",
    "### Basic LC's\n",
    "\n",
    "List comprehensions are an easy and efficient way to generate lists without resorting to messy loops. Say we want to generate a list of squares from $1^2$ to $10^2$. Using a `for` loop, we would write\n",
    "\n",
    "    squares = []\n",
    "    for n in range(1, 11):\n",
    "        squares.append(n**2)\n",
    "    print squares\n",
    "\n",
    "and get the output `[1, 4, 9, 16, 25, 36, 49, 64, 81, 100]`.  \n",
    "Using a list comprehension, we can do the same thing with much less typing:\n",
    "\n",
    "    print [n**2 for n in range(1, 11)]\n",
    "\n",
    "Or suppose we have a list of first and last names and we want to make Berkeley email names out of them. Then we could write\n",
    "\n",
    "    names = [('Emmy', 'Noether'), ('Albert', 'Einstein'),\n",
    "             ('Marie', 'Curie'),   ('Isaac', 'Newton')]\n",
    "    emails = [(name[0][0] + name[1]).lower() for name in names]\n",
    "\n",
    "Print `emails` and you'll find `['enoether', 'aeinstein', 'mcurie', 'inewton']`. Try it! (Note: using `.lower()` on a string makes all the letters lowercase: `'HELLO World'.lower()` produces `'hello world'`)"
   ]
  },
  {
   "cell_type": "markdown",
   "metadata": {},
   "source": [
    "#### Exercise 1\n",
    "A theoretical physicist wants to study various animals. Animals are complicated, though, and theoretical physicists like simplified models to make their calculations more feasible.\n",
    "\n",
    "Write a list comprehension to generate a list of spherical animals from the list `animals`. For instance, `'cow'` should become `'spherical cow'`.\n",
    "\n",
    "    animals = ['cow', 'bat', 'goatfish', 'dog', 'squirrel', 'llama']\n",
    "    approximate_animals1 = # your list comprehension here!"
   ]
  },
  {
   "cell_type": "code",
   "execution_count": null,
   "metadata": {
    "collapsed": true
   },
   "outputs": [],
   "source": []
  },
  {
   "cell_type": "markdown",
   "metadata": {},
   "source": [
    "### LC's with `if` filters\n",
    "\n",
    "You can also use list comprehensions together with `if` statements to generate filtered lists. You can use this, for instance, to filter out only positive numbers, or just a certain type of data:\n",
    "\n",
    "    list1 = [5, 6, -10, -3, 3, 3, 22, 0]\n",
    "    list1_positive = [n for n in list1 if n > 0]\n",
    "    \n",
    "    list2 = ['hi', 8, 10.2, 1.0, 5, 'buffalo', ['bye']]\n",
    "    list2_strings = [el.upper() for el in list2 if type(el) == str]\n",
    "\n",
    "Print `list1_positive` and you'll find `[5, 6, 3, 3, 22]`. Print `list2_strings` and you'll find `['HI', 'BUFFALO']`. Try it!"
   ]
  },
  {
   "cell_type": "markdown",
   "metadata": {},
   "source": [
    "#### Exercise 2\n",
    "Having spherical animals is good, but now air resistance is mussing up the theorist's calculations. And it's looking like animals with shorter names might make the math easiest for a first approximation.\n",
    "\n",
    "Write a list comprehension that takes only animals with three-letter names, makes them spherical, and puts them in a vacuum. For instance, `'cow'` should become `'spherical cow in a vacuum'`.\n",
    "\n",
    "    animals = ['cow', 'bat', 'goatfish', 'dog', 'squirrel', 'llama']\n",
    "    approximate_animals2 = # your list comprehension here!\n",
    "\n",
    "You should find `len(approximate_animals2) == 3` is `True` when you're done. (That is, there should only be three animals in your final list.)"
   ]
  },
  {
   "cell_type": "code",
   "execution_count": null,
   "metadata": {
    "collapsed": true
   },
   "outputs": [],
   "source": []
  },
  {
   "cell_type": "markdown",
   "metadata": {},
   "source": [
    "### LC's with `if ... else` filters\n",
    "\n",
    "List comprehensions can even have `if ... else` statements built right in. But note! The syntax is a bit flipped from the simple `if` filter. Suppose you want to flip the sign of all even numbers in a list:\n",
    "\n",
    "    list3 = [10, 3, -4, -5, -6, 1, 2, 8]\n",
    "    list3_evenNeg = [-x if (x % 2 == 0) else x for x in list3]\n",
    "\n",
    "Print `list2_evenNeg` and you'll find `[-10, 3, 4, -5, 6, 1, -2, -8]`. Try it! (Note: The parentheses are just to make the list comprehension a bit easier to read.)"
   ]
  },
  {
   "cell_type": "markdown",
   "metadata": {},
   "source": [
    "#### Exercise 3\n",
    "At long last, the theorist's work is complete, and she found very interesting results! For the spherical cow in a vacuum, at least. And also incidentally for a spherical cowshark in a vacuum! The bat and dog didn't work out this time, but they show enough promise that she'll list them as future work in the paper.\n",
    "\n",
    "Write a list comprehension that starts with `animals_for_paper` and prepends `'to publish: '` to strings with `'cow'` in them, and `'future work: '` to the rest. (Hint: Use the boolean operator `in`.)\n",
    "\n",
    "    animals_for_paper = ['spherical cow in a vacuum',\n",
    "                         'spherical cowshark in a vacuum',\n",
    "                         'spherical bat in a vacuum',\n",
    "                         'spherical dog in a vacuum']\n",
    "    paper_in_progress = # your list comprehension here!\n",
    "    "
   ]
  },
  {
   "cell_type": "code",
   "execution_count": null,
   "metadata": {},
   "outputs": [],
   "source": []
  },
  {
   "cell_type": "markdown",
   "metadata": {},
   "source": [
    "#### Style Note\n",
    "\n",
    "Sometimes it is possible to do something with a list comprehension, but the line gets too long or otherwise it is hard to understand what the list comprehension is doing. In these cases, it is generally better to just use regular loops and conditional statements. This also leaves more room for comments. More compact code is only better code if the compactness makes it clearer.  "
   ]
  },
  {
   "cell_type": "markdown",
   "metadata": {},
   "source": [
    "#### Just for fun\n",
    "\n",
    "http://abstrusegoose.com/406"
   ]
  }
 ],
 "metadata": {
  "kernelspec": {
   "display_name": "Python 3",
   "language": "python",
   "name": "python3"
  },
  "language_info": {
   "codemirror_mode": {
    "name": "ipython",
    "version": 3
   },
   "file_extension": ".py",
   "mimetype": "text/x-python",
   "name": "python",
   "nbconvert_exporter": "python",
   "pygments_lexer": "ipython3",
   "version": "3.7.3"
  }
 },
 "nbformat": 4,
 "nbformat_minor": 1
}
