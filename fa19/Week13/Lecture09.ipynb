{
 "cells": [
  {
   "cell_type": "markdown",
   "metadata": {},
   "source": [
    "# Introduction to Linear Algebra\n"
   ]
  },
  {
   "cell_type": "code",
   "execution_count": 1,
   "metadata": {},
   "outputs": [
    {
     "data": {
      "text/plain": [
       "'%.4f'"
      ]
     },
     "execution_count": 1,
     "metadata": {},
     "output_type": "execute_result"
    }
   ],
   "source": [
    "# imports\n",
    "import numpy as np\n",
    "import scipy\n",
    "%matplotlib inline\n",
    "%precision 4"
   ]
  },
  {
   "cell_type": "markdown",
   "metadata": {},
   "source": [
    "## Examples: matrices, determinants"
   ]
  },
  {
   "cell_type": "code",
   "execution_count": 2,
   "metadata": {},
   "outputs": [
    {
     "name": "stdout",
     "output_type": "stream",
     "text": [
      "C=\n",
      " [[-1  6]\n",
      " [ 3 -2]]\n",
      "Determinant of C is -16.000000000000007\n",
      "D1=\n",
      " [[ 4 -8]\n",
      " [-2  4]]\n",
      "D2=\n",
      " [[ 4 -4]\n",
      " [-4  4]]\n"
     ]
    }
   ],
   "source": [
    "A = np.matrix([\n",
    "    [0, 4],\n",
    "    [2, 0]]\n",
    ")\n",
    "B = np.matrix(\n",
    "    [[-1, 2],\n",
    "     [1, -2]]\n",
    ")\n",
    "\n",
    "C = A + B\n",
    "print(\"C=\\n\",C)\n",
    "print(\"Determinant of C is\",np.linalg.det(C))\n",
    "D1 = A*B\n",
    "D2 = B*A\n",
    "print(\"D1=\\n\",D1)\n",
    "print(\"D2=\\n\",D2)\n"
   ]
  },
  {
   "cell_type": "markdown",
   "metadata": {},
   "source": [
    "### Gauss Elimination Example "
   ]
  },
  {
   "cell_type": "code",
   "execution_count": 3,
   "metadata": {},
   "outputs": [
    {
     "name": "stdout",
     "output_type": "stream",
     "text": [
      "[[10.    -7.     0.   ]\n",
      " [-3.     2.099  6.   ]\n",
      " [ 5.    -1.     5.   ]]\n",
      "det M = -150.05000000000007\n"
     ]
    }
   ],
   "source": [
    "M = np.matrix(\n",
    "[[10,-7,0],\n",
    "[-3,2.099,6],\n",
    "[5,-1,5]]  \n",
    ")\n",
    "print(M)\n",
    "print(\"det M =\",np.linalg.det(M))\n"
   ]
  },
  {
   "cell_type": "code",
   "execution_count": 4,
   "metadata": {},
   "outputs": [
    {
     "name": "stdout",
     "output_type": "stream",
     "text": [
      "[[-1.0993e-01 -2.3326e-01  2.7991e-01]\n",
      " [-2.9990e-01 -3.3322e-01  3.9987e-01]\n",
      " [ 4.9950e-02  1.6661e-01  6.6644e-05]]\n",
      "Solution with matrix inversion:\n",
      " X= [[ 0. -1.  1.]]\n"
     ]
    }
   ],
   "source": [
    "Y = np.array([7,3.901,6])\n",
    "Minv = np.linalg.inv(M)\n",
    "print(Minv)\n",
    "X = np.matmul(Minv,Y)\n",
    "print('Solution with matrix inversion:\\n X=',X)\n"
   ]
  },
  {
   "cell_type": "code",
   "execution_count": 5,
   "metadata": {},
   "outputs": [
    {
     "name": "stdout",
     "output_type": "stream",
     "text": [
      "Using solver:\n",
      " X2= [ 0. -1.  1.]\n"
     ]
    }
   ],
   "source": [
    "X2 = np.linalg.solve(M,Y)\n",
    "print(\"Using solver:\\n X2=\",X2)"
   ]
  },
  {
   "cell_type": "markdown",
   "metadata": {},
   "source": [
    "### LU Decomposition Example\n",
    "\n",
    "`numpy.linalg.solve` uses LU decomposition with pivoting"
   ]
  },
  {
   "cell_type": "code",
   "execution_count": 6,
   "metadata": {},
   "outputs": [
    {
     "name": "stdout",
     "output_type": "stream",
     "text": [
      "Solution: X= [ 0.2905 19.6905  1.0857]\n"
     ]
    }
   ],
   "source": [
    "A = np.matrix(\n",
    "[\n",
    "    [25,5,1],\n",
    "    [64,8,1],\n",
    "    [144,12,1]\n",
    "])\n",
    "Y = np.array([106.8,177.2,279.2])\n",
    "X = np.linalg.solve(A,Y)\n",
    "print(\"Solution: X=\",X)"
   ]
  },
  {
   "cell_type": "code",
   "execution_count": 7,
   "metadata": {},
   "outputs": [
    {
     "name": "stdout",
     "output_type": "stream",
     "text": [
      "L=\n",
      " [[1.     0.     0.    ]\n",
      " [0.1736 1.     0.    ]\n",
      " [0.4444 0.9143 1.    ]]\n",
      "U=\n",
      " [[144.      12.       1.    ]\n",
      " [  0.       2.9167   0.8264]\n",
      " [  0.       0.      -0.2   ]]\n",
      "P=\n",
      " [[0. 1. 0.]\n",
      " [0. 0. 1.]\n",
      " [1. 0. 0.]]\n"
     ]
    }
   ],
   "source": [
    "import scipy.linalg as scl\n",
    "\n",
    "P,L,U = scl.lu(A,permute_l=False)\n",
    "print('L=\\n',L)\n",
    "print('U=\\n',U)\n",
    "print('P=\\n',P)"
   ]
  },
  {
   "cell_type": "markdown",
   "metadata": {},
   "source": [
    "## Eigenvalue problem"
   ]
  },
  {
   "cell_type": "markdown",
   "metadata": {},
   "source": [
    "### The eigenvalue problem (\"diagonalization\")\n",
    "\n",
    "Probably the most famous problem in all of science is the eigenvalue problem. It is ubiquitous across fields and is the defining problem of quantum mechanics. In this problem, we change the problem slightly from before. For a given $A$, we try to look for scalar values $\\lambda$ and vectors $v$ that satisfy the matrix equation\n",
    "\n",
    "$$A v = \\lambda v$$\n",
    "\n",
    "Let us look at a simple example:\n",
    "$$A = \\begin{pmatrix}\n",
    "0 & 1  \\\\\n",
    "1 & 0 \\\\\n",
    "\\end{pmatrix}$$\n",
    "The eigenvectors of this matrix are \n",
    "$$v_1 =  \\frac{1}{\\sqrt{2}}\\begin{pmatrix}\n",
    "1 \\\\\n",
    "1 \\\\\n",
    "\\end{pmatrix}\\text{ and }\n",
    "v_2 = \\frac{1}{\\sqrt{2}}\\begin{pmatrix}\n",
    "1 \\\\\n",
    "-1 \\\\\n",
    "\\end{pmatrix}$$\n",
    "If you multiply $A$ by $v_1$ you get $Av_1 = v_1$ and if you multiply $A$ by $v_2$ you get $Av_2 = -v_2$ (check these for yourself by doing the multiplications). This means that the eigenvalue $\\lambda_1$ corresponding to the eigenvector $v_1$ is $\\lambda_1 = 1$, and the eigenvalue $\\lambda_2$ corresponding to the eigenvector $v_2$ is $\\lambda_2 = -1$.\n",
    "\n",
    "One geometric intuition for what an eigenvector is that it is a vector whose direction is not changed by the action of $A$: only its length is rescaled by a factor of $\\lambda$. \n",
    "\n",
    "An $m \\times m$ matrix can have at most $m$ eigenvectors (and consequently it can have at most $m$ unique eigenvalues). It can also have $m$ eigenvectors but fewer than $m$ eigenvalues--that is, multiple eigenvectors may have the same eigenvalue (in physics, this is called \"degeneracy\").\n",
    "\n",
    "This problem is referred to as \"diagonalization\" because once you have found all of the eigenvectors $v_i$ and their eigenvalues $\\lambda_i$, you can decompose $A$ as\n",
    "$$A = U D U^\\dagger$$\n",
    "where \n",
    "$$ D = \\begin{pmatrix}\n",
    "\\lambda_1 & 0 & \\cdots & 0 & 0 \\\\\n",
    "0 & \\lambda_2 & \\cdots & 0 & 0 \\\\\n",
    "\\vdots & \\vdots & \\ddots & \\vdots & \\vdots\\\\\n",
    "0 & 0 & 0 & \\lambda_{m-1} & 0 \\\\\n",
    "0 & 0 & \\cdots & 0 & \\lambda_m \\\\\n",
    "\\end{pmatrix}$$\n",
    "and the columns of $U$ are formed by\n",
    "$$U = \\begin{pmatrix}\n",
    "v_1 & v_2 & \\cdots & v_{m-1} & v_m\n",
    "\\end{pmatrix}$$\n",
    "(remember each $v_i$ is a column of $m$ elements). And $U^\\dagger$ denotes the conjugate transpose of $U$. $D$ is a \"diagonal\" matrix becaues it has non-zero elements only along its diagonal, so this process is called \"diagonalization\".\n",
    "\n",
    "It turns out that the determinant of a matrix, defined above, is also equal to the product of its eigenvalues.\n",
    "$$\\det(A) = \\lambda_1 \\times \\lambda_2 \\dots \\times \\lambda_m$$\n",
    "So when $\\det(A) = 0$ (the matrix is *singular*), this means that at least one eigenvalue is equal to zero."
   ]
  },
  {
   "cell_type": "markdown",
   "metadata": {},
   "source": [
    "### Finding eigenvectors and eigenvalues with numpy"
   ]
  },
  {
   "cell_type": "code",
   "execution_count": 8,
   "metadata": {},
   "outputs": [
    {
     "name": "stdout",
     "output_type": "stream",
     "text": [
      "Eigenvalues of A= [40.0196 -6.3501  0.3305]\n",
      "Eigenvectors: \n",
      " [[-0.2022 -0.0696  0.0195]\n",
      " [-0.4317  0.2432 -0.2879]\n",
      " [-0.8791  0.9675  0.9575]]\n"
     ]
    }
   ],
   "source": [
    "w,v = np.linalg.eig(A)\n",
    "print('Eigenvalues of A=',w)\n",
    "print('Eigenvectors: \\n',v)"
   ]
  },
  {
   "cell_type": "code",
   "execution_count": 9,
   "metadata": {},
   "outputs": [
    {
     "name": "stdout",
     "output_type": "stream",
     "text": [
      "Eigenvalues of S= [ 1. -1.]\n",
      "Eigenvectors: \n",
      " [[ 0.7071 -0.7071]\n",
      " [ 0.7071  0.7071]]\n"
     ]
    }
   ],
   "source": [
    "S = np.matrix(\n",
    "[\n",
    "    [0,1],\n",
    "    [1,0]\n",
    "])\n",
    "w,v = np.linalg.eig(S)\n",
    "print('Eigenvalues of S=',w)\n",
    "print('Eigenvectors: \\n',v)"
   ]
  },
  {
   "cell_type": "code",
   "execution_count": 10,
   "metadata": {},
   "outputs": [
    {
     "name": "stdout",
     "output_type": "stream",
     "text": [
      "Eigenvalues of S= [0. 0.]\n",
      "Eigenvectors: \n",
      " [[ 1.0000e+000 -1.0000e+000]\n",
      " [ 0.0000e+000  2.0042e-292]]\n"
     ]
    }
   ],
   "source": [
    "# For this matrix, there is only one eigenspace, and it is one-dimensional!\n",
    "# There does not exist a basis of eigenvectors!\n",
    "S = np.matrix(\n",
    "[\n",
    "    [0,1],\n",
    "    [0,0]\n",
    "])\n",
    "w,v = np.linalg.eig(S)\n",
    "print('Eigenvalues of S=',w)\n",
    "print('Eigenvectors: \\n',v)"
   ]
  },
  {
   "cell_type": "code",
   "execution_count": null,
   "metadata": {
    "collapsed": true
   },
   "outputs": [],
   "source": []
  }
 ],
 "metadata": {
  "kernelspec": {
   "display_name": "Python 3",
   "language": "python",
   "name": "python3"
  },
  "language_info": {
   "codemirror_mode": {
    "name": "ipython",
    "version": 3
   },
   "file_extension": ".py",
   "mimetype": "text/x-python",
   "name": "python",
   "nbconvert_exporter": "python",
   "pygments_lexer": "ipython3",
   "version": "3.6.8"
  }
 },
 "nbformat": 4,
 "nbformat_minor": 1
}
