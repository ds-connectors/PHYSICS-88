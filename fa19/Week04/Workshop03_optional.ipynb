{
 "cells": [
  {
   "cell_type": "markdown",
   "metadata": {
    "deletable": true,
    "editable": true
   },
   "source": [
    "# Workshop 5: Arrays and Plotting"
   ]
  },
  {
   "cell_type": "markdown",
   "metadata": {
    "deletable": true,
    "editable": true
   },
   "source": [
    "## Optional exercises"
   ]
  },
  {
   "cell_type": "code",
   "execution_count": null,
   "metadata": {
    "collapsed": true
   },
   "outputs": [],
   "source": [
    "import numpy as np\n",
    "import matplotlib.pyplot as plt\n",
    "%matplotlib inline"
   ]
  },
  {
   "cell_type": "markdown",
   "metadata": {
    "deletable": true,
    "editable": true
   },
   "source": [
    "## More Numpy Exercises (optional)"
   ]
  },
  {
   "cell_type": "code",
   "execution_count": null,
   "metadata": {
    "collapsed": true,
    "deletable": true,
    "editable": true
   },
   "outputs": [],
   "source": [
    "import numpy as np"
   ]
  },
  {
   "cell_type": "markdown",
   "metadata": {
    "deletable": true,
    "editable": true
   },
   "source": [
    "[Adapted from http://math.illinois.edu/~shahkar2/cbmg/] Try these exercises to practice making an manipulating arrays. You don't have to submit these."
   ]
  },
  {
   "cell_type": "markdown",
   "metadata": {
    "deletable": true,
    "editable": true
   },
   "source": [
    "1) Create a uniform subdivision of the interval $[-1.3, 2.5]$ with 64 subdivisions."
   ]
  },
  {
   "cell_type": "code",
   "execution_count": null,
   "metadata": {
    "collapsed": false,
    "deletable": true,
    "editable": true
   },
   "outputs": [],
   "source": [
    "# 1\n",
    "\n",
    "# your code here"
   ]
  },
  {
   "cell_type": "markdown",
   "metadata": {
    "deletable": true,
    "editable": true
   },
   "source": [
    "2) Generate an array of length  $3n \\times 3n$  filled with the cyclic pattern 1, 2, 3."
   ]
  },
  {
   "cell_type": "code",
   "execution_count": null,
   "metadata": {
    "collapsed": false,
    "deletable": true,
    "editable": true
   },
   "outputs": [],
   "source": [
    "#2\n",
    "\n",
    "# your code here"
   ]
  },
  {
   "cell_type": "markdown",
   "metadata": {
    "deletable": true,
    "editable": true
   },
   "source": [
    "3) Write a function `odd_array(n)` which returns an array of the first $n$ odd integers. You may assume $n$ is a nonnegative integer."
   ]
  },
  {
   "cell_type": "code",
   "execution_count": null,
   "metadata": {
    "collapsed": false,
    "deletable": true,
    "editable": true
   },
   "outputs": [],
   "source": [
    "#3\n",
    "\n",
    "# your code here"
   ]
  },
  {
   "cell_type": "markdown",
   "metadata": {
    "deletable": true,
    "editable": true
   },
   "source": [
    "4) Create a $10 \\times 10$ array of zeros and then \"frame\" it with a border of ones."
   ]
  },
  {
   "cell_type": "code",
   "execution_count": null,
   "metadata": {
    "collapsed": false,
    "deletable": true,
    "editable": true
   },
   "outputs": [],
   "source": [
    "#4\n",
    "\n",
    "# your code here"
   ]
  },
  {
   "cell_type": "markdown",
   "metadata": {
    "deletable": true,
    "editable": true
   },
   "source": [
    "5) Create a color plot of $f(x,y) = \\sin(x)\\sin(y)$ on the interval $[-\\pi, \\pi]\\times[-\\pi, \\pi]$. Make sure the point $(-\\pi, -\\pi)$ is in the lower-left corner.\n",
    "\n",
    "(Hint: add a colorbar with `plt.colorbar()` to see which colors correspond to which values. Is your plot of $\\sin(x)\\sin(y)$ equal to -1 or 1 where you expect it to be?)"
   ]
  },
  {
   "cell_type": "code",
   "execution_count": null,
   "metadata": {
    "collapsed": false,
    "deletable": true,
    "editable": true,
    "scrolled": true
   },
   "outputs": [],
   "source": [
    "#5\n",
    "\n",
    "# your code here"
   ]
  },
  {
   "cell_type": "markdown",
   "metadata": {
    "deletable": true,
    "editable": true
   },
   "source": [
    "6) Evaluate $\\cos$ and $\\sin$ on the interval $[0,1]$ and then stack the results into a tall array with rows being the $(\\cos(x),\\sin(x))$ entries."
   ]
  },
  {
   "cell_type": "code",
   "execution_count": null,
   "metadata": {
    "collapsed": false,
    "deletable": true,
    "editable": true
   },
   "outputs": [],
   "source": [
    "#6\n",
    "\n",
    "# your code here"
   ]
  },
  {
   "cell_type": "markdown",
   "metadata": {
    "deletable": true,
    "editable": true
   },
   "source": [
    "7) Create a random $3\\times5$ array using the `np.random.rand(3, 5)` function, then use `np.sum()` to compute: the sum of all the entries, the sum of the rows, and the sum of the columns.\n",
    "\n",
    "(Hint: Type `np.sum?` to read about numpy's `sum` function, particularly the `axis` argument. Based on the examples it gives, what axis number sums over the rows? the columns?)"
   ]
  },
  {
   "cell_type": "code",
   "execution_count": null,
   "metadata": {
    "collapsed": false,
    "deletable": true,
    "editable": true
   },
   "outputs": [],
   "source": [
    "#7\n",
    "\n",
    "# your code here"
   ]
  },
  {
   "cell_type": "markdown",
   "metadata": {
    "deletable": true,
    "editable": true
   },
   "source": [
    "8) Use `np.random.rand(100)` to create a random array of 100 numbers. Use boolean indexing to select only those entries that are 0.3 or less away from the mean. (Hint: You can use `np.mean()` to calculate the mean of an array.)"
   ]
  },
  {
   "cell_type": "code",
   "execution_count": null,
   "metadata": {
    "collapsed": false,
    "deletable": true,
    "editable": true
   },
   "outputs": [],
   "source": [
    "#8\n",
    "\n",
    "# your code here"
   ]
  },
  {
   "cell_type": "markdown",
   "metadata": {
    "deletable": true,
    "editable": true
   },
   "source": [
    "## Just for fun: Animations with Matplotlib\n",
    "\n",
    "It turns out matplotlib can do animations, too! Download this notebook to your laptop, and if you can Canopy installed, run run the code below, then read over it and try to understand what it's doing. (There are some new functions and python syntax here.) You might find it helpful to read about [Conway's Game of Life](https://en.wikipedia.org/wiki/Conway%27s_Game_of_Life) on Wikipedia, particularly the rules."
   ]
  },
  {
   "cell_type": "code",
   "execution_count": null,
   "metadata": {
    "collapsed": false,
    "deletable": true,
    "editable": true
   },
   "outputs": [],
   "source": [
    "### Conway's Game of Life\n",
    "### Adapted from \n",
    "### http://www.labri.fr/perso/nrougier/teaching/numpy.100/\n",
    "### http://math.illinois.edu/~shahkar2/cbmg/anim.py\n",
    "\n",
    "%matplotlib qt \n",
    "               # If it insists on plotting inline despite this command,\n",
    "               # try restarting your kernel in the notebook.\n",
    "               # The animation won't work inline.\n",
    "import numpy as np\n",
    "import matplotlib.pyplot as plt\n",
    "import matplotlib.animation as animation\n",
    "\n",
    "N = 100\n",
    "\n",
    "Z = np.random.randint(0,2,(N,N))\n",
    "\n",
    "fig = plt.figure()\n",
    "plt.xlim(0, N)\n",
    "plt.ylim(0, N)\n",
    "mesh = plt.pcolormesh(Z, cmap='bone')\n",
    "\n",
    "def update(frame):\n",
    "    # Count neighbours\n",
    "    N = (Z[0:-2,0:-2] + Z[0:-2,1:-1] + Z[0:-2,2:] +\n",
    "         Z[1:-1,0:-2]                + Z[1:-1,2:] +\n",
    "         Z[2:  ,0:-2] + Z[2:  ,1:-1] + Z[2:  ,2:])\n",
    "\n",
    "    # Apply rules\n",
    "    birth = (N==3) & (Z[1:-1,1:-1]==0)\n",
    "    survive = ((N==2) | (N==3)) & (Z[1:-1,1:-1]==1)\n",
    "    Z[...] = 0\n",
    "    Z[1:-1,1:-1][birth | survive] = 1\n",
    "    \n",
    "    # Update mesh\n",
    "    mesh.set_array(Z.ravel())\n",
    "    return mesh\n",
    "\n",
    "anim = animation.FuncAnimation(fig, update, interval=100)\n",
    "\n",
    "plt.show()"
   ]
  }
 ],
 "metadata": {
  "kernelspec": {
   "display_name": "Python 3",
   "language": "python",
   "name": "python3"
  },
  "language_info": {
   "codemirror_mode": {
    "name": "ipython",
    "version": 3
   },
   "file_extension": ".py",
   "mimetype": "text/x-python",
   "name": "python",
   "nbconvert_exporter": "python",
   "pygments_lexer": "ipython3",
   "version": "3.5.2"
  }
 },
 "nbformat": 4,
 "nbformat_minor": 0
}
