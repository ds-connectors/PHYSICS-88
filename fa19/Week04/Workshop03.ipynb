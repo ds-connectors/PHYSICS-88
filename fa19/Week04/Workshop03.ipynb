{
 "cells": [
  {
   "cell_type": "markdown",
   "metadata": {},
   "source": [
    "# Workshop 5: Arrays and Plotting"
   ]
  },
  {
   "cell_type": "markdown",
   "metadata": {},
   "source": [
    "**Submit this notebook to bCourses to receive a grade for this Workshop.**\n",
    "\n",
    "Please complete workshop activities in code cells in this iPython notebook. The activities titled **Practice** are purely for you to explore Python, and no particular output is expected. Some of them have some code written, and you should try to modify it in different ways to understand how it works. Although no particular output is expected at submission time, it is _highly_ recommended that you read and work through the practice activities before or alongside the exercises. However, the activities titled **Exercise** have specific tasks and specific outputs expected. Include comments in your code when necessary. Enter your name in the cell at the top of the notebook. The workshop should be submitted on bCourses under the Assignments tab."
   ]
  },
  {
   "cell_type": "markdown",
   "metadata": {},
   "source": [
    "## Practice: Numpy review with examples"
   ]
  },
  {
   "cell_type": "markdown",
   "metadata": {},
   "source": [
    "Before we get into some exercises, here are some quick bits of code to remind you of various things you can do with arrays. Run these and play around with them to make sure you understand them. You'll also get some extra practice with exercises later on in this workshop."
   ]
  },
  {
   "cell_type": "code",
   "execution_count": null,
   "metadata": {
    "collapsed": true
   },
   "outputs": [],
   "source": [
    "import numpy as np"
   ]
  },
  {
   "cell_type": "markdown",
   "metadata": {},
   "source": [
    "### Making arrays: a few tools\n",
    "\n",
    "* array()\n",
    "* zeros(), empty()\n",
    "* hstack(), vstack(), column_stack()\n",
    "\n",
    "There are also ways to make random arrays, reshape arrays, and many other things. You'll see hints of these as you go in this workshop."
   ]
  },
  {
   "cell_type": "code",
   "execution_count": null,
   "metadata": {},
   "outputs": [],
   "source": [
    "# Make a basic array\n",
    "np.array([1,2,3])"
   ]
  },
  {
   "cell_type": "code",
   "execution_count": null,
   "metadata": {},
   "outputs": [],
   "source": [
    "# These will always be full of zeros\n",
    "print (np.zeros(5))\n",
    "print (np.zeros([3,4]))"
   ]
  },
  {
   "cell_type": "code",
   "execution_count": null,
   "metadata": {},
   "outputs": [],
   "source": [
    "# You can do ones also\n",
    "print (np.ones([6]))"
   ]
  },
  {
   "cell_type": "code",
   "execution_count": null,
   "metadata": {},
   "outputs": [],
   "source": [
    "# or change the datatype\n",
    "print (np.zeros([2,2], dtype='bool'))\n",
    "print (np.ones([2,2], dtype='bool'))"
   ]
  },
  {
   "cell_type": "code",
   "execution_count": null,
   "metadata": {
    "scrolled": false
   },
   "outputs": [],
   "source": [
    "# These might or might not be full of zeros ... you never know!\n",
    "print (np.empty(20))\n",
    "print (np.empty([3,4]))"
   ]
  },
  {
   "cell_type": "code",
   "execution_count": null,
   "metadata": {},
   "outputs": [],
   "source": [
    "# Put arrays together\n",
    "evens = np.array([0,2,4,6,8])\n",
    "odds  = np.array([1,3,5,7,9])\n",
    "\n",
    "print ('hstack\\n', np.hstack([evens, odds]))\n",
    "print ('vstack\\n', np.vstack([evens, odds]))\n",
    "print ('column_stack\\n', np.column_stack([evens, odds]))"
   ]
  },
  {
   "cell_type": "markdown",
   "metadata": {},
   "source": [
    "### Array indexing\n",
    "\n",
    "Once you have an array, you can access and select its elements in various ways.\n",
    "\n",
    "* basic indexing\n",
    "* slicing and striding\n",
    "* multidimensional indexing\n",
    "* indexing with arrays\n",
    "* argsort()\n",
    "* boolean indexing"
   ]
  },
  {
   "cell_type": "code",
   "execution_count": null,
   "metadata": {
    "collapsed": true
   },
   "outputs": [],
   "source": [
    "# Some basics \n",
    "a = np.array([-1, 7, 8, 100, -20.2])\n",
    "b = np.array(range(20))\n",
    "print (a[0])      # indexing\n",
    "print (a[-1])\n",
    "print (a[:3])     # slicing\n",
    "print (b[5:10])\n",
    "print (b[::2])  # striding\n",
    "print (b[4:15:3])"
   ]
  },
  {
   "cell_type": "code",
   "execution_count": null,
   "metadata": {},
   "outputs": [],
   "source": [
    "# Multidimensional arrays\n",
    "a = np.array(range(25)).reshape([5,5])\n",
    "print (a, '\\n')\n",
    "\n",
    "print ('5th row, 3rd col\\n', a[4,2])\n",
    "print ('2nd col\\n', a[:,1])\n",
    "print ('1st and 2nd rows\\n', a[:2,:])\n",
    "print ('every other column\\n', a[:,::2])"
   ]
  },
  {
   "cell_type": "code",
   "execution_count": null,
   "metadata": {},
   "outputs": [],
   "source": [
    "# Indexing with arrays/lists of indices\n",
    "a = np.array(range(0,20,2))\n",
    "print (a, '\\n')\n",
    "\n",
    "indices_to_pick = [1,2,8,7,6]\n",
    "print (a[np.array(indices_to_pick)]) # you can use arrays\n",
    "print (a[indices_to_pick])           # or lists"
   ]
  },
  {
   "cell_type": "code",
   "execution_count": null,
   "metadata": {},
   "outputs": [],
   "source": [
    "# Indexing with arrays/lists works on multidimensional arrays too\n",
    "multi_a = np.array(range(16)).reshape([4,4])\n",
    "print (multi_a, '\\n')\n",
    "\n",
    "rows_to_pick = [3,2,0]\n",
    "print (multi_a[rows_to_pick], '\\n')\n",
    "\n",
    "cols_to_pick = range(3)\n",
    "print (multi_a[rows_to_pick, cols_to_pick])\n",
    "print (multi_a[range(4), range(4)])"
   ]
  },
  {
   "cell_type": "code",
   "execution_count": null,
   "metadata": {},
   "outputs": [],
   "source": [
    "# `np.argsort()` can be used to get a list of indices that would sort the array\n",
    "a = np.random.randint(0,10,10)\n",
    "print (a, '\\n')\n",
    "\n",
    "print ('Index order that would sort the array:', np.argsort(a))\n",
    "print ('Sorted array:', a[np.argsort(a)])"
   ]
  },
  {
   "cell_type": "code",
   "execution_count": null,
   "metadata": {},
   "outputs": [],
   "source": [
    "# Arrays can be indexed with boolean arrays (True/False values)\n",
    "a = np.array(range(6))\n",
    "print (a, '\\n')\n",
    "\n",
    "bool_array = np.array([True, True, False, False, False, True])\n",
    "print (a[bool_array])"
   ]
  },
  {
   "cell_type": "code",
   "execution_count": null,
   "metadata": {},
   "outputs": [],
   "source": [
    "# Boolean indexing is useful for filter arrays based on some criterion\n",
    "a = np.array(range(20))\n",
    "print (a, '\\n')\n",
    "\n",
    "# pick even numbers\n",
    "print (a % 2 == 0)\n",
    "print (a[a % 2 == 0], '\\n')\n",
    "\n",
    "# set odds to -1\n",
    "a[a % 2 == 1] = -1\n",
    "print (a)"
   ]
  },
  {
   "cell_type": "markdown",
   "metadata": {},
   "source": [
    "### Meshgrid, and a brief intro to 2D plotting"
   ]
  },
  {
   "cell_type": "markdown",
   "metadata": {},
   "source": [
    "Numpy's `meshgrid` can be used to quickly generate 2D arrays of $x$ and $y$ values, for instance for use in density and contour plots. Matplotlib's `imshow` plots 2D arrays with various colormaps, and can be useful for plotting or displaying images."
   ]
  },
  {
   "cell_type": "code",
   "execution_count": null,
   "metadata": {
    "scrolled": true
   },
   "outputs": [],
   "source": [
    "import numpy as np\n",
    "import matplotlib.pyplot as plt\n",
    "%matplotlib inline\n",
    "\n",
    "# Generate the x and y values for a 2D grid\n",
    "x, y = np.meshgrid(np.linspace(-1, 1, 100),\n",
    "                   np.linspace(-2, 2, 100))\n",
    "\n",
    "# Calculate the values that we want to plot at each point.\n",
    "# This is a 2D array.\n",
    "f = x + y\n",
    "\n",
    "plt.imshow(f)   # Plot the 2D array\n",
    "plt.viridis()   # Set the color scheme (\"jet\" is matplotlib's default)\n",
    "plt.colorbar()  # Display a legend for the color values"
   ]
  },
  {
   "cell_type": "markdown",
   "metadata": {},
   "source": [
    "How does this work? The plotting function `imshow` makes a 2D array graphical. The upper-left of the plot is the upper-left of the array, at row 0, column 0. The $x$ and $y$ axes are labeled with the row and column numbers, accordingly.\n",
    "\n",
    "But since we're plotting $f(x,y) = x + y$, shouldn't the negative values be in the lower-left and the positive values in the upper-right? Right now, the origin is in the upper-left. Here's where we see a quirk of `imshow`. Take a look at the *2D* arrays `x` and `y` generated by `meshgrid`:"
   ]
  },
  {
   "cell_type": "code",
   "execution_count": null,
   "metadata": {},
   "outputs": [],
   "source": [
    "print (\"x: notice the values change from left to right\\n\", x)\n",
    "print (\"\")\n",
    "print (\"y: notice the values change from top to bottom\\n\", y)"
   ]
  },
  {
   "cell_type": "markdown",
   "metadata": {},
   "source": [
    "Both arrays start with negative numbers at the upper-left, and move down and right towards positive numbers. However, we often want $y$ to move from negative values at the *bottom* to positive values at the *top*, since that's the conventional way to plot things. We can do this with the `origin=\"lower\"` argument, which drops the graph's origin to the lower-left."
   ]
  },
  {
   "cell_type": "code",
   "execution_count": null,
   "metadata": {},
   "outputs": [],
   "source": [
    "# Move the origin to the lower-left\n",
    "plt.imshow(f, origin=\"lower\")\n",
    "plt.colorbar()"
   ]
  },
  {
   "cell_type": "markdown",
   "metadata": {},
   "source": [
    "Finally, we can change the axes labels from row and column numbers to whatever we want. In this case, it makes the most sense to use the same limits as we used in the meshgrid, since that's what we're plotting:"
   ]
  },
  {
   "cell_type": "code",
   "execution_count": null,
   "metadata": {},
   "outputs": [],
   "source": [
    "# Customize the axes limit labels.\n",
    "# imshow automatically adjusts the aspect ratio!\n",
    "plt.imshow(f, origin=\"lower\", extent=[-1, 1, -2, 2])\n",
    "plt.colorbar()"
   ]
  },
  {
   "cell_type": "markdown",
   "metadata": {},
   "source": [
    "### Meshgrid Memory Warning!\n",
    "\n",
    "Remember that `meshgrid` computes *2D* arrays, so trying to do a 1000x1000 meshgrid requires 100x more memory than a 100x100 meshgrid. Start small, save often, and scale up slowly to make sure you don't fill up your RAM or crash your computer with a single overly-intensive plot. On `datahub.berkeley.edu` your virtual machine is limited to 1 GB of RAM. "
   ]
  },
  {
   "cell_type": "markdown",
   "metadata": {},
   "source": [
    "## Exercises: Numpy Arrays and Meshgrid"
   ]
  },
  {
   "cell_type": "markdown",
   "metadata": {},
   "source": [
    "**Exercise 1** Create an $8 \\times 8$ array with a checkerboard pattern of zeros and ones using a slicing + striding approach.  Hint: try starting with an np.zeros (or np.ones) array and changing the appropriate elements to ones (or zeroes)."
   ]
  },
  {
   "cell_type": "code",
   "execution_count": null,
   "metadata": {
    "collapsed": true
   },
   "outputs": [],
   "source": []
  },
  {
   "cell_type": "markdown",
   "metadata": {},
   "source": [
    "**Exercise 2** Create a function `iplusj_array(n)` which uses `meshgrid` to create an $n \\times n$ array with $(i,j)$-entry equal to $i+j$. Print the results for $n=1,$ $3,$ and $5$."
   ]
  },
  {
   "cell_type": "code",
   "execution_count": null,
   "metadata": {
    "collapsed": true
   },
   "outputs": [],
   "source": []
  },
  {
   "cell_type": "markdown",
   "metadata": {},
   "source": [
    "**Exercise 3** Create a random $5\\times5$ array using the function `np.random.rand(5, 5)`. Use a combination of array slicing + argsort + indexing to sort the rows according to the second column, and print the result."
   ]
  },
  {
   "cell_type": "code",
   "execution_count": null,
   "metadata": {
    "collapsed": true
   },
   "outputs": [],
   "source": []
  },
  {
   "cell_type": "markdown",
   "metadata": {},
   "source": [
    "## Practice: Matplotlib Plotting Review"
   ]
  },
  {
   "cell_type": "markdown",
   "metadata": {},
   "source": [
    "### Documentation and Resources\n",
    "\n",
    "Matplotlib can do many, many things, and there is usually more than one way to do the same thing. Fortunately, it is also very well documented, and where the documentation is lacking, Google and [StackOverflow](https://stackoverflow.com/questions/tagged/matplotlib?sort=frequent&pageSize=15) often fill in nicely. If you haven't already, check out the [Matplotlib Gallery](http://matplotlib.org/gallery.html) and the\n",
    "[Beginner's Guide](http://matplotlib.org/users/beginner.html) to get an idea of the resources available to you. You might also want to check out [this basic tutorial](http://matplotlib.org/users/pyplot_tutorial.html), [this more varied tutorial](http://www.scipy-lectures.org/intro/matplotlib/matplotlib.html), and [these examples](http://matplotlib.org/users/screenshots.html)."
   ]
  },
  {
   "cell_type": "markdown",
   "metadata": {},
   "source": [
    "### State-Machine vs Object-Oriented\n",
    "\n",
    "Matplotlib can be used in two different ways: the state-machine approach, or the object-oriented approach. Most things can be done in either way, but some things are more difficult or impossible using a particular approach. Also, sometimes one way will lead to more understandable code than the other. It's good to be able to use both.\n",
    "\n",
    "Here's a couple examples to remind you how these work, adapted from the [multiple_figs_demo](http://matplotlib.org/examples/pylab_examples/multiple_figs_demo.html) in the matplotlib gallery. These examples create exactly the same plots."
   ]
  },
  {
   "cell_type": "code",
   "execution_count": null,
   "metadata": {
    "scrolled": true
   },
   "outputs": [],
   "source": [
    "# STATE-MACHINE approach\n",
    "# Working with multiple figure windows and subplots\n",
    "%matplotlib inline\n",
    "import matplotlib.pyplot as plt\n",
    "import numpy as np\n",
    "\n",
    "t = np.arange(0.0, 2.0, 0.01)\n",
    "s1 = np.sin(2*np.pi*t)\n",
    "s2 = np.sin(4*np.pi*t)\n",
    "\n",
    "plt.figure(1)\n",
    "plt.subplot(211)    # 2 Rows, 1 Column; Plot #1\n",
    "plt.plot(t, s1)\n",
    "plt.subplot(212)    # 2 Rows, 1 Column; Plot #2\n",
    "plt.plot(t, 2*s1)\n",
    "\n",
    "plt.figure(2)\n",
    "\n",
    "plt.plot(t, s2)\n",
    "\n",
    "# now switch back to figure 1 and make some changes to the first subplot\n",
    "plt.figure(1)\n",
    "plt.subplot(211)    # 2 Rows, 1 Column; Plot #1\n",
    "plt.plot(t, s2, 'gs')\n",
    "\n",
    "plt.show()"
   ]
  },
  {
   "cell_type": "code",
   "execution_count": null,
   "metadata": {},
   "outputs": [],
   "source": [
    "# OBJECT-ORIENTED approach\n",
    "# Working with multiple figure windows and subplots\n",
    "%matplotlib inline\n",
    "import matplotlib.pyplot as plt\n",
    "import numpy as np\n",
    "\n",
    "t = np.arange(0.0, 2.0, 0.01)\n",
    "s1 = np.sin(2*np.pi*t)\n",
    "s2 = np.sin(4*np.pi*t)\n",
    "\n",
    "fig1 = plt.figure()\n",
    "fig2 = plt.figure()\n",
    "\n",
    "ax1_1 = fig1.add_subplot(211)  # 2 Rows, 1 Column; Plot #1\n",
    "ax1_2 = fig1.add_subplot(212)  # 2 Rows, 1 Column; Plot #2\n",
    "\n",
    "ax2   = fig2.add_subplot(111)  # 1 Row,  1 Column; Plot #1\n",
    "\n",
    "ax1_1.plot(t, s1)\n",
    "ax1_2.plot(t, 2*s1)\n",
    "ax2.plot(t, s2)\n",
    "\n",
    "# now make some changes to the first subplot in figure 1\n",
    "ax1_1.plot(t, s2, 'gs')\n",
    "\n",
    "plt.show()"
   ]
  },
  {
   "cell_type": "markdown",
   "metadata": {},
   "source": [
    "In the state-machine approach, we change which figure or subplot is active, and then tell matplotlib to do things with the currently active figure/subplot. In the object-oriented approach, we assign variables to each of the figures and subplots, and then have matplotlib do things on whichever one we want. The various `ax1_1`, `ax1_2`, and `ax2` in this example contain \"axes objects\" that we can plot on and work with.\n",
    "\n",
    "Notice that we have a lot of flexibility in the *object-oriented* approach to reorganize the code in whatever way seems most readable. In the state-machine approach, you can also move your code around, but you may have to add new `figure` or `subplot` lines to make sure that the correct figure/subplot is currently active for what you want to do. Play around with the code above, or write some of your own, to see how things change!\n",
    "\n",
    "Here's another way to do the object-oriented approach, using `plt.subplots` instead of `figure` and `add_subplot` to make it a bit more compact. Again, this does the exact same thing."
   ]
  },
  {
   "cell_type": "code",
   "execution_count": null,
   "metadata": {},
   "outputs": [],
   "source": [
    "# OBJECT-ORIENTED approach, version 2\n",
    "# Working with multiple figure windows and subplots\n",
    "%matplotlib inline\n",
    "import matplotlib.pyplot as plt\n",
    "import numpy as np\n",
    "\n",
    "t = np.arange(0.0, 2.0, 0.01)\n",
    "s1 = np.sin(2*np.pi*t)\n",
    "s2 = np.sin(4*np.pi*t)\n",
    "\n",
    "fig1, (ax1, ax2) = plt.subplots(2,1)  # 2 Rows, 1 Column\n",
    "ax1.plot(t, s1)\n",
    "ax2.plot(t, 2*s1)\n",
    "\n",
    "fig2, ax3 = plt.subplots(1,1)         # 1 Row,  1 Column\n",
    "ax3.plot(t, s2)\n",
    "\n",
    "# now make some changes to the first subplot in figure 1\n",
    "ax1.plot(t, s2, 'gs')\n",
    "\n",
    "plt.show()"
   ]
  },
  {
   "cell_type": "markdown",
   "metadata": {},
   "source": [
    "In these examples, you'll notice that the `plot` command is the same in both approaches.\\* Some commands, however, are slightly different. For instance setting $x$ or $y$ labels ...\n",
    "\n",
    "--------\n",
    "\\* *Technically, `plot` is used as a \"function\" in the state-machine approach, but as a \"method\" in the object-oriented approach. You don't need to worry about the technical differences between these for now.*"
   ]
  },
  {
   "cell_type": "code",
   "execution_count": null,
   "metadata": {},
   "outputs": [],
   "source": [
    "# STATE-MACHINE approach\n",
    "%matplotlib inline\n",
    "plt.plot(range(10))\n",
    "plt.title('TITLE')\n",
    "plt.xlabel('X LABEL')\n",
    "plt.ylabel('Y LABEL')"
   ]
  },
  {
   "cell_type": "code",
   "execution_count": null,
   "metadata": {
    "scrolled": true
   },
   "outputs": [],
   "source": [
    "# OBJECT-ORIENTED approach\n",
    "%matplotlib inline\n",
    "fig, ax = plt.subplots(1,1)\n",
    "ax.plot(range(10))\n",
    "ax.set_title('TITLE')\n",
    "ax.set_xlabel('X LABEL')\n",
    "ax.set_ylabel('Y LABEL')"
   ]
  },
  {
   "cell_type": "markdown",
   "metadata": {},
   "source": [
    "For simple plots like these, you can see how the state-machine approach gives somewhat cleaner code."
   ]
  },
  {
   "cell_type": "markdown",
   "metadata": {},
   "source": [
    "## Exercise 4: Kinematics Plot\n",
    "\n",
    "[Adapted from Ayars, Problem 0-5] Create a single figure that shows separate graphs of vertical position, velocity, and acceleration for an object in free-fall, as in the sample plot below. Your plot should have a single horizontal time axis and separate stacked graphs showing position, velocity, and acceleration each on their own vertical axis. The online [matplotlib gallery](http://matplotlib.org/gallery.html) will probably be helpful! Make each curve a different color. (The example below uses magenta, cyan, and yellow.)\n",
    "\n",
    "#### Hints\n",
    "\n",
    "Look for \"subplots_demo\" or \"shared_axis_demo\" in the gallery.\n",
    "\n",
    "Remember you can include a format string like `'b-'` in a plot command to get a blue line, etc.\n",
    "\n",
    "You can get the superscript 2 in the last $y$-label by typing `$^2$` in the label string."
   ]
  },
  {
   "cell_type": "code",
   "execution_count": null,
   "metadata": {
    "scrolled": false
   },
   "outputs": [],
   "source": [
    "# Don't rerun this snippet of code.\n",
    "# If you accidentally do, close and reopen the notebook (without saving)\n",
    "# to get the image back. If all else fails, redownload the notebook.\n",
    "\n",
    "# from IPython.display import Image\n",
    "# Image(filename=\"samplecode/kinematics_plot.png\")"
   ]
  },
  {
   "cell_type": "markdown",
   "metadata": {},
   "source": [
    "## Practice: More Plotting Commands"
   ]
  },
  {
   "cell_type": "markdown",
   "metadata": {},
   "source": [
    "Matplotlib has many plotting functions besides `plot`. Here's a quick sampler platter:"
   ]
  },
  {
   "cell_type": "code",
   "execution_count": null,
   "metadata": {
    "collapsed": true
   },
   "outputs": [],
   "source": [
    "# make sure our libraries are imported, and plot inline\n",
    "%matplotlib inline\n",
    "import matplotlib.pyplot as plt\n",
    "import numpy as np"
   ]
  },
  {
   "cell_type": "code",
   "execution_count": null,
   "metadata": {
    "scrolled": false
   },
   "outputs": [],
   "source": [
    "# Semilog\n",
    "x = np.linspace(1e-1,100,1000)\n",
    "plt.semilogy(x, x**2)"
   ]
  },
  {
   "cell_type": "code",
   "execution_count": null,
   "metadata": {
    "scrolled": true
   },
   "outputs": [],
   "source": [
    "# Error Bars -- http://matplotlib.org/1.2.1/examples/pylab_examples/errorbar_demo.html\n",
    "x = np.arange(0.1, 4, 0.5)\n",
    "y = np.exp(-x)\n",
    "yerr = 0.05 + 0.1*np.sqrt(x)\n",
    "xerr = 0.05 + yerr\n",
    "\n",
    "plt.errorbar(x, y, xerr=xerr, yerr=yerr)"
   ]
  },
  {
   "cell_type": "code",
   "execution_count": null,
   "metadata": {},
   "outputs": [],
   "source": [
    "# Displaying images -- http://matplotlib.org/users/image_tutorial.html\n",
    "import matplotlib.image as mpimg\n",
    "img=mpimg.imread('http://upload.wikimedia.org/wikipedia/commons/thumb/a/a1/Seal_of_University_of_California%2C_Berkeley.svg/360px-Seal_of_University_of_California%2C_Berkeley.svg.png')\n",
    "plt.imshow(img)"
   ]
  },
  {
   "cell_type": "code",
   "execution_count": null,
   "metadata": {
    "scrolled": true
   },
   "outputs": [],
   "source": [
    "# imshow can plot any 2D array ... you saw this earlier with meshgrid\n",
    "#   if you have a file with a 2D array of numbers, use\n",
    "#   array_2D = np.loadtxt(your_file.txt)\n",
    "array_2D = np.random.rand(100,100)\n",
    "plt.imshow(array_2D)  # show the new 2D array\n",
    "plt.set_cmap('hot') # set colormap\n",
    "plt.colorbar()"
   ]
  },
  {
   "cell_type": "code",
   "execution_count": null,
   "metadata": {
    "scrolled": false
   },
   "outputs": [],
   "source": [
    "# Scatter plot -- http://matplotlib.org/examples/shapes_and_collections/scatter_demo.html\n",
    "N = 50\n",
    "x = np.random.rand(N)\n",
    "y = np.random.rand(N)\n",
    "colors = np.random.rand(N)\n",
    "area = np.pi * (15 * np.random.rand(N))**2  # 0 to 15 point radiuses\n",
    "\n",
    "plt.scatter(x, y, s=area, c=colors, alpha=0.5)\n",
    "plt.viridis()    # set colormap\n",
    "plt.colorbar()   # add a colorbar"
   ]
  },
  {
   "cell_type": "code",
   "execution_count": null,
   "metadata": {
    "scrolled": true
   },
   "outputs": [],
   "source": [
    "# Polar Plot (with polar axes) -- http://matplotlib.org/examples/pylab_examples/polar_demo.html\n",
    "#   Note: there's a bug with polar axes in matplotlib, where they\n",
    "#   cannot display negative r values.\n",
    "theta = np.linspace(0, 10 * np.pi, 1000)\n",
    "r = [th**2 for th in theta]\n",
    "ax = plt.subplot(111, projection='polar')\n",
    "ax.plot(theta, r)\n",
    "ax.set_title(\"Galilean Spiral\", va='bottom')"
   ]
  },
  {
   "cell_type": "code",
   "execution_count": null,
   "metadata": {},
   "outputs": [],
   "source": [
    "# Contour Plot -- http://matplotlib.org/examples/pylab_examples/contour_demo.html\n",
    "x = np.linspace(-1, 1, 100)\n",
    "y = np.linspace(-1, 1, 100)\n",
    "X, Y = np.meshgrid(x,y)\n",
    "Z = np.exp(-(2*X**2 + Y**2/2))\n",
    "\n",
    "ax = plt.subplot(111)\n",
    "levels = np.arange(0,1.0,.03)\n",
    "con = ax.contour(X, Y, Z, levels)\n",
    "ax.set_aspect('equal')\n",
    "plt.colorbar(con)"
   ]
  },
  {
   "cell_type": "code",
   "execution_count": null,
   "metadata": {
    "scrolled": true
   },
   "outputs": [],
   "source": [
    "# You can plot contour and imshow together ...\n",
    "plt.inferno() # set the colormap\n",
    "plt.contour(X, Y, Z)\n",
    "plt.imshow(Z, extent=[-1,1,-1,1])\n",
    "plt.colorbar()"
   ]
  },
  {
   "cell_type": "markdown",
   "metadata": {},
   "source": [
    "### Colormaps\n",
    "\n",
    "This was mentioned earlier in an exercise the workshop, but matplotlib has many colormaps that you can try. See [this page](http://matplotlib.org/examples/color/colormaps_reference.html) for a visual list of all colormaps. You can use any of them by inserting a `set_cmap` command after your `imshow`, `scatter`, or any plotting function that can use a colormap. For instance, `plt.set_cmap('jet')`. some colormaps, such as `jet`, `hot`, `gray`, and `viridis` (among others), have special commands to use them: you can type `plt.gray()` instead of `plt.set_cmap('gray')`. See [this doc](http://matplotlib.org/api/pyplot_summary.html?highlight=colormaps#matplotlib.pyplot.colormaps) or type `help(plt.colormaps)` for more detailed instructions on colormaps.\n",
    "\n",
    "The current default colormap for matplotlib is `jet`, but this will be changing to `viridis` in the next version, because `viridis` is designed to be [\"perceptually uniform\" (video)](http://matplotlib.org/style_changes.html), whereas `jet` is not."
   ]
  },
  {
   "cell_type": "markdown",
   "metadata": {},
   "source": [
    "### Aside: What is `pylab`?\n",
    "\n",
    "As you look at online documentation, or even some of the course textbooks for Physics 77, you'll notice pylab come up on occasion. What is it, and how does it differ from what we've been using? Here's a brief description from a StackOverflow answer:\n",
    "\n",
    "> 1. [...] pylab is part of matplotlib (in matplotlib.pylab) and tries to give you a MatLab like environment. matplotlib has a number of dependencies, among them numpy which it imports under the common alias np. scipy is not a dependency of matplotlib.\n",
    "\n",
    "> 2. If you run ipython --pylab an automatic import will put all symbols from matplotlib.pylab into global scope. Like you wrote numpy gets imported under the np alias. Symbols from matplotlib are available under the mpl alias.\n",
    "\n",
    "from https://stackoverflow.com/questions/12987624/confusion-between-numpy-scipy-matplotlib-and-pylab\n",
    "\n",
    "Note that using pylab is [not officially recommended](http://matplotlib.org/faq/usage_faq.html#matplotlib-pyplot-and-pylab-how-are-they-related). Better practice is to use\n",
    "\n",
    "    import matplotlib.pyplot as plt\n",
    "    import numpy as np\n",
    "    \n",
    "just as we've been doing."
   ]
  },
  {
   "cell_type": "markdown",
   "metadata": {},
   "source": [
    "### Exercises: Plotting with Colormaps and Different Scales"
   ]
  },
  {
   "cell_type": "markdown",
   "metadata": {},
   "source": [
    "**Exercise 5** Create a plot of $x^2 sin(1/x^2)+x$ on the interval $[−1,1]$ using points spaced 0.1 apart. Use numpy's `arange` function (not `linspace`). Then adjust your code so the plotting points are 0.01 apart, and finally 0.001 apart. Notice how the curve changes. Have your code print a brief description of the visual difference between these plots. Submit the version with 0.001 spacing.\n",
    "\n",
    "You don't need to label this plot."
   ]
  },
  {
   "cell_type": "code",
   "execution_count": null,
   "metadata": {
    "collapsed": true
   },
   "outputs": [],
   "source": []
  },
  {
   "cell_type": "markdown",
   "metadata": {},
   "source": [
    "**Exercise 6** Create a 2D plot of $sin(1/x^2) + y$ where $x$ and $y$ both range from -1 to 1. (Tip: You don't need more than 1000 points in the $x$ dimension, and you can get away with even fewer points in the $y$ dimension.) Be careful to check that the point $(x,y) = (-1, -1)$ is in the bottom left of the plot, where it should be.\n",
    "\n",
    "You don't need to label this plot, but be sure to include a colorbar and make sure the axes properly show that the plot is from -1 to 1 in both dimensions.\n",
    "\n",
    "You can use the colormap of your choice. If you want to experiment with different colormaps, see [this page](http://matplotlib.org/examples/color/colormaps_reference.html) for a visual list of colormaps. You can use any of them by inserting a `set_cmap` command after your `imshow`. For instance, `plt.set_cmap('jet')`. See [this doc](http://matplotlib.org/api/pyplot_summary.html?highlight=colormaps#matplotlib.pyplot.colormaps) or type `help(plt.colormaps)` for more detailed instructions on colormaps.\n",
    "\n",
    "You code doesn't need to print anything for this exercise, but it should show your plot."
   ]
  },
  {
   "cell_type": "code",
   "execution_count": null,
   "metadata": {
    "collapsed": true
   },
   "outputs": [],
   "source": []
  },
  {
   "cell_type": "markdown",
   "metadata": {},
   "source": [
    "**Exercise 7** Copy and paste the following numbers into a text file `mystery.txt` in your current directory (Run `%pwd` to see what directory you're in. It will probably be the same directory as this notebook).\n",
    "\n",
    "    2 2 0 0 0 0 2 2\n",
    "    2 0 5 5 5 5 0 2\n",
    "    0 5 0 5 0 5 5 0\n",
    "    0 5 0 5 0 5 5 0\n",
    "    0 5 5 5 5 0 5 0\n",
    "    0 5 0 0 0 5 5 0\n",
    "    2 0 5 5 5 5 0 2\n",
    "    2 2 0 0 0 0 2 2\n",
    "\n",
    "Now write a program which loads the text file into a 2D array with `np.loadtxt` and displays it with `imshow`. Use the colormap `gnuplot` and add the argument `interpolation='none'` to your `imshow` so that it displays clear pixels rather than interpolating between them."
   ]
  },
  {
   "cell_type": "code",
   "execution_count": null,
   "metadata": {},
   "outputs": [],
   "source": [
    "%pwd"
   ]
  },
  {
   "cell_type": "code",
   "execution_count": null,
   "metadata": {
    "collapsed": true
   },
   "outputs": [],
   "source": []
  },
  {
   "cell_type": "markdown",
   "metadata": {},
   "source": [
    "## Congratulations!\n",
    "\n",
    "You've finished Workshop 5! We recommend you go start this week's homework now---it may be a bit longer than previous weeks."
   ]
  }
 ],
 "metadata": {
  "kernelspec": {
   "display_name": "Python 3",
   "language": "python",
   "name": "python3"
  },
  "language_info": {
   "codemirror_mode": {
    "name": "ipython",
    "version": 3
   },
   "file_extension": ".py",
   "mimetype": "text/x-python",
   "name": "python",
   "nbconvert_exporter": "python",
   "pygments_lexer": "ipython3",
   "version": "3.6.3"
  }
 },
 "nbformat": 4,
 "nbformat_minor": 1
}
