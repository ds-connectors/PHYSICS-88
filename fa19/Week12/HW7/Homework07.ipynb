{
 "cells": [
  {
   "cell_type": "markdown",
   "metadata": {},
   "source": [
    "Your name here.  \n",
    "Your Woskshop section here."
   ]
  },
  {
   "cell_type": "markdown",
   "metadata": {
    "collapsed": true
   },
   "source": [
    "# Homework 7: Numerical Differentiation, Integration, Root Finding"
   ]
  },
  {
   "cell_type": "markdown",
   "metadata": {},
   "source": [
    "##### ** Submit this notebook to bCourses to receive a credit for this assignment. **\n",
    "\n",
    "Please complete this homework assignment in code cells in the iPython notebook. Include comments in your code when necessary. Enter your name in the cell at the top of the notebook, and rename the notebook [email_name]_Home07.ipynb, where [email_name] is the part of your UCB email address that precedes \"@berkeley.edu\" "
   ]
  },
  {
   "cell_type": "markdown",
   "metadata": {},
   "source": [
    "## Problem 1: Numerical integration [Ayars 2.2]\n",
    "\n",
    "Compare results of the trapezoid integration method,  Simpson’s method, and the adaptive Gaussian quadrature method for the following integrals:\n",
    "\n",
    "1. $$\\int_0^{\\pi/2}\\cos x\\, dx $$\n",
    "1. $$\\int_1^3 \\frac{1}{x^2}\\, dx $$\n",
    "1. $$\\int_2^4 (x^2+x+1)\\, dx$$\n",
    "1. $$\\int_0^{6.9}\\cos\\left(\\frac{\\pi}{2}x^2\\right)\\, dx$$\n",
    "\n",
    "For each part, try it with more and with fewer slices to determine how many slices are required to give an ‘acceptable’ answer. (If you double the number of slices and still get the same answer, then try half as many, etc.) Parts (3) and (4) are particularly interesting in this regard. In your submitted work, describe roughly how many points were required, and explain."
   ]
  },
  {
   "cell_type": "code",
   "execution_count": null,
   "metadata": {
    "collapsed": true
   },
   "outputs": [],
   "source": []
  },
  {
   "cell_type": "markdown",
   "metadata": {
    "collapsed": true
   },
   "source": [
    "## Problem 2: Root Finding [Newman 6.16]\n",
    "\n",
    "There is a magical point between the Earth and the Moon, called the\n",
    "$L_1$ Lagrange point, at which a satellite will orbit the Earth in perfect\n",
    "synchrony with the Moon, staying always in between the two.  This works\n",
    "because the inward pull of the Earth and the outward pull of the Moon\n",
    "combine to create exactly the needed centripetal force that keeps the\n",
    "satellite in its orbit. See Fig. 6.16 on p.274 of Newman. \n",
    "\n",
    "You may derive in 5A (or look up in a textbook) that assuming circular orbits, and assuming that the Earth is much more massive than either the Moon or the satellite, that the distance $r$ from the center of the Earth to the $L_1$ point satisfies\n",
    "$$\n",
    "{GM\\over r^2} - {Gm\\over(R-r)^2} = \\omega^2 r\n",
    "$$\n",
    "where $M$ and $m$ are the Earth and Moon masses, $G$ is Newton's\n",
    "gravitational constant, and $\\omega$ is the angular velocity of both the\n",
    "Moon and the satellite.\n",
    "\n",
    "The equation above is a fifth-order polynomial equation in $r$ (also called a quintic equation). Such equations cannot be solved exactly in closed form, but it's straightforward to solve them numerically.  Write a program to solve for the distance $r$ from the Earth to the $L_1$ point.  Compute a solution accurate to at least four significant figures.\n",
    "\n",
    "The values of the various parameters are:\n",
    "\n",
    "G = 6.674e-11 m^3 kg^-1 s^-2<br>\n",
    "M = 5.974e24 kg<br>\n",
    "m = 7.348e22 kg<br>\n",
    "R = 3.844e8 m<br>\n",
    "$\\omega$ = 2.662e-6 s^-1.<br>\n",
    "\n",
    "You will also need to choose a suitable starting value for $r$, or two\n",
    "starting values if you use the secant method.\n"
   ]
  },
  {
   "cell_type": "code",
   "execution_count": null,
   "metadata": {
    "collapsed": true
   },
   "outputs": [],
   "source": []
  }
 ],
 "metadata": {
  "kernelspec": {
   "display_name": "Python 3",
   "language": "python",
   "name": "python3"
  },
  "language_info": {
   "codemirror_mode": {
    "name": "ipython",
    "version": 3
   },
   "file_extension": ".py",
   "mimetype": "text/x-python",
   "name": "python",
   "nbconvert_exporter": "python",
   "pygments_lexer": "ipython3",
   "version": "3.7.4"
  }
 },
 "nbformat": 4,
 "nbformat_minor": 1
}
