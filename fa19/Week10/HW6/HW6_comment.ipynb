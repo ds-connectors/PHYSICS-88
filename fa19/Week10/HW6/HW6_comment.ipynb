{
 "cells": [
  {
   "cell_type": "code",
   "execution_count": 5,
   "metadata": {},
   "outputs": [
    {
     "name": "stdout",
     "output_type": "stream",
     "text": [
      "2 3.141592653589793\n",
      "3 4.188790204786391\n",
      "4 4.934802200544679\n",
      "5 5.263789013914324\n",
      "6 5.167712780049969\n",
      "7 4.724765970331401\n",
      "8 4.058712126416768\n",
      "9 3.2985089027387064\n",
      "10 2.550164039877345\n"
     ]
    }
   ],
   "source": [
    "# This prints the numbers in the table in https://en.wikipedia.org/wiki/Volume_of_an_n-ball\n",
    "import numpy as np\n",
    "from scipy.special import gamma\n",
    "\n",
    "for n in range(2,11):\n",
    "    coeff=np.pi**(n/2) / gamma(n/2+1)\n",
    "    print(n,coeff)\n"
   ]
  },
  {
   "cell_type": "code",
   "execution_count": null,
   "metadata": {},
   "outputs": [],
   "source": []
  }
 ],
 "metadata": {
  "kernelspec": {
   "display_name": "Python 3",
   "language": "python",
   "name": "python3"
  },
  "language_info": {
   "codemirror_mode": {
    "name": "ipython",
    "version": 3
   },
   "file_extension": ".py",
   "mimetype": "text/x-python",
   "name": "python",
   "nbconvert_exporter": "python",
   "pygments_lexer": "ipython3",
   "version": "3.6.8"
  }
 },
 "nbformat": 4,
 "nbformat_minor": 1
}
