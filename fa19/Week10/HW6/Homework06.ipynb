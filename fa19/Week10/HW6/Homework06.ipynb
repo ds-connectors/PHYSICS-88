{
 "cells": [
  {
   "cell_type": "markdown",
   "metadata": {
    "deletable": true,
    "editable": true
   },
   "source": [
    "Your name here.  \n",
    "Your Woskshop section here."
   ]
  },
  {
   "cell_type": "markdown",
   "metadata": {
    "collapsed": true,
    "deletable": true,
    "editable": true
   },
   "source": [
    "# Homework 6: Monte Carlo"
   ]
  },
  {
   "cell_type": "markdown",
   "metadata": {
    "deletable": true,
    "editable": true
   },
   "source": [
    "##### ** Submit this notebook to bCourses to receive a credit for this assignment. **\n",
    "\n",
    "Please complete this homework assignment in code cells in the iPython notebook. Include comments in your code when necessary. Enter your name in the cell at the top of the notebook, and rename the notebook [email_name]_Homework06.ipynb, where [email_name] is the part of your UCB email address that precedes \"@berkeley.edu\" "
   ]
  },
  {
   "cell_type": "markdown",
   "metadata": {
    "deletable": true,
    "editable": true
   },
   "source": [
    "## Problem 1: MC integration [similar to Ayars 6.2, Newman 10.7 ]\n",
    "<i>10 pts</i>\n",
    "\n",
    "The “volume” of a 2-sphere $x^2 + y^2 \\le r^2$ (a.k.a. a “circle”) is $(1)\\pi r^2$. The volume of a 3-sphere $x^2 + y^2 + z^2 \\le r^2$ is $4/3 \\pi r^3$. The equation for an N-sphere is $x_1^2 +x_2^2 +x_3^2 + ... + x_N^2 \\le r^2$ (where $x_i$ are spatial coordinates in $N$ dimensions). We can guess, by induction from the 2-dimensional and 3-dimensional cases, that the “volume” of an N-sphere is $\\alpha_N\\pi r^N$. Write a function that uses Monte Carlo integration to estimate $\\alpha_N$ and its uncertainty for a fixed $N$. Graph $\\alpha_N$ with its uncertainty as a function of $N$ for $N=4..10$. "
   ]
  },
  {
   "cell_type": "code",
   "execution_count": null,
   "metadata": {
    "collapsed": true,
    "deletable": true,
    "editable": true
   },
   "outputs": [],
   "source": []
  },
  {
   "cell_type": "markdown",
   "metadata": {
    "deletable": true,
    "editable": true
   },
   "source": [
    "## Problem 2: Simulating CUORE \n",
    "<i>(20 pts)</i>\n",
    "\n",
    "The <a href=\"https://cuore.lngs.infn.it/\">CUORE experiment</a> at Gran Sasso, Italy, searches for Neutrinoless Double-Beta Decays ($0\\nu\\beta\\beta$) of $^{130}$Te nucleus. Here we will produce some simulated \"toy\" spectra of what CUORE may see. $0\\nu\\beta\\beta$ events deposit energy in the detector with the mean value of approximately 2530 keV. For the purpose of this simulation, we will assume that the detector response is gaussian with the standard deviation ($\\sigma$) of 2 keV. In addition to signal events, there may be some \"background\" present; for the purpose of this simulation, we will assume that it is uniformly distributed in the region of interest. \n",
    "\n",
    "1. Generate an energy spectrum that CUORE might see, assuming N<sub>signal</sub>=100 signal events and N<sub>bkg</sub>=3000 background events uniformly distributed between energies of 2500 and 2600 keV. Can you see a signal peak in a histogram visually ? \n",
    "\n",
    "1. To measure the number of signal events, you may try to count the number of events in the window [2525..2535] keV ($\\pm 2.5\\sigma$) and subtract the <i>expected</i> number of background events in that window (how many?). How many signal events do you measure in your \"toy\" sample ? \n",
    "\n",
    "1. Compute significance of having observed a non-zero number of signal events, i.e. the probability that the number of signal events you measured is consistent with the zero. (<i>Hint:</i> you are testing a null hypothesis that the signal does not exist. In other words, compute the probability of the background fluctuating to the total number of events you observed in the signal window.) \n",
    "\n",
    "1. How does the significance depend on the size of the window ? "
   ]
  },
  {
   "cell_type": "code",
   "execution_count": null,
   "metadata": {
    "collapsed": true,
    "deletable": true,
    "editable": true
   },
   "outputs": [],
   "source": []
  }
 ],
 "metadata": {
  "kernelspec": {
   "display_name": "Python 3",
   "language": "python",
   "name": "python3"
  },
  "language_info": {
   "codemirror_mode": {
    "name": "ipython",
    "version": 3
   },
   "file_extension": ".py",
   "mimetype": "text/x-python",
   "name": "python",
   "nbconvert_exporter": "python",
   "pygments_lexer": "ipython3",
   "version": "3.5.2"
  }
 },
 "nbformat": 4,
 "nbformat_minor": 1
}
