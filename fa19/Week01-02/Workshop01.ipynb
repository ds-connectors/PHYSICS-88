{
 "cells": [
  {
   "cell_type": "markdown",
   "metadata": {
    "deletable": true,
    "editable": true
   },
   "source": [
    "Your name here.  \n",
    "Your section number here.  "
   ]
  },
  {
   "cell_type": "markdown",
   "metadata": {
    "deletable": true,
    "editable": true
   },
   "source": [
    "# Workshop 1: Python basics, and a little plotting"
   ]
  },
  {
   "cell_type": "markdown",
   "metadata": {
    "deletable": true,
    "editable": true
   },
   "source": [
    "**Submit this notebook to bCourses to receive a grade for this Workshop.**\n",
    "\n",
    "Please complete workshop activities in code cells in this iPython notebook. The activities titled **Practice** are purely for you to explore Python, and no particular output is expected. Some of them have some code written, and you should try to modify it in different ways to understand how it works. Although no particular output is expected at submission time, it is _highly_ recommended that you read and work through the practice activities before or alongside the exercises. However, the activities titled **Exercise** have specific tasks and specific outputs expected. Include comments in your code when necessary. Enter your name in the cell at the top of the notebook. The workshop should be submitted on bCourses under the Assignments tab."
   ]
  },
  {
   "cell_type": "markdown",
   "metadata": {
    "deletable": true,
    "editable": true
   },
   "source": [
    "## Practice: Writing Python code\n",
    "\n",
    "### The iPython Interpreter\n",
    "\n",
    "Time to write your first python code! In Jupyter, the code is written in \"Cells\". Click on the \"+\" button above to create a new cell and type in \"2+2\" (without the quotes ... or with them!) and see what happens! To execute, click \"Run\" button or press \"Shift-Enter\". Also try switching the type of the cell from \"Code\" to \"Markdown\" and see what happens"
   ]
  },
  {
   "cell_type": "code",
   "execution_count": null,
   "metadata": {
    "collapsed": false,
    "deletable": true,
    "editable": true
   },
   "outputs": [],
   "source": [
    "2+2"
   ]
  },
  {
   "cell_type": "markdown",
   "metadata": {
    "deletable": true,
    "editable": true
   },
   "source": [
    "Next, try typing these (text after \"#\" are non-executable comments)"
   ]
  },
  {
   "cell_type": "code",
   "execution_count": null,
   "metadata": {
    "collapsed": false,
    "deletable": true,
    "editable": true
   },
   "outputs": [],
   "source": [
    "x = \"Phys\"\n",
    "y = \"ics!\"\n",
    "z = x + y     # Put 'em together\n",
    "z             # See what we got!"
   ]
  },
  {
   "cell_type": "code",
   "execution_count": null,
   "metadata": {
    "collapsed": false,
    "deletable": true,
    "editable": true
   },
   "outputs": [],
   "source": [
    "y + x         # Backwards!"
   ]
  },
  {
   "cell_type": "code",
   "execution_count": null,
   "metadata": {
    "collapsed": false,
    "deletable": true,
    "editable": true
   },
   "outputs": [],
   "source": [
    "len(z)        # 8 characters in total ..."
   ]
  },
  {
   "cell_type": "code",
   "execution_count": null,
   "metadata": {
    "collapsed": false,
    "deletable": true,
    "editable": true
   },
   "outputs": [],
   "source": [
    "len(z)**2     # Computing the area?"
   ]
  },
  {
   "cell_type": "code",
   "execution_count": null,
   "metadata": {
    "collapsed": false,
    "deletable": true,
    "editable": true
   },
   "outputs": [],
   "source": [
    "z[0]          # Grab the first character"
   ]
  },
  {
   "cell_type": "code",
   "execution_count": null,
   "metadata": {
    "collapsed": false,
    "deletable": true,
    "editable": true
   },
   "outputs": [],
   "source": [
    "z[1:3]        # Grab the next two characters"
   ]
  },
  {
   "cell_type": "code",
   "execution_count": null,
   "metadata": {
    "collapsed": false,
    "deletable": true,
    "editable": true
   },
   "outputs": [],
   "source": [
    "z[:4]"
   ]
  },
  {
   "cell_type": "code",
   "execution_count": null,
   "metadata": {
    "collapsed": false,
    "deletable": true,
    "editable": true
   },
   "outputs": [],
   "source": [
    "z[:4] == x    # Test a match!"
   ]
  },
  {
   "cell_type": "code",
   "execution_count": null,
   "metadata": {
    "collapsed": false,
    "deletable": true,
    "editable": true
   },
   "outputs": [],
   "source": [
    "z[4:] == y"
   ]
  },
  {
   "cell_type": "code",
   "execution_count": null,
   "metadata": {
    "collapsed": false,
    "deletable": true,
    "editable": true
   },
   "outputs": [],
   "source": [
    "z[:]          # The whole string"
   ]
  },
  {
   "cell_type": "code",
   "execution_count": null,
   "metadata": {
    "collapsed": false,
    "deletable": true,
    "editable": true
   },
   "outputs": [],
   "source": [
    "z[::-1]       # The whole string, right to left"
   ]
  },
  {
   "cell_type": "code",
   "execution_count": null,
   "metadata": {
    "collapsed": false,
    "deletable": true,
    "editable": true
   },
   "outputs": [],
   "source": [
    "z[1::3]       # Start at the second character and take every third character from there"
   ]
  },
  {
   "cell_type": "code",
   "execution_count": null,
   "metadata": {
    "collapsed": false,
    "deletable": true,
    "editable": true
   },
   "outputs": [],
   "source": [
    "z*3 + 5*z[-1] # Woo!"
   ]
  },
  {
   "cell_type": "markdown",
   "metadata": {
    "deletable": true,
    "editable": true
   },
   "source": [
    "This notebook and interpreter are a great place to test things out and mess around. Canopy interpreter comes preloaded with a couple libraries (like numpy and matplotlib) that we will use a lot in this course. In Jupyter, you have to pre-load each package before using it. This is a good python practice anyway ! Here is an example. "
   ]
  },
  {
   "cell_type": "code",
   "execution_count": null,
   "metadata": {
    "collapsed": false,
    "deletable": true,
    "editable": true
   },
   "outputs": [],
   "source": [
    "log(e)"
   ]
  },
  {
   "cell_type": "markdown",
   "metadata": {
    "deletable": true,
    "editable": true
   },
   "source": [
    "Both the function `log` and the number `e` are from the `numpy` library, which needs to be loaded into Jupyter. \"pylab\" adds `matplotlib` (the standard plotting tool) to `numpy`, so we will use that. "
   ]
  },
  {
   "cell_type": "code",
   "execution_count": null,
   "metadata": {
    "collapsed": false,
    "deletable": true,
    "editable": true
   },
   "outputs": [],
   "source": [
    "from pylab import *\n",
    "log(e)"
   ]
  },
  {
   "cell_type": "markdown",
   "metadata": {
    "deletable": true,
    "editable": true
   },
   "source": [
    "Or type `pie([1,2,3])`, since `pie` is defined by matplotlib! "
   ]
  },
  {
   "cell_type": "code",
   "execution_count": null,
   "metadata": {
    "collapsed": false,
    "deletable": true,
    "editable": true
   },
   "outputs": [],
   "source": [
    "pie([1,2,3])              \n",
    "matplotlib.pyplot.show()  #This line is needed so matplotlib actually displays the plot"
   ]
  },
  {
   "cell_type": "markdown",
   "metadata": {
    "deletable": true,
    "editable": true
   },
   "source": [
    "Note that we imported all library definitions from `pylab` into the default <i>namespace</i>, and can use the functions directly instead of having to add the name or alias of the paclage:"
   ]
  },
  {
   "cell_type": "code",
   "execution_count": null,
   "metadata": {
    "collapsed": false,
    "deletable": true,
    "editable": true
   },
   "outputs": [],
   "source": [
    "import numpy as np\n",
    "np.log(np.e)"
   ]
  },
  {
   "cell_type": "markdown",
   "metadata": {
    "deletable": true,
    "editable": true
   },
   "source": [
    "Loading into the default namespace can be convenient, but also confusing since many names and variables are already used in ways you might not expect. When writing scripts you'll have to manually import any library you want to use. This little inconvenience is greatly worth the confusion it can save."
   ]
  },
  {
   "cell_type": "markdown",
   "metadata": {
    "deletable": true,
    "editable": true
   },
   "source": [
    "### Writing your first script\n",
    "\n",
    "Let's write a script now! Type the following code snippet into the code cell below (make sure to remove any indentation from the beginning of each line):\n",
    "\n",
    "<pre>\n",
    "import numpy as np\n",
    "    \n",
    "'Hello world! Have some pie!', np.pi\n",
    "'And some pie from a log!', np.log(np.pi)\n",
    "</pre>"
   ]
  },
  {
   "cell_type": "code",
   "execution_count": null,
   "metadata": {
    "collapsed": false,
    "deletable": true,
    "editable": true
   },
   "outputs": [],
   "source": []
  },
  {
   "cell_type": "markdown",
   "metadata": {
    "deletable": true,
    "editable": true
   },
   "source": [
    "This produces \"Out[]\" line in Jupyter with the result of the last operation. In a script, it would produce ... nothing. Why not? In the interactive shell, when you type a string or a number, like `'Physics!'` or `np.pi`, it will immediately print the result. (try it!) In a script, if you want python to display something for you, you have to tell it. For strings, we use the `print` function. (Later for plots, you'll learn to use matplotlib's `show()` function.) Adjust your code to read:\n",
    "\n",
    "    import numpy as np\n",
    "    \n",
    "    print('Hello world! Have some pie!', np.pi)\n",
    "    print('And some pie from a log!', np.log(np.pi))\n",
    "\n",
    "This should produce\n",
    "\n",
    "    Hello world! Have some pie! 3.14159265359\n",
    "    And some pie from a log! 1.14472988585"
   ]
  },
  {
   "cell_type": "code",
   "execution_count": null,
   "metadata": {
    "collapsed": false,
    "deletable": true,
    "editable": true
   },
   "outputs": [],
   "source": []
  },
  {
   "cell_type": "markdown",
   "metadata": {
    "deletable": true,
    "editable": true
   },
   "source": [
    "Much better! But we may want to reduce the number of significant digits in the output.\n",
    "\n",
    "### Formatted output\n",
    "\n",
    "Usually the data you manipulate has finate precision. You do not know it absolutely precisely, and therefore you should not report it with an arbitrary number of digits. One of the cardinal rules of a good science paper: round off all your numbers to the precision you know them (or care about) -- and no more ! \n",
    "\n",
    "#### Examples:"
   ]
  },
  {
   "cell_type": "code",
   "execution_count": null,
   "metadata": {
    "collapsed": false,
    "deletable": true,
    "editable": true
   },
   "outputs": [],
   "source": [
    "x = 20.0 # I only know 3 digits\n",
    "print(x)   # OK, let Python handle it"
   ]
  },
  {
   "cell_type": "markdown",
   "metadata": {
    "deletable": true,
    "editable": true
   },
   "source": [
    "That's actually pretty good -- Python remembered stored precision !\n",
    "What happens if you now use x in a calculation ? "
   ]
  },
  {
   "cell_type": "code",
   "execution_count": null,
   "metadata": {
    "collapsed": false,
    "deletable": true,
    "editable": true
   },
   "outputs": [],
   "source": [
    "print(sqrt(x))"
   ]
  },
  {
   "cell_type": "markdown",
   "metadata": {
    "deletable": true,
    "editable": true
   },
   "source": [
    "Do we really know the output to 10 significant digits ? No ! So let's truncate it"
   ]
  },
  {
   "cell_type": "code",
   "execution_count": null,
   "metadata": {
    "collapsed": false,
    "deletable": true,
    "editable": true
   },
   "outputs": [],
   "source": [
    "print('sqrt(x) = {0:5.3f}'.format(sqrt(x)))"
   ]
  },
  {
   "cell_type": "markdown",
   "metadata": {
    "deletable": true,
    "editable": true
   },
   "source": [
    "For more formatting options, see https://pyformat.info/"
   ]
  },
  {
   "cell_type": "markdown",
   "metadata": {
    "deletable": true,
    "editable": true
   },
   "source": [
    "### Practice\n",
    "\n",
    "Using what you just learned, try changing this program to print only 4 decimal places in each number. The result should look like:\n",
    "\n",
    "    Hello world! Have some pie! 3.1416\n",
    "    And some pie from a log! 1.1447"
   ]
  },
  {
   "cell_type": "code",
   "execution_count": null,
   "metadata": {
    "collapsed": true,
    "deletable": true,
    "editable": true
   },
   "outputs": [],
   "source": []
  },
  {
   "cell_type": "markdown",
   "metadata": {
    "deletable": true,
    "editable": true
   },
   "source": [
    "## Exercise 1: Four Fours\n",
    "\n",
    "[Inspired by Harvey Mudd College's CS5 course] Here's an arithmetic game to try your hand at. Your task is to compute each of the numbers, from 1 through 11, using exactly four 4's and simple math operations. You're allowed to use `+` (addition), `-` (subtraction), `*` (multiplication), `/` (division), `sqrt()` (square root), `factorial()` (factorial), and `%` (modulus). You're also allowed to use `.4` (that's one 4) or `44` (that's two 4's) if you'd like. Just remember, you must use exactly four 4 digits total!\n",
    "\n",
    "As a reminder, four factorial (denoted by $!$ in mathematics) is $4! = 4 \\cdot 3 \\cdot 2 \\cdot 1$, and the modulus operator (usually denoted by $\\text{mod}$ in mathematics) is the remainder after division. For instance, $\\ 5\\ \\text{mod}\\ 2 = 1$, $\\ 13\\ \\text{mod}\\ 7 = 6$, and $\\ 14\\ \\text{mod}\\ 7 = 0$.\n",
    "\n",
    "We've given you `zero` for free, as `4 - 4 + 4 - 4`. Of course, we could have also done `44 * (.4 - .4)` or `factorial(4) - 4 * (4 + sqrt(4))`, since both of those also yield `0` (or rather, `0.0`. Why is that?) and use exactly four 4's."
   ]
  },
  {
   "cell_type": "code",
   "execution_count": null,
   "metadata": {
    "collapsed": false,
    "deletable": true,
    "editable": true
   },
   "outputs": [],
   "source": [
    "### Exercise 1\n",
    "\n",
    "from math import factorial, sqrt\n",
    "    \n",
    "print('Zero:', 4 - 4 + 4 - 4)\n",
    "print('One:')\n",
    "print('Two:')\n",
    "print('Three:')\n",
    "print('Four:')\n",
    "print('Five:')\n",
    "print('Six:')\n",
    "print('Seven:')\n",
    "print('Eight:')\n",
    "print('Nine:')\n",
    "print('Ten:')\n",
    "print('Eleven:')"
   ]
  },
  {
   "cell_type": "markdown",
   "metadata": {
    "deletable": true,
    "editable": true
   },
   "source": [
    "Your final source code will be full of four fours formulas, but your final output should look like this:\n",
    "\n",
    "    Zero: 0\n",
    "    One: 1\n",
    "    Two: 2\n",
    "    Three: 3\n",
    "    Four: 4\n",
    "    Five: 5\n",
    "    Six: 6\n",
    "    Seven: 7\n",
    "    Eight: 8\n",
    "    Nine: 9\n",
    "    Ten: 10\n",
    "    Eleven: 11\n",
    "\n",
    "It's ok if some of these have a trailing `.0` (`0.0`, for instance), but make sure you understand why they do!"
   ]
  },
  {
   "cell_type": "markdown",
   "metadata": {
    "deletable": true,
    "editable": true
   },
   "source": [
    "## Exercise 2: Plotting Practice: Envelope and Oscillation"
   ]
  },
  {
   "cell_type": "markdown",
   "metadata": {
    "deletable": true,
    "editable": true
   },
   "source": [
    "[Adapted from Ayars, Problem 0-0] Paste the following code into a code cell to start:\n",
    "\n",
    "Write a program to graph both of the following functions on a single figure, with a usefully-sized scale.\n",
    "\n",
    "1. $ x^4 e^{-2x} $\n",
    "1. $ \\left[ x^2 e^{-x} \\sin(x^2) \\right]^2 $\n",
    "\n",
    "It may help to refer to the lecture notes or Newman Chapter 3. Use numpy's `linspace` to make an array for the $x$ values, and use numpy's `exp` and `sin` functions to make arrays for the $y$ values of the two expressions. Make sure the $x$ values are spaced close enough together to make the curves smooth! You can label the axes as simply $x$ and $y$, and add whatever title you'd like. Add some appropriate legend. For instance, `plt.legend(['envelope', 'oscillation'])` would be fine for this workshop."
   ]
  },
  {
   "cell_type": "markdown",
   "metadata": {
    "deletable": true,
    "editable": true
   },
   "source": [
    "#### Hint\n",
    "Run each of the cells below to find out more about the numpy.linspace() and matplotlib.pyplot.plot() functions. This works for all sorts of functions if you ever forget how to use them! Google is also your friend for all manner of questions about python, matplotlib, numpy, ..."
   ]
  },
  {
   "cell_type": "code",
   "execution_count": null,
   "metadata": {
    "collapsed": true
   },
   "outputs": [],
   "source": [
    "import numpy as np\n",
    "import matplotlib.pyplot as plt"
   ]
  },
  {
   "cell_type": "code",
   "execution_count": null,
   "metadata": {
    "collapsed": true,
    "deletable": true,
    "editable": true
   },
   "outputs": [],
   "source": [
    "np.linspace?"
   ]
  },
  {
   "cell_type": "code",
   "execution_count": null,
   "metadata": {
    "collapsed": true,
    "deletable": true,
    "editable": true
   },
   "outputs": [],
   "source": [
    "plt.plot?"
   ]
  },
  {
   "cell_type": "markdown",
   "metadata": {
    "deletable": true,
    "editable": true
   },
   "source": [
    "#### Just for fun\n",
    "For a pretty mathematical legend, you can add this line instead:\n",
    "\n",
    "    plt.legend([r'$x^4 e^{-2x}$', r'$[x^2 e^{-x} \\sin(x^2)]^2$'])\n",
    "\n",
    "Writing a string as `r'$<LaTeX code here>$'` tells matplotlib to process the strings as LaTeX math code. LaTeX is a programming language for typesetting pretty documents. You'll want to learn it at some point in your physics career, but you don't need to worry about it now."
   ]
  },
  {
   "cell_type": "code",
   "execution_count": null,
   "metadata": {
    "collapsed": false,
    "deletable": true,
    "editable": true
   },
   "outputs": [],
   "source": [
    "### Exercise 2\n",
    "\n",
    "%matplotlib inline\n",
    "import numpy as np\n",
    "import matplotlib.pyplot as plt\n",
    "\n",
    "plt.figure()    # This makes sure you start with a clean figure each time your code is run\n",
    "\n",
    "### Your code here!\n",
    "\n",
    "plt.show()      # This tells python to display the plot you've made"
   ]
  },
  {
   "cell_type": "markdown",
   "metadata": {
    "deletable": true,
    "editable": true
   },
   "source": [
    "## Exercise 3: Plotting Radioactivity Data\n",
    "\n",
    "[Adapted from Ayars, Problem 0-2]"
   ]
  },
  {
   "cell_type": "markdown",
   "metadata": {
    "deletable": true,
    "editable": true
   },
   "source": [
    "The file Ba137.txt contains two columns. The first is counts from a Geiger counter, the second is time in seconds. If you opened this Workshop notebook using the Interact Link (from the bCourses page), then you should already have Ba137.txt in your datahub directory.  \n",
    "\n",
    "If not, it's available [here](https://raw.githubusercontent.com/celegante/code_chapter_0-_github/master/Ba137.txt). Open the link, right-click and save as a .txt file. Then upload to datahub.berkeley.edu or move it to whichever folder you're keeping this notebook."
   ]
  },
  {
   "cell_type": "markdown",
   "metadata": {
    "deletable": true,
    "editable": true
   },
   "source": [
    "1. Make a useful graph of this data, with axes labels and a title.\n",
    "2. If this data follows an exponential curve, then plotting the natural log of the data (or plotting the raw data on a logarithmic scale) will result in a straight line. Determine whether this is the case, and explain your conclusion with---you guessed it---an appropriate graph."
   ]
  },
  {
   "cell_type": "markdown",
   "metadata": {
    "deletable": true,
    "editable": true
   },
   "source": [
    "Be sure to add comments throughout your code so it's clear what each section of the code is doing! It may help to refer to the lecture notes or Ayars Chapter 0.\n",
    "\n",
    "Try using `'x'` or `'^'` as the marker type in your `plt.plot()` functions (instead of `'g-'`, for instance), to get a single x or triangle for each data point instead of a connected line. Google if you'd like to learn more options!\n",
    "\n",
    "Once you're through, your code should produce two graphs, one with the data, another with the natural log of the data, both labelled appropriately. It should also print out a clear answer to the question in part 2 (e.g., `Yes, the data follows an exponential curve`, or `No, the data does not follow an exponential curve`)."
   ]
  },
  {
   "cell_type": "code",
   "execution_count": null,
   "metadata": {
    "collapsed": false,
    "deletable": true,
    "editable": true
   },
   "outputs": [],
   "source": [
    "### Exercise 3\n",
    "\n",
    "import numpy as np\n",
    "import matplotlib.pyplot as plt\n",
    "\n",
    "### Load the data here\n",
    "counts, times = np.loadtxt('Ba137.txt', unpack = True)\n",
    "\n",
    "plt.figure()    # Start a clean figure for your first plot\n",
    "\n",
    "### Your code for the first plot here!\n",
    "\n",
    "plt.figure()    # Start a clean figure for your second plot\n",
    "\n",
    "### Your code for the second plot here!\n",
    "\n",
    "plt.show()      # This tells python to display the plots you've made"
   ]
  },
  {
   "cell_type": "markdown",
   "metadata": {
    "deletable": true,
    "editable": true
   },
   "source": [
    "#### Hints\n",
    "\n",
    "Put the file in the same directory as your python file, and use numpy's `loadtxt` or `genfromtxt` function to load each column into an array for use in your plots. \n",
    "\n",
    "If your file isn't loading correctly, it might be because your IPython working directory isn't the same as the directory your script and Ba137.txt are in.\n",
    "\n",
    "If you'd like to learn more about what `loadtxt` does (or why the `unpack = True` option is important), type `loadtxt?` or `help(loadtxt)` into the python interpreter for documentation. Press `q` to get out of the documentation."
   ]
  },
  {
   "cell_type": "markdown",
   "metadata": {
    "deletable": true,
    "editable": true
   },
   "source": [
    "## Practice: Debugging\n",
    "\n",
    "[Adapted from Langtangen, Exercise 1.16] Working with a partner, type these statements into your python interpreter. Figure out why some statements fail and correct the errors.\n",
    "\n",
    "*Hint: Try testing the left- and right-hand sides seperately before you put them together in statements. It's ok if you don't understand yet why some of the expressions evaluate to the results they do (like the last one).*\n",
    "\n",
    "    1a = 2\n",
    "    a1 = b\n",
    "    x = 2\n",
    "    y = X + 4    # is it 6?\n",
    "    5 = 5    # is it True?\n",
    "    4/5 == 4.0/5.0   # is it True? (this depends on which version of Python you're using)\n",
    "    type(10/2) == type(10/2.)   # is it True? (again, this depends on the Python version)\n",
    "    from Math import factorial\n",
    "    print factorial(pi) \n",
    "    discount = 12%"
   ]
  },
  {
   "cell_type": "code",
   "execution_count": null,
   "metadata": {
    "collapsed": false,
    "deletable": true,
    "editable": true
   },
   "outputs": [],
   "source": []
  },
  {
   "cell_type": "markdown",
   "metadata": {
    "deletable": true,
    "editable": true
   },
   "source": [
    "## You're done!\n",
    "\n",
    "Congratulations, you've finished this week's workshop! You're welcome to leave early or get started on this week's homework."
   ]
  }
 ],
 "metadata": {
  "kernelspec": {
   "display_name": "Python 3",
   "language": "python",
   "name": "python3"
  },
  "language_info": {
   "codemirror_mode": {
    "name": "ipython",
    "version": 3
   },
   "file_extension": ".py",
   "mimetype": "text/x-python",
   "name": "python",
   "nbconvert_exporter": "python",
   "pygments_lexer": "ipython3",
   "version": "3.5.2"
  }
 },
 "nbformat": 4,
 "nbformat_minor": 1
}
