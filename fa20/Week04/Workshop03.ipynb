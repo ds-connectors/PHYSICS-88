{
 "cells": [
  {
   "cell_type": "markdown",
   "metadata": {},
   "source": [
    "Your name here.  \n",
    "Your section number here. "
   ]
  },
  {
   "cell_type": "markdown",
   "metadata": {},
   "source": [
    "# Workshop 3: Arrays and Intro to Plotting"
   ]
  },
  {
   "cell_type": "markdown",
   "metadata": {},
   "source": [
    "**Submit this notebook to bCourses to receive a grade for this Workshop.**\n",
    "\n",
    "Please complete workshop activities in code cells in this iPython notebook. The activities titled **Practice** are purely for you to explore Python, and no particular output is expected. Some of them have some code written, and you should try to modify it in different ways to understand how it works. Although no particular output is expected at submission time, it is _highly_ recommended that you read and work through the practice activities before or alongside the exercises. However, the activities titled **Exercise** have specific tasks and specific outputs expected. Include comments in your code when necessary. Enter your name in the cell at the top of the notebook. \n",
    "\n",
    "**The workshop should be submitted on bCourses under the Assignments tab (both the .ipynb and .pdf files).**"
   ]
  },
  {
   "cell_type": "markdown",
   "metadata": {},
   "source": [
    "## Practice: Numpy review with examples"
   ]
  },
  {
   "cell_type": "markdown",
   "metadata": {},
   "source": [
    "Before we get into some exercises, here are some quick bits of code to remind you of various things you can do with arrays. Run these and play around with them to make sure you understand them. You'll also get some extra practice with exercises later on in this workshop."
   ]
  },
  {
   "cell_type": "code",
   "execution_count": 1,
   "metadata": {},
   "outputs": [],
   "source": [
    "import numpy as np"
   ]
  },
  {
   "cell_type": "markdown",
   "metadata": {},
   "source": [
    "### Making arrays: a few tools\n",
    "\n",
    "* array()\n",
    "* zeros(), empty()\n",
    "* hstack(), vstack(), column_stack()\n",
    "\n",
    "There are also ways to make random arrays, reshape arrays, and many other things. You'll see hints of these as you go in this workshop."
   ]
  },
  {
   "cell_type": "code",
   "execution_count": 2,
   "metadata": {},
   "outputs": [
    {
     "data": {
      "text/plain": [
       "array([1, 2, 3])"
      ]
     },
     "execution_count": 2,
     "metadata": {},
     "output_type": "execute_result"
    }
   ],
   "source": [
    "# Make a basic array\n",
    "np.array([1,2,3])"
   ]
  },
  {
   "cell_type": "code",
   "execution_count": 4,
   "metadata": {},
   "outputs": [
    {
     "name": "stdout",
     "output_type": "stream",
     "text": [
      "[ 0.  0.  0.  0.  0.]\n",
      "[[ 0.  0.  0.  0.]\n",
      " [ 0.  0.  0.  0.]\n",
      " [ 0.  0.  0.  0.]]\n"
     ]
    }
   ],
   "source": [
    "# These will always be full of zeros\n",
    "print (np.zeros(5))\n",
    "print (np.zeros([3,4]))"
   ]
  },
  {
   "cell_type": "code",
   "execution_count": 5,
   "metadata": {},
   "outputs": [
    {
     "name": "stdout",
     "output_type": "stream",
     "text": [
      "[ 1.  1.  1.  1.  1.  1.]\n"
     ]
    }
   ],
   "source": [
    "# You can do ones also\n",
    "print (np.ones([6]))"
   ]
  },
  {
   "cell_type": "code",
   "execution_count": 6,
   "metadata": {},
   "outputs": [
    {
     "name": "stdout",
     "output_type": "stream",
     "text": [
      "[[False False]\n",
      " [False False]]\n",
      "[[ True  True]\n",
      " [ True  True]]\n"
     ]
    }
   ],
   "source": [
    "# or change the datatype\n",
    "print (np.zeros([2,2], dtype='bool'))\n",
    "print (np.ones([2,2], dtype='bool'))"
   ]
  },
  {
   "cell_type": "code",
   "execution_count": 9,
   "metadata": {},
   "outputs": [
    {
     "name": "stdout",
     "output_type": "stream",
     "text": [
      "hstack\n",
      " [0 2 4 6 8 1 3 5 7 9]\n",
      "vstack\n",
      " [[0 2 4 6 8]\n",
      " [1 3 5 7 9]]\n",
      "column_stack\n",
      " [[0 1]\n",
      " [2 3]\n",
      " [4 5]\n",
      " [6 7]\n",
      " [8 9]]\n"
     ]
    }
   ],
   "source": [
    "# Put arrays together\n",
    "evens = np.array([0,2,4,6,8])\n",
    "odds  = np.array([1,3,5,7,9])\n",
    "\n",
    "print ('hstack\\n', np.hstack([evens, odds]))\n",
    "print ('vstack\\n', np.vstack([evens, odds]))\n",
    "print ('column_stack\\n', np.column_stack([evens, odds]))"
   ]
  },
  {
   "cell_type": "markdown",
   "metadata": {},
   "source": [
    "### Array indexing\n",
    "\n",
    "Once you have an array, you can access and select its elements in various ways.\n",
    "\n",
    "* basic indexing\n",
    "* slicing and striding\n",
    "* multidimensional indexing\n",
    "* indexing with arrays\n",
    "* argsort()\n",
    "* boolean indexing"
   ]
  },
  {
   "cell_type": "code",
   "execution_count": null,
   "metadata": {},
   "outputs": [],
   "source": [
    "# Some basics \n",
    "a = np.array([-1, 7, 8, 100, -20.2])\n",
    "b = np.array(range(20))\n",
    "print (a[0])      # indexing\n",
    "print (a[-1])\n",
    "print (a[:3])     # slicing\n",
    "print (b[5:10])\n",
    "print (b[::2])  # striding\n",
    "print (b[4:15:3])"
   ]
  },
  {
   "cell_type": "code",
   "execution_count": 10,
   "metadata": {},
   "outputs": [
    {
     "name": "stdout",
     "output_type": "stream",
     "text": [
      "[[ 0  1  2  3  4]\n",
      " [ 5  6  7  8  9]\n",
      " [10 11 12 13 14]\n",
      " [15 16 17 18 19]\n",
      " [20 21 22 23 24]] \n",
      "\n",
      "5th row, 3rd col\n",
      " 22\n",
      "2nd col\n",
      " [ 1  6 11 16 21]\n",
      "1st and 2nd rows\n",
      " [[0 1 2 3 4]\n",
      " [5 6 7 8 9]]\n",
      "every other column\n",
      " [[ 0  2  4]\n",
      " [ 5  7  9]\n",
      " [10 12 14]\n",
      " [15 17 19]\n",
      " [20 22 24]]\n"
     ]
    }
   ],
   "source": [
    "# Multidimensional arrays\n",
    "a = np.array(range(25)).reshape([5,5])\n",
    "print (a, '\\n')\n",
    "\n",
    "print ('5th row, 3rd col\\n', a[4,2])\n",
    "print ('2nd col\\n', a[:,1])\n",
    "print ('1st and 2nd rows\\n', a[:2,:])\n",
    "print ('every other column\\n', a[:,::2])"
   ]
  },
  {
   "cell_type": "code",
   "execution_count": 12,
   "metadata": {},
   "outputs": [
    {
     "name": "stdout",
     "output_type": "stream",
     "text": [
      "[ 0  2  4  6  8 10 12 14 16 18] \n",
      "\n",
      "[ 2  4 16 14 12]\n",
      "[ 2  4 16 14 12]\n"
     ]
    }
   ],
   "source": [
    "# Indexing with arrays/lists of indices\n",
    "a = np.array(range(0,20,2))\n",
    "print (a, '\\n')\n",
    "\n",
    "indices_to_pick = [1,2,8,7,6]\n",
    "print (a[np.array(indices_to_pick)]) # you can use arrays\n",
    "print (a[indices_to_pick])           # or lists"
   ]
  },
  {
   "cell_type": "code",
   "execution_count": 13,
   "metadata": {},
   "outputs": [
    {
     "name": "stdout",
     "output_type": "stream",
     "text": [
      "[[ 0  1  2  3]\n",
      " [ 4  5  6  7]\n",
      " [ 8  9 10 11]\n",
      " [12 13 14 15]] \n",
      "\n",
      "[[12 13 14 15]\n",
      " [ 8  9 10 11]\n",
      " [ 0  1  2  3]] \n",
      "\n",
      "[12  9  2]\n",
      "[ 0  5 10 15]\n"
     ]
    }
   ],
   "source": [
    "# Indexing with arrays/lists works on multidimensional arrays too\n",
    "multi_a = np.array(range(16)).reshape([4,4])\n",
    "print (multi_a, '\\n')\n",
    "\n",
    "rows_to_pick = [3,2,0]\n",
    "print (multi_a[rows_to_pick], '\\n')\n",
    "\n",
    "cols_to_pick = range(3)\n",
    "print (multi_a[rows_to_pick, cols_to_pick])\n",
    "print (multi_a[range(4), range(4)])"
   ]
  },
  {
   "cell_type": "code",
   "execution_count": 16,
   "metadata": {},
   "outputs": [
    {
     "name": "stdout",
     "output_type": "stream",
     "text": [
      "[2 0 4 1 7 9 2 0 8 4] \n",
      "\n",
      "Index order that would sort the array: [1 7 3 0 6 2 9 4 8 5]\n",
      "Sorted array: [0 0 1 2 2 4 4 7 8 9]\n"
     ]
    }
   ],
   "source": [
    "# `np.argsort()` can be used to get a list of indices that would sort the array\n",
    "a = np.random.randint(0,10,10)\n",
    "print (a, '\\n')\n",
    "\n",
    "print ('Index order that would sort the array:', np.argsort(a))\n",
    "print ('Sorted array:', a[np.argsort(a)])"
   ]
  },
  {
   "cell_type": "code",
   "execution_count": 17,
   "metadata": {},
   "outputs": [
    {
     "name": "stdout",
     "output_type": "stream",
     "text": [
      "[0 1 2 3 4 5] \n",
      "\n",
      "[0 1 5]\n"
     ]
    }
   ],
   "source": [
    "# Arrays can be indexed with boolean arrays (True/False values)\n",
    "a = np.array(range(6))\n",
    "print (a, '\\n')\n",
    "\n",
    "bool_array = np.array([True, True, False, False, False, True])\n",
    "print (a[bool_array])"
   ]
  },
  {
   "cell_type": "code",
   "execution_count": 18,
   "metadata": {},
   "outputs": [
    {
     "name": "stdout",
     "output_type": "stream",
     "text": [
      "[ 0  1  2  3  4  5  6  7  8  9 10 11 12 13 14 15 16 17 18 19] \n",
      "\n",
      "[ True False  True False  True False  True False  True False  True False\n",
      "  True False  True False  True False  True False]\n",
      "[ 0  2  4  6  8 10 12 14 16 18] \n",
      "\n",
      "[ 0 -1  2 -1  4 -1  6 -1  8 -1 10 -1 12 -1 14 -1 16 -1 18 -1]\n"
     ]
    }
   ],
   "source": [
    "# Boolean indexing is useful for filter arrays based on some criterion\n",
    "a = np.array(range(20))\n",
    "print (a, '\\n')\n",
    "\n",
    "# pick even numbers\n",
    "print (a % 2 == 0)\n",
    "print (a[a % 2 == 0], '\\n')\n",
    "\n",
    "# set odds to -1\n",
    "a[a % 2 == 1] = -1\n",
    "print (a)"
   ]
  },
  {
   "cell_type": "markdown",
   "metadata": {},
   "source": [
    "### Meshgrid, and a brief intro to 2D plotting"
   ]
  },
  {
   "cell_type": "markdown",
   "metadata": {},
   "source": [
    "Numpy's `meshgrid` can be used to quickly generate 2D arrays of $x$ and $y$ values, for instance for use in density and contour plots. Matplotlib's `imshow` plots 2D arrays with various colormaps, and can be useful for plotting or displaying images."
   ]
  },
  {
   "cell_type": "code",
   "execution_count": 19,
   "metadata": {
    "scrolled": true
   },
   "outputs": [
    {
     "data": {
      "text/plain": [
       "<matplotlib.colorbar.Colorbar at 0x11e255a20>"
      ]
     },
     "execution_count": 19,
     "metadata": {},
     "output_type": "execute_result"
    },
    {
     "data": {
      "image/png": "[encoded data removed]",
      "text/plain": [
       "<matplotlib.figure.Figure at 0x1124c40b8>"
      ]
     },
     "metadata": {},
     "output_type": "display_data"
    }
   ],
   "source": [
    "import numpy as np\n",
    "import matplotlib.pyplot as plt\n",
    "%matplotlib inline\n",
    "\n",
    "# Generate the x and y values for a 2D grid\n",
    "x, y = np.meshgrid(np.linspace(-1, 1, 100),\n",
    "                   np.linspace(-2, 2, 100))\n",
    "\n",
    "# Calculate the values that we want to plot at each point.\n",
    "# This is a 2D array.\n",
    "f = x + y\n",
    "\n",
    "plt.imshow(f)   # Plot the 2D array\n",
    "plt.viridis()   # Set the color scheme (\"jet\" is matplotlib's default)\n",
    "plt.colorbar()  # Display a legend for the color values"
   ]
  },
  {
   "cell_type": "markdown",
   "metadata": {},
   "source": [
    "How does this work? The plotting function `imshow` makes a 2D array graphical. The upper-left of the plot is the upper-left of the array, at row 0, column 0. The $x$ and $y$ axes are labeled with the row and column numbers, accordingly.\n",
    "\n",
    "But since we're plotting $f(x,y) = x + y$, shouldn't the negative values be in the lower-left and the positive values in the upper-right? Right now, the origin is in the upper-left. Here's where we see a quirk of `imshow`. Take a look at the *2D* arrays `x` and `y` generated by `meshgrid`:"
   ]
  },
  {
   "cell_type": "code",
   "execution_count": 20,
   "metadata": {},
   "outputs": [
    {
     "name": "stdout",
     "output_type": "stream",
     "text": [
      "x: notice the values change from left to right\n",
      " [[-1.         -0.97979798 -0.95959596 ...,  0.95959596  0.97979798  1.        ]\n",
      " [-1.         -0.97979798 -0.95959596 ...,  0.95959596  0.97979798  1.        ]\n",
      " [-1.         -0.97979798 -0.95959596 ...,  0.95959596  0.97979798  1.        ]\n",
      " ..., \n",
      " [-1.         -0.97979798 -0.95959596 ...,  0.95959596  0.97979798  1.        ]\n",
      " [-1.         -0.97979798 -0.95959596 ...,  0.95959596  0.97979798  1.        ]\n",
      " [-1.         -0.97979798 -0.95959596 ...,  0.95959596  0.97979798  1.        ]]\n",
      "\n",
      "y: notice the values change from top to bottom\n",
      " [[-2.         -2.         -2.         ..., -2.         -2.         -2.        ]\n",
      " [-1.95959596 -1.95959596 -1.95959596 ..., -1.95959596 -1.95959596\n",
      "  -1.95959596]\n",
      " [-1.91919192 -1.91919192 -1.91919192 ..., -1.91919192 -1.91919192\n",
      "  -1.91919192]\n",
      " ..., \n",
      " [ 1.91919192  1.91919192  1.91919192 ...,  1.91919192  1.91919192\n",
      "   1.91919192]\n",
      " [ 1.95959596  1.95959596  1.95959596 ...,  1.95959596  1.95959596\n",
      "   1.95959596]\n",
      " [ 2.          2.          2.         ...,  2.          2.          2.        ]]\n"
     ]
    }
   ],
   "source": [
    "print (\"x: notice the values change from left to right\\n\", x)\n",
    "print (\"\")\n",
    "print (\"y: notice the values change from top to bottom\\n\", y)"
   ]
  },
  {
   "cell_type": "markdown",
   "metadata": {},
   "source": [
    "Both arrays start with negative numbers at the upper-left, and move down and right towards positive numbers. However, we often want $y$ to move from negative values at the *bottom* to positive values at the *top*, since that's the conventional way to plot things. We can do this with the `origin=\"lower\"` argument, which drops the graph's origin to the lower-left."
   ]
  },
  {
   "cell_type": "code",
   "execution_count": 21,
   "metadata": {},
   "outputs": [
    {
     "data": {
      "text/plain": [
       "<matplotlib.colorbar.Colorbar at 0x11e5aa128>"
      ]
     },
     "execution_count": 21,
     "metadata": {},
     "output_type": "execute_result"
    },
    {
     "data": {
      "image/png": "[encoded data removed]",
      "text/plain": [
       "<matplotlib.figure.Figure at 0x112459cc0>"
      ]
     },
     "metadata": {},
     "output_type": "display_data"
    }
   ],
   "source": [
    "# Move the origin to the lower-left\n",
    "plt.imshow(f, origin=\"lower\")\n",
    "plt.colorbar()"
   ]
  },
  {
   "cell_type": "markdown",
   "metadata": {},
   "source": [
    "Finally, we can change the axes labels from row and column numbers to whatever we want. In this case, it makes the most sense to use the same limits as we used in the meshgrid, since that's what we're plotting:"
   ]
  },
  {
   "cell_type": "code",
   "execution_count": 22,
   "metadata": {},
   "outputs": [
    {
     "data": {
      "text/plain": [
       "<matplotlib.colorbar.Colorbar at 0x11e918ac8>"
      ]
     },
     "execution_count": 22,
     "metadata": {},
     "output_type": "execute_result"
    },
    {
     "data": {
      "image/png": "[encoded data removed]",
      "text/plain": [
       "<matplotlib.figure.Figure at 0x11e6a17b8>"
      ]
     },
     "metadata": {},
     "output_type": "display_data"
    }
   ],
   "source": [
    "# Customize the axes limit labels.\n",
    "# imshow automatically adjusts the aspect ratio!\n",
    "plt.imshow(f, origin=\"lower\", extent=[-1, 1, -2, 2])\n",
    "plt.colorbar()"
   ]
  },
  {
   "cell_type": "markdown",
   "metadata": {},
   "source": [
    "### Meshgrid Memory Warning!\n",
    "\n",
    "Remember that `meshgrid` computes *2D* arrays, so trying to do a 1000x1000 meshgrid requires 100x more memory than a 100x100 meshgrid. Start small, save often, and scale up slowly to make sure you don't fill up your RAM or crash your computer with a single overly-intensive plot. On `datahub.berkeley.edu` your virtual machine is limited to 1 GB of RAM. "
   ]
  },
  {
   "cell_type": "markdown",
   "metadata": {},
   "source": [
    "## Exercises: Numpy Arrays and Meshgrid"
   ]
  },
  {
   "cell_type": "markdown",
   "metadata": {},
   "source": [
    "**Exercise 1** Create an $8 \\times 8$ array with a checkerboard pattern of zeros and ones using a slicing + striding approach."
   ]
  },
  {
   "cell_type": "code",
   "execution_count": null,
   "metadata": {
    "collapsed": true
   },
   "outputs": [],
   "source": []
  },
  {
   "cell_type": "markdown",
   "metadata": {},
   "source": [
    "**Exercise 2** Create a function `iplusj_array(n)` which uses `meshgrid` to create an $n \\times n$ array with $(i,j)$-entry equal to $i+j$. Print the results for $n=1,$ $3,$ and $5$."
   ]
  },
  {
   "cell_type": "code",
   "execution_count": null,
   "metadata": {
    "collapsed": true
   },
   "outputs": [],
   "source": []
  },
  {
   "cell_type": "markdown",
   "metadata": {},
   "source": [
    "**Exercise 3** Create a random $5\\times5$ array using the function `np.random.rand(5, 5)`. Use a combination of array slicing + argsort + indexing to sort the rows according to the second column, and print the result."
   ]
  },
  {
   "cell_type": "code",
   "execution_count": null,
   "metadata": {
    "collapsed": true
   },
   "outputs": [],
   "source": []
  },
  {
   "cell_type": "markdown",
   "metadata": {},
   "source": [
    "**Exercise 4** Use `np.random.rand(5,5)` to create a random 5x5 array. Use boolean indexing to set the nine entries in a 3x3 block in the bottom right corner to 0. Print the result.\n",
    "\n",
    "(Hint: Use `np.ones()` or `np.zeros()` with the dtype argument to get a 5x5 array full of `True`'s or `False`'s. Use this array to build a boolean filter, in order to set only the entries you want equal to 0.)"
   ]
  },
  {
   "cell_type": "code",
   "execution_count": null,
   "metadata": {},
   "outputs": [],
   "source": []
  },
  {
   "cell_type": "markdown",
   "metadata": {},
   "source": [
    "## Congratulations!\n",
    "\n",
    "You've finished Workshop 3!"
   ]
  }
 ],
 "metadata": {
  "kernelspec": {
   "display_name": "Python 3",
   "language": "python",
   "name": "python3"
  },
  "language_info": {
   "codemirror_mode": {
    "name": "ipython",
    "version": 3
   },
   "file_extension": ".py",
   "mimetype": "text/x-python",
   "name": "python",
   "nbconvert_exporter": "python",
   "pygments_lexer": "ipython3",
   "version": "3.8.3"
  }
 },
 "nbformat": 4,
 "nbformat_minor": 1
}
